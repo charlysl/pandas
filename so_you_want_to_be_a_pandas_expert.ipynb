{
 "cells": [
  {
   "cell_type": "markdown",
   "id": "0631c94a",
   "metadata": {},
   "source": [
    "# So you want to be a Pandas expert"
   ]
  },
  {
   "cell_type": "markdown",
   "id": "9f82bb23",
   "metadata": {},
   "source": [
    "The core concept of Pandas is the index, and index alignment.\n",
    "\n",
    "## Why use Pandas?\n",
    "\n",
    "Let's talk about, why Pandas in the first place?\n",
    "Why do we even bother with Pandas?\n",
    "Because, in my opinion, Pandas is a very one-dimensional tool, there is basically only one reason to use it (and there is a pun in there too).\n",
    "And if you think of all the different reasons you might have landed on learning pandas, there are a lot of reasons that might come up, but they are not very good reasons.\n",
    "\n",
    "You might want the use Pandas because you like the Python ```dict``` and ```list```, and you might want something even less convenient, and even more perplexing.\n",
    "\n",
    "### Pandas Series\n",
    "\n",
    "For instance, here is this thing called a Pandas series."
   ]
  },
  {
   "cell_type": "code",
   "execution_count": 78,
   "id": "6f02be7e",
   "metadata": {},
   "outputs": [
    {
     "name": "stdout",
     "output_type": "stream",
     "text": [
      "0    7\n",
      "1    2\n",
      "2    0\n",
      "3   -5\n",
      "4   -4\n",
      "dtype: int64\n"
     ]
    }
   ],
   "source": [
    "from pandas import Series, DataFrame\n",
    "from numpy.random import default_rng\n",
    "\n",
    "rng = default_rng(0)\n",
    "\n",
    "s = Series(rng.integers(-10, +10, size=5))\n",
    "\n",
    "print(s)"
   ]
  },
  {
   "cell_type": "markdown",
   "id": "129abfb9",
   "metadata": {},
   "source": [
    "It prints a little bit differently than a list, and we can iterate over the contents of it using ```iteritems```:"
   ]
  },
  {
   "cell_type": "code",
   "execution_count": 7,
   "id": "11ebf485",
   "metadata": {},
   "outputs": [
    {
     "name": "stdout",
     "output_type": "stream",
     "text": [
      "x=(0, 7)\n",
      "x=(1, 2)\n",
      "x=(2, 0)\n",
      "x=(3, -5)\n",
      "x=(4, -4)\n"
     ]
    }
   ],
   "source": [
    "for x in s.items(): print(f\"{x=}\")"
   ]
  },
  {
   "cell_type": "markdown",
   "id": "01c68423",
   "metadata": {},
   "source": [
    "We get the numbering of the rows, i don't know why that's useful, so maybe we'll just unpack that into a variable that you don't use:"
   ]
  },
  {
   "cell_type": "code",
   "execution_count": 8,
   "id": "dd4cc245",
   "metadata": {},
   "outputs": [
    {
     "name": "stdout",
     "output_type": "stream",
     "text": [
      "x=7\n",
      "x=2\n",
      "x=0\n",
      "x=-5\n",
      "x=-4\n"
     ]
    }
   ],
   "source": [
    "for _, x in s.items(): print(f\"{x=}\")"
   ]
  },
  {
   "cell_type": "markdown",
   "id": "7c40cd8a",
   "metadata": {},
   "source": [
    "or we can iterate over this directly, but I can't see what this is giving us over a list:"
   ]
  },
  {
   "cell_type": "code",
   "execution_count": 10,
   "id": "5dd1d631",
   "metadata": {},
   "outputs": [
    {
     "name": "stdout",
     "output_type": "stream",
     "text": [
      "x=7\n",
      "x=2\n",
      "x=0\n",
      "x=-5\n",
      "x=-4\n"
     ]
    }
   ],
   "source": [
    "for x in s: print(f\"{x=}\")"
   ]
  },
  {
   "cell_type": "markdown",
   "id": "0c807cd3",
   "metadata": {},
   "source": [
    "Or, more likely, if we are using Pandas, we are more familiar with the Pandas DataFrame:"
   ]
  },
  {
   "cell_type": "code",
   "execution_count": 19,
   "id": "71462716",
   "metadata": {},
   "outputs": [],
   "source": [
    "df = DataFrame(rng.integers(-10, +10, size=(5,3)), columns=[*\"abc\"])"
   ]
  },
  {
   "cell_type": "code",
   "execution_count": 20,
   "id": "6e619a79",
   "metadata": {},
   "outputs": [
    {
     "data": {
      "text/html": [
       "<div>\n",
       "<style scoped>\n",
       "    .dataframe tbody tr th:only-of-type {\n",
       "        vertical-align: middle;\n",
       "    }\n",
       "\n",
       "    .dataframe tbody tr th {\n",
       "        vertical-align: top;\n",
       "    }\n",
       "\n",
       "    .dataframe thead th {\n",
       "        text-align: right;\n",
       "    }\n",
       "</style>\n",
       "<table border=\"1\" class=\"dataframe\">\n",
       "  <thead>\n",
       "    <tr style=\"text-align: right;\">\n",
       "      <th></th>\n",
       "      <th>a</th>\n",
       "      <th>b</th>\n",
       "      <th>c</th>\n",
       "    </tr>\n",
       "  </thead>\n",
       "  <tbody>\n",
       "    <tr>\n",
       "      <th>0</th>\n",
       "      <td>4</td>\n",
       "      <td>2</td>\n",
       "      <td>0</td>\n",
       "    </tr>\n",
       "    <tr>\n",
       "      <th>1</th>\n",
       "      <td>1</td>\n",
       "      <td>8</td>\n",
       "      <td>-5</td>\n",
       "    </tr>\n",
       "    <tr>\n",
       "      <th>2</th>\n",
       "      <td>6</td>\n",
       "      <td>3</td>\n",
       "      <td>-10</td>\n",
       "    </tr>\n",
       "    <tr>\n",
       "      <th>3</th>\n",
       "      <td>-3</td>\n",
       "      <td>7</td>\n",
       "      <td>1</td>\n",
       "    </tr>\n",
       "    <tr>\n",
       "      <th>4</th>\n",
       "      <td>-10</td>\n",
       "      <td>5</td>\n",
       "      <td>4</td>\n",
       "    </tr>\n",
       "  </tbody>\n",
       "</table>\n",
       "</div>"
      ],
      "text/plain": [
       "    a  b   c\n",
       "0   4  2   0\n",
       "1   1  8  -5\n",
       "2   6  3 -10\n",
       "3  -3  7   1\n",
       "4 -10  5   4"
      ]
     },
     "execution_count": 20,
     "metadata": {},
     "output_type": "execute_result"
    }
   ],
   "source": [
    "df"
   ]
  },
  {
   "cell_type": "markdown",
   "id": "daea454d",
   "metadata": {},
   "source": [
    "This looks kind of a dictionary of Python lists, or maybe a bunch of lists stacked next to each other, or maybe some sort of matrix.\n",
    "\n",
    "And, again, we can iterate over this thing, but then we get something really weird:"
   ]
  },
  {
   "cell_type": "code",
   "execution_count": 21,
   "id": "a6f61846",
   "metadata": {},
   "outputs": [
    {
     "name": "stdout",
     "output_type": "stream",
     "text": [
      "x='a'\n",
      "x='b'\n",
      "x='c'\n"
     ]
    }
   ],
   "source": [
    "for x in df: print(f\"{x=}\")"
   ]
  },
  {
   "cell_type": "markdown",
   "id": "ab77f91a",
   "metadata": {},
   "source": [
    "We get the column names. How is that useful to anybody?"
   ]
  },
  {
   "cell_type": "markdown",
   "id": "5545820f",
   "metadata": {},
   "source": [
    "So I gues we could try ```iterrows```:"
   ]
  },
  {
   "cell_type": "code",
   "execution_count": 22,
   "id": "7a2fd31d",
   "metadata": {},
   "outputs": [
    {
     "name": "stdout",
     "output_type": "stream",
     "text": [
      "x=(0, a    4\n",
      "b    2\n",
      "c    0\n",
      "Name: 0, dtype: int64)\n",
      "x=(1, a    1\n",
      "b    8\n",
      "c   -5\n",
      "Name: 1, dtype: int64)\n",
      "x=(2, a     6\n",
      "b     3\n",
      "c   -10\n",
      "Name: 2, dtype: int64)\n",
      "x=(3, a   -3\n",
      "b    7\n",
      "c    1\n",
      "Name: 3, dtype: int64)\n",
      "x=(4, a   -10\n",
      "b     5\n",
      "c     4\n",
      "Name: 4, dtype: int64)\n"
     ]
    }
   ],
   "source": [
    "for x in df.iterrows(): print(f\"{x=}\")"
   ]
  },
  {
   "cell_type": "markdown",
   "id": "274b79c8",
   "metadata": {},
   "source": [
    "But I have no idea what this is giving me, some row and each of the columns.\n",
    "\n",
    "Or ```iteritems```:"
   ]
  },
  {
   "cell_type": "code",
   "execution_count": 24,
   "id": "68d5da13",
   "metadata": {},
   "outputs": [
    {
     "name": "stdout",
     "output_type": "stream",
     "text": [
      "x=('a', 0     4\n",
      "1     1\n",
      "2     6\n",
      "3    -3\n",
      "4   -10\n",
      "Name: a, dtype: int64)\n",
      "x=('b', 0    2\n",
      "1    8\n",
      "2    3\n",
      "3    7\n",
      "4    5\n",
      "Name: b, dtype: int64)\n",
      "x=('c', 0     0\n",
      "1    -5\n",
      "2   -10\n",
      "3     1\n",
      "4     4\n",
      "Name: c, dtype: int64)\n"
     ]
    }
   ],
   "source": [
    "for x in df.items(): print(f\"{x=}\")"
   ]
  },
  {
   "cell_type": "markdown",
   "id": "2d8b0393",
   "metadata": {},
   "source": [
    "That is kind of like a dictionary, right? This gives me like each of the columns independently. I guess I can throw away the column name and get the column:"
   ]
  },
  {
   "cell_type": "code",
   "execution_count": 25,
   "id": "557ca9c7",
   "metadata": {},
   "outputs": [
    {
     "name": "stdout",
     "output_type": "stream",
     "text": [
      "x=0     4\n",
      "1     1\n",
      "2     6\n",
      "3    -3\n",
      "4   -10\n",
      "Name: a, dtype: int64\n",
      "x=0    2\n",
      "1    8\n",
      "2    3\n",
      "3    7\n",
      "4    5\n",
      "Name: b, dtype: int64\n",
      "x=0     0\n",
      "1    -5\n",
      "2   -10\n",
      "3     1\n",
      "4     4\n",
      "Name: c, dtype: int64\n"
     ]
    }
   ],
   "source": [
    "for _, x in df.items(): print(f\"{x=}\")"
   ]
  },
  {
   "cell_type": "markdown",
   "id": "2486f2d4",
   "metadata": {},
   "source": [
    "I don't know what's that.\n",
    "\n",
    "Or I can do ```itertuples```"
   ]
  },
  {
   "cell_type": "code",
   "execution_count": 26,
   "id": "2a8da73e",
   "metadata": {},
   "outputs": [
    {
     "name": "stdout",
     "output_type": "stream",
     "text": [
      "x=Pandas(Index=0, a=4, b=2, c=0)\n",
      "x=Pandas(Index=1, a=1, b=8, c=-5)\n",
      "x=Pandas(Index=2, a=6, b=3, c=-10)\n",
      "x=Pandas(Index=3, a=-3, b=7, c=1)\n",
      "x=Pandas(Index=4, a=-10, b=5, c=4)\n"
     ]
    }
   ],
   "source": [
    "for x in df.itertuples(): print(f\"{x=}\")"
   ]
  },
  {
   "cell_type": "markdown",
   "id": "b2f3eb16",
   "metadata": {},
   "source": [
    "There I can start getting close to something I can deal with: tuples, lists, dictionaries, I understand those things.\n",
    "\n",
    "Because, if you compare a Pandas DataFrame or Series to the built-in datatypes in Python, the Python list, the Python set, the Python dictionary, I'd say, in terms of strsightforwardness, the built-in types really went out.\n",
    "\n",
    "Here we have python list, and it's just a bunch of numbers:"
   ]
  },
  {
   "cell_type": "code",
   "execution_count": 33,
   "id": "fe1e8057",
   "metadata": {},
   "outputs": [],
   "source": [
    "from random import seed; seed(0)\n",
    "from random import choice, randint\n",
    "from string import ascii_lowercase"
   ]
  },
  {
   "cell_type": "code",
   "execution_count": 41,
   "id": "430e1d32",
   "metadata": {},
   "outputs": [],
   "source": [
    "xs = [randint(-10, +10) for _ in range(10)]"
   ]
  },
  {
   "cell_type": "code",
   "execution_count": 44,
   "id": "7a41a19e",
   "metadata": {},
   "outputs": [
    {
     "data": {
      "text/plain": [
       "[2, -1, 5, 1, 8, -4, 6, -6, -1, -6]"
      ]
     },
     "execution_count": 44,
     "metadata": {},
     "output_type": "execute_result"
    }
   ],
   "source": [
    "xs"
   ]
  },
  {
   "cell_type": "markdown",
   "id": "cfcc64d2",
   "metadata": {},
   "source": [
    "A structure we iterete over, and we can get the numbers and do something:"
   ]
  },
  {
   "cell_type": "code",
   "execution_count": 45,
   "id": "3277a889",
   "metadata": {},
   "outputs": [
    {
     "name": "stdout",
     "output_type": "stream",
     "text": [
      "x=2\n",
      "x=-1\n",
      "x=5\n",
      "x=1\n",
      "x=8\n",
      "x=-4\n",
      "x=6\n",
      "x=-6\n",
      "x=-1\n",
      "x=-6\n"
     ]
    }
   ],
   "source": [
    "for x in xs: print(f\"{x=}\")"
   ]
  },
  {
   "cell_type": "markdown",
   "id": "ec61c632",
   "metadata": {},
   "source": [
    "We also have the dictionary, as set of key value pairs:"
   ]
  },
  {
   "cell_type": "code",
   "execution_count": 50,
   "id": "b450c581",
   "metadata": {},
   "outputs": [],
   "source": [
    "d = {choice(ascii_lowercase): randint(-10, +10) for _ in range(10)}"
   ]
  },
  {
   "cell_type": "code",
   "execution_count": 51,
   "id": "911feaed",
   "metadata": {},
   "outputs": [
    {
     "data": {
      "text/plain": [
       "{'r': 5, 'o': 6, 'i': -9, 'z': 7, 'a': 9, 'x': 2, 'w': 10, 'p': 0, 'h': 0}"
      ]
     },
     "execution_count": 51,
     "metadata": {},
     "output_type": "execute_result"
    }
   ],
   "source": [
    "d"
   ]
  },
  {
   "cell_type": "code",
   "execution_count": null,
   "id": "673472e4",
   "metadata": {},
   "outputs": [],
   "source": [
    "We can also iterate over the keys:"
   ]
  },
  {
   "cell_type": "code",
   "execution_count": 54,
   "id": "b756566e",
   "metadata": {},
   "outputs": [
    {
     "name": "stdout",
     "output_type": "stream",
     "text": [
      "k='r'\n",
      "k='o'\n",
      "k='i'\n",
      "k='z'\n",
      "k='a'\n",
      "k='x'\n",
      "k='w'\n",
      "k='p'\n",
      "k='h'\n"
     ]
    }
   ],
   "source": [
    "for k in d: print(f\"{k=}\")"
   ]
  },
  {
   "cell_type": "code",
   "execution_count": null,
   "id": "a816d9dc",
   "metadata": {},
   "outputs": [],
   "source": [
    "Which we can also do explicitly:"
   ]
  },
  {
   "cell_type": "code",
   "execution_count": 56,
   "id": "bef65168",
   "metadata": {},
   "outputs": [
    {
     "name": "stdout",
     "output_type": "stream",
     "text": [
      "k='r'\n",
      "k='o'\n",
      "k='i'\n",
      "k='z'\n",
      "k='a'\n",
      "k='x'\n",
      "k='w'\n",
      "k='p'\n",
      "k='h'\n"
     ]
    }
   ],
   "source": [
    "for k in d.keys(): print(f\"{k=}\")"
   ]
  },
  {
   "cell_type": "code",
   "execution_count": null,
   "id": "ffd3e5d4",
   "metadata": {},
   "outputs": [],
   "source": [
    "We can also go over the individual values:"
   ]
  },
  {
   "cell_type": "code",
   "execution_count": 57,
   "id": "3f5ebc6e",
   "metadata": {},
   "outputs": [
    {
     "name": "stdout",
     "output_type": "stream",
     "text": [
      "v=5\n",
      "v=6\n",
      "v=-9\n",
      "v=7\n",
      "v=9\n",
      "v=2\n",
      "v=10\n",
      "v=0\n",
      "v=0\n"
     ]
    }
   ],
   "source": [
    "for v in d.values(): print(f\"{v=}\")"
   ]
  },
  {
   "cell_type": "markdown",
   "id": "3fb373d6",
   "metadata": {},
   "source": [
    "We can also go over the pairing of the keys and the values; that seems also a straightforward and very simple api:"
   ]
  },
  {
   "cell_type": "code",
   "execution_count": 61,
   "id": "8103c754",
   "metadata": {},
   "outputs": [
    {
     "name": "stdout",
     "output_type": "stream",
     "text": [
      "k, v =('r', 5)\n",
      "k, v =('o', 6)\n",
      "k, v =('i', -9)\n",
      "k, v =('z', 7)\n",
      "k, v =('a', 9)\n",
      "k, v =('x', 2)\n",
      "k, v =('w', 10)\n",
      "k, v =('p', 0)\n",
      "k, v =('h', 0)\n"
     ]
    }
   ],
   "source": [
    "for k,v in d.items(): print(f\"{k, v =}\")"
   ]
  },
  {
   "cell_type": "markdown",
   "id": "26b5ba85",
   "metadata": {},
   "source": [
    "So if we think of why we might want to use Pandas, it is not because of the strange naming of all these things, ```itertuples```, ```iterrows```, maybe it's because of the really bizarre erros that come up when you use Pandas.\n",
    "\n",
    "Here we have a Pandas Series, and it seems to be just some numeric values, and here we have a Pandas DataFrame:"
   ]
  },
  {
   "cell_type": "code",
   "execution_count": 80,
   "id": "75f49354",
   "metadata": {},
   "outputs": [],
   "source": [
    "from pandas import MultiIndex"
   ]
  },
  {
   "cell_type": "code",
   "execution_count": 87,
   "id": "8d21b2f2",
   "metadata": {},
   "outputs": [],
   "source": [
    "rnd = default_rng(0)\n",
    "s = Series(rnd.integers(-10, 10, size=5))\n",
    "df1 = DataFrame(rnd.integers(-10, 10, size=(5,3)))\n",
    "df2 = DataFrame(\n",
    "    index=(idx := [1, 1, 2, 3, 4]),\n",
    "    data=rng.integers(-10, 10, size=(len(idx), 3))\n",
    ")\n",
    "df3 = DataFrame(\n",
    "    index=(idx := MultiIndex.from_product([[0], range(5)])),\n",
    "    data=rng.integers(-10, 10, size=(len(idx), 3))\n",
    ")"
   ]
  },
  {
   "cell_type": "code",
   "execution_count": 88,
   "id": "40755609",
   "metadata": {},
   "outputs": [
    {
     "data": {
      "text/plain": [
       "0    7\n",
       "1    2\n",
       "2    0\n",
       "3   -5\n",
       "4   -4\n",
       "dtype: int64"
      ]
     },
     "execution_count": 88,
     "metadata": {},
     "output_type": "execute_result"
    }
   ],
   "source": [
    "s"
   ]
  },
  {
   "cell_type": "code",
   "execution_count": 89,
   "id": "6f0add10",
   "metadata": {},
   "outputs": [
    {
     "data": {
      "text/html": [
       "<div>\n",
       "<style scoped>\n",
       "    .dataframe tbody tr th:only-of-type {\n",
       "        vertical-align: middle;\n",
       "    }\n",
       "\n",
       "    .dataframe tbody tr th {\n",
       "        vertical-align: top;\n",
       "    }\n",
       "\n",
       "    .dataframe thead th {\n",
       "        text-align: right;\n",
       "    }\n",
       "</style>\n",
       "<table border=\"1\" class=\"dataframe\">\n",
       "  <thead>\n",
       "    <tr style=\"text-align: right;\">\n",
       "      <th></th>\n",
       "      <th>0</th>\n",
       "      <th>1</th>\n",
       "      <th>2</th>\n",
       "    </tr>\n",
       "  </thead>\n",
       "  <tbody>\n",
       "    <tr>\n",
       "      <th>0</th>\n",
       "      <td>-10</td>\n",
       "      <td>-9</td>\n",
       "      <td>-10</td>\n",
       "    </tr>\n",
       "    <tr>\n",
       "      <th>1</th>\n",
       "      <td>-7</td>\n",
       "      <td>6</td>\n",
       "      <td>2</td>\n",
       "    </tr>\n",
       "    <tr>\n",
       "      <th>2</th>\n",
       "      <td>8</td>\n",
       "      <td>0</td>\n",
       "      <td>2</td>\n",
       "    </tr>\n",
       "    <tr>\n",
       "      <th>3</th>\n",
       "      <td>9</td>\n",
       "      <td>4</td>\n",
       "      <td>2</td>\n",
       "    </tr>\n",
       "    <tr>\n",
       "      <th>4</th>\n",
       "      <td>0</td>\n",
       "      <td>1</td>\n",
       "      <td>8</td>\n",
       "    </tr>\n",
       "  </tbody>\n",
       "</table>\n",
       "</div>"
      ],
      "text/plain": [
       "    0  1   2\n",
       "0 -10 -9 -10\n",
       "1  -7  6   2\n",
       "2   8  0   2\n",
       "3   9  4   2\n",
       "4   0  1   8"
      ]
     },
     "execution_count": 89,
     "metadata": {},
     "output_type": "execute_result"
    }
   ],
   "source": [
    "df1"
   ]
  },
  {
   "cell_type": "markdown",
   "id": "83d06595",
   "metadata": {},
   "source": [
    "We can multiply these, but we get a bunch of NaNs at the end, now is that useful?"
   ]
  },
  {
   "cell_type": "code",
   "execution_count": 92,
   "id": "e8d9c217",
   "metadata": {},
   "outputs": [
    {
     "data": {
      "text/html": [
       "<div>\n",
       "<style scoped>\n",
       "    .dataframe tbody tr th:only-of-type {\n",
       "        vertical-align: middle;\n",
       "    }\n",
       "\n",
       "    .dataframe tbody tr th {\n",
       "        vertical-align: top;\n",
       "    }\n",
       "\n",
       "    .dataframe thead th {\n",
       "        text-align: right;\n",
       "    }\n",
       "</style>\n",
       "<table border=\"1\" class=\"dataframe\">\n",
       "  <thead>\n",
       "    <tr style=\"text-align: right;\">\n",
       "      <th></th>\n",
       "      <th>0</th>\n",
       "      <th>1</th>\n",
       "      <th>2</th>\n",
       "      <th>3</th>\n",
       "      <th>4</th>\n",
       "    </tr>\n",
       "  </thead>\n",
       "  <tbody>\n",
       "    <tr>\n",
       "      <th>0</th>\n",
       "      <td>-70</td>\n",
       "      <td>-18</td>\n",
       "      <td>0</td>\n",
       "      <td>NaN</td>\n",
       "      <td>NaN</td>\n",
       "    </tr>\n",
       "    <tr>\n",
       "      <th>1</th>\n",
       "      <td>-49</td>\n",
       "      <td>12</td>\n",
       "      <td>0</td>\n",
       "      <td>NaN</td>\n",
       "      <td>NaN</td>\n",
       "    </tr>\n",
       "    <tr>\n",
       "      <th>2</th>\n",
       "      <td>56</td>\n",
       "      <td>0</td>\n",
       "      <td>0</td>\n",
       "      <td>NaN</td>\n",
       "      <td>NaN</td>\n",
       "    </tr>\n",
       "    <tr>\n",
       "      <th>3</th>\n",
       "      <td>63</td>\n",
       "      <td>8</td>\n",
       "      <td>0</td>\n",
       "      <td>NaN</td>\n",
       "      <td>NaN</td>\n",
       "    </tr>\n",
       "    <tr>\n",
       "      <th>4</th>\n",
       "      <td>0</td>\n",
       "      <td>2</td>\n",
       "      <td>0</td>\n",
       "      <td>NaN</td>\n",
       "      <td>NaN</td>\n",
       "    </tr>\n",
       "  </tbody>\n",
       "</table>\n",
       "</div>"
      ],
      "text/plain": [
       "    0   1  2   3   4\n",
       "0 -70 -18  0 NaN NaN\n",
       "1 -49  12  0 NaN NaN\n",
       "2  56   0  0 NaN NaN\n",
       "3  63   8  0 NaN NaN\n",
       "4   0   2  0 NaN NaN"
      ]
     },
     "execution_count": 92,
     "metadata": {},
     "output_type": "execute_result"
    }
   ],
   "source": [
    "s * df1"
   ]
  },
  {
   "cell_type": "markdown",
   "id": "76aa6da4",
   "metadata": {},
   "source": [
    "Matrix multiplication is not commutative, but here it doesn't make any difference:"
   ]
  },
  {
   "cell_type": "code",
   "execution_count": 93,
   "id": "63f09401",
   "metadata": {},
   "outputs": [
    {
     "data": {
      "text/html": [
       "<div>\n",
       "<style scoped>\n",
       "    .dataframe tbody tr th:only-of-type {\n",
       "        vertical-align: middle;\n",
       "    }\n",
       "\n",
       "    .dataframe tbody tr th {\n",
       "        vertical-align: top;\n",
       "    }\n",
       "\n",
       "    .dataframe thead th {\n",
       "        text-align: right;\n",
       "    }\n",
       "</style>\n",
       "<table border=\"1\" class=\"dataframe\">\n",
       "  <thead>\n",
       "    <tr style=\"text-align: right;\">\n",
       "      <th></th>\n",
       "      <th>0</th>\n",
       "      <th>1</th>\n",
       "      <th>2</th>\n",
       "      <th>3</th>\n",
       "      <th>4</th>\n",
       "    </tr>\n",
       "  </thead>\n",
       "  <tbody>\n",
       "    <tr>\n",
       "      <th>0</th>\n",
       "      <td>-70</td>\n",
       "      <td>-18</td>\n",
       "      <td>0</td>\n",
       "      <td>NaN</td>\n",
       "      <td>NaN</td>\n",
       "    </tr>\n",
       "    <tr>\n",
       "      <th>1</th>\n",
       "      <td>-49</td>\n",
       "      <td>12</td>\n",
       "      <td>0</td>\n",
       "      <td>NaN</td>\n",
       "      <td>NaN</td>\n",
       "    </tr>\n",
       "    <tr>\n",
       "      <th>2</th>\n",
       "      <td>56</td>\n",
       "      <td>0</td>\n",
       "      <td>0</td>\n",
       "      <td>NaN</td>\n",
       "      <td>NaN</td>\n",
       "    </tr>\n",
       "    <tr>\n",
       "      <th>3</th>\n",
       "      <td>63</td>\n",
       "      <td>8</td>\n",
       "      <td>0</td>\n",
       "      <td>NaN</td>\n",
       "      <td>NaN</td>\n",
       "    </tr>\n",
       "    <tr>\n",
       "      <th>4</th>\n",
       "      <td>0</td>\n",
       "      <td>2</td>\n",
       "      <td>0</td>\n",
       "      <td>NaN</td>\n",
       "      <td>NaN</td>\n",
       "    </tr>\n",
       "  </tbody>\n",
       "</table>\n",
       "</div>"
      ],
      "text/plain": [
       "    0   1  2   3   4\n",
       "0 -70 -18  0 NaN NaN\n",
       "1 -49  12  0 NaN NaN\n",
       "2  56   0  0 NaN NaN\n",
       "3  63   8  0 NaN NaN\n",
       "4   0   2  0 NaN NaN"
      ]
     },
     "execution_count": 93,
     "metadata": {},
     "output_type": "execute_result"
    }
   ],
   "source": [
    "df1 * s"
   ]
  },
  {
   "cell_type": "markdown",
   "id": "5fe2a921",
   "metadata": {},
   "source": [
    "Maybe I'll introduce another DataFrame into the story, and we'll see if anything else happens.\n",
    "\n",
    "Here we have a different DataFrame, and if I add that to the first DataFrame, I get a bunch of NaNs at the beggining:"
   ]
  },
  {
   "cell_type": "code",
   "execution_count": 95,
   "id": "e590602b",
   "metadata": {},
   "outputs": [
    {
     "data": {
      "text/html": [
       "<div>\n",
       "<style scoped>\n",
       "    .dataframe tbody tr th:only-of-type {\n",
       "        vertical-align: middle;\n",
       "    }\n",
       "\n",
       "    .dataframe tbody tr th {\n",
       "        vertical-align: top;\n",
       "    }\n",
       "\n",
       "    .dataframe thead th {\n",
       "        text-align: right;\n",
       "    }\n",
       "</style>\n",
       "<table border=\"1\" class=\"dataframe\">\n",
       "  <thead>\n",
       "    <tr style=\"text-align: right;\">\n",
       "      <th></th>\n",
       "      <th>0</th>\n",
       "      <th>1</th>\n",
       "      <th>2</th>\n",
       "    </tr>\n",
       "  </thead>\n",
       "  <tbody>\n",
       "    <tr>\n",
       "      <th>1</th>\n",
       "      <td>-8</td>\n",
       "      <td>1</td>\n",
       "      <td>4</td>\n",
       "    </tr>\n",
       "    <tr>\n",
       "      <th>1</th>\n",
       "      <td>6</td>\n",
       "      <td>0</td>\n",
       "      <td>-3</td>\n",
       "    </tr>\n",
       "    <tr>\n",
       "      <th>2</th>\n",
       "      <td>-4</td>\n",
       "      <td>-2</td>\n",
       "      <td>-1</td>\n",
       "    </tr>\n",
       "    <tr>\n",
       "      <th>3</th>\n",
       "      <td>4</td>\n",
       "      <td>7</td>\n",
       "      <td>-9</td>\n",
       "    </tr>\n",
       "    <tr>\n",
       "      <th>4</th>\n",
       "      <td>8</td>\n",
       "      <td>0</td>\n",
       "      <td>-3</td>\n",
       "    </tr>\n",
       "  </tbody>\n",
       "</table>\n",
       "</div>"
      ],
      "text/plain": [
       "   0  1  2\n",
       "1 -8  1  4\n",
       "1  6  0 -3\n",
       "2 -4 -2 -1\n",
       "3  4  7 -9\n",
       "4  8  0 -3"
      ]
     },
     "execution_count": 95,
     "metadata": {},
     "output_type": "execute_result"
    }
   ],
   "source": [
    "df2"
   ]
  },
  {
   "cell_type": "code",
   "execution_count": 94,
   "id": "a426c03a",
   "metadata": {},
   "outputs": [
    {
     "data": {
      "text/html": [
       "<div>\n",
       "<style scoped>\n",
       "    .dataframe tbody tr th:only-of-type {\n",
       "        vertical-align: middle;\n",
       "    }\n",
       "\n",
       "    .dataframe tbody tr th {\n",
       "        vertical-align: top;\n",
       "    }\n",
       "\n",
       "    .dataframe thead th {\n",
       "        text-align: right;\n",
       "    }\n",
       "</style>\n",
       "<table border=\"1\" class=\"dataframe\">\n",
       "  <thead>\n",
       "    <tr style=\"text-align: right;\">\n",
       "      <th></th>\n",
       "      <th>0</th>\n",
       "      <th>1</th>\n",
       "      <th>2</th>\n",
       "    </tr>\n",
       "  </thead>\n",
       "  <tbody>\n",
       "    <tr>\n",
       "      <th>0</th>\n",
       "      <td>NaN</td>\n",
       "      <td>NaN</td>\n",
       "      <td>NaN</td>\n",
       "    </tr>\n",
       "    <tr>\n",
       "      <th>1</th>\n",
       "      <td>-15.0</td>\n",
       "      <td>7.0</td>\n",
       "      <td>6.0</td>\n",
       "    </tr>\n",
       "    <tr>\n",
       "      <th>1</th>\n",
       "      <td>-1.0</td>\n",
       "      <td>6.0</td>\n",
       "      <td>-1.0</td>\n",
       "    </tr>\n",
       "    <tr>\n",
       "      <th>2</th>\n",
       "      <td>4.0</td>\n",
       "      <td>-2.0</td>\n",
       "      <td>1.0</td>\n",
       "    </tr>\n",
       "    <tr>\n",
       "      <th>3</th>\n",
       "      <td>13.0</td>\n",
       "      <td>11.0</td>\n",
       "      <td>-7.0</td>\n",
       "    </tr>\n",
       "    <tr>\n",
       "      <th>4</th>\n",
       "      <td>8.0</td>\n",
       "      <td>1.0</td>\n",
       "      <td>5.0</td>\n",
       "    </tr>\n",
       "  </tbody>\n",
       "</table>\n",
       "</div>"
      ],
      "text/plain": [
       "      0     1    2\n",
       "0   NaN   NaN  NaN\n",
       "1 -15.0   7.0  6.0\n",
       "1  -1.0   6.0 -1.0\n",
       "2   4.0  -2.0  1.0\n",
       "3  13.0  11.0 -7.0\n",
       "4   8.0   1.0  5.0"
      ]
     },
     "execution_count": 94,
     "metadata": {},
     "output_type": "execute_result"
    }
   ],
   "source": [
    "df1 + df2"
   ]
  },
  {
   "cell_type": "markdown",
   "id": "f7575335",
   "metadata": {},
   "source": [
    "That's not a big deal, because I can at least just drop de NaNs. I guess that's what I do all the time with Pandas, just drop NaNs, because they are popping up all over the place:"
   ]
  },
  {
   "cell_type": "code",
   "execution_count": 96,
   "id": "c805d4db",
   "metadata": {},
   "outputs": [
    {
     "data": {
      "text/html": [
       "<div>\n",
       "<style scoped>\n",
       "    .dataframe tbody tr th:only-of-type {\n",
       "        vertical-align: middle;\n",
       "    }\n",
       "\n",
       "    .dataframe tbody tr th {\n",
       "        vertical-align: top;\n",
       "    }\n",
       "\n",
       "    .dataframe thead th {\n",
       "        text-align: right;\n",
       "    }\n",
       "</style>\n",
       "<table border=\"1\" class=\"dataframe\">\n",
       "  <thead>\n",
       "    <tr style=\"text-align: right;\">\n",
       "      <th></th>\n",
       "      <th>0</th>\n",
       "      <th>1</th>\n",
       "      <th>2</th>\n",
       "    </tr>\n",
       "  </thead>\n",
       "  <tbody>\n",
       "    <tr>\n",
       "      <th>1</th>\n",
       "      <td>-15.0</td>\n",
       "      <td>7.0</td>\n",
       "      <td>6.0</td>\n",
       "    </tr>\n",
       "    <tr>\n",
       "      <th>1</th>\n",
       "      <td>-1.0</td>\n",
       "      <td>6.0</td>\n",
       "      <td>-1.0</td>\n",
       "    </tr>\n",
       "    <tr>\n",
       "      <th>2</th>\n",
       "      <td>4.0</td>\n",
       "      <td>-2.0</td>\n",
       "      <td>1.0</td>\n",
       "    </tr>\n",
       "    <tr>\n",
       "      <th>3</th>\n",
       "      <td>13.0</td>\n",
       "      <td>11.0</td>\n",
       "      <td>-7.0</td>\n",
       "    </tr>\n",
       "    <tr>\n",
       "      <th>4</th>\n",
       "      <td>8.0</td>\n",
       "      <td>1.0</td>\n",
       "      <td>5.0</td>\n",
       "    </tr>\n",
       "  </tbody>\n",
       "</table>\n",
       "</div>"
      ],
      "text/plain": [
       "      0     1    2\n",
       "1 -15.0   7.0  6.0\n",
       "1  -1.0   6.0 -1.0\n",
       "2   4.0  -2.0  1.0\n",
       "3  13.0  11.0 -7.0\n",
       "4   8.0   1.0  5.0"
      ]
     },
     "execution_count": 96,
     "metadata": {},
     "output_type": "execute_result"
    }
   ],
   "source": [
    "(df1 + df2).dropna()"
   ]
  },
  {
   "cell_type": "markdown",
   "id": "1b0a745a",
   "metadata": {},
   "source": [
    "I can join these, and get a bunch of NaNs, I guess I can just drop them:"
   ]
  },
  {
   "cell_type": "code",
   "execution_count": 98,
   "id": "a3a885d3",
   "metadata": {},
   "outputs": [
    {
     "data": {
      "text/html": [
       "<div>\n",
       "<style scoped>\n",
       "    .dataframe tbody tr th:only-of-type {\n",
       "        vertical-align: middle;\n",
       "    }\n",
       "\n",
       "    .dataframe tbody tr th {\n",
       "        vertical-align: top;\n",
       "    }\n",
       "\n",
       "    .dataframe thead th {\n",
       "        text-align: right;\n",
       "    }\n",
       "</style>\n",
       "<table border=\"1\" class=\"dataframe\">\n",
       "  <thead>\n",
       "    <tr style=\"text-align: right;\">\n",
       "      <th></th>\n",
       "      <th>0</th>\n",
       "      <th>1</th>\n",
       "      <th>2</th>\n",
       "      <th>0-df2</th>\n",
       "      <th>1-df2</th>\n",
       "      <th>2-df2</th>\n",
       "    </tr>\n",
       "  </thead>\n",
       "  <tbody>\n",
       "    <tr>\n",
       "      <th>0</th>\n",
       "      <td>-10</td>\n",
       "      <td>-9</td>\n",
       "      <td>-10</td>\n",
       "      <td>NaN</td>\n",
       "      <td>NaN</td>\n",
       "      <td>NaN</td>\n",
       "    </tr>\n",
       "    <tr>\n",
       "      <th>1</th>\n",
       "      <td>-7</td>\n",
       "      <td>6</td>\n",
       "      <td>2</td>\n",
       "      <td>-8.0</td>\n",
       "      <td>1.0</td>\n",
       "      <td>4.0</td>\n",
       "    </tr>\n",
       "    <tr>\n",
       "      <th>1</th>\n",
       "      <td>-7</td>\n",
       "      <td>6</td>\n",
       "      <td>2</td>\n",
       "      <td>6.0</td>\n",
       "      <td>0.0</td>\n",
       "      <td>-3.0</td>\n",
       "    </tr>\n",
       "    <tr>\n",
       "      <th>2</th>\n",
       "      <td>8</td>\n",
       "      <td>0</td>\n",
       "      <td>2</td>\n",
       "      <td>-4.0</td>\n",
       "      <td>-2.0</td>\n",
       "      <td>-1.0</td>\n",
       "    </tr>\n",
       "    <tr>\n",
       "      <th>3</th>\n",
       "      <td>9</td>\n",
       "      <td>4</td>\n",
       "      <td>2</td>\n",
       "      <td>4.0</td>\n",
       "      <td>7.0</td>\n",
       "      <td>-9.0</td>\n",
       "    </tr>\n",
       "    <tr>\n",
       "      <th>4</th>\n",
       "      <td>0</td>\n",
       "      <td>1</td>\n",
       "      <td>8</td>\n",
       "      <td>8.0</td>\n",
       "      <td>0.0</td>\n",
       "      <td>-3.0</td>\n",
       "    </tr>\n",
       "  </tbody>\n",
       "</table>\n",
       "</div>"
      ],
      "text/plain": [
       "    0  1   2  0-df2  1-df2  2-df2\n",
       "0 -10 -9 -10    NaN    NaN    NaN\n",
       "1  -7  6   2   -8.0    1.0    4.0\n",
       "1  -7  6   2    6.0    0.0   -3.0\n",
       "2   8  0   2   -4.0   -2.0   -1.0\n",
       "3   9  4   2    4.0    7.0   -9.0\n",
       "4   0  1   8    8.0    0.0   -3.0"
      ]
     },
     "execution_count": 98,
     "metadata": {},
     "output_type": "execute_result"
    }
   ],
   "source": [
    "df1.join(df2, rsuffix=\"-df2\")"
   ]
  },
  {
   "cell_type": "markdown",
   "id": "9d513ad5",
   "metadata": {},
   "source": [
    "Let's introduce another DataFrame here, which doesn't look too dissimilar from the second DataFrame we were looking at, and we try to join it we get an error, can't join withoun overlapping index names:"
   ]
  },
  {
   "cell_type": "code",
   "execution_count": 101,
   "id": "49b6bd55",
   "metadata": {},
   "outputs": [
    {
     "data": {
      "text/html": [
       "<div>\n",
       "<style scoped>\n",
       "    .dataframe tbody tr th:only-of-type {\n",
       "        vertical-align: middle;\n",
       "    }\n",
       "\n",
       "    .dataframe tbody tr th {\n",
       "        vertical-align: top;\n",
       "    }\n",
       "\n",
       "    .dataframe thead th {\n",
       "        text-align: right;\n",
       "    }\n",
       "</style>\n",
       "<table border=\"1\" class=\"dataframe\">\n",
       "  <thead>\n",
       "    <tr style=\"text-align: right;\">\n",
       "      <th></th>\n",
       "      <th></th>\n",
       "      <th>0</th>\n",
       "      <th>1</th>\n",
       "      <th>2</th>\n",
       "    </tr>\n",
       "  </thead>\n",
       "  <tbody>\n",
       "    <tr>\n",
       "      <th rowspan=\"5\" valign=\"top\">0</th>\n",
       "      <th>0</th>\n",
       "      <td>3</td>\n",
       "      <td>1</td>\n",
       "      <td>-5</td>\n",
       "    </tr>\n",
       "    <tr>\n",
       "      <th>1</th>\n",
       "      <td>-4</td>\n",
       "      <td>4</td>\n",
       "      <td>1</td>\n",
       "    </tr>\n",
       "    <tr>\n",
       "      <th>2</th>\n",
       "      <td>0</td>\n",
       "      <td>-4</td>\n",
       "      <td>5</td>\n",
       "    </tr>\n",
       "    <tr>\n",
       "      <th>3</th>\n",
       "      <td>-3</td>\n",
       "      <td>-4</td>\n",
       "      <td>7</td>\n",
       "    </tr>\n",
       "    <tr>\n",
       "      <th>4</th>\n",
       "      <td>-5</td>\n",
       "      <td>-6</td>\n",
       "      <td>4</td>\n",
       "    </tr>\n",
       "  </tbody>\n",
       "</table>\n",
       "</div>"
      ],
      "text/plain": [
       "     0  1  2\n",
       "0 0  3  1 -5\n",
       "  1 -4  4  1\n",
       "  2  0 -4  5\n",
       "  3 -3 -4  7\n",
       "  4 -5 -6  4"
      ]
     },
     "execution_count": 101,
     "metadata": {},
     "output_type": "execute_result"
    }
   ],
   "source": [
    "df3"
   ]
  },
  {
   "cell_type": "code",
   "execution_count": 99,
   "id": "b1e51665",
   "metadata": {},
   "outputs": [
    {
     "ename": "ValueError",
     "evalue": "cannot join with no overlapping index names",
     "output_type": "error",
     "traceback": [
      "\u001b[0;31m---------------------------------------------------------------------------\u001b[0m",
      "\u001b[0;31mValueError\u001b[0m                                Traceback (most recent call last)",
      "Cell \u001b[0;32mIn[99], line 1\u001b[0m\n\u001b[0;32m----> 1\u001b[0m df1\u001b[38;5;241m.\u001b[39mjoin(df3, rsuffix\u001b[38;5;241m=\u001b[39m\u001b[38;5;124m\"\u001b[39m\u001b[38;5;124m-df3\u001b[39m\u001b[38;5;124m\"\u001b[39m)\n",
      "File \u001b[0;32m~/opt/anaconda3/envs/importaco/lib/python3.11/site-packages/pandas/core/frame.py:10415\u001b[0m, in \u001b[0;36mDataFrame.join\u001b[0;34m(self, other, on, how, lsuffix, rsuffix, sort, validate)\u001b[0m\n\u001b[1;32m  10405\u001b[0m     \u001b[38;5;28;01mif\u001b[39;00m how \u001b[38;5;241m==\u001b[39m \u001b[38;5;124m\"\u001b[39m\u001b[38;5;124mcross\u001b[39m\u001b[38;5;124m\"\u001b[39m:\n\u001b[1;32m  10406\u001b[0m         \u001b[38;5;28;01mreturn\u001b[39;00m merge(\n\u001b[1;32m  10407\u001b[0m             \u001b[38;5;28mself\u001b[39m,\n\u001b[1;32m  10408\u001b[0m             other,\n\u001b[0;32m   (...)\u001b[0m\n\u001b[1;32m  10413\u001b[0m             validate\u001b[38;5;241m=\u001b[39mvalidate,\n\u001b[1;32m  10414\u001b[0m         )\n\u001b[0;32m> 10415\u001b[0m     \u001b[38;5;28;01mreturn\u001b[39;00m merge(\n\u001b[1;32m  10416\u001b[0m         \u001b[38;5;28mself\u001b[39m,\n\u001b[1;32m  10417\u001b[0m         other,\n\u001b[1;32m  10418\u001b[0m         left_on\u001b[38;5;241m=\u001b[39mon,\n\u001b[1;32m  10419\u001b[0m         how\u001b[38;5;241m=\u001b[39mhow,\n\u001b[1;32m  10420\u001b[0m         left_index\u001b[38;5;241m=\u001b[39mon \u001b[38;5;129;01mis\u001b[39;00m \u001b[38;5;28;01mNone\u001b[39;00m,\n\u001b[1;32m  10421\u001b[0m         right_index\u001b[38;5;241m=\u001b[39m\u001b[38;5;28;01mTrue\u001b[39;00m,\n\u001b[1;32m  10422\u001b[0m         suffixes\u001b[38;5;241m=\u001b[39m(lsuffix, rsuffix),\n\u001b[1;32m  10423\u001b[0m         sort\u001b[38;5;241m=\u001b[39msort,\n\u001b[1;32m  10424\u001b[0m         validate\u001b[38;5;241m=\u001b[39mvalidate,\n\u001b[1;32m  10425\u001b[0m     )\n\u001b[1;32m  10426\u001b[0m \u001b[38;5;28;01melse\u001b[39;00m:\n\u001b[1;32m  10427\u001b[0m     \u001b[38;5;28;01mif\u001b[39;00m on \u001b[38;5;129;01mis\u001b[39;00m \u001b[38;5;129;01mnot\u001b[39;00m \u001b[38;5;28;01mNone\u001b[39;00m:\n",
      "File \u001b[0;32m~/opt/anaconda3/envs/importaco/lib/python3.11/site-packages/pandas/core/reshape/merge.py:183\u001b[0m, in \u001b[0;36mmerge\u001b[0;34m(left, right, how, on, left_on, right_on, left_index, right_index, sort, suffixes, copy, indicator, validate)\u001b[0m\n\u001b[1;32m    168\u001b[0m \u001b[38;5;28;01melse\u001b[39;00m:\n\u001b[1;32m    169\u001b[0m     op \u001b[38;5;241m=\u001b[39m _MergeOperation(\n\u001b[1;32m    170\u001b[0m         left_df,\n\u001b[1;32m    171\u001b[0m         right_df,\n\u001b[0;32m   (...)\u001b[0m\n\u001b[1;32m    181\u001b[0m         validate\u001b[38;5;241m=\u001b[39mvalidate,\n\u001b[1;32m    182\u001b[0m     )\n\u001b[0;32m--> 183\u001b[0m     \u001b[38;5;28;01mreturn\u001b[39;00m op\u001b[38;5;241m.\u001b[39mget_result(copy\u001b[38;5;241m=\u001b[39mcopy)\n",
      "File \u001b[0;32m~/opt/anaconda3/envs/importaco/lib/python3.11/site-packages/pandas/core/reshape/merge.py:883\u001b[0m, in \u001b[0;36m_MergeOperation.get_result\u001b[0;34m(self, copy)\u001b[0m\n\u001b[1;32m    880\u001b[0m \u001b[38;5;28;01mif\u001b[39;00m \u001b[38;5;28mself\u001b[39m\u001b[38;5;241m.\u001b[39mindicator:\n\u001b[1;32m    881\u001b[0m     \u001b[38;5;28mself\u001b[39m\u001b[38;5;241m.\u001b[39mleft, \u001b[38;5;28mself\u001b[39m\u001b[38;5;241m.\u001b[39mright \u001b[38;5;241m=\u001b[39m \u001b[38;5;28mself\u001b[39m\u001b[38;5;241m.\u001b[39m_indicator_pre_merge(\u001b[38;5;28mself\u001b[39m\u001b[38;5;241m.\u001b[39mleft, \u001b[38;5;28mself\u001b[39m\u001b[38;5;241m.\u001b[39mright)\n\u001b[0;32m--> 883\u001b[0m join_index, left_indexer, right_indexer \u001b[38;5;241m=\u001b[39m \u001b[38;5;28mself\u001b[39m\u001b[38;5;241m.\u001b[39m_get_join_info()\n\u001b[1;32m    885\u001b[0m result \u001b[38;5;241m=\u001b[39m \u001b[38;5;28mself\u001b[39m\u001b[38;5;241m.\u001b[39m_reindex_and_concat(\n\u001b[1;32m    886\u001b[0m     join_index, left_indexer, right_indexer, copy\u001b[38;5;241m=\u001b[39mcopy\n\u001b[1;32m    887\u001b[0m )\n\u001b[1;32m    888\u001b[0m result \u001b[38;5;241m=\u001b[39m result\u001b[38;5;241m.\u001b[39m__finalize__(\u001b[38;5;28mself\u001b[39m, method\u001b[38;5;241m=\u001b[39m\u001b[38;5;28mself\u001b[39m\u001b[38;5;241m.\u001b[39m_merge_type)\n",
      "File \u001b[0;32m~/opt/anaconda3/envs/importaco/lib/python3.11/site-packages/pandas/core/reshape/merge.py:1119\u001b[0m, in \u001b[0;36m_MergeOperation._get_join_info\u001b[0;34m(self)\u001b[0m\n\u001b[1;32m   1116\u001b[0m right_ax \u001b[38;5;241m=\u001b[39m \u001b[38;5;28mself\u001b[39m\u001b[38;5;241m.\u001b[39mright\u001b[38;5;241m.\u001b[39mindex\n\u001b[1;32m   1118\u001b[0m \u001b[38;5;28;01mif\u001b[39;00m \u001b[38;5;28mself\u001b[39m\u001b[38;5;241m.\u001b[39mleft_index \u001b[38;5;129;01mand\u001b[39;00m \u001b[38;5;28mself\u001b[39m\u001b[38;5;241m.\u001b[39mright_index \u001b[38;5;129;01mand\u001b[39;00m \u001b[38;5;28mself\u001b[39m\u001b[38;5;241m.\u001b[39mhow \u001b[38;5;241m!=\u001b[39m \u001b[38;5;124m\"\u001b[39m\u001b[38;5;124masof\u001b[39m\u001b[38;5;124m\"\u001b[39m:\n\u001b[0;32m-> 1119\u001b[0m     join_index, left_indexer, right_indexer \u001b[38;5;241m=\u001b[39m left_ax\u001b[38;5;241m.\u001b[39mjoin(\n\u001b[1;32m   1120\u001b[0m         right_ax, how\u001b[38;5;241m=\u001b[39m\u001b[38;5;28mself\u001b[39m\u001b[38;5;241m.\u001b[39mhow, return_indexers\u001b[38;5;241m=\u001b[39m\u001b[38;5;28;01mTrue\u001b[39;00m, sort\u001b[38;5;241m=\u001b[39m\u001b[38;5;28mself\u001b[39m\u001b[38;5;241m.\u001b[39msort\n\u001b[1;32m   1121\u001b[0m     )\n\u001b[1;32m   1123\u001b[0m \u001b[38;5;28;01melif\u001b[39;00m \u001b[38;5;28mself\u001b[39m\u001b[38;5;241m.\u001b[39mright_index \u001b[38;5;129;01mand\u001b[39;00m \u001b[38;5;28mself\u001b[39m\u001b[38;5;241m.\u001b[39mhow \u001b[38;5;241m==\u001b[39m \u001b[38;5;124m\"\u001b[39m\u001b[38;5;124mleft\u001b[39m\u001b[38;5;124m\"\u001b[39m:\n\u001b[1;32m   1124\u001b[0m     join_index, left_indexer, right_indexer \u001b[38;5;241m=\u001b[39m _left_join_on_index(\n\u001b[1;32m   1125\u001b[0m         left_ax, right_ax, \u001b[38;5;28mself\u001b[39m\u001b[38;5;241m.\u001b[39mleft_join_keys, sort\u001b[38;5;241m=\u001b[39m\u001b[38;5;28mself\u001b[39m\u001b[38;5;241m.\u001b[39msort\n\u001b[1;32m   1126\u001b[0m     )\n",
      "File \u001b[0;32m~/opt/anaconda3/envs/importaco/lib/python3.11/site-packages/pandas/core/indexes/base.py:266\u001b[0m, in \u001b[0;36m_maybe_return_indexers.<locals>.join\u001b[0;34m(self, other, how, level, return_indexers, sort)\u001b[0m\n\u001b[1;32m    256\u001b[0m \u001b[38;5;129m@functools\u001b[39m\u001b[38;5;241m.\u001b[39mwraps(meth)\n\u001b[1;32m    257\u001b[0m \u001b[38;5;28;01mdef\u001b[39;00m \u001b[38;5;21mjoin\u001b[39m(\n\u001b[1;32m    258\u001b[0m     \u001b[38;5;28mself\u001b[39m,\n\u001b[0;32m   (...)\u001b[0m\n\u001b[1;32m    264\u001b[0m     sort: \u001b[38;5;28mbool\u001b[39m \u001b[38;5;241m=\u001b[39m \u001b[38;5;28;01mFalse\u001b[39;00m,\n\u001b[1;32m    265\u001b[0m ):\n\u001b[0;32m--> 266\u001b[0m     join_index, lidx, ridx \u001b[38;5;241m=\u001b[39m meth(\u001b[38;5;28mself\u001b[39m, other, how\u001b[38;5;241m=\u001b[39mhow, level\u001b[38;5;241m=\u001b[39mlevel, sort\u001b[38;5;241m=\u001b[39msort)\n\u001b[1;32m    267\u001b[0m     \u001b[38;5;28;01mif\u001b[39;00m \u001b[38;5;129;01mnot\u001b[39;00m return_indexers:\n\u001b[1;32m    268\u001b[0m         \u001b[38;5;28;01mreturn\u001b[39;00m join_index\n",
      "File \u001b[0;32m~/opt/anaconda3/envs/importaco/lib/python3.11/site-packages/pandas/core/indexes/base.py:4621\u001b[0m, in \u001b[0;36mIndex.join\u001b[0;34m(self, other, how, level, return_indexers, sort)\u001b[0m\n\u001b[1;32m   4619\u001b[0m         \u001b[38;5;28;01mpass\u001b[39;00m\n\u001b[1;32m   4620\u001b[0m     \u001b[38;5;28;01melse\u001b[39;00m:\n\u001b[0;32m-> 4621\u001b[0m         \u001b[38;5;28;01mreturn\u001b[39;00m \u001b[38;5;28mself\u001b[39m\u001b[38;5;241m.\u001b[39m_join_multi(other, how\u001b[38;5;241m=\u001b[39mhow)\n\u001b[1;32m   4623\u001b[0m \u001b[38;5;66;03m# join on the level\u001b[39;00m\n\u001b[1;32m   4624\u001b[0m \u001b[38;5;28;01mif\u001b[39;00m level \u001b[38;5;129;01mis\u001b[39;00m \u001b[38;5;129;01mnot\u001b[39;00m \u001b[38;5;28;01mNone\u001b[39;00m \u001b[38;5;129;01mand\u001b[39;00m (\u001b[38;5;28mself\u001b[39m\u001b[38;5;241m.\u001b[39m_is_multi \u001b[38;5;129;01mor\u001b[39;00m other\u001b[38;5;241m.\u001b[39m_is_multi):\n",
      "File \u001b[0;32m~/opt/anaconda3/envs/importaco/lib/python3.11/site-packages/pandas/core/indexes/base.py:4744\u001b[0m, in \u001b[0;36mIndex._join_multi\u001b[0;34m(self, other, how)\u001b[0m\n\u001b[1;32m   4742\u001b[0m \u001b[38;5;66;03m# need at least 1 in common\u001b[39;00m\n\u001b[1;32m   4743\u001b[0m \u001b[38;5;28;01mif\u001b[39;00m \u001b[38;5;129;01mnot\u001b[39;00m overlap:\n\u001b[0;32m-> 4744\u001b[0m     \u001b[38;5;28;01mraise\u001b[39;00m \u001b[38;5;167;01mValueError\u001b[39;00m(\u001b[38;5;124m\"\u001b[39m\u001b[38;5;124mcannot join with no overlapping index names\u001b[39m\u001b[38;5;124m\"\u001b[39m)\n\u001b[1;32m   4746\u001b[0m \u001b[38;5;28;01mif\u001b[39;00m \u001b[38;5;28misinstance\u001b[39m(\u001b[38;5;28mself\u001b[39m, MultiIndex) \u001b[38;5;129;01mand\u001b[39;00m \u001b[38;5;28misinstance\u001b[39m(other, MultiIndex):\n\u001b[1;32m   4747\u001b[0m     \u001b[38;5;66;03m# Drop the non-matching levels from left and right respectively\u001b[39;00m\n\u001b[1;32m   4748\u001b[0m     ldrop_names \u001b[38;5;241m=\u001b[39m \u001b[38;5;28msorted\u001b[39m(self_names \u001b[38;5;241m-\u001b[39m overlap, key\u001b[38;5;241m=\u001b[39mself_names_order)\n",
      "\u001b[0;31mValueError\u001b[0m: cannot join with no overlapping index names"
     ]
    }
   ],
   "source": [
    "df1.join(df3, rsuffix=\"-df3\")"
   ]
  },
  {
   "cell_type": "markdown",
   "id": "b52aabe9",
   "metadata": {},
   "source": [
    "Wait, joining should be like stacking them next to each other, kind of what like plus operation seems to be trying to do, so why it it trying to tell me non-overlapping index things, what is the heck does that even mean. And, if we are unlucky enough to ask one of our co-workers, what does this mean, why is Pandas giving me this error? The answer will be, you just have to rename the axis to something on both sides, and then the join will work as you expect:"
   ]
  },
  {
   "cell_type": "code",
   "execution_count": 100,
   "id": "9dab2412",
   "metadata": {},
   "outputs": [
    {
     "data": {
      "text/html": [
       "<div>\n",
       "<style scoped>\n",
       "    .dataframe tbody tr th:only-of-type {\n",
       "        vertical-align: middle;\n",
       "    }\n",
       "\n",
       "    .dataframe tbody tr th {\n",
       "        vertical-align: top;\n",
       "    }\n",
       "\n",
       "    .dataframe thead th {\n",
       "        text-align: right;\n",
       "    }\n",
       "</style>\n",
       "<table border=\"1\" class=\"dataframe\">\n",
       "  <thead>\n",
       "    <tr style=\"text-align: right;\">\n",
       "      <th></th>\n",
       "      <th></th>\n",
       "      <th>0</th>\n",
       "      <th>1</th>\n",
       "      <th>2</th>\n",
       "      <th>0-df3</th>\n",
       "      <th>1-df3</th>\n",
       "      <th>2-df3</th>\n",
       "    </tr>\n",
       "    <tr>\n",
       "      <th>Ellipsis</th>\n",
       "      <th>idx</th>\n",
       "      <th></th>\n",
       "      <th></th>\n",
       "      <th></th>\n",
       "      <th></th>\n",
       "      <th></th>\n",
       "      <th></th>\n",
       "    </tr>\n",
       "  </thead>\n",
       "  <tbody>\n",
       "    <tr>\n",
       "      <th rowspan=\"5\" valign=\"top\">0</th>\n",
       "      <th>0</th>\n",
       "      <td>-10</td>\n",
       "      <td>-9</td>\n",
       "      <td>-10</td>\n",
       "      <td>3</td>\n",
       "      <td>1</td>\n",
       "      <td>-5</td>\n",
       "    </tr>\n",
       "    <tr>\n",
       "      <th>1</th>\n",
       "      <td>-7</td>\n",
       "      <td>6</td>\n",
       "      <td>2</td>\n",
       "      <td>-4</td>\n",
       "      <td>4</td>\n",
       "      <td>1</td>\n",
       "    </tr>\n",
       "    <tr>\n",
       "      <th>2</th>\n",
       "      <td>8</td>\n",
       "      <td>0</td>\n",
       "      <td>2</td>\n",
       "      <td>0</td>\n",
       "      <td>-4</td>\n",
       "      <td>5</td>\n",
       "    </tr>\n",
       "    <tr>\n",
       "      <th>3</th>\n",
       "      <td>9</td>\n",
       "      <td>4</td>\n",
       "      <td>2</td>\n",
       "      <td>-3</td>\n",
       "      <td>-4</td>\n",
       "      <td>7</td>\n",
       "    </tr>\n",
       "    <tr>\n",
       "      <th>4</th>\n",
       "      <td>0</td>\n",
       "      <td>1</td>\n",
       "      <td>8</td>\n",
       "      <td>-5</td>\n",
       "      <td>-6</td>\n",
       "      <td>4</td>\n",
       "    </tr>\n",
       "  </tbody>\n",
       "</table>\n",
       "</div>"
      ],
      "text/plain": [
       "               0  1   2  0-df3  1-df3  2-df3\n",
       "Ellipsis idx                                \n",
       "0        0   -10 -9 -10      3      1     -5\n",
       "         1    -7  6   2     -4      4      1\n",
       "         2     8  0   2      0     -4      5\n",
       "         3     9  4   2     -3     -4      7\n",
       "         4     0  1   8     -5     -6      4"
      ]
     },
     "execution_count": 100,
     "metadata": {},
     "output_type": "execute_result"
    }
   ],
   "source": [
    "(\n",
    "    df1\n",
    "    .rename_axis(\"idx\")\n",
    "    .join(\n",
    "        df3\n",
    "        .rename_axis([..., \"idx\"]),\n",
    "        rsuffix=\"-df3\"\n",
    "    )\n",
    ")"
   ]
  },
  {
   "cell_type": "markdown",
   "id": "c7fdaad4",
   "metadata": {},
   "source": [
    "And you say, what does that even mean, how is that helpful? That is total nonsense, rename axis? "
   ]
  },
  {
   "cell_type": "markdown",
   "id": "23c24ad8",
   "metadata": {},
   "source": [
    "#### List makes sense\n",
    "\n",
    "If you compare that to built-in datatypes, the list just makes sense. Here we have a list called xs and a list called ys, and these represent some opaque collection of items that we iterate over."
   ]
  },
  {
   "cell_type": "code",
   "execution_count": 118,
   "id": "3de0cdb6",
   "metadata": {},
   "outputs": [],
   "source": [
    "xs = [randint(-10, +10) for _ in range(5)]\n",
    "ys = [randint(-10, +10) for _ in range(5)]"
   ]
  },
  {
   "cell_type": "markdown",
   "id": "2848cfb1",
   "metadata": {},
   "source": [
    "If we add them together:"
   ]
  },
  {
   "cell_type": "code",
   "execution_count": 119,
   "id": "09bedaba",
   "metadata": {},
   "outputs": [
    {
     "data": {
      "text/plain": [
       "[-7, -7, -4, -2, -3, -1, 1, 4, 3, 7]"
      ]
     },
     "execution_count": 119,
     "metadata": {},
     "output_type": "execute_result"
    }
   ],
   "source": [
    "xs + ys"
   ]
  },
  {
   "cell_type": "markdown",
   "id": "eb0b125e",
   "metadata": {},
   "source": [
    "This represents a container level operation, it concatenates them."
   ]
  },
  {
   "cell_type": "markdown",
   "id": "6d53e15a",
   "metadata": {},
   "source": [
    "If we want to use some special syntax for this, we can unpack these lists into a list literal, contatenating them in a different fashion:"
   ]
  },
  {
   "cell_type": "code",
   "execution_count": 120,
   "id": "2016be71",
   "metadata": {},
   "outputs": [
    {
     "data": {
      "text/plain": [
       "[-7, -7, -4, -2, -3, -1, 1, 4, 3, 7]"
      ]
     },
     "execution_count": 120,
     "metadata": {},
     "output_type": "execute_result"
    }
   ],
   "source": [
    "[*xs, *ys]"
   ]
  },
  {
   "cell_type": "markdown",
   "id": "03e937bf",
   "metadata": {},
   "source": [
    "If want to actually add them up, line them up, we do a for loop, just zip them up together and add up the pair, this just makes sense, there is no rename and axis in this:"
   ]
  },
  {
   "cell_type": "code",
   "execution_count": 121,
   "id": "40a48b45",
   "metadata": {},
   "outputs": [
    {
     "data": {
      "text/plain": [
       "[-8, -6, 0, 1, 4]"
      ]
     },
     "execution_count": 121,
     "metadata": {},
     "output_type": "execute_result"
    }
   ],
   "source": [
    "[x + y for x, y in zip(xs, ys)]"
   ]
  },
  {
   "cell_type": "markdown",
   "id": "4e033f96",
   "metadata": {},
   "source": [
    "#### Dictionary makes sense"
   ]
  },
  {
   "cell_type": "markdown",
   "id": "ecc3b36a",
   "metadata": {},
   "source": [
    "A dictionary also makes a whole lot of sense.\n",
    "\n",
    "Here we two dictionary with key value pairs:"
   ]
  },
  {
   "cell_type": "code",
   "execution_count": 125,
   "id": "e815b4f9",
   "metadata": {},
   "outputs": [],
   "source": [
    "d1 = {choice(ascii_lowercase): randint(-10, +10) for _ in range(10)}\n",
    "d2 = {choice(ascii_lowercase): randint(-10, +10) for _ in range(10)}"
   ]
  },
  {
   "cell_type": "markdown",
   "id": "5dfea676",
   "metadata": {},
   "source": [
    "We can use the unpacking syntax to merge these dictionaries:"
   ]
  },
  {
   "cell_type": "code",
   "execution_count": 127,
   "id": "f989b5b4",
   "metadata": {},
   "outputs": [
    {
     "data": {
      "text/plain": [
       "{'r': 4,\n",
       " 't': 3,\n",
       " 'b': -9,\n",
       " 'v': -10,\n",
       " 'm': 0,\n",
       " 'g': -6,\n",
       " 'w': 0,\n",
       " 'h': -4,\n",
       " 'd': 6,\n",
       " 'z': -8,\n",
       " 'p': -6,\n",
       " 'j': 3,\n",
       " 'l': 5,\n",
       " 'i': 10,\n",
       " 'o': 9,\n",
       " 'q': 3,\n",
       " 'x': -10}"
      ]
     },
     "execution_count": 127,
     "metadata": {},
     "output_type": "execute_result"
    }
   ],
   "source": [
    "{**d1, **d2}"
   ]
  },
  {
   "cell_type": "markdown",
   "id": "ab71c299",
   "metadata": {},
   "source": [
    "You take all key-value pairs from each dictionary, and there is an order of preference if there happens to be an overlap."
   ]
  },
  {
   "cell_type": "markdown",
   "id": "c957858d",
   "metadata": {},
   "source": [
    "If we happen to use Python 3.9, we can do this with just the pipe syntax:"
   ]
  },
  {
   "cell_type": "code",
   "execution_count": 132,
   "id": "1e970457",
   "metadata": {},
   "outputs": [
    {
     "data": {
      "text/plain": [
       "{'r': 4,\n",
       " 't': 3,\n",
       " 'b': -9,\n",
       " 'v': -10,\n",
       " 'm': 0,\n",
       " 'g': -6,\n",
       " 'w': 0,\n",
       " 'h': -4,\n",
       " 'd': 6,\n",
       " 'z': -8,\n",
       " 'p': -6,\n",
       " 'j': 3,\n",
       " 'l': 5,\n",
       " 'i': 10,\n",
       " 'o': 9,\n",
       " 'q': 3,\n",
       " 'x': -10}"
      ]
     },
     "execution_count": 132,
     "metadata": {},
     "output_type": "execute_result"
    }
   ],
   "source": [
    "d1 | d2"
   ]
  },
  {
   "cell_type": "markdown",
   "id": "2885fb06",
   "metadata": {},
   "source": [
    "If we want to do an arythmetic operation, we can just do it, we take the keys of one and put them into a set, take the other's keys and put them into a set, find the set union of those, then look up the values, create a new dictionary with these, and if we don't see one of these pairings in one of the dictionaries, we can just substitute it with 0 by using the dictionary's get method:"
   ]
  },
  {
   "cell_type": "code",
   "execution_count": 133,
   "id": "27e08525",
   "metadata": {},
   "outputs": [
    {
     "data": {
      "text/plain": [
       "{'r': 4,\n",
       " 't': 3,\n",
       " 'b': -9,\n",
       " 'v': -10,\n",
       " 'm': 0,\n",
       " 'g': -6,\n",
       " 'w': -2,\n",
       " 'h': -4,\n",
       " 'd': 6,\n",
       " 'z': -8,\n",
       " 'p': -6,\n",
       " 'j': 3,\n",
       " 'l': 5,\n",
       " 'i': 10,\n",
       " 'o': 9,\n",
       " 'q': 3,\n",
       " 'x': -10}"
      ]
     },
     "execution_count": 133,
     "metadata": {},
     "output_type": "execute_result"
    }
   ],
   "source": [
    "{k: d1.get(k, 0) + d2.get(k, 0) for k in d1 | d2}"
   ]
  },
  {
   "cell_type": "markdown",
   "id": "e6346c61",
   "metadata": {},
   "source": [
    "#### ```collections.Counter``` makes sense\n",
    "\n",
    "Even if we look in the Python standard library and look at the collection types it provides, they just make sense.\n",
    "\n",
    "```collections.Counter``` totally makes sense. It is just kind of like a dictionary, except that it specifies that the values have to be some sort of integers or some sort of numeric values, some counts."
   ]
  },
  {
   "cell_type": "code",
   "execution_count": 134,
   "id": "ca94c87c",
   "metadata": {},
   "outputs": [],
   "source": [
    "from collections import Counter"
   ]
  },
  {
   "cell_type": "code",
   "execution_count": 150,
   "id": "0124c2fe",
   "metadata": {},
   "outputs": [],
   "source": [
    "c1 = Counter({choice(ascii_lowercase): randint(-10, +10) for _ in range(10)})\n",
    "c2 = Counter({choice(ascii_lowercase): randint(-10, +10) for _ in range(10)})"
   ]
  },
  {
   "cell_type": "code",
   "execution_count": 152,
   "id": "ad07c551",
   "metadata": {},
   "outputs": [
    {
     "data": {
      "text/plain": [
       "Counter({'n': 8,\n",
       "         'x': 5,\n",
       "         'i': 4,\n",
       "         'z': 2,\n",
       "         'm': 1,\n",
       "         'p': 0,\n",
       "         'l': -2,\n",
       "         'q': -9,\n",
       "         'u': -9,\n",
       "         't': -10})"
      ]
     },
     "execution_count": 152,
     "metadata": {},
     "output_type": "execute_result"
    }
   ],
   "source": [
    "c1"
   ]
  },
  {
   "cell_type": "code",
   "execution_count": 153,
   "id": "00b7c2bb",
   "metadata": {},
   "outputs": [
    {
     "data": {
      "text/plain": [
       "Counter({'h': 9,\n",
       "         'w': 8,\n",
       "         's': 6,\n",
       "         'o': 3,\n",
       "         'k': 2,\n",
       "         'm': 1,\n",
       "         'u': -1,\n",
       "         't': -7,\n",
       "         'd': -10})"
      ]
     },
     "execution_count": 153,
     "metadata": {},
     "output_type": "execute_result"
    }
   ],
   "source": [
    "c2"
   ]
  },
  {
   "cell_type": "markdown",
   "id": "23e22c59",
   "metadata": {},
   "source": [
    "We can add them together. If you have 4 \"a\"s in one and 5 in the other, you have 9 in the result, it makes sense:"
   ]
  },
  {
   "cell_type": "code",
   "execution_count": 154,
   "id": "22b38894",
   "metadata": {},
   "outputs": [
    {
     "data": {
      "text/plain": [
       "Counter({'h': 9,\n",
       "         'n': 8,\n",
       "         'w': 8,\n",
       "         's': 6,\n",
       "         'x': 5,\n",
       "         'i': 4,\n",
       "         'o': 3,\n",
       "         'm': 2,\n",
       "         'z': 2,\n",
       "         'k': 2})"
      ]
     },
     "execution_count": 154,
     "metadata": {},
     "output_type": "execute_result"
    }
   ],
   "source": [
    "c1 + c2"
   ]
  },
  {
   "cell_type": "markdown",
   "id": "8ee1ef85",
   "metadata": {},
   "source": [
    "NOTE: it seems like it's only kept positive counts"
   ]
  },
  {
   "cell_type": "markdown",
   "id": "4626f649",
   "metadata": {},
   "source": [
    "We might even get the interception or the union of the counts:"
   ]
  },
  {
   "cell_type": "code",
   "execution_count": 151,
   "id": "b4179cbd",
   "metadata": {},
   "outputs": [
    {
     "data": {
      "text/plain": [
       "Counter({'m': 1})"
      ]
     },
     "execution_count": 151,
     "metadata": {},
     "output_type": "execute_result"
    }
   ],
   "source": [
    "c1 & c2"
   ]
  },
  {
   "cell_type": "code",
   "execution_count": 155,
   "id": "610a4796",
   "metadata": {},
   "outputs": [
    {
     "data": {
      "text/plain": [
       "Counter({'h': 9,\n",
       "         'n': 8,\n",
       "         'w': 8,\n",
       "         's': 6,\n",
       "         'x': 5,\n",
       "         'i': 4,\n",
       "         'o': 3,\n",
       "         'z': 2,\n",
       "         'k': 2,\n",
       "         'm': 1})"
      ]
     },
     "execution_count": 155,
     "metadata": {},
     "output_type": "execute_result"
    }
   ],
   "source": [
    "c1 | c2"
   ]
  },
  {
   "cell_type": "markdown",
   "id": "677958cc",
   "metadata": {},
   "source": [
    "We might scratch our heads a little bit, and think this is streching it, what does that actually mean? But it actually makes sense, if you had to bags of things you have counted, you can wonder, what's the minimum or maximum, I can rely on having in either bag, these map to our intersect and union operators."
   ]
  },
  {
   "cell_type": "markdown",
   "id": "44d4282d",
   "metadata": {},
   "source": [
    "#### Is it because we constantly need to do ```.values``` to force it to do what we want?\n",
    "\n",
    "That does quite not give us a good motivation as to why we might want to use Pandas, may it's because Pandas is so frustrating we might want to use .values all over the place just to get back, let's say, to a numpy ```ndarray```, something we know how to deal with."
   ]
  },
  {
   "cell_type": "markdown",
   "id": "7d299be1",
   "metadata": {},
   "source": [
    "Here we have a Series with numerical values, and dataframes:"
   ]
  },
  {
   "cell_type": "code",
   "execution_count": 157,
   "id": "7a1d7c5c",
   "metadata": {},
   "outputs": [],
   "source": [
    "s = Series(rng.integers(-10, +10, size=5))"
   ]
  },
  {
   "cell_type": "code",
   "execution_count": 158,
   "id": "e85d8faf",
   "metadata": {},
   "outputs": [
    {
     "data": {
      "text/plain": [
       "0     2\n",
       "1   -10\n",
       "2    -9\n",
       "3    -3\n",
       "4     6\n",
       "dtype: int64"
      ]
     },
     "execution_count": 158,
     "metadata": {},
     "output_type": "execute_result"
    }
   ],
   "source": [
    "s"
   ]
  },
  {
   "cell_type": "code",
   "execution_count": 163,
   "id": "a9cdd735",
   "metadata": {},
   "outputs": [],
   "source": [
    "df1 = DataFrame(rng.integers(-10, +10, size=(5,3)), columns=[*\"abc\"])\n",
    "df2 = DataFrame(rng.integers(-10, +10, size=(5,3)), columns=[*\"def\"])"
   ]
  },
  {
   "cell_type": "code",
   "execution_count": 164,
   "id": "8b633c4b",
   "metadata": {},
   "outputs": [
    {
     "data": {
      "text/html": [
       "<div>\n",
       "<style scoped>\n",
       "    .dataframe tbody tr th:only-of-type {\n",
       "        vertical-align: middle;\n",
       "    }\n",
       "\n",
       "    .dataframe tbody tr th {\n",
       "        vertical-align: top;\n",
       "    }\n",
       "\n",
       "    .dataframe thead th {\n",
       "        text-align: right;\n",
       "    }\n",
       "</style>\n",
       "<table border=\"1\" class=\"dataframe\">\n",
       "  <thead>\n",
       "    <tr style=\"text-align: right;\">\n",
       "      <th></th>\n",
       "      <th>a</th>\n",
       "      <th>b</th>\n",
       "      <th>c</th>\n",
       "    </tr>\n",
       "  </thead>\n",
       "  <tbody>\n",
       "    <tr>\n",
       "      <th>0</th>\n",
       "      <td>8</td>\n",
       "      <td>3</td>\n",
       "      <td>7</td>\n",
       "    </tr>\n",
       "    <tr>\n",
       "      <th>1</th>\n",
       "      <td>-7</td>\n",
       "      <td>5</td>\n",
       "      <td>8</td>\n",
       "    </tr>\n",
       "    <tr>\n",
       "      <th>2</th>\n",
       "      <td>-10</td>\n",
       "      <td>-3</td>\n",
       "      <td>2</td>\n",
       "    </tr>\n",
       "    <tr>\n",
       "      <th>3</th>\n",
       "      <td>-8</td>\n",
       "      <td>0</td>\n",
       "      <td>2</td>\n",
       "    </tr>\n",
       "    <tr>\n",
       "      <th>4</th>\n",
       "      <td>5</td>\n",
       "      <td>8</td>\n",
       "      <td>-2</td>\n",
       "    </tr>\n",
       "  </tbody>\n",
       "</table>\n",
       "</div>"
      ],
      "text/plain": [
       "    a  b  c\n",
       "0   8  3  7\n",
       "1  -7  5  8\n",
       "2 -10 -3  2\n",
       "3  -8  0  2\n",
       "4   5  8 -2"
      ]
     },
     "execution_count": 164,
     "metadata": {},
     "output_type": "execute_result"
    }
   ],
   "source": [
    "df1"
   ]
  },
  {
   "cell_type": "code",
   "execution_count": 165,
   "id": "9608aee6",
   "metadata": {},
   "outputs": [
    {
     "data": {
      "text/html": [
       "<div>\n",
       "<style scoped>\n",
       "    .dataframe tbody tr th:only-of-type {\n",
       "        vertical-align: middle;\n",
       "    }\n",
       "\n",
       "    .dataframe tbody tr th {\n",
       "        vertical-align: top;\n",
       "    }\n",
       "\n",
       "    .dataframe thead th {\n",
       "        text-align: right;\n",
       "    }\n",
       "</style>\n",
       "<table border=\"1\" class=\"dataframe\">\n",
       "  <thead>\n",
       "    <tr style=\"text-align: right;\">\n",
       "      <th></th>\n",
       "      <th>d</th>\n",
       "      <th>e</th>\n",
       "      <th>f</th>\n",
       "    </tr>\n",
       "  </thead>\n",
       "  <tbody>\n",
       "    <tr>\n",
       "      <th>0</th>\n",
       "      <td>-2</td>\n",
       "      <td>-1</td>\n",
       "      <td>9</td>\n",
       "    </tr>\n",
       "    <tr>\n",
       "      <th>1</th>\n",
       "      <td>-7</td>\n",
       "      <td>-1</td>\n",
       "      <td>-10</td>\n",
       "    </tr>\n",
       "    <tr>\n",
       "      <th>2</th>\n",
       "      <td>-2</td>\n",
       "      <td>8</td>\n",
       "      <td>2</td>\n",
       "    </tr>\n",
       "    <tr>\n",
       "      <th>3</th>\n",
       "      <td>-4</td>\n",
       "      <td>9</td>\n",
       "      <td>2</td>\n",
       "    </tr>\n",
       "    <tr>\n",
       "      <th>4</th>\n",
       "      <td>8</td>\n",
       "      <td>-10</td>\n",
       "      <td>-1</td>\n",
       "    </tr>\n",
       "  </tbody>\n",
       "</table>\n",
       "</div>"
      ],
      "text/plain": [
       "   d   e   f\n",
       "0 -2  -1   9\n",
       "1 -7  -1 -10\n",
       "2 -2   8   2\n",
       "3 -4   9   2\n",
       "4  8 -10  -1"
      ]
     },
     "execution_count": 165,
     "metadata": {},
     "output_type": "execute_result"
    }
   ],
   "source": [
    "df2"
   ]
  },
  {
   "cell_type": "markdown",
   "id": "ebd51b5c",
   "metadata": {},
   "source": [
    "If we multiply these, we get all NaNs:"
   ]
  },
  {
   "cell_type": "code",
   "execution_count": 166,
   "id": "a87fa43b",
   "metadata": {},
   "outputs": [
    {
     "data": {
      "text/html": [
       "<div>\n",
       "<style scoped>\n",
       "    .dataframe tbody tr th:only-of-type {\n",
       "        vertical-align: middle;\n",
       "    }\n",
       "\n",
       "    .dataframe tbody tr th {\n",
       "        vertical-align: top;\n",
       "    }\n",
       "\n",
       "    .dataframe thead th {\n",
       "        text-align: right;\n",
       "    }\n",
       "</style>\n",
       "<table border=\"1\" class=\"dataframe\">\n",
       "  <thead>\n",
       "    <tr style=\"text-align: right;\">\n",
       "      <th></th>\n",
       "      <th>a</th>\n",
       "      <th>b</th>\n",
       "      <th>c</th>\n",
       "      <th>0</th>\n",
       "      <th>1</th>\n",
       "      <th>2</th>\n",
       "      <th>3</th>\n",
       "      <th>4</th>\n",
       "    </tr>\n",
       "  </thead>\n",
       "  <tbody>\n",
       "    <tr>\n",
       "      <th>0</th>\n",
       "      <td>NaN</td>\n",
       "      <td>NaN</td>\n",
       "      <td>NaN</td>\n",
       "      <td>NaN</td>\n",
       "      <td>NaN</td>\n",
       "      <td>NaN</td>\n",
       "      <td>NaN</td>\n",
       "      <td>NaN</td>\n",
       "    </tr>\n",
       "    <tr>\n",
       "      <th>1</th>\n",
       "      <td>NaN</td>\n",
       "      <td>NaN</td>\n",
       "      <td>NaN</td>\n",
       "      <td>NaN</td>\n",
       "      <td>NaN</td>\n",
       "      <td>NaN</td>\n",
       "      <td>NaN</td>\n",
       "      <td>NaN</td>\n",
       "    </tr>\n",
       "    <tr>\n",
       "      <th>2</th>\n",
       "      <td>NaN</td>\n",
       "      <td>NaN</td>\n",
       "      <td>NaN</td>\n",
       "      <td>NaN</td>\n",
       "      <td>NaN</td>\n",
       "      <td>NaN</td>\n",
       "      <td>NaN</td>\n",
       "      <td>NaN</td>\n",
       "    </tr>\n",
       "    <tr>\n",
       "      <th>3</th>\n",
       "      <td>NaN</td>\n",
       "      <td>NaN</td>\n",
       "      <td>NaN</td>\n",
       "      <td>NaN</td>\n",
       "      <td>NaN</td>\n",
       "      <td>NaN</td>\n",
       "      <td>NaN</td>\n",
       "      <td>NaN</td>\n",
       "    </tr>\n",
       "    <tr>\n",
       "      <th>4</th>\n",
       "      <td>NaN</td>\n",
       "      <td>NaN</td>\n",
       "      <td>NaN</td>\n",
       "      <td>NaN</td>\n",
       "      <td>NaN</td>\n",
       "      <td>NaN</td>\n",
       "      <td>NaN</td>\n",
       "      <td>NaN</td>\n",
       "    </tr>\n",
       "  </tbody>\n",
       "</table>\n",
       "</div>"
      ],
      "text/plain": [
       "    a   b   c   0   1   2   3   4\n",
       "0 NaN NaN NaN NaN NaN NaN NaN NaN\n",
       "1 NaN NaN NaN NaN NaN NaN NaN NaN\n",
       "2 NaN NaN NaN NaN NaN NaN NaN NaN\n",
       "3 NaN NaN NaN NaN NaN NaN NaN NaN\n",
       "4 NaN NaN NaN NaN NaN NaN NaN NaN"
      ]
     },
     "execution_count": 166,
     "metadata": {},
     "output_type": "execute_result"
    }
   ],
   "source": [
    "s * df1"
   ]
  },
  {
   "cell_type": "markdown",
   "id": "3762c72d",
   "metadata": {},
   "source": [
    "If I ```dropna``` that is not going to be helpful to me at all!"
   ]
  },
  {
   "cell_type": "markdown",
   "id": "fa6e6f35",
   "metadata": {},
   "source": [
    "Let's see what happend if I add the DataFrames together:"
   ]
  },
  {
   "cell_type": "code",
   "execution_count": 167,
   "id": "b64adcce",
   "metadata": {},
   "outputs": [
    {
     "data": {
      "text/html": [
       "<div>\n",
       "<style scoped>\n",
       "    .dataframe tbody tr th:only-of-type {\n",
       "        vertical-align: middle;\n",
       "    }\n",
       "\n",
       "    .dataframe tbody tr th {\n",
       "        vertical-align: top;\n",
       "    }\n",
       "\n",
       "    .dataframe thead th {\n",
       "        text-align: right;\n",
       "    }\n",
       "</style>\n",
       "<table border=\"1\" class=\"dataframe\">\n",
       "  <thead>\n",
       "    <tr style=\"text-align: right;\">\n",
       "      <th></th>\n",
       "      <th>a</th>\n",
       "      <th>b</th>\n",
       "      <th>c</th>\n",
       "      <th>d</th>\n",
       "      <th>e</th>\n",
       "      <th>f</th>\n",
       "    </tr>\n",
       "  </thead>\n",
       "  <tbody>\n",
       "    <tr>\n",
       "      <th>0</th>\n",
       "      <td>NaN</td>\n",
       "      <td>NaN</td>\n",
       "      <td>NaN</td>\n",
       "      <td>NaN</td>\n",
       "      <td>NaN</td>\n",
       "      <td>NaN</td>\n",
       "    </tr>\n",
       "    <tr>\n",
       "      <th>1</th>\n",
       "      <td>NaN</td>\n",
       "      <td>NaN</td>\n",
       "      <td>NaN</td>\n",
       "      <td>NaN</td>\n",
       "      <td>NaN</td>\n",
       "      <td>NaN</td>\n",
       "    </tr>\n",
       "    <tr>\n",
       "      <th>2</th>\n",
       "      <td>NaN</td>\n",
       "      <td>NaN</td>\n",
       "      <td>NaN</td>\n",
       "      <td>NaN</td>\n",
       "      <td>NaN</td>\n",
       "      <td>NaN</td>\n",
       "    </tr>\n",
       "    <tr>\n",
       "      <th>3</th>\n",
       "      <td>NaN</td>\n",
       "      <td>NaN</td>\n",
       "      <td>NaN</td>\n",
       "      <td>NaN</td>\n",
       "      <td>NaN</td>\n",
       "      <td>NaN</td>\n",
       "    </tr>\n",
       "    <tr>\n",
       "      <th>4</th>\n",
       "      <td>NaN</td>\n",
       "      <td>NaN</td>\n",
       "      <td>NaN</td>\n",
       "      <td>NaN</td>\n",
       "      <td>NaN</td>\n",
       "      <td>NaN</td>\n",
       "    </tr>\n",
       "  </tbody>\n",
       "</table>\n",
       "</div>"
      ],
      "text/plain": [
       "    a   b   c   d   e   f\n",
       "0 NaN NaN NaN NaN NaN NaN\n",
       "1 NaN NaN NaN NaN NaN NaN\n",
       "2 NaN NaN NaN NaN NaN NaN\n",
       "3 NaN NaN NaN NaN NaN NaN\n",
       "4 NaN NaN NaN NaN NaN NaN"
      ]
     },
     "execution_count": 167,
     "metadata": {},
     "output_type": "execute_result"
    }
   ],
   "source": [
    "df1 + df2"
   ]
  },
  {
   "cell_type": "markdown",
   "id": "c381b7d8",
   "metadata": {},
   "source": [
    "They seem to be of the same size, but when I add them together I get all NaNs as well.\n",
    "\n",
    "So let's just drop the Pandas away and do ```.values```:"
   ]
  },
  {
   "cell_type": "code",
   "execution_count": 170,
   "id": "8153c29b",
   "metadata": {},
   "outputs": [
    {
     "data": {
      "text/plain": [
       "array([[  6,   2,  16],\n",
       "       [-14,   4,  -2],\n",
       "       [-12,   5,   4],\n",
       "       [-12,   9,   4],\n",
       "       [ 13,  -2,  -3]])"
      ]
     },
     "execution_count": 170,
     "metadata": {},
     "output_type": "execute_result"
    }
   ],
   "source": [
    "df1.values + df2.values"
   ]
  },
  {
   "cell_type": "markdown",
   "id": "a16f45cf",
   "metadata": {},
   "source": [
    "If we do the same thing with the Series and a DataFrame, we get a broadcasting error:"
   ]
  },
  {
   "cell_type": "code",
   "execution_count": 172,
   "id": "76c46fac",
   "metadata": {},
   "outputs": [
    {
     "ename": "ValueError",
     "evalue": "operands could not be broadcast together with shapes (5,) (5,3) ",
     "output_type": "error",
     "traceback": [
      "\u001b[0;31m---------------------------------------------------------------------------\u001b[0m",
      "\u001b[0;31mValueError\u001b[0m                                Traceback (most recent call last)",
      "Cell \u001b[0;32mIn[172], line 1\u001b[0m\n\u001b[0;32m----> 1\u001b[0m s\u001b[38;5;241m.\u001b[39mvalues \u001b[38;5;241m+\u001b[39m df1\u001b[38;5;241m.\u001b[39mvalues\n",
      "\u001b[0;31mValueError\u001b[0m: operands could not be broadcast together with shapes (5,) (5,3) "
     ]
    }
   ],
   "source": [
    "s.values + df1.values"
   ]
  },
  {
   "cell_type": "markdown",
   "id": "56cdf4c3",
   "metadata": {},
   "source": [
    "Even in the numpy universe our live isn't that easy; if we ask a helpful coworker he will say you will have to use that new axis, you will have to add to the axis to satisfy the broadcast rules:"
   ]
  },
  {
   "cell_type": "code",
   "execution_count": 176,
   "id": "351080cf",
   "metadata": {},
   "outputs": [
    {
     "data": {
      "text/plain": [
       "array([[ 10,   5,   9],\n",
       "       [-17,  -5,  -2],\n",
       "       [-19, -12,  -7],\n",
       "       [-11,  -3,  -1],\n",
       "       [ 11,  14,   4]])"
      ]
     },
     "execution_count": 176,
     "metadata": {},
     "output_type": "execute_result"
    }
   ],
   "source": [
    "s.values[:, None] + df1.values"
   ]
  },
  {
   "cell_type": "markdown",
   "id": "d252fd98",
   "metadata": {},
   "source": [
    "I would reply that you are speaking a different language and I have no idea of what you are speaking about.\n",
    "\n",
    "If it's the case that you manage to coerce this to work, you ```.values``` your way to something that actually gives you the answer that you want, but you still want to have that DataFrame for whatever reason, you can take the result and stick it back into a DataFrame, I guess that's not too bad:"
   ]
  },
  {
   "cell_type": "code",
   "execution_count": 177,
   "id": "10a64ab1",
   "metadata": {},
   "outputs": [
    {
     "data": {
      "text/html": [
       "<div>\n",
       "<style scoped>\n",
       "    .dataframe tbody tr th:only-of-type {\n",
       "        vertical-align: middle;\n",
       "    }\n",
       "\n",
       "    .dataframe tbody tr th {\n",
       "        vertical-align: top;\n",
       "    }\n",
       "\n",
       "    .dataframe thead th {\n",
       "        text-align: right;\n",
       "    }\n",
       "</style>\n",
       "<table border=\"1\" class=\"dataframe\">\n",
       "  <thead>\n",
       "    <tr style=\"text-align: right;\">\n",
       "      <th></th>\n",
       "      <th>0</th>\n",
       "      <th>1</th>\n",
       "      <th>2</th>\n",
       "    </tr>\n",
       "  </thead>\n",
       "  <tbody>\n",
       "    <tr>\n",
       "      <th>0</th>\n",
       "      <td>6</td>\n",
       "      <td>2</td>\n",
       "      <td>16</td>\n",
       "    </tr>\n",
       "    <tr>\n",
       "      <th>1</th>\n",
       "      <td>-14</td>\n",
       "      <td>4</td>\n",
       "      <td>-2</td>\n",
       "    </tr>\n",
       "    <tr>\n",
       "      <th>2</th>\n",
       "      <td>-12</td>\n",
       "      <td>5</td>\n",
       "      <td>4</td>\n",
       "    </tr>\n",
       "    <tr>\n",
       "      <th>3</th>\n",
       "      <td>-12</td>\n",
       "      <td>9</td>\n",
       "      <td>4</td>\n",
       "    </tr>\n",
       "    <tr>\n",
       "      <th>4</th>\n",
       "      <td>13</td>\n",
       "      <td>-2</td>\n",
       "      <td>-3</td>\n",
       "    </tr>\n",
       "  </tbody>\n",
       "</table>\n",
       "</div>"
      ],
      "text/plain": [
       "    0  1   2\n",
       "0   6  2  16\n",
       "1 -14  4  -2\n",
       "2 -12  5   4\n",
       "3 -12  9   4\n",
       "4  13 -2  -3"
      ]
     },
     "execution_count": 177,
     "metadata": {},
     "output_type": "execute_result"
    }
   ],
   "source": [
    "DataFrame(df1.values + df2.values)"
   ]
  },
  {
   "cell_type": "markdown",
   "id": "262ff374",
   "metadata": {},
   "source": [
    "Doesn't seem like a very powerful reason for us to use Pandas."
   ]
  },
  {
   "cell_type": "code",
   "execution_count": null,
   "id": "9ec1afcc",
   "metadata": {},
   "outputs": [],
   "source": [
    "#### Or perhaps that we sometimes get totally perplexing results and have to ```.reset_index()``` to coerce the library to "
   ]
  },
  {
   "cell_type": "markdown",
   "id": "c177803c",
   "metadata": {},
   "source": [
    "Maybe is that in addition to that ```.values```, we have to ```.reset_index``` to kind of stay within Pandas and throw away whatever that index is, because that seems to be the source of our problems, and I guess that that might be a compelling reason to use Pandas, just to ```.reset_index()``` our way to success.\n",
    "\n",
    "We have ```df```, we group by that ```a``` columns, and then "
   ]
  },
  {
   "cell_type": "code",
   "execution_count": 185,
   "id": "d4c47256",
   "metadata": {},
   "outputs": [],
   "source": [
    "df1 = DataFrame(rng.integers(-10, +10, size=(5,3)), columns=[*\"abc\"])\n",
    "df2 = DataFrame(rng.integers(-10, +10, size=(5,3)), columns=[*\"abc\"])"
   ]
  },
  {
   "cell_type": "code",
   "execution_count": 186,
   "id": "bf1c50a8",
   "metadata": {},
   "outputs": [
    {
     "data": {
      "text/html": [
       "<div>\n",
       "<style scoped>\n",
       "    .dataframe tbody tr th:only-of-type {\n",
       "        vertical-align: middle;\n",
       "    }\n",
       "\n",
       "    .dataframe tbody tr th {\n",
       "        vertical-align: top;\n",
       "    }\n",
       "\n",
       "    .dataframe thead th {\n",
       "        text-align: right;\n",
       "    }\n",
       "</style>\n",
       "<table border=\"1\" class=\"dataframe\">\n",
       "  <thead>\n",
       "    <tr style=\"text-align: right;\">\n",
       "      <th></th>\n",
       "      <th>a</th>\n",
       "      <th>b</th>\n",
       "      <th>c</th>\n",
       "    </tr>\n",
       "  </thead>\n",
       "  <tbody>\n",
       "    <tr>\n",
       "      <th>0</th>\n",
       "      <td>6</td>\n",
       "      <td>-8</td>\n",
       "      <td>8</td>\n",
       "    </tr>\n",
       "    <tr>\n",
       "      <th>1</th>\n",
       "      <td>9</td>\n",
       "      <td>-5</td>\n",
       "      <td>-2</td>\n",
       "    </tr>\n",
       "    <tr>\n",
       "      <th>2</th>\n",
       "      <td>0</td>\n",
       "      <td>3</td>\n",
       "      <td>-2</td>\n",
       "    </tr>\n",
       "    <tr>\n",
       "      <th>3</th>\n",
       "      <td>-8</td>\n",
       "      <td>8</td>\n",
       "      <td>3</td>\n",
       "    </tr>\n",
       "    <tr>\n",
       "      <th>4</th>\n",
       "      <td>-10</td>\n",
       "      <td>6</td>\n",
       "      <td>4</td>\n",
       "    </tr>\n",
       "  </tbody>\n",
       "</table>\n",
       "</div>"
      ],
      "text/plain": [
       "    a  b  c\n",
       "0   6 -8  8\n",
       "1   9 -5 -2\n",
       "2   0  3 -2\n",
       "3  -8  8  3\n",
       "4 -10  6  4"
      ]
     },
     "execution_count": 186,
     "metadata": {},
     "output_type": "execute_result"
    }
   ],
   "source": [
    "df1"
   ]
  },
  {
   "cell_type": "code",
   "execution_count": 187,
   "id": "fa47281a",
   "metadata": {},
   "outputs": [
    {
     "data": {
      "text/html": [
       "<div>\n",
       "<style scoped>\n",
       "    .dataframe tbody tr th:only-of-type {\n",
       "        vertical-align: middle;\n",
       "    }\n",
       "\n",
       "    .dataframe tbody tr th {\n",
       "        vertical-align: top;\n",
       "    }\n",
       "\n",
       "    .dataframe thead th {\n",
       "        text-align: right;\n",
       "    }\n",
       "</style>\n",
       "<table border=\"1\" class=\"dataframe\">\n",
       "  <thead>\n",
       "    <tr style=\"text-align: right;\">\n",
       "      <th></th>\n",
       "      <th>a</th>\n",
       "      <th>b</th>\n",
       "      <th>c</th>\n",
       "    </tr>\n",
       "  </thead>\n",
       "  <tbody>\n",
       "    <tr>\n",
       "      <th>0</th>\n",
       "      <td>-7</td>\n",
       "      <td>2</td>\n",
       "      <td>0</td>\n",
       "    </tr>\n",
       "    <tr>\n",
       "      <th>1</th>\n",
       "      <td>-10</td>\n",
       "      <td>8</td>\n",
       "      <td>4</td>\n",
       "    </tr>\n",
       "    <tr>\n",
       "      <th>2</th>\n",
       "      <td>-4</td>\n",
       "      <td>-10</td>\n",
       "      <td>-9</td>\n",
       "    </tr>\n",
       "    <tr>\n",
       "      <th>3</th>\n",
       "      <td>5</td>\n",
       "      <td>-8</td>\n",
       "      <td>0</td>\n",
       "    </tr>\n",
       "    <tr>\n",
       "      <th>4</th>\n",
       "      <td>7</td>\n",
       "      <td>8</td>\n",
       "      <td>-5</td>\n",
       "    </tr>\n",
       "  </tbody>\n",
       "</table>\n",
       "</div>"
      ],
      "text/plain": [
       "    a   b  c\n",
       "0  -7   2  0\n",
       "1 -10   8  4\n",
       "2  -4 -10 -9\n",
       "3   5  -8  0\n",
       "4   7   8 -5"
      ]
     },
     "execution_count": 187,
     "metadata": {},
     "output_type": "execute_result"
    }
   ],
   "source": [
    "df2"
   ]
  },
  {
   "cell_type": "code",
   "execution_count": 188,
   "id": "bb773e23",
   "metadata": {},
   "outputs": [
    {
     "data": {
      "text/html": [
       "<div>\n",
       "<style scoped>\n",
       "    .dataframe tbody tr th:only-of-type {\n",
       "        vertical-align: middle;\n",
       "    }\n",
       "\n",
       "    .dataframe tbody tr th {\n",
       "        vertical-align: top;\n",
       "    }\n",
       "\n",
       "    .dataframe thead th {\n",
       "        text-align: right;\n",
       "    }\n",
       "</style>\n",
       "<table border=\"1\" class=\"dataframe\">\n",
       "  <thead>\n",
       "    <tr style=\"text-align: right;\">\n",
       "      <th></th>\n",
       "      <th>b</th>\n",
       "      <th>c</th>\n",
       "    </tr>\n",
       "    <tr>\n",
       "      <th>a</th>\n",
       "      <th></th>\n",
       "      <th></th>\n",
       "    </tr>\n",
       "  </thead>\n",
       "  <tbody>\n",
       "    <tr>\n",
       "      <th>-10</th>\n",
       "      <td>6</td>\n",
       "      <td>4</td>\n",
       "    </tr>\n",
       "    <tr>\n",
       "      <th>-8</th>\n",
       "      <td>8</td>\n",
       "      <td>3</td>\n",
       "    </tr>\n",
       "    <tr>\n",
       "      <th>0</th>\n",
       "      <td>3</td>\n",
       "      <td>-2</td>\n",
       "    </tr>\n",
       "    <tr>\n",
       "      <th>6</th>\n",
       "      <td>-8</td>\n",
       "      <td>8</td>\n",
       "    </tr>\n",
       "    <tr>\n",
       "      <th>9</th>\n",
       "      <td>-5</td>\n",
       "      <td>-2</td>\n",
       "    </tr>\n",
       "  </tbody>\n",
       "</table>\n",
       "</div>"
      ],
      "text/plain": [
       "     b  c\n",
       "a        \n",
       "-10  6  4\n",
       "-8   8  3\n",
       " 0   3 -2\n",
       " 6  -8  8\n",
       " 9  -5 -2"
      ]
     },
     "execution_count": 188,
     "metadata": {},
     "output_type": "execute_result"
    }
   ],
   "source": [
    "df1.groupby(\"a\").sum()"
   ]
  },
  {
   "cell_type": "markdown",
   "id": "e5af7a30",
   "metadata": {},
   "source": [
    "This doesn't do much, but at least it will sort by the \"a\" values.\n",
    "\n",
    "If we take that and we add it to another DataFrame:"
   ]
  },
  {
   "cell_type": "code",
   "execution_count": 189,
   "id": "4f5038c8",
   "metadata": {},
   "outputs": [
    {
     "data": {
      "text/html": [
       "<div>\n",
       "<style scoped>\n",
       "    .dataframe tbody tr th:only-of-type {\n",
       "        vertical-align: middle;\n",
       "    }\n",
       "\n",
       "    .dataframe tbody tr th {\n",
       "        vertical-align: top;\n",
       "    }\n",
       "\n",
       "    .dataframe thead th {\n",
       "        text-align: right;\n",
       "    }\n",
       "</style>\n",
       "<table border=\"1\" class=\"dataframe\">\n",
       "  <thead>\n",
       "    <tr style=\"text-align: right;\">\n",
       "      <th></th>\n",
       "      <th>a</th>\n",
       "      <th>b</th>\n",
       "      <th>c</th>\n",
       "    </tr>\n",
       "  </thead>\n",
       "  <tbody>\n",
       "    <tr>\n",
       "      <th>-10</th>\n",
       "      <td>NaN</td>\n",
       "      <td>NaN</td>\n",
       "      <td>NaN</td>\n",
       "    </tr>\n",
       "    <tr>\n",
       "      <th>-8</th>\n",
       "      <td>NaN</td>\n",
       "      <td>NaN</td>\n",
       "      <td>NaN</td>\n",
       "    </tr>\n",
       "    <tr>\n",
       "      <th>0</th>\n",
       "      <td>NaN</td>\n",
       "      <td>5.0</td>\n",
       "      <td>-2.0</td>\n",
       "    </tr>\n",
       "    <tr>\n",
       "      <th>1</th>\n",
       "      <td>NaN</td>\n",
       "      <td>NaN</td>\n",
       "      <td>NaN</td>\n",
       "    </tr>\n",
       "    <tr>\n",
       "      <th>2</th>\n",
       "      <td>NaN</td>\n",
       "      <td>NaN</td>\n",
       "      <td>NaN</td>\n",
       "    </tr>\n",
       "    <tr>\n",
       "      <th>3</th>\n",
       "      <td>NaN</td>\n",
       "      <td>NaN</td>\n",
       "      <td>NaN</td>\n",
       "    </tr>\n",
       "    <tr>\n",
       "      <th>4</th>\n",
       "      <td>NaN</td>\n",
       "      <td>NaN</td>\n",
       "      <td>NaN</td>\n",
       "    </tr>\n",
       "    <tr>\n",
       "      <th>6</th>\n",
       "      <td>NaN</td>\n",
       "      <td>NaN</td>\n",
       "      <td>NaN</td>\n",
       "    </tr>\n",
       "    <tr>\n",
       "      <th>9</th>\n",
       "      <td>NaN</td>\n",
       "      <td>NaN</td>\n",
       "      <td>NaN</td>\n",
       "    </tr>\n",
       "  </tbody>\n",
       "</table>\n",
       "</div>"
      ],
      "text/plain": [
       "      a    b    c\n",
       "-10 NaN  NaN  NaN\n",
       "-8  NaN  NaN  NaN\n",
       " 0  NaN  5.0 -2.0\n",
       " 1  NaN  NaN  NaN\n",
       " 2  NaN  NaN  NaN\n",
       " 3  NaN  NaN  NaN\n",
       " 4  NaN  NaN  NaN\n",
       " 6  NaN  NaN  NaN\n",
       " 9  NaN  NaN  NaN"
      ]
     },
     "execution_count": 189,
     "metadata": {},
     "output_type": "execute_result"
    }
   ],
   "source": [
    "df1.groupby(\"a\").sum() + df2"
   ]
  },
  {
   "cell_type": "markdown",
   "id": "24338ec7",
   "metadata": {},
   "source": [
    "We end up again with a bunch of NaN values, except for a tiny little slimmer there, but ```.dropna``` is not going to help."
   ]
  },
  {
   "cell_type": "markdown",
   "id": "f32235f5",
   "metadata": {},
   "source": [
    "You know what, I don't need to use ```.values```, I just use ```.reset_index``` on one side and get something that looks like what I want (in the ```.groupby``` I might be able to set a parameter to say don't use the index):"
   ]
  },
  {
   "cell_type": "code",
   "execution_count": 192,
   "id": "a98dec81",
   "metadata": {},
   "outputs": [
    {
     "data": {
      "text/html": [
       "<div>\n",
       "<style scoped>\n",
       "    .dataframe tbody tr th:only-of-type {\n",
       "        vertical-align: middle;\n",
       "    }\n",
       "\n",
       "    .dataframe tbody tr th {\n",
       "        vertical-align: top;\n",
       "    }\n",
       "\n",
       "    .dataframe thead th {\n",
       "        text-align: right;\n",
       "    }\n",
       "</style>\n",
       "<table border=\"1\" class=\"dataframe\">\n",
       "  <thead>\n",
       "    <tr style=\"text-align: right;\">\n",
       "      <th></th>\n",
       "      <th>a</th>\n",
       "      <th>b</th>\n",
       "      <th>c</th>\n",
       "    </tr>\n",
       "  </thead>\n",
       "  <tbody>\n",
       "    <tr>\n",
       "      <th>0</th>\n",
       "      <td>-17</td>\n",
       "      <td>8</td>\n",
       "      <td>4</td>\n",
       "    </tr>\n",
       "    <tr>\n",
       "      <th>1</th>\n",
       "      <td>-18</td>\n",
       "      <td>16</td>\n",
       "      <td>7</td>\n",
       "    </tr>\n",
       "    <tr>\n",
       "      <th>2</th>\n",
       "      <td>-4</td>\n",
       "      <td>-7</td>\n",
       "      <td>-11</td>\n",
       "    </tr>\n",
       "    <tr>\n",
       "      <th>3</th>\n",
       "      <td>11</td>\n",
       "      <td>-16</td>\n",
       "      <td>8</td>\n",
       "    </tr>\n",
       "    <tr>\n",
       "      <th>4</th>\n",
       "      <td>16</td>\n",
       "      <td>3</td>\n",
       "      <td>-7</td>\n",
       "    </tr>\n",
       "  </tbody>\n",
       "</table>\n",
       "</div>"
      ],
      "text/plain": [
       "    a   b   c\n",
       "0 -17   8   4\n",
       "1 -18  16   7\n",
       "2  -4  -7 -11\n",
       "3  11 -16   8\n",
       "4  16   3  -7"
      ]
     },
     "execution_count": 192,
     "metadata": {},
     "output_type": "execute_result"
    }
   ],
   "source": [
    "df1.groupby(\"a\").sum().reset_index() + df2"
   ]
  },
  {
   "cell_type": "markdown",
   "id": "5ed78998",
   "metadata": {},
   "source": [
    "#### How many rows do we get (Good tools should be predictable)\n",
    "\n",
    "Maybe it's because Pandas is so unpredictable in terms of what it will give us when we perform an operation, a good tool should be guessable, we should be able to write some code and have a sense for what it's going to do before we run that line of code. \n",
    "\n",
    "Pandas doesn't seem to be the case, because even with something simple, like figuring how many rows I am going to get when doing an operation with two Pandas objects, I can't guess what that is going to be.\n",
    "\n",
    "Like when I have these two Series, which just contain 4 values, and I sum them up, ok, the result has 4 values, that's not too bad:"
   ]
  },
  {
   "cell_type": "code",
   "execution_count": 200,
   "id": "72b1f8ea",
   "metadata": {},
   "outputs": [],
   "source": [
    "s1 = Series(rng.integers(-10, +10, size=4), index=[*\"aabb\"])\n",
    "s2 = Series(rng.integers(-10, +10, size=4), index=[*\"aabb\"])"
   ]
  },
  {
   "cell_type": "code",
   "execution_count": 201,
   "id": "fc81a8fe",
   "metadata": {},
   "outputs": [
    {
     "name": "stdout",
     "output_type": "stream",
     "text": [
      "a   -2\n",
      "a    7\n",
      "b    9\n",
      "b   -8\n",
      "dtype: int64\n",
      "\n",
      "a    1\n",
      "a    5\n",
      "b   -5\n",
      "b   -5\n",
      "dtype: int64\n"
     ]
    }
   ],
   "source": [
    "print(s1, s2, sep=\"\\n\\n\")"
   ]
  },
  {
   "cell_type": "code",
   "execution_count": 202,
   "id": "04746de5",
   "metadata": {},
   "outputs": [
    {
     "data": {
      "text/plain": [
       "a    -1\n",
       "a    12\n",
       "b     4\n",
       "b   -13\n",
       "dtype: int64"
      ]
     },
     "execution_count": 202,
     "metadata": {},
     "output_type": "execute_result"
    }
   ],
   "source": [
    "s1 + s2"
   ]
  },
  {
   "cell_type": "markdown",
   "id": "55c661de",
   "metadata": {},
   "source": [
    "But when I try the same with these 2 other series, which also have 4 values, now I get 6 values. What?"
   ]
  },
  {
   "cell_type": "code",
   "execution_count": 203,
   "id": "3b563d35",
   "metadata": {},
   "outputs": [],
   "source": [
    "s1 = Series(rng.integers(-10, +10, size=4), index=[*\"aaab\"])\n",
    "s2 = Series(rng.integers(-10, +10, size=4), index=[*\"abbb\"])"
   ]
  },
  {
   "cell_type": "code",
   "execution_count": 205,
   "id": "0854374f",
   "metadata": {},
   "outputs": [
    {
     "name": "stdout",
     "output_type": "stream",
     "text": [
      "a   -6\n",
      "a   -6\n",
      "a    7\n",
      "b   -6\n",
      "dtype: int64\n",
      "\n",
      "a   -6\n",
      "b   -8\n",
      "b   -8\n",
      "b    5\n",
      "dtype: int64\n"
     ]
    }
   ],
   "source": [
    "print(s1, s2, sep=\"\\n\\n\")"
   ]
  },
  {
   "cell_type": "code",
   "execution_count": 204,
   "id": "d9c740cf",
   "metadata": {},
   "outputs": [
    {
     "data": {
      "text/plain": [
       "a   -12\n",
       "a   -12\n",
       "a     1\n",
       "b   -14\n",
       "b   -14\n",
       "b    -1\n",
       "dtype: int64"
      ]
     },
     "execution_count": 204,
     "metadata": {},
     "output_type": "execute_result"
    }
   ],
   "source": [
    "s1 + s2"
   ]
  },
  {
   "cell_type": "markdown",
   "id": "178f2751",
   "metadata": {},
   "source": [
    "Again, if we try adding these two other series, which also have 4 values, we get 8 values in the result this time:"
   ]
  },
  {
   "cell_type": "code",
   "execution_count": 206,
   "id": "72248da0",
   "metadata": {},
   "outputs": [],
   "source": [
    "s1 = Series(rng.integers(-10, +10, size=4), index=[*\"aabb\"])\n",
    "s2 = Series(rng.integers(-10, +10, size=4), index=[*\"abbb\"])"
   ]
  },
  {
   "cell_type": "code",
   "execution_count": 207,
   "id": "7122fe4c",
   "metadata": {},
   "outputs": [
    {
     "name": "stdout",
     "output_type": "stream",
     "text": [
      "a   -5\n",
      "a    6\n",
      "b    1\n",
      "b    7\n",
      "dtype: int64\n",
      "\n",
      "a    1\n",
      "b    5\n",
      "b    6\n",
      "b   -9\n",
      "dtype: int64\n",
      "\n",
      "a    -4\n",
      "a     7\n",
      "b     6\n",
      "b     7\n",
      "b    -8\n",
      "b    12\n",
      "b    13\n",
      "b    -2\n",
      "dtype: int64\n"
     ]
    }
   ],
   "source": [
    "print(s1, s2, s1 + s2, sep=\"\\n\\n\")"
   ]
  },
  {
   "cell_type": "markdown",
   "id": "bee8c420",
   "metadata": {},
   "source": [
    "I can't even predict how many values I am going to get when adding these two things. That would never happen with the Python dictionary or list, I can explicitly do how I want to combine these two structures, and I can see immediatly from this code, which might be a little bit clumsy, what is going on. This is a pretty terrible reason why we might want to use Pandas, because we have very little predictability over what is going on.\n",
    "\n",
    "Maybe what I want to do is ```reset_index``` my way to success here, and then I end up with something that kind of makes sense, except for that column named \"index\", that is not very useful:"
   ]
  },
  {
   "cell_type": "code",
   "execution_count": 208,
   "id": "ffcd5d99",
   "metadata": {},
   "outputs": [
    {
     "name": "stdout",
     "output_type": "stream",
     "text": [
      "a   -5\n",
      "a    6\n",
      "b    1\n",
      "b    7\n",
      "dtype: int64\n",
      "\n",
      "a    1\n",
      "b    5\n",
      "b    6\n",
      "b   -9\n",
      "dtype: int64\n",
      "\n",
      "  index   0\n",
      "0    aa  -4\n",
      "1    ab  11\n",
      "2    bb   7\n",
      "3    bb  -2\n"
     ]
    }
   ],
   "source": [
    "print(s1, s2, s1.reset_index() + s2.reset_index(), sep=\"\\n\\n\")"
   ]
  },
  {
   "cell_type": "markdown",
   "id": "fa5c825a",
   "metadata": {},
   "source": [
    "Instead of ```reset_index```, just throw the index in the garbage, not helpful at all, not really adding anything to my life:"
   ]
  },
  {
   "cell_type": "code",
   "execution_count": 209,
   "id": "af37b8cf",
   "metadata": {},
   "outputs": [
    {
     "name": "stdout",
     "output_type": "stream",
     "text": [
      "a   -5\n",
      "a    6\n",
      "b    1\n",
      "b    7\n",
      "dtype: int64\n",
      "\n",
      "a    1\n",
      "b    5\n",
      "b    6\n",
      "b   -9\n",
      "dtype: int64\n",
      "\n",
      "0    -4\n",
      "1    11\n",
      "2     7\n",
      "3    -2\n",
      "dtype: int64\n"
     ]
    }
   ],
   "source": [
    "print(s1, s2, s1.reset_index(drop=True) + s2.reset_index(drop=True), sep=\"\\n\\n\")"
   ]
  },
  {
   "cell_type": "markdown",
   "id": "895451f0",
   "metadata": {},
   "source": [
    "#### Is it because the API makes weird, incomprehensible distinctions, like the ```.groupby``` operations for user defined\n",
    "\n",
    "Maybe the reason we use Pandas is because it makes weird, incomprehensible distinctinos in its library.\n",
    "\n",
    "For example, if we have a DataFrame, and we want to go onto that ```.groupby```, and I want to group by that columns that is not longer unique values, but two values, True of False, the place where \"a\" is True or False.\n",
    "\n",
    "When I ```.groupby``` and do a sum, that works:"
   ]
  },
  {
   "cell_type": "code",
   "execution_count": 210,
   "id": "96fa9db6",
   "metadata": {},
   "outputs": [],
   "source": [
    "from numpy import repeat"
   ]
  },
  {
   "cell_type": "code",
   "execution_count": 215,
   "id": "2a1ea8d5",
   "metadata": {},
   "outputs": [],
   "source": [
    "df = DataFrame({\n",
    "    \"a\": repeat([True, False], (size := 8)//2),\n",
    "    \"b\": rng.integers(-10, +10, size)\n",
    "})"
   ]
  },
  {
   "cell_type": "code",
   "execution_count": 217,
   "id": "d70c819c",
   "metadata": {},
   "outputs": [
    {
     "name": "stdout",
     "output_type": "stream",
     "text": [
      "       a  b\n",
      "0   True  1\n",
      "1   True -1\n",
      "2   True -5\n",
      "3   True -1\n",
      "4  False -2\n",
      "5  False -1\n",
      "6  False  6\n",
      "7  False  6\n",
      "\n",
      "       b\n",
      "a       \n",
      "False  9\n",
      "True  -6\n"
     ]
    }
   ],
   "source": [
    "print(df, df.groupby(\"a\").sum(), sep=\"\\n\\n\")"
   ]
  },
  {
   "cell_type": "markdown",
   "id": "468d0c7a",
   "metadata": {},
   "source": [
    "But if we want to do another operation, like, say, the kurtosis, that is not built-in into the ```.groupby```, \n",
    "we can't do ```.groupby.kurt()```, so we might do a ```.groupby.transform```:"
   ]
  },
  {
   "cell_type": "code",
   "execution_count": 218,
   "id": "10f5125c",
   "metadata": {},
   "outputs": [
    {
     "name": "stdout",
     "output_type": "stream",
     "text": [
      "       a  b\n",
      "0   True  1\n",
      "1   True -1\n",
      "2   True -5\n",
      "3   True -1\n",
      "4  False -2\n",
      "5  False -1\n",
      "6  False  6\n",
      "7  False  6\n",
      "\n",
      "          b\n",
      "0  2.227147\n",
      "1  2.227147\n",
      "2  2.227147\n",
      "3  2.227147\n",
      "4 -5.737429\n",
      "5 -5.737429\n",
      "6 -5.737429\n",
      "7 -5.737429\n"
     ]
    }
   ],
   "source": [
    "print(df, df.groupby(\"a\").transform(lambda x: x.kurt()), sep=\"\\n\\n\")"
   ]
  },
  {
   "cell_type": "markdown",
   "id": "4c05f566",
   "metadata": {},
   "source": [
    "This gives me, what, 8 rows? What on earth is going on here?\n",
    "\n",
    "Maybe I'll do a ```.apply```:"
   ]
  },
  {
   "cell_type": "code",
   "execution_count": 220,
   "id": "0ac1e2f9",
   "metadata": {},
   "outputs": [
    {
     "name": "stdout",
     "output_type": "stream",
     "text": [
      "       a  b\n",
      "0   True  1\n",
      "1   True -1\n",
      "2   True -5\n",
      "3   True -1\n",
      "4  False -2\n",
      "5  False -1\n",
      "6  False  6\n",
      "7  False  6\n",
      "\n",
      "         a         b\n",
      "a                   \n",
      "False  0.0 -5.737429\n",
      "True   0.0  2.227147\n"
     ]
    }
   ],
   "source": [
    "print(df, df.groupby(\"a\").apply(lambda x: x.kurt()), sep=\"\\n\\n\")"
   ]
  },
  {
   "cell_type": "markdown",
   "id": "52897325",
   "metadata": {},
   "source": [
    "That gives me \"a\" and \"b\" like that? That's bizarre?\n",
    "\n",
    "And maybe, eventually, we'll end up doing a ```.agg```:"
   ]
  },
  {
   "cell_type": "code",
   "execution_count": 222,
   "id": "fbd43374",
   "metadata": {},
   "outputs": [
    {
     "name": "stdout",
     "output_type": "stream",
     "text": [
      "       a  b\n",
      "0   True  1\n",
      "1   True -1\n",
      "2   True -5\n",
      "3   True -1\n",
      "4  False -2\n",
      "5  False -1\n",
      "6  False  6\n",
      "7  False  6\n",
      "\n",
      "              b\n",
      "a              \n",
      "False -5.737429\n",
      "True   2.227147\n"
     ]
    }
   ],
   "source": [
    "print(df, df.groupby(\"a\").agg(lambda x: x.kurt()), sep=\"\\n\\n\")"
   ]
  },
  {
   "cell_type": "markdown",
   "id": "074f741c",
   "metadata": {},
   "source": [
    "That seems to sort of give me the right thing. Whay on earth did they create ```.transform```, ```.apply``` and ```.agg```? Why not have just one? Why not make this easy for me? What on earth does this even mean?"
   ]
  },
  {
   "cell_type": "markdown",
   "id": "22c895fd",
   "metadata": {},
   "source": [
    "#### Maybe we use Pandas becasue it is full of minor conveniences that allow us to eliminate more or less one line of code.\n",
    "\n",
    "For instance, we can create a Series and the shift it why one value:"
   ]
  },
  {
   "cell_type": "code",
   "execution_count": 223,
   "id": "a2ccebbe",
   "metadata": {},
   "outputs": [],
   "source": [
    "s = Series(rng.integers(-10, +10, size=5))"
   ]
  },
  {
   "cell_type": "code",
   "execution_count": 224,
   "id": "2fcd24ac",
   "metadata": {},
   "outputs": [
    {
     "name": "stdout",
     "output_type": "stream",
     "text": [
      "0    2\n",
      "1    4\n",
      "2    9\n",
      "3    2\n",
      "4   -3\n",
      "dtype: int64\n",
      "\n",
      "0    NaN\n",
      "1    2.0\n",
      "2    4.0\n",
      "3    9.0\n",
      "4    2.0\n",
      "dtype: float64\n"
     ]
    }
   ],
   "source": [
    "print(s, s.shift(1), sep=\"\\n\\n\")"
   ]
  },
  {
   "cell_type": "markdown",
   "id": "5db3b467",
   "metadata": {},
   "source": [
    "Or we can shift it and subtract from itself:"
   ]
  },
  {
   "cell_type": "code",
   "execution_count": 227,
   "id": "d42c114e",
   "metadata": {},
   "outputs": [
    {
     "name": "stdout",
     "output_type": "stream",
     "text": [
      "0    2\n",
      "1    4\n",
      "2    9\n",
      "3    2\n",
      "4   -3\n",
      "dtype: int64\n",
      "\n",
      "0    NaN\n",
      "1    2.0\n",
      "2    5.0\n",
      "3   -7.0\n",
      "4   -5.0\n",
      "dtype: float64\n"
     ]
    }
   ],
   "source": [
    "print(s, s.diff(1), sep=\"\\n\\n\")"
   ]
  },
  {
   "cell_type": "markdown",
   "id": "561d1aed",
   "metadata": {},
   "source": [
    "Or we could do ```Series.sum```:"
   ]
  },
  {
   "cell_type": "code",
   "execution_count": 230,
   "id": "02b09952",
   "metadata": {},
   "outputs": [
    {
     "name": "stdout",
     "output_type": "stream",
     "text": [
      "0    2\n",
      "1    4\n",
      "2    9\n",
      "3    2\n",
      "4   -3\n",
      "dtype: int64\n",
      "\n",
      "s.sum() = 14.00\n"
     ]
    }
   ],
   "source": [
    "print(s, f\"{s.sum() = :.2f}\", sep=\"\\n\\n\")"
   ]
  },
  {
   "cell_type": "markdown",
   "id": "f64741b0",
   "metadata": {},
   "source": [
    "Or ```Series.mean```:"
   ]
  },
  {
   "cell_type": "code",
   "execution_count": 232,
   "id": "bee61aa6",
   "metadata": {},
   "outputs": [
    {
     "name": "stdout",
     "output_type": "stream",
     "text": [
      "0    2\n",
      "1    4\n",
      "2    9\n",
      "3    2\n",
      "4   -3\n",
      "dtype: int64 s.mean() = 2.80\n"
     ]
    }
   ],
   "source": [
    "print(s, f\"{s.mean() = :.2f}\")"
   ]
  },
  {
   "cell_type": "markdown",
   "id": "6fd8c3e7",
   "metadata": {},
   "source": [
    "Or ```Series.skew```:"
   ]
  },
  {
   "cell_type": "code",
   "execution_count": 233,
   "id": "ecf28e1b",
   "metadata": {},
   "outputs": [
    {
     "name": "stdout",
     "output_type": "stream",
     "text": [
      "0    2\n",
      "1    4\n",
      "2    9\n",
      "3    2\n",
      "4   -3\n",
      "dtype: int64 s.skew() = 0.23\n"
     ]
    }
   ],
   "source": [
    "print(s, f\"{s.skew() = :.2f}\")"
   ]
  },
  {
   "cell_type": "markdown",
   "id": "e7f8cb1d",
   "metadata": {},
   "source": [
    "Or ```Series.kurt```:"
   ]
  },
  {
   "cell_type": "code",
   "execution_count": 234,
   "id": "d7b86188",
   "metadata": {},
   "outputs": [
    {
     "name": "stdout",
     "output_type": "stream",
     "text": [
      "0    2\n",
      "1    4\n",
      "2    9\n",
      "3    2\n",
      "4   -3\n",
      "dtype: int64 s.kurt() = 1.34\n"
     ]
    }
   ],
   "source": [
    "print(s, f\"{s.kurt() = :.2f}\")"
   ]
  },
  {
   "cell_type": "markdown",
   "id": "f6cf5453",
   "metadata": {},
   "source": [
    "And between you and me, I don't even know what skew or kurtosis even means. Sure, kurtosis is likek the scaled 4th moment of the distribution? No clue what that actually means. But I do know just have imported this from ```scipy.stats``` and I could just used the ```numpy.ndarray```, and I couls just have used indexing on it to chop off the first element. If I am going to drop de NaN anyway, what's the difference? I could just have done a substraction, that seems much clearer.\n",
    "The other operations, ```sum``` and ```mean```, are already provided by numpy, and ```skew``` and ```kurtosis```, fine, I've got to eliminate one ```scipy.stats``` import, it doesn't really seem like a very compelling reason for why we should use Pandas:"
   ]
  },
  {
   "cell_type": "code",
   "execution_count": 239,
   "id": "ff2c60ae",
   "metadata": {},
   "outputs": [
    {
     "name": "stdout",
     "output_type": "stream",
     "text": [
      "[ 6  5 -2  7  6]\n",
      "\n",
      "diff = [ 0  1  8 -1]\n",
      "\n",
      "xs.sum() = 22.00\n",
      "\n",
      "xs.mean() = 4.40\n"
     ]
    }
   ],
   "source": [
    "print(\n",
    "    (xs := rng.integers(-10, +10, size=5)), \n",
    "    f\"diff = {xs[:1] - xs[:-1]}\",\n",
    "    f\"{xs.sum() = :.2f}\",\n",
    "    f\"{xs.mean() = :.2f}\",\n",
    "    sep=\"\\n\\n\"\n",
    ")"
   ]
  },
  {
   "cell_type": "markdown",
   "id": "deed5806",
   "metadata": {},
   "source": [
    "#### Is it because the DataFrame gives us the ability to store multiple one-dimensional data sets, at the cost of about 250K lines worth of code complexity?\n",
    "\n",
    "All this to have a dictionary of ```numpy.ndarray```s"
   ]
  },
  {
   "cell_type": "markdown",
   "id": "d757b4a9",
   "metadata": {},
   "source": [
    "I can do operations down DataFrames, such as sum, create a \"sums\" column, and will take me as many as 2 or 3 lines of code, maybe a dictionary and a dictionary comprehension if I wanted to do this is pure numpy. And I guess that I can sum accross the columns, and maybe that might maybe take me one more line of code, and for all of this complexity that I am removing, all I have to pay is 250_000 lines of additional code complexity in one of my dependencies, that is not such a high price to pay:"
   ]
  },
  {
   "cell_type": "code",
   "execution_count": 240,
   "id": "f2c2551e",
   "metadata": {},
   "outputs": [],
   "source": [
    "df = DataFrame({\n",
    "    \"a\": Series(rng.integers(-10, +10, size=5)),\n",
    "    \"b\": Series(rng.integers(-10, +10, size=5)),\n",
    "    \"c\": Series(rng.integers(-10, +10, size=5)),\n",
    "})"
   ]
  },
  {
   "cell_type": "code",
   "execution_count": 241,
   "id": "f9689771",
   "metadata": {},
   "outputs": [
    {
     "name": "stdout",
     "output_type": "stream",
     "text": [
      "    a  b  c\n",
      "0  -8 -9  9\n",
      "1 -10 -5  4\n",
      "2  -8  3  2\n",
      "3  -3  0  8\n",
      "4  -8 -5  5\n",
      "\n",
      "a   -37\n",
      "b   -16\n",
      "c    28\n",
      "dtype: int64\n",
      "\n",
      "0    -8\n",
      "1   -11\n",
      "2    -3\n",
      "3     5\n",
      "4    -8\n",
      "dtype: int64\n",
      "\n",
      "      b   c\n",
      "a          \n",
      "-10  -5   4\n",
      "-8  -11  16\n",
      "-3    0   8\n"
     ]
    }
   ],
   "source": [
    "print(\n",
    "    df,\n",
    "    df.sum(),\n",
    "    df.sum(axis=\"columns\"),\n",
    "    df.groupby(\"a\").sum(),\n",
    "    sep=\"\\n\\n\"\n",
    ")"
   ]
  },
  {
   "cell_type": "markdown",
   "id": "b35dc319",
   "metadata": {},
   "source": [
    "#### 250_000 lines of code?"
   ]
  },
  {
   "cell_type": "markdown",
   "id": "26352b42",
   "metadata": {},
   "source": [
    "**My way:**"
   ]
  },
  {
   "cell_type": "code",
   "execution_count": 247,
   "id": "a1be7e92",
   "metadata": {},
   "outputs": [],
   "source": [
    "import pandas\n",
    "from pathlib import Path"
   ]
  },
  {
   "cell_type": "code",
   "execution_count": 290,
   "id": "2f5d6ee8",
   "metadata": {},
   "outputs": [],
   "source": [
    "df = DataFrame({\n",
    "       \"file\": [file.as_posix() for file in Path(pandas.__file__).parent.glob(\"**/*.py\")],\n",
    "})"
   ]
  },
  {
   "cell_type": "code",
   "execution_count": 268,
   "id": "a5f9511a",
   "metadata": {},
   "outputs": [],
   "source": [
    "def lines(file):\n",
    "    with open(file) as f:\n",
    "        return len(f.readlines())"
   ]
  },
  {
   "cell_type": "code",
   "execution_count": 294,
   "id": "0196909b",
   "metadata": {},
   "outputs": [],
   "source": [
    "df[\"lines\"] = df.apply(lambda row: lines(row[\"file\"]), axis=1)"
   ]
  },
  {
   "cell_type": "code",
   "execution_count": 296,
   "id": "4601d8c8",
   "metadata": {},
   "outputs": [
    {
     "data": {
      "text/plain": [
       "586084"
      ]
     },
     "execution_count": 296,
     "metadata": {},
     "output_type": "execute_result"
    }
   ],
   "source": [
    "df[\"lines\"].sum()"
   ]
  },
  {
   "cell_type": "markdown",
   "id": "21939f34",
   "metadata": {},
   "source": [
    "**James's way**:"
   ]
  },
  {
   "cell_type": "code",
   "execution_count": 297,
   "id": "a923f9c6",
   "metadata": {},
   "outputs": [],
   "source": [
    "from subprocess import run, check_output\n",
    "from pathlib import Path\n",
    "from io import StringIO\n",
    "from pandas import read_csv, MultiIndex, IndexSlice"
   ]
  },
  {
   "cell_type": "code",
   "execution_count": 307,
   "id": "6167db0d",
   "metadata": {},
   "outputs": [
    {
     "name": "stderr",
     "output_type": "stream",
     "text": [
      "Cloning into '/tmp/Pandas'...\n"
     ]
    },
    {
     "name": "stdout",
     "output_type": "stream",
     "text": [
      "CPU times: user 5.32 ms, sys: 17.5 ms, total: 22.8 ms\n",
      "Wall time: 17.2 s\n"
     ]
    }
   ],
   "source": [
    "%%time\n",
    "# we take the Pandas source code\n",
    "d = Path(\"/tmp/Pandas\")\n",
    "if not d.exists():\n",
    "    run([*\"git clone --depth 1 https://github.com/pandas-dev/pandas\".split(), d])"
   ]
  },
  {
   "cell_type": "code",
   "execution_count": 366,
   "id": "55befcfc",
   "metadata": {},
   "outputs": [],
   "source": [
    "# we take every single source file in the pandas directory\n",
    "# and put the result in a Pandas Series\n",
    "# and we find the length of each of the files\n",
    "s = read_csv(\n",
    "    StringIO(wc),\n",
    "    delimiter=\" \",\n",
    "    skipinitialspace=True, # because lines start with multiple \n",
    "                           # spaces\n",
    "    #engine=\"python\",\n",
    "    index_col=[1],\n",
    "    #squeeze=True,         # parameter not supported\n",
    "    names=\"lines path\".split()\n",
    "    # remove every other line, the \"total\" at the end of `wc`\n",
    ")[::2].pipe(lambda s: s.set_axis(map(Path, s.index))) "
   ]
  },
  {
   "cell_type": "code",
   "execution_count": 376,
   "id": "ce164774",
   "metadata": {},
   "outputs": [
    {
     "name": "stdout",
     "output_type": "stream",
     "text": [
      "284165\n"
     ]
    }
   ],
   "source": [
    "# how many lines of code are in each of those files\n",
    "# I don't care about all of those files, some of them are tests\n",
    "print(\n",
    "    # That gives me a mask, I'll take it and do a .loc operation\n",
    "    # to just pick out the files that don't belong in those\n",
    "    # testing directories\n",
    "    s.loc[    \n",
    "        s\n",
    "        # index this and remove any entry where it's from a\n",
    "        # _testing or tests directory\n",
    "        .index.map(lambda p: not p.is_relative_to(\"pandas/_testing\") and not p.is_relative_to(\"pandas/tests\"))\n",
    "    ]\n",
    "    # I'll group the result by the parent-most directory and\n",
    "    # the file's suffix, \n",
    "    .pipe(\n",
    "        lambda s:\n",
    "            s.groupby([\n",
    "                s.index.map(lambda p: p.parents[1]),\n",
    "                s.index.map(lambda p: p.suffix),\n",
    "            ]).sum()\n",
    "    )\n",
    "    # I'll unstack this and fill with zeroes if it doesn't \n",
    "    # happen to have anything, so that I can get a sense for\n",
    "    # what's there; there are quite some C code lines\n",
    "    # ~80k lines in the core and ~70k lines in the libs\n",
    "    .unstack(fill_value=0)\n",
    "    # if I sum this it will give me the sum on a pre file type basis\n",
    "    # \n",
    "    .sum()\n",
    "    # ~222K lines of .py code\n",
    "    # and if I then sum that up, I get the total #lines of code\n",
    "    .sum()\n",
    "    # ~280K\n",
    ")"
   ]
  },
  {
   "cell_type": "markdown",
   "id": "3f8eec8e",
   "metadata": {},
   "source": [
    "#### And for what?"
   ]
  },
  {
   "cell_type": "markdown",
   "id": "d71590fe",
   "metadata": {},
   "source": [
    "All that bunch of code for something that doesn't make any sense and that I am struggling with all the time does not seem like a good bet.\n",
    "\n",
    "Because here is a data frame that I want to update. I do this all the time to Python lists and dictionaries."
   ]
  },
  {
   "cell_type": "code",
   "execution_count": 385,
   "id": "33a827c2",
   "metadata": {},
   "outputs": [],
   "source": [
    "df = DataFrame({\n",
    "    \"a\": rng.integers(-10, +10, size=(size := 5)),\n",
    "    \"b\": rng.integers(-10, +10, size=size),\n",
    "    \"c\": rng.choice([*ascii_lowercase], size=size)\n",
    "})"
   ]
  },
  {
   "cell_type": "code",
   "execution_count": 388,
   "id": "4f5c5113",
   "metadata": {
    "scrolled": true
   },
   "outputs": [
    {
     "data": {
      "text/html": [
       "<div>\n",
       "<style scoped>\n",
       "    .dataframe tbody tr th:only-of-type {\n",
       "        vertical-align: middle;\n",
       "    }\n",
       "\n",
       "    .dataframe tbody tr th {\n",
       "        vertical-align: top;\n",
       "    }\n",
       "\n",
       "    .dataframe thead th {\n",
       "        text-align: right;\n",
       "    }\n",
       "</style>\n",
       "<table border=\"1\" class=\"dataframe\">\n",
       "  <thead>\n",
       "    <tr style=\"text-align: right;\">\n",
       "      <th></th>\n",
       "      <th>a</th>\n",
       "      <th>b</th>\n",
       "      <th>c</th>\n",
       "    </tr>\n",
       "  </thead>\n",
       "  <tbody>\n",
       "    <tr>\n",
       "      <th>0</th>\n",
       "      <td>9</td>\n",
       "      <td>2</td>\n",
       "      <td>d</td>\n",
       "    </tr>\n",
       "    <tr>\n",
       "      <th>1</th>\n",
       "      <td>1</td>\n",
       "      <td>7</td>\n",
       "      <td>c</td>\n",
       "    </tr>\n",
       "    <tr>\n",
       "      <th>2</th>\n",
       "      <td>8</td>\n",
       "      <td>9</td>\n",
       "      <td>r</td>\n",
       "    </tr>\n",
       "    <tr>\n",
       "      <th>3</th>\n",
       "      <td>9</td>\n",
       "      <td>-6</td>\n",
       "      <td>b</td>\n",
       "    </tr>\n",
       "    <tr>\n",
       "      <th>4</th>\n",
       "      <td>4</td>\n",
       "      <td>1</td>\n",
       "      <td>s</td>\n",
       "    </tr>\n",
       "  </tbody>\n",
       "</table>\n",
       "</div>"
      ],
      "text/plain": [
       "   a  b  c\n",
       "0  9  2  d\n",
       "1  1  7  c\n",
       "2  8  9  r\n",
       "3  9 -6  b\n",
       "4  4  1  s"
      ]
     },
     "execution_count": 388,
     "metadata": {},
     "output_type": "execute_result"
    }
   ],
   "source": [
    "df"
   ]
  },
  {
   "cell_type": "markdown",
   "id": "a1d7f71e",
   "metadata": {},
   "source": [
    "I'll something very simple, go to that \"a\" columns, go to that 0 value in that column, and multiply that by 10_000."
   ]
  },
  {
   "cell_type": "code",
   "execution_count": 389,
   "id": "f989c8bc",
   "metadata": {},
   "outputs": [
    {
     "name": "stderr",
     "output_type": "stream",
     "text": [
      "/var/folders/08/hhn4r3qx4hlf4pqfm4qyjn1w0000gn/T/ipykernel_13618/2477309787.py:1: SettingWithCopyWarning: \n",
      "A value is trying to be set on a copy of a slice from a DataFrame\n",
      "\n",
      "See the caveats in the documentation: https://pandas.pydata.org/pandas-docs/stable/user_guide/indexing.html#returning-a-view-versus-a-copy\n",
      "  df[\"a\"][0] *= 10_000\n"
     ]
    }
   ],
   "source": [
    "df[\"a\"][0] *= 10_000"
   ]
  },
  {
   "cell_type": "code",
   "execution_count": 390,
   "id": "166a3e48",
   "metadata": {},
   "outputs": [
    {
     "name": "stdout",
     "output_type": "stream",
     "text": [
      "       a  b  c\n",
      "0  90000  2  d\n",
      "1      1  7  c\n",
      "2      8  9  r\n",
      "3      9 -6  b\n",
      "4      4  1  s\n"
     ]
    }
   ],
   "source": [
    "print(\n",
    "    df,\n",
    "    sep=\"\\n\\n\"\n",
    ")"
   ]
  },
  {
   "cell_type": "markdown",
   "id": "bd4119b7",
   "metadata": {},
   "source": [
    "It seems to work, except that my DataFrame seems to be slightly different with one extra columns, I get a setting with a warning.\n",
    "250_000 lines of code, and I still have no idea of what's going on.\n",
    "This does not seem like a compelling reason to use Pandas."
   ]
  },
  {
   "cell_type": "markdown",
   "id": "5c83513c",
   "metadata": {},
   "source": [
    "## Why do we even use Pandas?\n",
    "\n",
    "Our goal here is to try to figure out how do we become a Pandas expert by understanding the core concepts, and I think the core idea is understanding why we use Pandas in the first place."
   ]
  },
  {
   "cell_type": "markdown",
   "id": "09774844",
   "metadata": {},
   "source": [
    "### We are not here to talk about Numpy"
   ]
  },
  {
   "cell_type": "markdown",
   "id": "8f33598f",
   "metadata": {},
   "source": [
    "So lets talk about Numpy. Why use Numpy? Why do we even bother with `numpy` in the first place?\n",
    "\n",
    "Numpy is fast. Python is slow.\n",
    "\n",
    "Here we have a simple little timer:"
   ]
  },
  {
   "cell_type": "code",
   "execution_count": 392,
   "id": "3570a6e5",
   "metadata": {},
   "outputs": [],
   "source": [
    "from contextlib import contextmanager\n",
    "from time import perf_counter, sleep"
   ]
  },
  {
   "cell_type": "code",
   "execution_count": 393,
   "id": "48081240",
   "metadata": {},
   "outputs": [],
   "source": [
    "@contextmanager\n",
    "def timed(msg):\n",
    "    start = perf_counter()\n",
    "    try:\n",
    "        yield\n",
    "    finally:\n",
    "        stop = perf_counter()\n",
    "        print(f\"{msg:<24} elapsed \\N{mathematical bold capital delta}t: {stop - start:.6f}\")"
   ]
  },
  {
   "cell_type": "markdown",
   "id": "1d49fb8c",
   "metadata": {},
   "source": [
    "We'll time some; if I sleep for one second, it takes a little bit more than one second:"
   ]
  },
  {
   "cell_type": "code",
   "execution_count": 396,
   "id": "d4d94e37",
   "metadata": {},
   "outputs": [
    {
     "name": "stdout",
     "output_type": "stream",
     "text": [
      "sleep one second         elapsed 𝚫t: 1.001011\n"
     ]
    }
   ],
   "source": [
    "with timed(\"sleep one second\"):\n",
    "    sleep(1)"
   ]
  },
  {
   "cell_type": "markdown",
   "id": "be2e4aa1",
   "metadata": {},
   "source": [
    "You can see it is not a great timer but it's approximately a decent timer."
   ]
  },
  {
   "cell_type": "markdown",
   "id": "d21ad890",
   "metadata": {},
   "source": [
    "If I use pure Python, the Python list I am familiar with, and I create two lists size 100_000:"
   ]
  },
  {
   "cell_type": "code",
   "execution_count": 391,
   "id": "9137704a",
   "metadata": {},
   "outputs": [],
   "source": [
    "from random import randint as py_randint\n",
    "from numpy.random import randint as np_randint\n",
    "from numpy import dot as np_dot"
   ]
  },
  {
   "cell_type": "code",
   "execution_count": 405,
   "id": "75660cf8",
   "metadata": {},
   "outputs": [
    {
     "name": "stdout",
     "output_type": "stream",
     "text": [
      "py: create               elapsed 𝚫t: 0.104947\n"
     ]
    }
   ],
   "source": [
    "SIZE = 100_000\n",
    "\n",
    "with timed(\"py: create\"):\n",
    "    py_xs = [py_randint(-10, +10) for _ in range(SIZE)]\n",
    "    py_ys = [py_randint(-10, +10) for _ in range(SIZE)]"
   ]
  },
  {
   "cell_type": "markdown",
   "id": "6d39aaa2",
   "metadata": {},
   "source": [
    "It takes about half a second (sic).\n",
    "\n",
    "If I do the same thing with numpy, it takes about a 100 times less (sic):"
   ]
  },
  {
   "cell_type": "code",
   "execution_count": 409,
   "id": "935c1f3f",
   "metadata": {},
   "outputs": [
    {
     "name": "stdout",
     "output_type": "stream",
     "text": [
      "py: create               elapsed 𝚫t: 0.007849\n"
     ]
    }
   ],
   "source": [
    "with timed(\"py: create\"):\n",
    "    np_xs = np_randint(-10, +10, size=SIZE)\n",
    "    np_ys = np_randint(-10, +10, size=SIZE)"
   ]
  },
  {
   "cell_type": "markdown",
   "id": "2e18f15b",
   "metadata": {},
   "source": [
    "That is a benefit, fast code is good code.\n",
    "\n",
    "If I take these operations and I compute their dot product:"
   ]
  },
  {
   "cell_type": "code",
   "execution_count": 410,
   "id": "0395fb2d",
   "metadata": {},
   "outputs": [
    {
     "name": "stdout",
     "output_type": "stream",
     "text": [
      "py: dot                  elapsed 𝚫t: 0.035559\n"
     ]
    }
   ],
   "source": [
    "py_dot = lambda xs, ys: sum([x * y for x, y in zip(xs, ys)])\n",
    "\n",
    "with timed(\"py: dot\"):\n",
    "    py_dot(py_xs, py_ys)"
   ]
  },
  {
   "cell_type": "markdown",
   "id": "c481c18b",
   "metadata": {},
   "source": [
    "It takes about .2 seconds (sic) to do the dot product in pure Python.\n",
    "I can totally understand what is going on here, take each of the values in x, take each of the values in y, pair them up, multiply them and sum the result, that's it.\n",
    "\n",
    "But if I do the same think wiht numpy I get an incredible improvement in the speed (sic):"
   ]
  },
  {
   "cell_type": "code",
   "execution_count": 411,
   "id": "c75ea938",
   "metadata": {},
   "outputs": [
    {
     "name": "stdout",
     "output_type": "stream",
     "text": [
      "np: dot                  elapsed 𝚫t: 0.000283\n"
     ]
    }
   ],
   "source": [
    "with timed(\"np: dot\"):\n",
    "    np_dot(np_xs, np_ys)"
   ]
  },
  {
   "cell_type": "markdown",
   "id": "51944c45",
   "metadata": {},
   "source": [
    "That is 70 times faster. 70 times speedup in some code? That's definitely worth it."
   ]
  },
  {
   "cell_type": "markdown",
   "id": "10c3d15a",
   "metadata": {},
   "source": [
    "#### `numpy.ndarray` is an interpreted view of raw memory\n",
    "\n",
    "One of the core ideas I have when I use numpy and I try to motivate why to use numpy is that it provides us with a way to do numerical operations faster because numpy is a restricted computation domain.\n",
    "\n",
    "Namelly, it is the ability for us to put a manager class around some sort of Python data to intermediate between the Python layer of our code and some code that is implemented in perhaps C or Fortran. Because we have that implementation barrier, we can do things like unboxing values, make them contiguous, exact control of memory, eliminate dynamic dispatch, and as a consequence we are getting 100 times speedups, 80, 70 times speedups, we are getting a significant increase in the speed of the code.\n",
    "\n",
    "The reason we should think of numpy as a restricted computation environment is, it's its domain, and we have to stay inside that domain, because we lose all that performance if we take our Python dot product and apply it to my numpy data, and cross the boundary of that domain, and it's slower than if I had done it in all pure Python (sic):"
   ]
  },
  {
   "cell_type": "code",
   "execution_count": 412,
   "id": "23e639cb",
   "metadata": {},
   "outputs": [
    {
     "name": "stdout",
     "output_type": "stream",
     "text": [
      "np: dot (py data)        elapsed 𝚫t: 0.001629\n"
     ]
    }
   ],
   "source": [
    "with timed(\"np: dot (py data)\"):\n",
    "    np_dot(py_xs, py_ys)"
   ]
  },
  {
   "cell_type": "markdown",
   "id": "457ef4d1",
   "metadata": {},
   "source": [
    "This restricted computation domain idea is very important, because it gives us that fundamental motivation for why do we stay within numpy, why do we stay within pandas, because it's a domain which has intermediated between the pure python level and some implementation level. As long as you stay in that implementation level everything is fine, but if you cross that boundary you are creating a number of additional costs that are going to be worse than if you stayed in one side or the other. It's a domain which gives you certain restrictions to allow you to do computations faster. And, if we think of what numpy really is, it is just an interpreted view of raw memory."
   ]
  },
  {
   "cell_type": "markdown",
   "id": "05d13fdb",
   "metadata": {},
   "source": [
    "Here we have a ```numpy.ndarray```, and we can dig in it to see that this is actually raw memory at that memory location that we are interpreting in some fashion:"
   ]
  },
  {
   "cell_type": "code",
   "execution_count": 413,
   "id": "27e8cda8",
   "metadata": {},
   "outputs": [],
   "source": [
    "from numpy import array"
   ]
  },
  {
   "cell_type": "code",
   "execution_count": 414,
   "id": "cc55e460",
   "metadata": {},
   "outputs": [
    {
     "name": "stdout",
     "output_type": "stream",
     "text": [
      "xs                                = array([0, 1, 2])\n",
      "xs.__array_interface__['data'][0] = 0x6000_0307_c800\n",
      "xs.dtype                          = dtype('int64')\n",
      "xs.shape                          = (3,)\n",
      "xs.strides                        = (8,)\n"
     ]
    }
   ],
   "source": [
    "xs = array([0, 1, 2])\n",
    "print(\n",
    "    f\"{xs                                = }\",\n",
    "    f\"{xs.__array_interface__['data'][0] = :#_x}\",\n",
    "    f\"{xs.dtype                          = }\",\n",
    "    f\"{xs.shape                          = }\",\n",
    "    f\"{xs.strides                        = }\",\n",
    "    sep=\"\\n\",\n",
    ")"
   ]
  },
  {
   "cell_type": "markdown",
   "id": "952b64a6",
   "metadata": {},
   "source": [
    "It says, some block at this location contains int64 values, and we interprit it to be 3 values in a one-dimensional structure.\n",
    "And we have some mechanisms why which in constant time we can move through these values, some striding mechanism. All of these pieces fit together when you think about numpy."
   ]
  },
  {
   "cell_type": "markdown",
   "id": "6388bfca",
   "metadata": {},
   "source": [
    "#### numpy provides us with a \"mathematical\" type-what we would call a \"vector\" or \"matrix\" or \"tensor\"-with corresponding operations\n",
    "\n",
    "It also provides us with something that is missing from Python.\n",
    "\n",
    "In other words, if we have our python list, or some sort of opaque collection of items. If we add two lists together, because they are opaque collections of items, stuff we iterate over, addition of these two is just that stuff we iterate over is concatenated; or if we multiply something that is a list, and it's just a bag of stuff, and we just say, give me that bag of stuff 3 times over, repeat this thing:"
   ]
  },
  {
   "cell_type": "code",
   "execution_count": 415,
   "id": "a880a077",
   "metadata": {},
   "outputs": [
    {
     "name": "stdout",
     "output_type": "stream",
     "text": [
      "xs + ys = [1, 2, 3, 4, 5, 6]\n",
      "xs *  3 = [1, 2, 3, 1, 2, 3, 1, 2, 3]\n"
     ]
    }
   ],
   "source": [
    "xs = [1, 2, 3]\n",
    "ys = [4, 5, 6]\n",
    "\n",
    "print(f\"{xs + ys = }\")\n",
    "print(f\"{xs *  3 = }\")"
   ]
  },
  {
   "cell_type": "markdown",
   "id": "1169373f",
   "metadata": {},
   "source": [
    "Whereas, if we do the same on a ```numpy.ndarray```, we get what we expect to be mathematical operations, vector multiplication, vector addition, this is not opaque, we know what is inside, numeric values, and when you add these together, match them up and add them together, go to each value and element-wise multiply these:"
   ]
  },
  {
   "cell_type": "code",
   "execution_count": 416,
   "id": "d28127bb",
   "metadata": {},
   "outputs": [
    {
     "name": "stdout",
     "output_type": "stream",
     "text": [
      "xs + ys = array([5, 7, 9])\n",
      "xs *  3 = array([3, 6, 9])\n"
     ]
    }
   ],
   "source": [
    "xs = array([1, 2, 3])\n",
    "ys = array([4, 5, 6])\n",
    "\n",
    "print(f\"{xs + ys = }\")\n",
    "print(f\"{xs *  3 = }\")"
   ]
  },
  {
   "cell_type": "markdown",
   "id": "fb577651",
   "metadata": {},
   "source": [
    "That kind of makes sense."
   ]
  },
  {
   "cell_type": "markdown",
   "id": "5d71c9d5",
   "metadata": {},
   "source": [
    "#### ```numpy.ndarray``` provides us with a fixed-size, dynamic-shape, higher-dimensional structure\n",
    "\n",
    "It is important that we talk about dimensionality, because this is related to one of the core concepts that we have to understand about Pandas, namely, Pandas is one-dimensional data, even though the documentation says it's two-dimensional data, it is really like aligned one-dimensional data.\n",
    "\n",
    "Let's think about what that means."
   ]
  },
  {
   "cell_type": "code",
   "execution_count": null,
   "id": "b8192a05",
   "metadata": {},
   "outputs": [],
   "source": []
  }
 ],
 "metadata": {
  "kernelspec": {
   "display_name": "Python 3 (ipykernel)",
   "language": "python",
   "name": "python3"
  },
  "language_info": {
   "codemirror_mode": {
    "name": "ipython",
    "version": 3
   },
   "file_extension": ".py",
   "mimetype": "text/x-python",
   "name": "python",
   "nbconvert_exporter": "python",
   "pygments_lexer": "ipython3",
   "version": "3.11.5"
  }
 },
 "nbformat": 4,
 "nbformat_minor": 5
}
