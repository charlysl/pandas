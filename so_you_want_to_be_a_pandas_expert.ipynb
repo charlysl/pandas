{
 "cells": [
  {
   "cell_type": "markdown",
   "id": "52ea53d8",
   "metadata": {},
   "source": [
    "# So you want to be a Pandas expert"
   ]
  },
  {
   "cell_type": "code",
   "execution_count": 1,
   "id": "79a6ee53-1ed8-4b42-b0b4-52b450f84202",
   "metadata": {},
   "outputs": [],
   "source": [
    "#!pip install scipy"
   ]
  },
  {
   "cell_type": "markdown",
   "id": "a8c80337",
   "metadata": {},
   "source": [
    "The core concept of Pandas is the index, and index alignment.\n",
    "\n",
    "## Why use Pandas?\n",
    "\n",
    "Let's talk about, why Pandas in the first place?\n",
    "Why do we even bother with Pandas?\n",
    "Because, in my opinion, Pandas is a very one-dimensional tool, there is basically only one reason to use it (and there is a pun in there too).\n",
    "And if you think of all the different reasons you might have landed on learning pandas, there are a lot of reasons that might come up, but they are not very good reasons.\n",
    "\n",
    "You might want the use Pandas because you like the Python ```dict``` and ```list```, and you might want something even less convenient, and even more perplexing.\n",
    "\n",
    "### Pandas Series\n",
    "\n",
    "For instance, here is this thing called a Pandas series."
   ]
  },
  {
   "cell_type": "code",
   "execution_count": 2,
   "id": "f054c29b",
   "metadata": {},
   "outputs": [
    {
     "name": "stdout",
     "output_type": "stream",
     "text": [
      "Intel MKL WARNING: Support of Intel(R) Streaming SIMD Extensions 4.2 (Intel(R) SSE4.2) enabled only processors has been deprecated. Intel oneAPI Math Kernel Library 2025.0 will require Intel(R) Advanced Vector Extensions (Intel(R) AVX) instructions.\n",
      "Intel MKL WARNING: Support of Intel(R) Streaming SIMD Extensions 4.2 (Intel(R) SSE4.2) enabled only processors has been deprecated. Intel oneAPI Math Kernel Library 2025.0 will require Intel(R) Advanced Vector Extensions (Intel(R) AVX) instructions.\n",
      "0    7\n",
      "1    2\n",
      "2    0\n",
      "3   -5\n",
      "4   -4\n",
      "dtype: int64\n"
     ]
    }
   ],
   "source": [
    "from pandas import Series, DataFrame\n",
    "from numpy.random import default_rng\n",
    "\n",
    "rng = default_rng(0)\n",
    "\n",
    "s = Series(rng.integers(-10, +10, size=5))\n",
    "\n",
    "print(s)"
   ]
  },
  {
   "cell_type": "markdown",
   "id": "5ff11e8e",
   "metadata": {},
   "source": [
    "It prints a little bit differently than a list, and we can iterate over the contents of it using ```iteritems```:"
   ]
  },
  {
   "cell_type": "code",
   "execution_count": 3,
   "id": "13ffaceb",
   "metadata": {},
   "outputs": [
    {
     "name": "stdout",
     "output_type": "stream",
     "text": [
      "x=(0, 7)\n",
      "x=(1, 2)\n",
      "x=(2, 0)\n",
      "x=(3, -5)\n",
      "x=(4, -4)\n"
     ]
    }
   ],
   "source": [
    "for x in s.items(): print(f\"{x=}\")"
   ]
  },
  {
   "cell_type": "markdown",
   "id": "f0a721ab",
   "metadata": {},
   "source": [
    "We get the numbering of the rows, i don't know why that's useful, so maybe we'll just unpack that into a variable that you don't use:"
   ]
  },
  {
   "cell_type": "code",
   "execution_count": 4,
   "id": "0d11c266",
   "metadata": {},
   "outputs": [
    {
     "name": "stdout",
     "output_type": "stream",
     "text": [
      "x=7\n",
      "x=2\n",
      "x=0\n",
      "x=-5\n",
      "x=-4\n"
     ]
    }
   ],
   "source": [
    "for _, x in s.items(): print(f\"{x=}\")"
   ]
  },
  {
   "cell_type": "markdown",
   "id": "32aad8a1",
   "metadata": {},
   "source": [
    "or we can iterate over this directly, but I can't see what this is giving us over a list:"
   ]
  },
  {
   "cell_type": "code",
   "execution_count": 5,
   "id": "7efa8aff",
   "metadata": {},
   "outputs": [
    {
     "name": "stdout",
     "output_type": "stream",
     "text": [
      "x=7\n",
      "x=2\n",
      "x=0\n",
      "x=-5\n",
      "x=-4\n"
     ]
    }
   ],
   "source": [
    "for x in s: print(f\"{x=}\")"
   ]
  },
  {
   "cell_type": "markdown",
   "id": "1205640e",
   "metadata": {},
   "source": [
    "Or, more likely, if we are using Pandas, we are more familiar with the Pandas DataFrame:"
   ]
  },
  {
   "cell_type": "code",
   "execution_count": 6,
   "id": "db2a80d6",
   "metadata": {},
   "outputs": [],
   "source": [
    "df = DataFrame(rng.integers(-10, +10, size=(5,3)), columns=[*\"abc\"])"
   ]
  },
  {
   "cell_type": "code",
   "execution_count": 7,
   "id": "6e9bcf2c",
   "metadata": {},
   "outputs": [
    {
     "data": {
      "text/html": [
       "<div>\n",
       "<style scoped>\n",
       "    .dataframe tbody tr th:only-of-type {\n",
       "        vertical-align: middle;\n",
       "    }\n",
       "\n",
       "    .dataframe tbody tr th {\n",
       "        vertical-align: top;\n",
       "    }\n",
       "\n",
       "    .dataframe thead th {\n",
       "        text-align: right;\n",
       "    }\n",
       "</style>\n",
       "<table border=\"1\" class=\"dataframe\">\n",
       "  <thead>\n",
       "    <tr style=\"text-align: right;\">\n",
       "      <th></th>\n",
       "      <th>a</th>\n",
       "      <th>b</th>\n",
       "      <th>c</th>\n",
       "    </tr>\n",
       "  </thead>\n",
       "  <tbody>\n",
       "    <tr>\n",
       "      <th>0</th>\n",
       "      <td>-10</td>\n",
       "      <td>-9</td>\n",
       "      <td>-10</td>\n",
       "    </tr>\n",
       "    <tr>\n",
       "      <th>1</th>\n",
       "      <td>-7</td>\n",
       "      <td>6</td>\n",
       "      <td>2</td>\n",
       "    </tr>\n",
       "    <tr>\n",
       "      <th>2</th>\n",
       "      <td>8</td>\n",
       "      <td>0</td>\n",
       "      <td>2</td>\n",
       "    </tr>\n",
       "    <tr>\n",
       "      <th>3</th>\n",
       "      <td>9</td>\n",
       "      <td>4</td>\n",
       "      <td>2</td>\n",
       "    </tr>\n",
       "    <tr>\n",
       "      <th>4</th>\n",
       "      <td>0</td>\n",
       "      <td>1</td>\n",
       "      <td>8</td>\n",
       "    </tr>\n",
       "  </tbody>\n",
       "</table>\n",
       "</div>"
      ],
      "text/plain": [
       "    a  b   c\n",
       "0 -10 -9 -10\n",
       "1  -7  6   2\n",
       "2   8  0   2\n",
       "3   9  4   2\n",
       "4   0  1   8"
      ]
     },
     "execution_count": 7,
     "metadata": {},
     "output_type": "execute_result"
    }
   ],
   "source": [
    "df"
   ]
  },
  {
   "cell_type": "markdown",
   "id": "56dc8c56",
   "metadata": {},
   "source": [
    "This looks kind of a dictionary of Python lists, or maybe a bunch of lists stacked next to each other, or maybe some sort of matrix.\n",
    "\n",
    "And, again, we can iterate over this thing, but then we get something really weird:"
   ]
  },
  {
   "cell_type": "code",
   "execution_count": 8,
   "id": "18ce6e8f",
   "metadata": {},
   "outputs": [
    {
     "name": "stdout",
     "output_type": "stream",
     "text": [
      "x='a'\n",
      "x='b'\n",
      "x='c'\n"
     ]
    }
   ],
   "source": [
    "for x in df: print(f\"{x=}\")"
   ]
  },
  {
   "cell_type": "markdown",
   "id": "0e186e55",
   "metadata": {},
   "source": [
    "We get the column names. How is that useful to anybody?"
   ]
  },
  {
   "cell_type": "markdown",
   "id": "5a97f1df",
   "metadata": {},
   "source": [
    "So I gues we could try ```iterrows```:"
   ]
  },
  {
   "cell_type": "code",
   "execution_count": 9,
   "id": "3c2d6e28",
   "metadata": {},
   "outputs": [
    {
     "name": "stdout",
     "output_type": "stream",
     "text": [
      "x=(0, a   -10\n",
      "b    -9\n",
      "c   -10\n",
      "Name: 0, dtype: int64)\n",
      "x=(1, a   -7\n",
      "b    6\n",
      "c    2\n",
      "Name: 1, dtype: int64)\n",
      "x=(2, a    8\n",
      "b    0\n",
      "c    2\n",
      "Name: 2, dtype: int64)\n",
      "x=(3, a    9\n",
      "b    4\n",
      "c    2\n",
      "Name: 3, dtype: int64)\n",
      "x=(4, a    0\n",
      "b    1\n",
      "c    8\n",
      "Name: 4, dtype: int64)\n"
     ]
    }
   ],
   "source": [
    "for x in df.iterrows(): print(f\"{x=}\")"
   ]
  },
  {
   "cell_type": "markdown",
   "id": "231b6490",
   "metadata": {},
   "source": [
    "But I have no idea what this is giving me, some row and each of the columns.\n",
    "\n",
    "Or ```iteritems```:"
   ]
  },
  {
   "cell_type": "code",
   "execution_count": 10,
   "id": "690fb8cd",
   "metadata": {},
   "outputs": [
    {
     "name": "stdout",
     "output_type": "stream",
     "text": [
      "x=('a', 0   -10\n",
      "1    -7\n",
      "2     8\n",
      "3     9\n",
      "4     0\n",
      "Name: a, dtype: int64)\n",
      "x=('b', 0   -9\n",
      "1    6\n",
      "2    0\n",
      "3    4\n",
      "4    1\n",
      "Name: b, dtype: int64)\n",
      "x=('c', 0   -10\n",
      "1     2\n",
      "2     2\n",
      "3     2\n",
      "4     8\n",
      "Name: c, dtype: int64)\n"
     ]
    }
   ],
   "source": [
    "for x in df.items(): print(f\"{x=}\")"
   ]
  },
  {
   "cell_type": "markdown",
   "id": "61b08f38",
   "metadata": {},
   "source": [
    "That is kind of like a dictionary, right? This gives me like each of the columns independently. I guess I can throw away the column name and get the column:"
   ]
  },
  {
   "cell_type": "code",
   "execution_count": 11,
   "id": "cc52dea4",
   "metadata": {},
   "outputs": [
    {
     "name": "stdout",
     "output_type": "stream",
     "text": [
      "x=0   -10\n",
      "1    -7\n",
      "2     8\n",
      "3     9\n",
      "4     0\n",
      "Name: a, dtype: int64\n",
      "x=0   -9\n",
      "1    6\n",
      "2    0\n",
      "3    4\n",
      "4    1\n",
      "Name: b, dtype: int64\n",
      "x=0   -10\n",
      "1     2\n",
      "2     2\n",
      "3     2\n",
      "4     8\n",
      "Name: c, dtype: int64\n"
     ]
    }
   ],
   "source": [
    "for _, x in df.items(): print(f\"{x=}\")"
   ]
  },
  {
   "cell_type": "markdown",
   "id": "3b0b7069",
   "metadata": {},
   "source": [
    "I don't know what's that.\n",
    "\n",
    "Or I can do ```itertuples```"
   ]
  },
  {
   "cell_type": "code",
   "execution_count": 12,
   "id": "56f64504",
   "metadata": {},
   "outputs": [
    {
     "name": "stdout",
     "output_type": "stream",
     "text": [
      "x=Pandas(Index=0, a=-10, b=-9, c=-10)\n",
      "x=Pandas(Index=1, a=-7, b=6, c=2)\n",
      "x=Pandas(Index=2, a=8, b=0, c=2)\n",
      "x=Pandas(Index=3, a=9, b=4, c=2)\n",
      "x=Pandas(Index=4, a=0, b=1, c=8)\n"
     ]
    }
   ],
   "source": [
    "for x in df.itertuples(): print(f\"{x=}\")"
   ]
  },
  {
   "cell_type": "markdown",
   "id": "8ee98235",
   "metadata": {},
   "source": [
    "There I can start getting close to something I can deal with: tuples, lists, dictionaries, I understand those things.\n",
    "\n",
    "Because, if you compare a Pandas DataFrame or Series to the built-in datatypes in Python, the Python list, the Python set, the Python dictionary, I'd say, in terms of straightforwardness, the built-in types really went out.\n",
    "\n",
    "Here we have python list, and it's just a bunch of numbers:"
   ]
  },
  {
   "cell_type": "code",
   "execution_count": 13,
   "id": "7a118fb7",
   "metadata": {},
   "outputs": [],
   "source": [
    "from random import seed; seed(0)\n",
    "from random import choice, randint\n",
    "from string import ascii_lowercase"
   ]
  },
  {
   "cell_type": "code",
   "execution_count": 14,
   "id": "0ae04a82",
   "metadata": {},
   "outputs": [],
   "source": [
    "xs = [randint(-10, +10) for _ in range(10)]"
   ]
  },
  {
   "cell_type": "code",
   "execution_count": 15,
   "id": "5b88fb25",
   "metadata": {},
   "outputs": [
    {
     "data": {
      "text/plain": [
       "[2, 3, -9, -2, 6, 5, 2, -1, 5, 1]"
      ]
     },
     "execution_count": 15,
     "metadata": {},
     "output_type": "execute_result"
    }
   ],
   "source": [
    "xs"
   ]
  },
  {
   "cell_type": "markdown",
   "id": "cd1ceab1",
   "metadata": {},
   "source": [
    "A structure we iterate over, and we can get the numbers and do something:"
   ]
  },
  {
   "cell_type": "code",
   "execution_count": 16,
   "id": "b556c77e",
   "metadata": {},
   "outputs": [
    {
     "name": "stdout",
     "output_type": "stream",
     "text": [
      "x=2\n",
      "x=3\n",
      "x=-9\n",
      "x=-2\n",
      "x=6\n",
      "x=5\n",
      "x=2\n",
      "x=-1\n",
      "x=5\n",
      "x=1\n"
     ]
    }
   ],
   "source": [
    "for x in xs: print(f\"{x=}\")"
   ]
  },
  {
   "cell_type": "markdown",
   "id": "02573b6a",
   "metadata": {},
   "source": [
    "We also have the dictionary, as set of key value pairs:"
   ]
  },
  {
   "cell_type": "code",
   "execution_count": 17,
   "id": "e9d79af9",
   "metadata": {},
   "outputs": [],
   "source": [
    "d = {choice(ascii_lowercase): randint(-10, +10) for _ in range(10)}"
   ]
  },
  {
   "cell_type": "code",
   "execution_count": 18,
   "id": "88ca3490",
   "metadata": {},
   "outputs": [
    {
     "data": {
      "text/plain": [
       "{'s': -4,\n",
       " 'q': -6,\n",
       " 'j': -6,\n",
       " 'y': -7,\n",
       " 't': -2,\n",
       " 'r': 9,\n",
       " 'e': -1,\n",
       " 'd': -8,\n",
       " 'v': 0,\n",
       " 'p': 7}"
      ]
     },
     "execution_count": 18,
     "metadata": {},
     "output_type": "execute_result"
    }
   ],
   "source": [
    "d"
   ]
  },
  {
   "cell_type": "markdown",
   "id": "2f7ff6cb-6d1c-4605-9901-e6e6a59086da",
   "metadata": {},
   "source": [
    "We can also iterate over the keys:"
   ]
  },
  {
   "cell_type": "code",
   "execution_count": 19,
   "id": "0aba08b7",
   "metadata": {},
   "outputs": [
    {
     "name": "stdout",
     "output_type": "stream",
     "text": [
      "k='s'\n",
      "k='q'\n",
      "k='j'\n",
      "k='y'\n",
      "k='t'\n",
      "k='r'\n",
      "k='e'\n",
      "k='d'\n",
      "k='v'\n",
      "k='p'\n"
     ]
    }
   ],
   "source": [
    "for k in d: print(f\"{k=}\")"
   ]
  },
  {
   "cell_type": "markdown",
   "id": "87b92cac-117d-49e6-a2c7-b1a84b1deacb",
   "metadata": {},
   "source": [
    "Which we can also do explicitly:"
   ]
  },
  {
   "cell_type": "code",
   "execution_count": 20,
   "id": "84818396",
   "metadata": {},
   "outputs": [
    {
     "name": "stdout",
     "output_type": "stream",
     "text": [
      "k='s'\n",
      "k='q'\n",
      "k='j'\n",
      "k='y'\n",
      "k='t'\n",
      "k='r'\n",
      "k='e'\n",
      "k='d'\n",
      "k='v'\n",
      "k='p'\n"
     ]
    }
   ],
   "source": [
    "for k in d.keys(): print(f\"{k=}\")"
   ]
  },
  {
   "cell_type": "markdown",
   "id": "3fa0592c-ec0d-43ad-a211-357309ddb846",
   "metadata": {},
   "source": [
    "We can also go over the individual values:"
   ]
  },
  {
   "cell_type": "code",
   "execution_count": 21,
   "id": "83af4d45",
   "metadata": {},
   "outputs": [
    {
     "name": "stdout",
     "output_type": "stream",
     "text": [
      "v=-4\n",
      "v=-6\n",
      "v=-6\n",
      "v=-7\n",
      "v=-2\n",
      "v=9\n",
      "v=-1\n",
      "v=-8\n",
      "v=0\n",
      "v=7\n"
     ]
    }
   ],
   "source": [
    "for v in d.values(): print(f\"{v=}\")"
   ]
  },
  {
   "cell_type": "markdown",
   "id": "21e51e66",
   "metadata": {},
   "source": [
    "We can also go over the pairing of the keys and the values; that seems also a straightforward and very simple api:"
   ]
  },
  {
   "cell_type": "code",
   "execution_count": 22,
   "id": "b8a6999c",
   "metadata": {},
   "outputs": [
    {
     "name": "stdout",
     "output_type": "stream",
     "text": [
      "k, v =('s', -4)\n",
      "k, v =('q', -6)\n",
      "k, v =('j', -6)\n",
      "k, v =('y', -7)\n",
      "k, v =('t', -2)\n",
      "k, v =('r', 9)\n",
      "k, v =('e', -1)\n",
      "k, v =('d', -8)\n",
      "k, v =('v', 0)\n",
      "k, v =('p', 7)\n"
     ]
    }
   ],
   "source": [
    "for k,v in d.items(): print(f\"{k, v =}\")"
   ]
  },
  {
   "cell_type": "markdown",
   "id": "63639fa3",
   "metadata": {},
   "source": [
    "So if we think of why we might want to use Pandas, it is not because of the strange naming of all these things, ```itertuples```, ```iterrows```, maybe it's because of the really bizarre erros that come up when you use Pandas.\n",
    "\n",
    "Here we have a Pandas Series, and it seems to be just some numeric values, and here we have a Pandas DataFrame:"
   ]
  },
  {
   "cell_type": "code",
   "execution_count": 23,
   "id": "dead1618",
   "metadata": {},
   "outputs": [],
   "source": [
    "from pandas import MultiIndex"
   ]
  },
  {
   "cell_type": "code",
   "execution_count": 24,
   "id": "a7e30994",
   "metadata": {},
   "outputs": [],
   "source": [
    "rnd = default_rng(0)\n",
    "s = Series(rnd.integers(-10, 10, size=5))\n",
    "df1 = DataFrame(rnd.integers(-10, 10, size=(5,3)))\n",
    "df2 = DataFrame(\n",
    "    index=(idx := [1, 1, 2, 3, 4]),\n",
    "    data=rng.integers(-10, 10, size=(len(idx), 3))\n",
    ")\n",
    "df3 = DataFrame(\n",
    "    index=(idx := MultiIndex.from_product([[0], range(5)])),\n",
    "    data=rng.integers(-10, 10, size=(len(idx), 3))\n",
    ")"
   ]
  },
  {
   "cell_type": "code",
   "execution_count": 25,
   "id": "d27dc287",
   "metadata": {},
   "outputs": [
    {
     "data": {
      "text/plain": [
       "0    7\n",
       "1    2\n",
       "2    0\n",
       "3   -5\n",
       "4   -4\n",
       "dtype: int64"
      ]
     },
     "execution_count": 25,
     "metadata": {},
     "output_type": "execute_result"
    }
   ],
   "source": [
    "s"
   ]
  },
  {
   "cell_type": "code",
   "execution_count": 26,
   "id": "b2a2e2c7",
   "metadata": {},
   "outputs": [
    {
     "data": {
      "text/html": [
       "<div>\n",
       "<style scoped>\n",
       "    .dataframe tbody tr th:only-of-type {\n",
       "        vertical-align: middle;\n",
       "    }\n",
       "\n",
       "    .dataframe tbody tr th {\n",
       "        vertical-align: top;\n",
       "    }\n",
       "\n",
       "    .dataframe thead th {\n",
       "        text-align: right;\n",
       "    }\n",
       "</style>\n",
       "<table border=\"1\" class=\"dataframe\">\n",
       "  <thead>\n",
       "    <tr style=\"text-align: right;\">\n",
       "      <th></th>\n",
       "      <th>0</th>\n",
       "      <th>1</th>\n",
       "      <th>2</th>\n",
       "    </tr>\n",
       "  </thead>\n",
       "  <tbody>\n",
       "    <tr>\n",
       "      <th>0</th>\n",
       "      <td>-10</td>\n",
       "      <td>-9</td>\n",
       "      <td>-10</td>\n",
       "    </tr>\n",
       "    <tr>\n",
       "      <th>1</th>\n",
       "      <td>-7</td>\n",
       "      <td>6</td>\n",
       "      <td>2</td>\n",
       "    </tr>\n",
       "    <tr>\n",
       "      <th>2</th>\n",
       "      <td>8</td>\n",
       "      <td>0</td>\n",
       "      <td>2</td>\n",
       "    </tr>\n",
       "    <tr>\n",
       "      <th>3</th>\n",
       "      <td>9</td>\n",
       "      <td>4</td>\n",
       "      <td>2</td>\n",
       "    </tr>\n",
       "    <tr>\n",
       "      <th>4</th>\n",
       "      <td>0</td>\n",
       "      <td>1</td>\n",
       "      <td>8</td>\n",
       "    </tr>\n",
       "  </tbody>\n",
       "</table>\n",
       "</div>"
      ],
      "text/plain": [
       "    0  1   2\n",
       "0 -10 -9 -10\n",
       "1  -7  6   2\n",
       "2   8  0   2\n",
       "3   9  4   2\n",
       "4   0  1   8"
      ]
     },
     "execution_count": 26,
     "metadata": {},
     "output_type": "execute_result"
    }
   ],
   "source": [
    "df1"
   ]
  },
  {
   "cell_type": "markdown",
   "id": "8ba78fc1",
   "metadata": {},
   "source": [
    "We can multiply these, but we get a bunch of NaNs at the end, now is that useful?"
   ]
  },
  {
   "cell_type": "code",
   "execution_count": 27,
   "id": "1a1b9f44",
   "metadata": {},
   "outputs": [
    {
     "data": {
      "text/html": [
       "<div>\n",
       "<style scoped>\n",
       "    .dataframe tbody tr th:only-of-type {\n",
       "        vertical-align: middle;\n",
       "    }\n",
       "\n",
       "    .dataframe tbody tr th {\n",
       "        vertical-align: top;\n",
       "    }\n",
       "\n",
       "    .dataframe thead th {\n",
       "        text-align: right;\n",
       "    }\n",
       "</style>\n",
       "<table border=\"1\" class=\"dataframe\">\n",
       "  <thead>\n",
       "    <tr style=\"text-align: right;\">\n",
       "      <th></th>\n",
       "      <th>0</th>\n",
       "      <th>1</th>\n",
       "      <th>2</th>\n",
       "      <th>3</th>\n",
       "      <th>4</th>\n",
       "    </tr>\n",
       "  </thead>\n",
       "  <tbody>\n",
       "    <tr>\n",
       "      <th>0</th>\n",
       "      <td>-70</td>\n",
       "      <td>-18</td>\n",
       "      <td>0</td>\n",
       "      <td>NaN</td>\n",
       "      <td>NaN</td>\n",
       "    </tr>\n",
       "    <tr>\n",
       "      <th>1</th>\n",
       "      <td>-49</td>\n",
       "      <td>12</td>\n",
       "      <td>0</td>\n",
       "      <td>NaN</td>\n",
       "      <td>NaN</td>\n",
       "    </tr>\n",
       "    <tr>\n",
       "      <th>2</th>\n",
       "      <td>56</td>\n",
       "      <td>0</td>\n",
       "      <td>0</td>\n",
       "      <td>NaN</td>\n",
       "      <td>NaN</td>\n",
       "    </tr>\n",
       "    <tr>\n",
       "      <th>3</th>\n",
       "      <td>63</td>\n",
       "      <td>8</td>\n",
       "      <td>0</td>\n",
       "      <td>NaN</td>\n",
       "      <td>NaN</td>\n",
       "    </tr>\n",
       "    <tr>\n",
       "      <th>4</th>\n",
       "      <td>0</td>\n",
       "      <td>2</td>\n",
       "      <td>0</td>\n",
       "      <td>NaN</td>\n",
       "      <td>NaN</td>\n",
       "    </tr>\n",
       "  </tbody>\n",
       "</table>\n",
       "</div>"
      ],
      "text/plain": [
       "    0   1  2   3   4\n",
       "0 -70 -18  0 NaN NaN\n",
       "1 -49  12  0 NaN NaN\n",
       "2  56   0  0 NaN NaN\n",
       "3  63   8  0 NaN NaN\n",
       "4   0   2  0 NaN NaN"
      ]
     },
     "execution_count": 27,
     "metadata": {},
     "output_type": "execute_result"
    }
   ],
   "source": [
    "s * df1"
   ]
  },
  {
   "cell_type": "markdown",
   "id": "4d0f619f",
   "metadata": {},
   "source": [
    "Matrix multiplication is not commutative, but here it doesn't make any difference:"
   ]
  },
  {
   "cell_type": "code",
   "execution_count": 28,
   "id": "cee950f3",
   "metadata": {},
   "outputs": [
    {
     "data": {
      "text/html": [
       "<div>\n",
       "<style scoped>\n",
       "    .dataframe tbody tr th:only-of-type {\n",
       "        vertical-align: middle;\n",
       "    }\n",
       "\n",
       "    .dataframe tbody tr th {\n",
       "        vertical-align: top;\n",
       "    }\n",
       "\n",
       "    .dataframe thead th {\n",
       "        text-align: right;\n",
       "    }\n",
       "</style>\n",
       "<table border=\"1\" class=\"dataframe\">\n",
       "  <thead>\n",
       "    <tr style=\"text-align: right;\">\n",
       "      <th></th>\n",
       "      <th>0</th>\n",
       "      <th>1</th>\n",
       "      <th>2</th>\n",
       "      <th>3</th>\n",
       "      <th>4</th>\n",
       "    </tr>\n",
       "  </thead>\n",
       "  <tbody>\n",
       "    <tr>\n",
       "      <th>0</th>\n",
       "      <td>-70</td>\n",
       "      <td>-18</td>\n",
       "      <td>0</td>\n",
       "      <td>NaN</td>\n",
       "      <td>NaN</td>\n",
       "    </tr>\n",
       "    <tr>\n",
       "      <th>1</th>\n",
       "      <td>-49</td>\n",
       "      <td>12</td>\n",
       "      <td>0</td>\n",
       "      <td>NaN</td>\n",
       "      <td>NaN</td>\n",
       "    </tr>\n",
       "    <tr>\n",
       "      <th>2</th>\n",
       "      <td>56</td>\n",
       "      <td>0</td>\n",
       "      <td>0</td>\n",
       "      <td>NaN</td>\n",
       "      <td>NaN</td>\n",
       "    </tr>\n",
       "    <tr>\n",
       "      <th>3</th>\n",
       "      <td>63</td>\n",
       "      <td>8</td>\n",
       "      <td>0</td>\n",
       "      <td>NaN</td>\n",
       "      <td>NaN</td>\n",
       "    </tr>\n",
       "    <tr>\n",
       "      <th>4</th>\n",
       "      <td>0</td>\n",
       "      <td>2</td>\n",
       "      <td>0</td>\n",
       "      <td>NaN</td>\n",
       "      <td>NaN</td>\n",
       "    </tr>\n",
       "  </tbody>\n",
       "</table>\n",
       "</div>"
      ],
      "text/plain": [
       "    0   1  2   3   4\n",
       "0 -70 -18  0 NaN NaN\n",
       "1 -49  12  0 NaN NaN\n",
       "2  56   0  0 NaN NaN\n",
       "3  63   8  0 NaN NaN\n",
       "4   0   2  0 NaN NaN"
      ]
     },
     "execution_count": 28,
     "metadata": {},
     "output_type": "execute_result"
    }
   ],
   "source": [
    "df1 * s"
   ]
  },
  {
   "cell_type": "markdown",
   "id": "0c781e1c",
   "metadata": {},
   "source": [
    "Maybe I'll introduce another DataFrame into the story, and we'll see if anything else happens.\n",
    "\n",
    "Here we have a different DataFrame, and if I add that to the first DataFrame, I get a bunch of NaNs at the beggining:"
   ]
  },
  {
   "cell_type": "code",
   "execution_count": 29,
   "id": "52f69792",
   "metadata": {},
   "outputs": [
    {
     "data": {
      "text/html": [
       "<div>\n",
       "<style scoped>\n",
       "    .dataframe tbody tr th:only-of-type {\n",
       "        vertical-align: middle;\n",
       "    }\n",
       "\n",
       "    .dataframe tbody tr th {\n",
       "        vertical-align: top;\n",
       "    }\n",
       "\n",
       "    .dataframe thead th {\n",
       "        text-align: right;\n",
       "    }\n",
       "</style>\n",
       "<table border=\"1\" class=\"dataframe\">\n",
       "  <thead>\n",
       "    <tr style=\"text-align: right;\">\n",
       "      <th></th>\n",
       "      <th>0</th>\n",
       "      <th>1</th>\n",
       "      <th>2</th>\n",
       "    </tr>\n",
       "  </thead>\n",
       "  <tbody>\n",
       "    <tr>\n",
       "      <th>1</th>\n",
       "      <td>-5</td>\n",
       "      <td>6</td>\n",
       "      <td>3</td>\n",
       "    </tr>\n",
       "    <tr>\n",
       "      <th>1</th>\n",
       "      <td>-10</td>\n",
       "      <td>-3</td>\n",
       "      <td>7</td>\n",
       "    </tr>\n",
       "    <tr>\n",
       "      <th>2</th>\n",
       "      <td>1</td>\n",
       "      <td>-10</td>\n",
       "      <td>5</td>\n",
       "    </tr>\n",
       "    <tr>\n",
       "      <th>3</th>\n",
       "      <td>4</td>\n",
       "      <td>6</td>\n",
       "      <td>-7</td>\n",
       "    </tr>\n",
       "    <tr>\n",
       "      <th>4</th>\n",
       "      <td>-9</td>\n",
       "      <td>7</td>\n",
       "      <td>-10</td>\n",
       "    </tr>\n",
       "  </tbody>\n",
       "</table>\n",
       "</div>"
      ],
      "text/plain": [
       "    0   1   2\n",
       "1  -5   6   3\n",
       "1 -10  -3   7\n",
       "2   1 -10   5\n",
       "3   4   6  -7\n",
       "4  -9   7 -10"
      ]
     },
     "execution_count": 29,
     "metadata": {},
     "output_type": "execute_result"
    }
   ],
   "source": [
    "df2"
   ]
  },
  {
   "cell_type": "code",
   "execution_count": 30,
   "id": "6a25e0a8",
   "metadata": {},
   "outputs": [
    {
     "data": {
      "text/html": [
       "<div>\n",
       "<style scoped>\n",
       "    .dataframe tbody tr th:only-of-type {\n",
       "        vertical-align: middle;\n",
       "    }\n",
       "\n",
       "    .dataframe tbody tr th {\n",
       "        vertical-align: top;\n",
       "    }\n",
       "\n",
       "    .dataframe thead th {\n",
       "        text-align: right;\n",
       "    }\n",
       "</style>\n",
       "<table border=\"1\" class=\"dataframe\">\n",
       "  <thead>\n",
       "    <tr style=\"text-align: right;\">\n",
       "      <th></th>\n",
       "      <th>0</th>\n",
       "      <th>1</th>\n",
       "      <th>2</th>\n",
       "    </tr>\n",
       "  </thead>\n",
       "  <tbody>\n",
       "    <tr>\n",
       "      <th>0</th>\n",
       "      <td>NaN</td>\n",
       "      <td>NaN</td>\n",
       "      <td>NaN</td>\n",
       "    </tr>\n",
       "    <tr>\n",
       "      <th>1</th>\n",
       "      <td>-12.0</td>\n",
       "      <td>12.0</td>\n",
       "      <td>5.0</td>\n",
       "    </tr>\n",
       "    <tr>\n",
       "      <th>1</th>\n",
       "      <td>-17.0</td>\n",
       "      <td>3.0</td>\n",
       "      <td>9.0</td>\n",
       "    </tr>\n",
       "    <tr>\n",
       "      <th>2</th>\n",
       "      <td>9.0</td>\n",
       "      <td>-10.0</td>\n",
       "      <td>7.0</td>\n",
       "    </tr>\n",
       "    <tr>\n",
       "      <th>3</th>\n",
       "      <td>13.0</td>\n",
       "      <td>10.0</td>\n",
       "      <td>-5.0</td>\n",
       "    </tr>\n",
       "    <tr>\n",
       "      <th>4</th>\n",
       "      <td>-9.0</td>\n",
       "      <td>8.0</td>\n",
       "      <td>-2.0</td>\n",
       "    </tr>\n",
       "  </tbody>\n",
       "</table>\n",
       "</div>"
      ],
      "text/plain": [
       "      0     1    2\n",
       "0   NaN   NaN  NaN\n",
       "1 -12.0  12.0  5.0\n",
       "1 -17.0   3.0  9.0\n",
       "2   9.0 -10.0  7.0\n",
       "3  13.0  10.0 -5.0\n",
       "4  -9.0   8.0 -2.0"
      ]
     },
     "execution_count": 30,
     "metadata": {},
     "output_type": "execute_result"
    }
   ],
   "source": [
    "df1 + df2"
   ]
  },
  {
   "cell_type": "markdown",
   "id": "f3d2604b",
   "metadata": {},
   "source": [
    "That's not a big deal, because I can at least just drop de NaNs. I guess that's what I do all the time with Pandas, just drop NaNs, because they are popping up all over the place:"
   ]
  },
  {
   "cell_type": "code",
   "execution_count": 31,
   "id": "f78c820f",
   "metadata": {},
   "outputs": [
    {
     "data": {
      "text/html": [
       "<div>\n",
       "<style scoped>\n",
       "    .dataframe tbody tr th:only-of-type {\n",
       "        vertical-align: middle;\n",
       "    }\n",
       "\n",
       "    .dataframe tbody tr th {\n",
       "        vertical-align: top;\n",
       "    }\n",
       "\n",
       "    .dataframe thead th {\n",
       "        text-align: right;\n",
       "    }\n",
       "</style>\n",
       "<table border=\"1\" class=\"dataframe\">\n",
       "  <thead>\n",
       "    <tr style=\"text-align: right;\">\n",
       "      <th></th>\n",
       "      <th>0</th>\n",
       "      <th>1</th>\n",
       "      <th>2</th>\n",
       "    </tr>\n",
       "  </thead>\n",
       "  <tbody>\n",
       "    <tr>\n",
       "      <th>1</th>\n",
       "      <td>-12.0</td>\n",
       "      <td>12.0</td>\n",
       "      <td>5.0</td>\n",
       "    </tr>\n",
       "    <tr>\n",
       "      <th>1</th>\n",
       "      <td>-17.0</td>\n",
       "      <td>3.0</td>\n",
       "      <td>9.0</td>\n",
       "    </tr>\n",
       "    <tr>\n",
       "      <th>2</th>\n",
       "      <td>9.0</td>\n",
       "      <td>-10.0</td>\n",
       "      <td>7.0</td>\n",
       "    </tr>\n",
       "    <tr>\n",
       "      <th>3</th>\n",
       "      <td>13.0</td>\n",
       "      <td>10.0</td>\n",
       "      <td>-5.0</td>\n",
       "    </tr>\n",
       "    <tr>\n",
       "      <th>4</th>\n",
       "      <td>-9.0</td>\n",
       "      <td>8.0</td>\n",
       "      <td>-2.0</td>\n",
       "    </tr>\n",
       "  </tbody>\n",
       "</table>\n",
       "</div>"
      ],
      "text/plain": [
       "      0     1    2\n",
       "1 -12.0  12.0  5.0\n",
       "1 -17.0   3.0  9.0\n",
       "2   9.0 -10.0  7.0\n",
       "3  13.0  10.0 -5.0\n",
       "4  -9.0   8.0 -2.0"
      ]
     },
     "execution_count": 31,
     "metadata": {},
     "output_type": "execute_result"
    }
   ],
   "source": [
    "(df1 + df2).dropna()"
   ]
  },
  {
   "cell_type": "markdown",
   "id": "888b19f2",
   "metadata": {},
   "source": [
    "I can join these, and get a bunch of NaNs, I guess I can just drop them:"
   ]
  },
  {
   "cell_type": "code",
   "execution_count": 32,
   "id": "768856bd-85d0-4c7e-a4fc-6f55faaf22e0",
   "metadata": {},
   "outputs": [
    {
     "data": {
      "text/html": [
       "<div>\n",
       "<style scoped>\n",
       "    .dataframe tbody tr th:only-of-type {\n",
       "        vertical-align: middle;\n",
       "    }\n",
       "\n",
       "    .dataframe tbody tr th {\n",
       "        vertical-align: top;\n",
       "    }\n",
       "\n",
       "    .dataframe thead th {\n",
       "        text-align: right;\n",
       "    }\n",
       "</style>\n",
       "<table border=\"1\" class=\"dataframe\">\n",
       "  <thead>\n",
       "    <tr style=\"text-align: right;\">\n",
       "      <th></th>\n",
       "      <th>0</th>\n",
       "      <th>1</th>\n",
       "      <th>2</th>\n",
       "    </tr>\n",
       "  </thead>\n",
       "  <tbody>\n",
       "    <tr>\n",
       "      <th>0</th>\n",
       "      <td>-10</td>\n",
       "      <td>-9</td>\n",
       "      <td>-10</td>\n",
       "    </tr>\n",
       "    <tr>\n",
       "      <th>1</th>\n",
       "      <td>-7</td>\n",
       "      <td>6</td>\n",
       "      <td>2</td>\n",
       "    </tr>\n",
       "    <tr>\n",
       "      <th>2</th>\n",
       "      <td>8</td>\n",
       "      <td>0</td>\n",
       "      <td>2</td>\n",
       "    </tr>\n",
       "    <tr>\n",
       "      <th>3</th>\n",
       "      <td>9</td>\n",
       "      <td>4</td>\n",
       "      <td>2</td>\n",
       "    </tr>\n",
       "    <tr>\n",
       "      <th>4</th>\n",
       "      <td>0</td>\n",
       "      <td>1</td>\n",
       "      <td>8</td>\n",
       "    </tr>\n",
       "  </tbody>\n",
       "</table>\n",
       "</div>"
      ],
      "text/plain": [
       "    0  1   2\n",
       "0 -10 -9 -10\n",
       "1  -7  6   2\n",
       "2   8  0   2\n",
       "3   9  4   2\n",
       "4   0  1   8"
      ]
     },
     "execution_count": 32,
     "metadata": {},
     "output_type": "execute_result"
    }
   ],
   "source": [
    "df1"
   ]
  },
  {
   "cell_type": "code",
   "execution_count": 33,
   "id": "98f54751-6c03-4591-86be-d4786fdc45bb",
   "metadata": {},
   "outputs": [
    {
     "data": {
      "text/html": [
       "<div>\n",
       "<style scoped>\n",
       "    .dataframe tbody tr th:only-of-type {\n",
       "        vertical-align: middle;\n",
       "    }\n",
       "\n",
       "    .dataframe tbody tr th {\n",
       "        vertical-align: top;\n",
       "    }\n",
       "\n",
       "    .dataframe thead th {\n",
       "        text-align: right;\n",
       "    }\n",
       "</style>\n",
       "<table border=\"1\" class=\"dataframe\">\n",
       "  <thead>\n",
       "    <tr style=\"text-align: right;\">\n",
       "      <th></th>\n",
       "      <th>0</th>\n",
       "      <th>1</th>\n",
       "      <th>2</th>\n",
       "    </tr>\n",
       "  </thead>\n",
       "  <tbody>\n",
       "    <tr>\n",
       "      <th>1</th>\n",
       "      <td>-5</td>\n",
       "      <td>6</td>\n",
       "      <td>3</td>\n",
       "    </tr>\n",
       "    <tr>\n",
       "      <th>1</th>\n",
       "      <td>-10</td>\n",
       "      <td>-3</td>\n",
       "      <td>7</td>\n",
       "    </tr>\n",
       "    <tr>\n",
       "      <th>2</th>\n",
       "      <td>1</td>\n",
       "      <td>-10</td>\n",
       "      <td>5</td>\n",
       "    </tr>\n",
       "    <tr>\n",
       "      <th>3</th>\n",
       "      <td>4</td>\n",
       "      <td>6</td>\n",
       "      <td>-7</td>\n",
       "    </tr>\n",
       "    <tr>\n",
       "      <th>4</th>\n",
       "      <td>-9</td>\n",
       "      <td>7</td>\n",
       "      <td>-10</td>\n",
       "    </tr>\n",
       "  </tbody>\n",
       "</table>\n",
       "</div>"
      ],
      "text/plain": [
       "    0   1   2\n",
       "1  -5   6   3\n",
       "1 -10  -3   7\n",
       "2   1 -10   5\n",
       "3   4   6  -7\n",
       "4  -9   7 -10"
      ]
     },
     "execution_count": 33,
     "metadata": {},
     "output_type": "execute_result"
    }
   ],
   "source": [
    "df2"
   ]
  },
  {
   "cell_type": "code",
   "execution_count": 34,
   "id": "e6fd5638",
   "metadata": {},
   "outputs": [
    {
     "data": {
      "text/html": [
       "<div>\n",
       "<style scoped>\n",
       "    .dataframe tbody tr th:only-of-type {\n",
       "        vertical-align: middle;\n",
       "    }\n",
       "\n",
       "    .dataframe tbody tr th {\n",
       "        vertical-align: top;\n",
       "    }\n",
       "\n",
       "    .dataframe thead th {\n",
       "        text-align: right;\n",
       "    }\n",
       "</style>\n",
       "<table border=\"1\" class=\"dataframe\">\n",
       "  <thead>\n",
       "    <tr style=\"text-align: right;\">\n",
       "      <th></th>\n",
       "      <th>0</th>\n",
       "      <th>1</th>\n",
       "      <th>2</th>\n",
       "      <th>0-df2</th>\n",
       "      <th>1-df2</th>\n",
       "      <th>2-df2</th>\n",
       "    </tr>\n",
       "  </thead>\n",
       "  <tbody>\n",
       "    <tr>\n",
       "      <th>0</th>\n",
       "      <td>-10</td>\n",
       "      <td>-9</td>\n",
       "      <td>-10</td>\n",
       "      <td>NaN</td>\n",
       "      <td>NaN</td>\n",
       "      <td>NaN</td>\n",
       "    </tr>\n",
       "    <tr>\n",
       "      <th>1</th>\n",
       "      <td>-7</td>\n",
       "      <td>6</td>\n",
       "      <td>2</td>\n",
       "      <td>-5.0</td>\n",
       "      <td>6.0</td>\n",
       "      <td>3.0</td>\n",
       "    </tr>\n",
       "    <tr>\n",
       "      <th>1</th>\n",
       "      <td>-7</td>\n",
       "      <td>6</td>\n",
       "      <td>2</td>\n",
       "      <td>-10.0</td>\n",
       "      <td>-3.0</td>\n",
       "      <td>7.0</td>\n",
       "    </tr>\n",
       "    <tr>\n",
       "      <th>2</th>\n",
       "      <td>8</td>\n",
       "      <td>0</td>\n",
       "      <td>2</td>\n",
       "      <td>1.0</td>\n",
       "      <td>-10.0</td>\n",
       "      <td>5.0</td>\n",
       "    </tr>\n",
       "    <tr>\n",
       "      <th>3</th>\n",
       "      <td>9</td>\n",
       "      <td>4</td>\n",
       "      <td>2</td>\n",
       "      <td>4.0</td>\n",
       "      <td>6.0</td>\n",
       "      <td>-7.0</td>\n",
       "    </tr>\n",
       "    <tr>\n",
       "      <th>4</th>\n",
       "      <td>0</td>\n",
       "      <td>1</td>\n",
       "      <td>8</td>\n",
       "      <td>-9.0</td>\n",
       "      <td>7.0</td>\n",
       "      <td>-10.0</td>\n",
       "    </tr>\n",
       "  </tbody>\n",
       "</table>\n",
       "</div>"
      ],
      "text/plain": [
       "    0  1   2  0-df2  1-df2  2-df2\n",
       "0 -10 -9 -10    NaN    NaN    NaN\n",
       "1  -7  6   2   -5.0    6.0    3.0\n",
       "1  -7  6   2  -10.0   -3.0    7.0\n",
       "2   8  0   2    1.0  -10.0    5.0\n",
       "3   9  4   2    4.0    6.0   -7.0\n",
       "4   0  1   8   -9.0    7.0  -10.0"
      ]
     },
     "execution_count": 34,
     "metadata": {},
     "output_type": "execute_result"
    }
   ],
   "source": [
    "df1.join(df2, rsuffix=\"-df2\")"
   ]
  },
  {
   "cell_type": "markdown",
   "id": "11e19ab4",
   "metadata": {},
   "source": [
    "Let's introduce another DataFrame here, which doesn't look too dissimilar from the second DataFrame we were looking at, and we try to join it we get an error, can't join withoun overlapping index names:"
   ]
  },
  {
   "cell_type": "code",
   "execution_count": 35,
   "id": "36c6ddf5",
   "metadata": {},
   "outputs": [
    {
     "data": {
      "text/html": [
       "<div>\n",
       "<style scoped>\n",
       "    .dataframe tbody tr th:only-of-type {\n",
       "        vertical-align: middle;\n",
       "    }\n",
       "\n",
       "    .dataframe tbody tr th {\n",
       "        vertical-align: top;\n",
       "    }\n",
       "\n",
       "    .dataframe thead th {\n",
       "        text-align: right;\n",
       "    }\n",
       "</style>\n",
       "<table border=\"1\" class=\"dataframe\">\n",
       "  <thead>\n",
       "    <tr style=\"text-align: right;\">\n",
       "      <th></th>\n",
       "      <th></th>\n",
       "      <th>0</th>\n",
       "      <th>1</th>\n",
       "      <th>2</th>\n",
       "    </tr>\n",
       "  </thead>\n",
       "  <tbody>\n",
       "    <tr>\n",
       "      <th rowspan=\"5\" valign=\"top\">0</th>\n",
       "      <th>0</th>\n",
       "      <td>0</td>\n",
       "      <td>-9</td>\n",
       "      <td>-5</td>\n",
       "    </tr>\n",
       "    <tr>\n",
       "      <th>1</th>\n",
       "      <td>-1</td>\n",
       "      <td>-2</td>\n",
       "      <td>-2</td>\n",
       "    </tr>\n",
       "    <tr>\n",
       "      <th>2</th>\n",
       "      <td>-10</td>\n",
       "      <td>-10</td>\n",
       "      <td>-8</td>\n",
       "    </tr>\n",
       "    <tr>\n",
       "      <th>3</th>\n",
       "      <td>-10</td>\n",
       "      <td>3</td>\n",
       "      <td>0</td>\n",
       "    </tr>\n",
       "    <tr>\n",
       "      <th>4</th>\n",
       "      <td>2</td>\n",
       "      <td>-5</td>\n",
       "      <td>2</td>\n",
       "    </tr>\n",
       "  </tbody>\n",
       "</table>\n",
       "</div>"
      ],
      "text/plain": [
       "      0   1  2\n",
       "0 0   0  -9 -5\n",
       "  1  -1  -2 -2\n",
       "  2 -10 -10 -8\n",
       "  3 -10   3  0\n",
       "  4   2  -5  2"
      ]
     },
     "execution_count": 35,
     "metadata": {},
     "output_type": "execute_result"
    }
   ],
   "source": [
    "df3"
   ]
  },
  {
   "cell_type": "code",
   "execution_count": 36,
   "id": "9e81dae3",
   "metadata": {},
   "outputs": [
    {
     "name": "stdout",
     "output_type": "stream",
     "text": [
      "cannot join with no overlapping index names\n"
     ]
    }
   ],
   "source": [
    "try:\n",
    "    df1.join(df3, rsuffix=\"-df3\")\n",
    "except Exception as ex:\n",
    "    print(ex)"
   ]
  },
  {
   "cell_type": "markdown",
   "id": "8931113f",
   "metadata": {},
   "source": [
    "Wait, joining should be like stacking them next to each other, kind of what like plus operation seems to be trying to do, so why it it trying to tell me non-overlapping index things, what is the heck does that even mean. And, if we are unlucky enough to ask one of our co-workers, what does this mean, why is Pandas giving me this error? The answer will be, you just have to rename the axis to something on both sides, and then the join will work as you expect:"
   ]
  },
  {
   "cell_type": "code",
   "execution_count": 37,
   "id": "d059efa1",
   "metadata": {},
   "outputs": [
    {
     "data": {
      "text/html": [
       "<div>\n",
       "<style scoped>\n",
       "    .dataframe tbody tr th:only-of-type {\n",
       "        vertical-align: middle;\n",
       "    }\n",
       "\n",
       "    .dataframe tbody tr th {\n",
       "        vertical-align: top;\n",
       "    }\n",
       "\n",
       "    .dataframe thead th {\n",
       "        text-align: right;\n",
       "    }\n",
       "</style>\n",
       "<table border=\"1\" class=\"dataframe\">\n",
       "  <thead>\n",
       "    <tr style=\"text-align: right;\">\n",
       "      <th></th>\n",
       "      <th></th>\n",
       "      <th>0</th>\n",
       "      <th>1</th>\n",
       "      <th>2</th>\n",
       "      <th>0-df3</th>\n",
       "      <th>1-df3</th>\n",
       "      <th>2-df3</th>\n",
       "    </tr>\n",
       "    <tr>\n",
       "      <th>Ellipsis</th>\n",
       "      <th>idx</th>\n",
       "      <th></th>\n",
       "      <th></th>\n",
       "      <th></th>\n",
       "      <th></th>\n",
       "      <th></th>\n",
       "      <th></th>\n",
       "    </tr>\n",
       "  </thead>\n",
       "  <tbody>\n",
       "    <tr>\n",
       "      <th rowspan=\"5\" valign=\"top\">0</th>\n",
       "      <th>0</th>\n",
       "      <td>-10</td>\n",
       "      <td>-9</td>\n",
       "      <td>-10</td>\n",
       "      <td>0</td>\n",
       "      <td>-9</td>\n",
       "      <td>-5</td>\n",
       "    </tr>\n",
       "    <tr>\n",
       "      <th>1</th>\n",
       "      <td>-7</td>\n",
       "      <td>6</td>\n",
       "      <td>2</td>\n",
       "      <td>-1</td>\n",
       "      <td>-2</td>\n",
       "      <td>-2</td>\n",
       "    </tr>\n",
       "    <tr>\n",
       "      <th>2</th>\n",
       "      <td>8</td>\n",
       "      <td>0</td>\n",
       "      <td>2</td>\n",
       "      <td>-10</td>\n",
       "      <td>-10</td>\n",
       "      <td>-8</td>\n",
       "    </tr>\n",
       "    <tr>\n",
       "      <th>3</th>\n",
       "      <td>9</td>\n",
       "      <td>4</td>\n",
       "      <td>2</td>\n",
       "      <td>-10</td>\n",
       "      <td>3</td>\n",
       "      <td>0</td>\n",
       "    </tr>\n",
       "    <tr>\n",
       "      <th>4</th>\n",
       "      <td>0</td>\n",
       "      <td>1</td>\n",
       "      <td>8</td>\n",
       "      <td>2</td>\n",
       "      <td>-5</td>\n",
       "      <td>2</td>\n",
       "    </tr>\n",
       "  </tbody>\n",
       "</table>\n",
       "</div>"
      ],
      "text/plain": [
       "               0  1   2  0-df3  1-df3  2-df3\n",
       "Ellipsis idx                                \n",
       "0        0   -10 -9 -10      0     -9     -5\n",
       "         1    -7  6   2     -1     -2     -2\n",
       "         2     8  0   2    -10    -10     -8\n",
       "         3     9  4   2    -10      3      0\n",
       "         4     0  1   8      2     -5      2"
      ]
     },
     "execution_count": 37,
     "metadata": {},
     "output_type": "execute_result"
    }
   ],
   "source": [
    "(\n",
    "    df1\n",
    "    .rename_axis(\"idx\")\n",
    "    .join(\n",
    "        df3\n",
    "        .rename_axis([..., \"idx\"]),\n",
    "        rsuffix=\"-df3\"\n",
    "    )\n",
    ")"
   ]
  },
  {
   "cell_type": "markdown",
   "id": "698e5d7f",
   "metadata": {},
   "source": [
    "And you say, what does that even mean, how is that helpful? That is total nonsense, rename axis? "
   ]
  },
  {
   "cell_type": "markdown",
   "id": "181cffaf",
   "metadata": {},
   "source": [
    "#### List makes sense\n",
    "\n",
    "If you compare that to built-in datatypes, the list just makes sense. Here we have a list called xs and a list called ys, and these represent some opaque collection of items that we iterate over."
   ]
  },
  {
   "cell_type": "code",
   "execution_count": 38,
   "id": "11f8c1eb",
   "metadata": {},
   "outputs": [],
   "source": [
    "xs = [randint(-10, +10) for _ in range(5)]\n",
    "ys = [randint(-10, +10) for _ in range(5)]"
   ]
  },
  {
   "cell_type": "markdown",
   "id": "33c9880f",
   "metadata": {},
   "source": [
    "If we add them together:"
   ]
  },
  {
   "cell_type": "code",
   "execution_count": 39,
   "id": "4b58435c",
   "metadata": {},
   "outputs": [
    {
     "data": {
      "text/plain": [
       "[-7, 1, 3, 0, 9, 10, -4, 7, 5, 4]"
      ]
     },
     "execution_count": 39,
     "metadata": {},
     "output_type": "execute_result"
    }
   ],
   "source": [
    "xs + ys"
   ]
  },
  {
   "cell_type": "markdown",
   "id": "bf698976",
   "metadata": {},
   "source": [
    "This represents a container level operation, it concatenates them."
   ]
  },
  {
   "cell_type": "markdown",
   "id": "a5a05c6b",
   "metadata": {},
   "source": [
    "If we want to use some special syntax for this, we can unpack these lists into a list literal, contatenating them in a different fashion:"
   ]
  },
  {
   "cell_type": "code",
   "execution_count": 40,
   "id": "3bc6af36",
   "metadata": {},
   "outputs": [
    {
     "data": {
      "text/plain": [
       "[-7, 1, 3, 0, 9, 10, -4, 7, 5, 4]"
      ]
     },
     "execution_count": 40,
     "metadata": {},
     "output_type": "execute_result"
    }
   ],
   "source": [
    "[*xs, *ys]"
   ]
  },
  {
   "cell_type": "markdown",
   "id": "92a74eb3",
   "metadata": {},
   "source": [
    "If want to actually add them up, line them up, we do a for loop, just zip them up together and add up the pair, this just makes sense, there is no rename and axis in this:"
   ]
  },
  {
   "cell_type": "code",
   "execution_count": 41,
   "id": "3457800a",
   "metadata": {},
   "outputs": [
    {
     "data": {
      "text/plain": [
       "[3, -3, 10, 5, 13]"
      ]
     },
     "execution_count": 41,
     "metadata": {},
     "output_type": "execute_result"
    }
   ],
   "source": [
    "[x + y for x, y in zip(xs, ys)]"
   ]
  },
  {
   "cell_type": "markdown",
   "id": "be31e452",
   "metadata": {},
   "source": [
    "#### Dictionary makes sense"
   ]
  },
  {
   "cell_type": "markdown",
   "id": "d0043799",
   "metadata": {},
   "source": [
    "A dictionary also makes a whole lot of sense.\n",
    "\n",
    "Here we two dictionary with key value pairs:"
   ]
  },
  {
   "cell_type": "code",
   "execution_count": 42,
   "id": "a268bba7",
   "metadata": {},
   "outputs": [],
   "source": [
    "d1 = {choice(ascii_lowercase): randint(-10, +10) for _ in range(10)}\n",
    "d2 = {choice(ascii_lowercase): randint(-10, +10) for _ in range(10)}"
   ]
  },
  {
   "cell_type": "markdown",
   "id": "4fd4fdfc",
   "metadata": {},
   "source": [
    "We can use the unpacking syntax to merge these dictionaries:"
   ]
  },
  {
   "cell_type": "code",
   "execution_count": 43,
   "id": "9189d7d8",
   "metadata": {},
   "outputs": [
    {
     "data": {
      "text/plain": [
       "{'q': 5,\n",
       " 'b': 7,\n",
       " 'a': 9,\n",
       " 'x': 2,\n",
       " 'w': -7,\n",
       " 'p': 0,\n",
       " 'h': -3,\n",
       " 'g': 8,\n",
       " 'z': 7,\n",
       " 'o': -8,\n",
       " 'c': 0,\n",
       " 'd': -1,\n",
       " 'r': 0}"
      ]
     },
     "execution_count": 43,
     "metadata": {},
     "output_type": "execute_result"
    }
   ],
   "source": [
    "{**d1, **d2}"
   ]
  },
  {
   "cell_type": "markdown",
   "id": "f801609a",
   "metadata": {},
   "source": [
    "You take all key-value pairs from each dictionary, and there is an order of preference if there happens to be an overlap."
   ]
  },
  {
   "cell_type": "markdown",
   "id": "a49c3ff3",
   "metadata": {},
   "source": [
    "If we happen to use Python 3.9, we can do this with just the pipe syntax:"
   ]
  },
  {
   "cell_type": "code",
   "execution_count": 44,
   "id": "94a6e531",
   "metadata": {},
   "outputs": [
    {
     "data": {
      "text/plain": [
       "{'q': 5,\n",
       " 'b': 7,\n",
       " 'a': 9,\n",
       " 'x': 2,\n",
       " 'w': -7,\n",
       " 'p': 0,\n",
       " 'h': -3,\n",
       " 'g': 8,\n",
       " 'z': 7,\n",
       " 'o': -8,\n",
       " 'c': 0,\n",
       " 'd': -1,\n",
       " 'r': 0}"
      ]
     },
     "execution_count": 44,
     "metadata": {},
     "output_type": "execute_result"
    }
   ],
   "source": [
    "d1 | d2"
   ]
  },
  {
   "cell_type": "markdown",
   "id": "c2782bbe",
   "metadata": {},
   "source": [
    "If we want to do an arythmetic operation, we can just do it, we take the keys of one and put them into a set, take the other's keys and put them into a set, find the set union of those, then look up the values, create a new dictionary with these, and if we don't see one of these pairings in one of the dictionaries, we can just substitute it with 0 by using the dictionary's get method:"
   ]
  },
  {
   "cell_type": "code",
   "execution_count": 45,
   "id": "1c0cd205",
   "metadata": {},
   "outputs": [
    {
     "data": {
      "text/plain": [
       "{'q': 3,\n",
       " 'b': 7,\n",
       " 'a': 9,\n",
       " 'x': 2,\n",
       " 'w': -15,\n",
       " 'p': 0,\n",
       " 'h': -3,\n",
       " 'g': 8,\n",
       " 'z': 7,\n",
       " 'o': -8,\n",
       " 'c': 0,\n",
       " 'd': -1,\n",
       " 'r': 0}"
      ]
     },
     "execution_count": 45,
     "metadata": {},
     "output_type": "execute_result"
    }
   ],
   "source": [
    "{k: d1.get(k, 0) + d2.get(k, 0) for k in d1 | d2}"
   ]
  },
  {
   "cell_type": "markdown",
   "id": "c19f082e",
   "metadata": {},
   "source": [
    "#### ```collections.Counter``` makes sense\n",
    "\n",
    "Even if we look in the Python standard library and look at the collection types it provides, they just make sense.\n",
    "\n",
    "```collections.Counter``` totally makes sense. It is just kind of like a dictionary, except that it specifies that the values have to be some sort of integers or some sort of numeric values, some counts."
   ]
  },
  {
   "cell_type": "code",
   "execution_count": 46,
   "id": "df839245",
   "metadata": {},
   "outputs": [],
   "source": [
    "from collections import Counter"
   ]
  },
  {
   "cell_type": "code",
   "execution_count": 47,
   "id": "cc1ad995",
   "metadata": {},
   "outputs": [],
   "source": [
    "c1 = Counter({choice(ascii_lowercase): randint(-10, +10) for _ in range(10)})\n",
    "c2 = Counter({choice(ascii_lowercase): randint(-10, +10) for _ in range(10)})"
   ]
  },
  {
   "cell_type": "code",
   "execution_count": 48,
   "id": "362132e2",
   "metadata": {},
   "outputs": [
    {
     "data": {
      "text/plain": [
       "Counter({'c': 9, 'r': 8, 'k': 8, 'j': 4, 'z': 2, 'h': -1, 'f': -9})"
      ]
     },
     "execution_count": 48,
     "metadata": {},
     "output_type": "execute_result"
    }
   ],
   "source": [
    "c1"
   ]
  },
  {
   "cell_type": "code",
   "execution_count": 49,
   "id": "522510b4",
   "metadata": {},
   "outputs": [
    {
     "data": {
      "text/plain": [
       "Counter({'g': 8,\n",
       "         'c': 7,\n",
       "         'w': 6,\n",
       "         'i': 6,\n",
       "         'v': 2,\n",
       "         't': -2,\n",
       "         'z': -3,\n",
       "         'p': -8,\n",
       "         'e': -9})"
      ]
     },
     "execution_count": 49,
     "metadata": {},
     "output_type": "execute_result"
    }
   ],
   "source": [
    "c2"
   ]
  },
  {
   "cell_type": "markdown",
   "id": "9d327117",
   "metadata": {},
   "source": [
    "We can add them together. If you have 4 \"a\"s in one and 5 in the other, you have 9 in the result, it makes sense:"
   ]
  },
  {
   "cell_type": "code",
   "execution_count": 50,
   "id": "3da2709d",
   "metadata": {},
   "outputs": [
    {
     "data": {
      "text/plain": [
       "Counter({'c': 16, 'r': 8, 'k': 8, 'g': 8, 'w': 6, 'i': 6, 'j': 4, 'v': 2})"
      ]
     },
     "execution_count": 50,
     "metadata": {},
     "output_type": "execute_result"
    }
   ],
   "source": [
    "c1 + c2"
   ]
  },
  {
   "cell_type": "markdown",
   "id": "0460ceb3",
   "metadata": {},
   "source": [
    "NOTE: it seems like it's only kept positive counts"
   ]
  },
  {
   "cell_type": "markdown",
   "id": "3cf14658",
   "metadata": {},
   "source": [
    "We might even get the interception or the union of the counts:"
   ]
  },
  {
   "cell_type": "code",
   "execution_count": 51,
   "id": "2b7e6292",
   "metadata": {},
   "outputs": [
    {
     "data": {
      "text/plain": [
       "Counter({'c': 7})"
      ]
     },
     "execution_count": 51,
     "metadata": {},
     "output_type": "execute_result"
    }
   ],
   "source": [
    "c1 & c2"
   ]
  },
  {
   "cell_type": "code",
   "execution_count": 52,
   "id": "e039b644",
   "metadata": {},
   "outputs": [
    {
     "data": {
      "text/plain": [
       "Counter({'c': 9,\n",
       "         'r': 8,\n",
       "         'k': 8,\n",
       "         'g': 8,\n",
       "         'w': 6,\n",
       "         'i': 6,\n",
       "         'j': 4,\n",
       "         'z': 2,\n",
       "         'v': 2})"
      ]
     },
     "execution_count": 52,
     "metadata": {},
     "output_type": "execute_result"
    }
   ],
   "source": [
    "c1 | c2"
   ]
  },
  {
   "cell_type": "markdown",
   "id": "4fbe8700",
   "metadata": {},
   "source": [
    "We might scratch our heads a little bit, and think this is streching it, what does that actually mean? But it actually makes sense, if you had to bags of things you have counted, you can wonder, what's the minimum or maximum, I can rely on having in either bag, these map to our intersect and union operators."
   ]
  },
  {
   "cell_type": "markdown",
   "id": "f66b4a5a",
   "metadata": {},
   "source": [
    "#### Is it because we constantly need to do ```.values``` to force it to do what we want?\n",
    "\n",
    "That does quite not give us a good motivation as to why we might want to use Pandas, maybe it's because Pandas is so frustrating we might want to use .values all over the place just to get back, let's say, to a numpy ```ndarray```, something we know how to deal with."
   ]
  },
  {
   "cell_type": "markdown",
   "id": "d1341dec",
   "metadata": {},
   "source": [
    "Here we have a Series with numerical values, and dataframes:"
   ]
  },
  {
   "cell_type": "code",
   "execution_count": 53,
   "id": "d1adb9c2",
   "metadata": {},
   "outputs": [],
   "source": [
    "s = Series(rng.integers(-10, +10, size=5))"
   ]
  },
  {
   "cell_type": "code",
   "execution_count": 54,
   "id": "3fe631c2",
   "metadata": {},
   "outputs": [
    {
     "data": {
      "text/plain": [
       "0    5\n",
       "1   -3\n",
       "2   -1\n",
       "3    9\n",
       "4    6\n",
       "dtype: int64"
      ]
     },
     "execution_count": 54,
     "metadata": {},
     "output_type": "execute_result"
    }
   ],
   "source": [
    "s"
   ]
  },
  {
   "cell_type": "code",
   "execution_count": 55,
   "id": "8135cabb",
   "metadata": {},
   "outputs": [],
   "source": [
    "df1 = DataFrame(rng.integers(-10, +10, size=(5,3)), columns=[*\"abc\"])\n",
    "df2 = DataFrame(rng.integers(-10, +10, size=(5,3)), columns=[*\"def\"])"
   ]
  },
  {
   "cell_type": "code",
   "execution_count": 56,
   "id": "6a8f548a",
   "metadata": {},
   "outputs": [
    {
     "data": {
      "text/html": [
       "<div>\n",
       "<style scoped>\n",
       "    .dataframe tbody tr th:only-of-type {\n",
       "        vertical-align: middle;\n",
       "    }\n",
       "\n",
       "    .dataframe tbody tr th {\n",
       "        vertical-align: top;\n",
       "    }\n",
       "\n",
       "    .dataframe thead th {\n",
       "        text-align: right;\n",
       "    }\n",
       "</style>\n",
       "<table border=\"1\" class=\"dataframe\">\n",
       "  <thead>\n",
       "    <tr style=\"text-align: right;\">\n",
       "      <th></th>\n",
       "      <th>a</th>\n",
       "      <th>b</th>\n",
       "      <th>c</th>\n",
       "    </tr>\n",
       "  </thead>\n",
       "  <tbody>\n",
       "    <tr>\n",
       "      <th>0</th>\n",
       "      <td>9</td>\n",
       "      <td>-3</td>\n",
       "      <td>3</td>\n",
       "    </tr>\n",
       "    <tr>\n",
       "      <th>1</th>\n",
       "      <td>9</td>\n",
       "      <td>3</td>\n",
       "      <td>6</td>\n",
       "    </tr>\n",
       "    <tr>\n",
       "      <th>2</th>\n",
       "      <td>3</td>\n",
       "      <td>4</td>\n",
       "      <td>-3</td>\n",
       "    </tr>\n",
       "    <tr>\n",
       "      <th>3</th>\n",
       "      <td>7</td>\n",
       "      <td>-8</td>\n",
       "      <td>1</td>\n",
       "    </tr>\n",
       "    <tr>\n",
       "      <th>4</th>\n",
       "      <td>4</td>\n",
       "      <td>6</td>\n",
       "      <td>0</td>\n",
       "    </tr>\n",
       "  </tbody>\n",
       "</table>\n",
       "</div>"
      ],
      "text/plain": [
       "   a  b  c\n",
       "0  9 -3  3\n",
       "1  9  3  6\n",
       "2  3  4 -3\n",
       "3  7 -8  1\n",
       "4  4  6  0"
      ]
     },
     "execution_count": 56,
     "metadata": {},
     "output_type": "execute_result"
    }
   ],
   "source": [
    "df1"
   ]
  },
  {
   "cell_type": "code",
   "execution_count": 57,
   "id": "040e7d01",
   "metadata": {},
   "outputs": [
    {
     "data": {
      "text/html": [
       "<div>\n",
       "<style scoped>\n",
       "    .dataframe tbody tr th:only-of-type {\n",
       "        vertical-align: middle;\n",
       "    }\n",
       "\n",
       "    .dataframe tbody tr th {\n",
       "        vertical-align: top;\n",
       "    }\n",
       "\n",
       "    .dataframe thead th {\n",
       "        text-align: right;\n",
       "    }\n",
       "</style>\n",
       "<table border=\"1\" class=\"dataframe\">\n",
       "  <thead>\n",
       "    <tr style=\"text-align: right;\">\n",
       "      <th></th>\n",
       "      <th>d</th>\n",
       "      <th>e</th>\n",
       "      <th>f</th>\n",
       "    </tr>\n",
       "  </thead>\n",
       "  <tbody>\n",
       "    <tr>\n",
       "      <th>0</th>\n",
       "      <td>-3</td>\n",
       "      <td>-4</td>\n",
       "      <td>-2</td>\n",
       "    </tr>\n",
       "    <tr>\n",
       "      <th>1</th>\n",
       "      <td>-1</td>\n",
       "      <td>4</td>\n",
       "      <td>7</td>\n",
       "    </tr>\n",
       "    <tr>\n",
       "      <th>2</th>\n",
       "      <td>-9</td>\n",
       "      <td>8</td>\n",
       "      <td>0</td>\n",
       "    </tr>\n",
       "    <tr>\n",
       "      <th>3</th>\n",
       "      <td>-3</td>\n",
       "      <td>3</td>\n",
       "      <td>1</td>\n",
       "    </tr>\n",
       "    <tr>\n",
       "      <th>4</th>\n",
       "      <td>-5</td>\n",
       "      <td>-4</td>\n",
       "      <td>4</td>\n",
       "    </tr>\n",
       "  </tbody>\n",
       "</table>\n",
       "</div>"
      ],
      "text/plain": [
       "   d  e  f\n",
       "0 -3 -4 -2\n",
       "1 -1  4  7\n",
       "2 -9  8  0\n",
       "3 -3  3  1\n",
       "4 -5 -4  4"
      ]
     },
     "execution_count": 57,
     "metadata": {},
     "output_type": "execute_result"
    }
   ],
   "source": [
    "df2"
   ]
  },
  {
   "cell_type": "markdown",
   "id": "b07dd8a5",
   "metadata": {},
   "source": [
    "If we multiply these, we get all NaNs:"
   ]
  },
  {
   "cell_type": "code",
   "execution_count": 58,
   "id": "487b0031",
   "metadata": {},
   "outputs": [
    {
     "data": {
      "text/html": [
       "<div>\n",
       "<style scoped>\n",
       "    .dataframe tbody tr th:only-of-type {\n",
       "        vertical-align: middle;\n",
       "    }\n",
       "\n",
       "    .dataframe tbody tr th {\n",
       "        vertical-align: top;\n",
       "    }\n",
       "\n",
       "    .dataframe thead th {\n",
       "        text-align: right;\n",
       "    }\n",
       "</style>\n",
       "<table border=\"1\" class=\"dataframe\">\n",
       "  <thead>\n",
       "    <tr style=\"text-align: right;\">\n",
       "      <th></th>\n",
       "      <th>a</th>\n",
       "      <th>b</th>\n",
       "      <th>c</th>\n",
       "      <th>0</th>\n",
       "      <th>1</th>\n",
       "      <th>2</th>\n",
       "      <th>3</th>\n",
       "      <th>4</th>\n",
       "    </tr>\n",
       "  </thead>\n",
       "  <tbody>\n",
       "    <tr>\n",
       "      <th>0</th>\n",
       "      <td>NaN</td>\n",
       "      <td>NaN</td>\n",
       "      <td>NaN</td>\n",
       "      <td>NaN</td>\n",
       "      <td>NaN</td>\n",
       "      <td>NaN</td>\n",
       "      <td>NaN</td>\n",
       "      <td>NaN</td>\n",
       "    </tr>\n",
       "    <tr>\n",
       "      <th>1</th>\n",
       "      <td>NaN</td>\n",
       "      <td>NaN</td>\n",
       "      <td>NaN</td>\n",
       "      <td>NaN</td>\n",
       "      <td>NaN</td>\n",
       "      <td>NaN</td>\n",
       "      <td>NaN</td>\n",
       "      <td>NaN</td>\n",
       "    </tr>\n",
       "    <tr>\n",
       "      <th>2</th>\n",
       "      <td>NaN</td>\n",
       "      <td>NaN</td>\n",
       "      <td>NaN</td>\n",
       "      <td>NaN</td>\n",
       "      <td>NaN</td>\n",
       "      <td>NaN</td>\n",
       "      <td>NaN</td>\n",
       "      <td>NaN</td>\n",
       "    </tr>\n",
       "    <tr>\n",
       "      <th>3</th>\n",
       "      <td>NaN</td>\n",
       "      <td>NaN</td>\n",
       "      <td>NaN</td>\n",
       "      <td>NaN</td>\n",
       "      <td>NaN</td>\n",
       "      <td>NaN</td>\n",
       "      <td>NaN</td>\n",
       "      <td>NaN</td>\n",
       "    </tr>\n",
       "    <tr>\n",
       "      <th>4</th>\n",
       "      <td>NaN</td>\n",
       "      <td>NaN</td>\n",
       "      <td>NaN</td>\n",
       "      <td>NaN</td>\n",
       "      <td>NaN</td>\n",
       "      <td>NaN</td>\n",
       "      <td>NaN</td>\n",
       "      <td>NaN</td>\n",
       "    </tr>\n",
       "  </tbody>\n",
       "</table>\n",
       "</div>"
      ],
      "text/plain": [
       "    a   b   c   0   1   2   3   4\n",
       "0 NaN NaN NaN NaN NaN NaN NaN NaN\n",
       "1 NaN NaN NaN NaN NaN NaN NaN NaN\n",
       "2 NaN NaN NaN NaN NaN NaN NaN NaN\n",
       "3 NaN NaN NaN NaN NaN NaN NaN NaN\n",
       "4 NaN NaN NaN NaN NaN NaN NaN NaN"
      ]
     },
     "execution_count": 58,
     "metadata": {},
     "output_type": "execute_result"
    }
   ],
   "source": [
    "s * df1"
   ]
  },
  {
   "cell_type": "markdown",
   "id": "0393d2fb",
   "metadata": {},
   "source": [
    "If I ```dropna``` that is not going to be helpful to me at all!"
   ]
  },
  {
   "cell_type": "markdown",
   "id": "a99bc439",
   "metadata": {},
   "source": [
    "Let's see what happend if I add the DataFrames together:"
   ]
  },
  {
   "cell_type": "code",
   "execution_count": 59,
   "id": "72e1755b",
   "metadata": {},
   "outputs": [
    {
     "data": {
      "text/html": [
       "<div>\n",
       "<style scoped>\n",
       "    .dataframe tbody tr th:only-of-type {\n",
       "        vertical-align: middle;\n",
       "    }\n",
       "\n",
       "    .dataframe tbody tr th {\n",
       "        vertical-align: top;\n",
       "    }\n",
       "\n",
       "    .dataframe thead th {\n",
       "        text-align: right;\n",
       "    }\n",
       "</style>\n",
       "<table border=\"1\" class=\"dataframe\">\n",
       "  <thead>\n",
       "    <tr style=\"text-align: right;\">\n",
       "      <th></th>\n",
       "      <th>a</th>\n",
       "      <th>b</th>\n",
       "      <th>c</th>\n",
       "      <th>d</th>\n",
       "      <th>e</th>\n",
       "      <th>f</th>\n",
       "    </tr>\n",
       "  </thead>\n",
       "  <tbody>\n",
       "    <tr>\n",
       "      <th>0</th>\n",
       "      <td>NaN</td>\n",
       "      <td>NaN</td>\n",
       "      <td>NaN</td>\n",
       "      <td>NaN</td>\n",
       "      <td>NaN</td>\n",
       "      <td>NaN</td>\n",
       "    </tr>\n",
       "    <tr>\n",
       "      <th>1</th>\n",
       "      <td>NaN</td>\n",
       "      <td>NaN</td>\n",
       "      <td>NaN</td>\n",
       "      <td>NaN</td>\n",
       "      <td>NaN</td>\n",
       "      <td>NaN</td>\n",
       "    </tr>\n",
       "    <tr>\n",
       "      <th>2</th>\n",
       "      <td>NaN</td>\n",
       "      <td>NaN</td>\n",
       "      <td>NaN</td>\n",
       "      <td>NaN</td>\n",
       "      <td>NaN</td>\n",
       "      <td>NaN</td>\n",
       "    </tr>\n",
       "    <tr>\n",
       "      <th>3</th>\n",
       "      <td>NaN</td>\n",
       "      <td>NaN</td>\n",
       "      <td>NaN</td>\n",
       "      <td>NaN</td>\n",
       "      <td>NaN</td>\n",
       "      <td>NaN</td>\n",
       "    </tr>\n",
       "    <tr>\n",
       "      <th>4</th>\n",
       "      <td>NaN</td>\n",
       "      <td>NaN</td>\n",
       "      <td>NaN</td>\n",
       "      <td>NaN</td>\n",
       "      <td>NaN</td>\n",
       "      <td>NaN</td>\n",
       "    </tr>\n",
       "  </tbody>\n",
       "</table>\n",
       "</div>"
      ],
      "text/plain": [
       "    a   b   c   d   e   f\n",
       "0 NaN NaN NaN NaN NaN NaN\n",
       "1 NaN NaN NaN NaN NaN NaN\n",
       "2 NaN NaN NaN NaN NaN NaN\n",
       "3 NaN NaN NaN NaN NaN NaN\n",
       "4 NaN NaN NaN NaN NaN NaN"
      ]
     },
     "execution_count": 59,
     "metadata": {},
     "output_type": "execute_result"
    }
   ],
   "source": [
    "df1 + df2"
   ]
  },
  {
   "cell_type": "markdown",
   "id": "f03f973a",
   "metadata": {},
   "source": [
    "They seem to be of the same size, but when I add them together I get all NaNs as well.\n",
    "\n",
    "So let's just drop the Pandas away and do ```.values```:"
   ]
  },
  {
   "cell_type": "code",
   "execution_count": 60,
   "id": "c79b7d94",
   "metadata": {},
   "outputs": [
    {
     "data": {
      "text/plain": [
       "array([[ 6, -7,  1],\n",
       "       [ 8,  7, 13],\n",
       "       [-6, 12, -3],\n",
       "       [ 4, -5,  2],\n",
       "       [-1,  2,  4]])"
      ]
     },
     "execution_count": 60,
     "metadata": {},
     "output_type": "execute_result"
    }
   ],
   "source": [
    "df1.values + df2.values"
   ]
  },
  {
   "cell_type": "markdown",
   "id": "efd491fc",
   "metadata": {},
   "source": [
    "If we do the same thing with the Series and a DataFrame, we get a broadcasting error:"
   ]
  },
  {
   "cell_type": "code",
   "execution_count": 61,
   "id": "fc5175a1",
   "metadata": {},
   "outputs": [
    {
     "name": "stdout",
     "output_type": "stream",
     "text": [
      "operands could not be broadcast together with shapes (5,) (5,3) \n"
     ]
    }
   ],
   "source": [
    "try:\n",
    "    s.values + df1.values\n",
    "except Exception as ex:\n",
    "    print(ex)"
   ]
  },
  {
   "cell_type": "markdown",
   "id": "6eba9dd6",
   "metadata": {},
   "source": [
    "Even in the numpy universe our live isn't that easy; if we ask a helpful coworker he will say you will have to use that new axis, you will have to add to the axis to satisfy the broadcast rules:"
   ]
  },
  {
   "cell_type": "code",
   "execution_count": 62,
   "id": "055291a9",
   "metadata": {},
   "outputs": [
    {
     "data": {
      "text/plain": [
       "array([[14,  2,  8],\n",
       "       [ 6,  0,  3],\n",
       "       [ 2,  3, -4],\n",
       "       [16,  1, 10],\n",
       "       [10, 12,  6]])"
      ]
     },
     "execution_count": 62,
     "metadata": {},
     "output_type": "execute_result"
    }
   ],
   "source": [
    "s.values[:, None] + df1.values"
   ]
  },
  {
   "cell_type": "markdown",
   "id": "8d7d87c4",
   "metadata": {},
   "source": [
    "I would reply that you are speaking a different language and I have no idea of what you are speaking about.\n",
    "\n",
    "If it's the case that you manage to coerce this to work, you ```.values``` your way to something that actually gives you the answer that you want, but you still want to have that DataFrame for whatever reason, you can take the result and stick it back into a DataFrame, I guess that's not too bad:"
   ]
  },
  {
   "cell_type": "code",
   "execution_count": 63,
   "id": "5743ba4e",
   "metadata": {},
   "outputs": [
    {
     "data": {
      "text/html": [
       "<div>\n",
       "<style scoped>\n",
       "    .dataframe tbody tr th:only-of-type {\n",
       "        vertical-align: middle;\n",
       "    }\n",
       "\n",
       "    .dataframe tbody tr th {\n",
       "        vertical-align: top;\n",
       "    }\n",
       "\n",
       "    .dataframe thead th {\n",
       "        text-align: right;\n",
       "    }\n",
       "</style>\n",
       "<table border=\"1\" class=\"dataframe\">\n",
       "  <thead>\n",
       "    <tr style=\"text-align: right;\">\n",
       "      <th></th>\n",
       "      <th>0</th>\n",
       "      <th>1</th>\n",
       "      <th>2</th>\n",
       "    </tr>\n",
       "  </thead>\n",
       "  <tbody>\n",
       "    <tr>\n",
       "      <th>0</th>\n",
       "      <td>6</td>\n",
       "      <td>-7</td>\n",
       "      <td>1</td>\n",
       "    </tr>\n",
       "    <tr>\n",
       "      <th>1</th>\n",
       "      <td>8</td>\n",
       "      <td>7</td>\n",
       "      <td>13</td>\n",
       "    </tr>\n",
       "    <tr>\n",
       "      <th>2</th>\n",
       "      <td>-6</td>\n",
       "      <td>12</td>\n",
       "      <td>-3</td>\n",
       "    </tr>\n",
       "    <tr>\n",
       "      <th>3</th>\n",
       "      <td>4</td>\n",
       "      <td>-5</td>\n",
       "      <td>2</td>\n",
       "    </tr>\n",
       "    <tr>\n",
       "      <th>4</th>\n",
       "      <td>-1</td>\n",
       "      <td>2</td>\n",
       "      <td>4</td>\n",
       "    </tr>\n",
       "  </tbody>\n",
       "</table>\n",
       "</div>"
      ],
      "text/plain": [
       "   0   1   2\n",
       "0  6  -7   1\n",
       "1  8   7  13\n",
       "2 -6  12  -3\n",
       "3  4  -5   2\n",
       "4 -1   2   4"
      ]
     },
     "execution_count": 63,
     "metadata": {},
     "output_type": "execute_result"
    }
   ],
   "source": [
    "DataFrame(df1.values + df2.values)"
   ]
  },
  {
   "cell_type": "markdown",
   "id": "544b5ee4",
   "metadata": {},
   "source": [
    "Doesn't seem like a very powerful reason for us to use Pandas."
   ]
  },
  {
   "cell_type": "code",
   "execution_count": 64,
   "id": "d500fcb9",
   "metadata": {},
   "outputs": [],
   "source": [
    "#### Or perhaps that we sometimes get totally perplexing results and have to ```.reset_index()``` to coerce the library to "
   ]
  },
  {
   "cell_type": "markdown",
   "id": "ac605cf6",
   "metadata": {},
   "source": [
    "Maybe is that in addition to that ```.values```, we have to ```.reset_index``` to kind of stay within Pandas and throw away whatever that index is, because that seems to be the source of our problems, and I guess that that might be a compelling reason to use Pandas, just to ```.reset_index()``` our way to success.\n",
    "\n",
    "We have ```df```, we group by that ```a``` columns, and then "
   ]
  },
  {
   "cell_type": "code",
   "execution_count": 65,
   "id": "167b977e",
   "metadata": {},
   "outputs": [],
   "source": [
    "df1 = DataFrame(rng.integers(-10, +10, size=(5,3)), columns=[*\"abc\"])\n",
    "df2 = DataFrame(rng.integers(-10, +10, size=(5,3)), columns=[*\"abc\"])"
   ]
  },
  {
   "cell_type": "code",
   "execution_count": 66,
   "id": "d2e968eb",
   "metadata": {},
   "outputs": [
    {
     "data": {
      "text/html": [
       "<div>\n",
       "<style scoped>\n",
       "    .dataframe tbody tr th:only-of-type {\n",
       "        vertical-align: middle;\n",
       "    }\n",
       "\n",
       "    .dataframe tbody tr th {\n",
       "        vertical-align: top;\n",
       "    }\n",
       "\n",
       "    .dataframe thead th {\n",
       "        text-align: right;\n",
       "    }\n",
       "</style>\n",
       "<table border=\"1\" class=\"dataframe\">\n",
       "  <thead>\n",
       "    <tr style=\"text-align: right;\">\n",
       "      <th></th>\n",
       "      <th>a</th>\n",
       "      <th>b</th>\n",
       "      <th>c</th>\n",
       "    </tr>\n",
       "  </thead>\n",
       "  <tbody>\n",
       "    <tr>\n",
       "      <th>0</th>\n",
       "      <td>1</td>\n",
       "      <td>0</td>\n",
       "      <td>-4</td>\n",
       "    </tr>\n",
       "    <tr>\n",
       "      <th>1</th>\n",
       "      <td>5</td>\n",
       "      <td>-3</td>\n",
       "      <td>-4</td>\n",
       "    </tr>\n",
       "    <tr>\n",
       "      <th>2</th>\n",
       "      <td>7</td>\n",
       "      <td>-5</td>\n",
       "      <td>-6</td>\n",
       "    </tr>\n",
       "    <tr>\n",
       "      <th>3</th>\n",
       "      <td>4</td>\n",
       "      <td>2</td>\n",
       "      <td>-10</td>\n",
       "    </tr>\n",
       "    <tr>\n",
       "      <th>4</th>\n",
       "      <td>-9</td>\n",
       "      <td>-3</td>\n",
       "      <td>6</td>\n",
       "    </tr>\n",
       "  </tbody>\n",
       "</table>\n",
       "</div>"
      ],
      "text/plain": [
       "   a  b   c\n",
       "0  1  0  -4\n",
       "1  5 -3  -4\n",
       "2  7 -5  -6\n",
       "3  4  2 -10\n",
       "4 -9 -3   6"
      ]
     },
     "execution_count": 66,
     "metadata": {},
     "output_type": "execute_result"
    }
   ],
   "source": [
    "df1"
   ]
  },
  {
   "cell_type": "code",
   "execution_count": 67,
   "id": "158f646a",
   "metadata": {},
   "outputs": [
    {
     "data": {
      "text/html": [
       "<div>\n",
       "<style scoped>\n",
       "    .dataframe tbody tr th:only-of-type {\n",
       "        vertical-align: middle;\n",
       "    }\n",
       "\n",
       "    .dataframe tbody tr th {\n",
       "        vertical-align: top;\n",
       "    }\n",
       "\n",
       "    .dataframe thead th {\n",
       "        text-align: right;\n",
       "    }\n",
       "</style>\n",
       "<table border=\"1\" class=\"dataframe\">\n",
       "  <thead>\n",
       "    <tr style=\"text-align: right;\">\n",
       "      <th></th>\n",
       "      <th>a</th>\n",
       "      <th>b</th>\n",
       "      <th>c</th>\n",
       "    </tr>\n",
       "  </thead>\n",
       "  <tbody>\n",
       "    <tr>\n",
       "      <th>0</th>\n",
       "      <td>-2</td>\n",
       "      <td>5</td>\n",
       "      <td>-4</td>\n",
       "    </tr>\n",
       "    <tr>\n",
       "      <th>1</th>\n",
       "      <td>-6</td>\n",
       "      <td>5</td>\n",
       "      <td>7</td>\n",
       "    </tr>\n",
       "    <tr>\n",
       "      <th>2</th>\n",
       "      <td>-9</td>\n",
       "      <td>-9</td>\n",
       "      <td>3</td>\n",
       "    </tr>\n",
       "    <tr>\n",
       "      <th>3</th>\n",
       "      <td>-4</td>\n",
       "      <td>1</td>\n",
       "      <td>-7</td>\n",
       "    </tr>\n",
       "    <tr>\n",
       "      <th>4</th>\n",
       "      <td>7</td>\n",
       "      <td>-1</td>\n",
       "      <td>7</td>\n",
       "    </tr>\n",
       "  </tbody>\n",
       "</table>\n",
       "</div>"
      ],
      "text/plain": [
       "   a  b  c\n",
       "0 -2  5 -4\n",
       "1 -6  5  7\n",
       "2 -9 -9  3\n",
       "3 -4  1 -7\n",
       "4  7 -1  7"
      ]
     },
     "execution_count": 67,
     "metadata": {},
     "output_type": "execute_result"
    }
   ],
   "source": [
    "df2"
   ]
  },
  {
   "cell_type": "code",
   "execution_count": 68,
   "id": "47b8e034",
   "metadata": {},
   "outputs": [
    {
     "data": {
      "text/html": [
       "<div>\n",
       "<style scoped>\n",
       "    .dataframe tbody tr th:only-of-type {\n",
       "        vertical-align: middle;\n",
       "    }\n",
       "\n",
       "    .dataframe tbody tr th {\n",
       "        vertical-align: top;\n",
       "    }\n",
       "\n",
       "    .dataframe thead th {\n",
       "        text-align: right;\n",
       "    }\n",
       "</style>\n",
       "<table border=\"1\" class=\"dataframe\">\n",
       "  <thead>\n",
       "    <tr style=\"text-align: right;\">\n",
       "      <th></th>\n",
       "      <th>b</th>\n",
       "      <th>c</th>\n",
       "    </tr>\n",
       "    <tr>\n",
       "      <th>a</th>\n",
       "      <th></th>\n",
       "      <th></th>\n",
       "    </tr>\n",
       "  </thead>\n",
       "  <tbody>\n",
       "    <tr>\n",
       "      <th>-9</th>\n",
       "      <td>-3</td>\n",
       "      <td>6</td>\n",
       "    </tr>\n",
       "    <tr>\n",
       "      <th>1</th>\n",
       "      <td>0</td>\n",
       "      <td>-4</td>\n",
       "    </tr>\n",
       "    <tr>\n",
       "      <th>4</th>\n",
       "      <td>2</td>\n",
       "      <td>-10</td>\n",
       "    </tr>\n",
       "    <tr>\n",
       "      <th>5</th>\n",
       "      <td>-3</td>\n",
       "      <td>-4</td>\n",
       "    </tr>\n",
       "    <tr>\n",
       "      <th>7</th>\n",
       "      <td>-5</td>\n",
       "      <td>-6</td>\n",
       "    </tr>\n",
       "  </tbody>\n",
       "</table>\n",
       "</div>"
      ],
      "text/plain": [
       "    b   c\n",
       "a        \n",
       "-9 -3   6\n",
       " 1  0  -4\n",
       " 4  2 -10\n",
       " 5 -3  -4\n",
       " 7 -5  -6"
      ]
     },
     "execution_count": 68,
     "metadata": {},
     "output_type": "execute_result"
    }
   ],
   "source": [
    "df1.groupby(\"a\").sum()"
   ]
  },
  {
   "cell_type": "markdown",
   "id": "844049a9",
   "metadata": {},
   "source": [
    "This doesn't do much, but at least it will sort by the \"a\" values.\n",
    "\n",
    "If we take that and we add it to another DataFrame:"
   ]
  },
  {
   "cell_type": "code",
   "execution_count": 69,
   "id": "66d7c0ab",
   "metadata": {},
   "outputs": [
    {
     "data": {
      "text/html": [
       "<div>\n",
       "<style scoped>\n",
       "    .dataframe tbody tr th:only-of-type {\n",
       "        vertical-align: middle;\n",
       "    }\n",
       "\n",
       "    .dataframe tbody tr th {\n",
       "        vertical-align: top;\n",
       "    }\n",
       "\n",
       "    .dataframe thead th {\n",
       "        text-align: right;\n",
       "    }\n",
       "</style>\n",
       "<table border=\"1\" class=\"dataframe\">\n",
       "  <thead>\n",
       "    <tr style=\"text-align: right;\">\n",
       "      <th></th>\n",
       "      <th>a</th>\n",
       "      <th>b</th>\n",
       "      <th>c</th>\n",
       "    </tr>\n",
       "  </thead>\n",
       "  <tbody>\n",
       "    <tr>\n",
       "      <th>-9</th>\n",
       "      <td>NaN</td>\n",
       "      <td>NaN</td>\n",
       "      <td>NaN</td>\n",
       "    </tr>\n",
       "    <tr>\n",
       "      <th>0</th>\n",
       "      <td>NaN</td>\n",
       "      <td>NaN</td>\n",
       "      <td>NaN</td>\n",
       "    </tr>\n",
       "    <tr>\n",
       "      <th>1</th>\n",
       "      <td>NaN</td>\n",
       "      <td>5.0</td>\n",
       "      <td>3.0</td>\n",
       "    </tr>\n",
       "    <tr>\n",
       "      <th>2</th>\n",
       "      <td>NaN</td>\n",
       "      <td>NaN</td>\n",
       "      <td>NaN</td>\n",
       "    </tr>\n",
       "    <tr>\n",
       "      <th>3</th>\n",
       "      <td>NaN</td>\n",
       "      <td>NaN</td>\n",
       "      <td>NaN</td>\n",
       "    </tr>\n",
       "    <tr>\n",
       "      <th>4</th>\n",
       "      <td>NaN</td>\n",
       "      <td>1.0</td>\n",
       "      <td>-3.0</td>\n",
       "    </tr>\n",
       "    <tr>\n",
       "      <th>5</th>\n",
       "      <td>NaN</td>\n",
       "      <td>NaN</td>\n",
       "      <td>NaN</td>\n",
       "    </tr>\n",
       "    <tr>\n",
       "      <th>7</th>\n",
       "      <td>NaN</td>\n",
       "      <td>NaN</td>\n",
       "      <td>NaN</td>\n",
       "    </tr>\n",
       "  </tbody>\n",
       "</table>\n",
       "</div>"
      ],
      "text/plain": [
       "     a    b    c\n",
       "-9 NaN  NaN  NaN\n",
       " 0 NaN  NaN  NaN\n",
       " 1 NaN  5.0  3.0\n",
       " 2 NaN  NaN  NaN\n",
       " 3 NaN  NaN  NaN\n",
       " 4 NaN  1.0 -3.0\n",
       " 5 NaN  NaN  NaN\n",
       " 7 NaN  NaN  NaN"
      ]
     },
     "execution_count": 69,
     "metadata": {},
     "output_type": "execute_result"
    }
   ],
   "source": [
    "df1.groupby(\"a\").sum() + df2"
   ]
  },
  {
   "cell_type": "markdown",
   "id": "34c7b005",
   "metadata": {},
   "source": [
    "We end up again with a bunch of NaN values, except for a tiny little slimmer there, but ```.dropna``` is not going to help."
   ]
  },
  {
   "cell_type": "markdown",
   "id": "8aaee4a1",
   "metadata": {},
   "source": [
    "You know what, I don't need to use ```.values```, I just use ```.reset_index``` on one side and get something that looks like what I want (in the ```.groupby``` I might be able to set a parameter to say don't use the index):"
   ]
  },
  {
   "cell_type": "code",
   "execution_count": 70,
   "id": "93dc09b4",
   "metadata": {},
   "outputs": [
    {
     "data": {
      "text/html": [
       "<div>\n",
       "<style scoped>\n",
       "    .dataframe tbody tr th:only-of-type {\n",
       "        vertical-align: middle;\n",
       "    }\n",
       "\n",
       "    .dataframe tbody tr th {\n",
       "        vertical-align: top;\n",
       "    }\n",
       "\n",
       "    .dataframe thead th {\n",
       "        text-align: right;\n",
       "    }\n",
       "</style>\n",
       "<table border=\"1\" class=\"dataframe\">\n",
       "  <thead>\n",
       "    <tr style=\"text-align: right;\">\n",
       "      <th></th>\n",
       "      <th>a</th>\n",
       "      <th>b</th>\n",
       "      <th>c</th>\n",
       "    </tr>\n",
       "  </thead>\n",
       "  <tbody>\n",
       "    <tr>\n",
       "      <th>0</th>\n",
       "      <td>-11</td>\n",
       "      <td>2</td>\n",
       "      <td>2</td>\n",
       "    </tr>\n",
       "    <tr>\n",
       "      <th>1</th>\n",
       "      <td>-5</td>\n",
       "      <td>5</td>\n",
       "      <td>3</td>\n",
       "    </tr>\n",
       "    <tr>\n",
       "      <th>2</th>\n",
       "      <td>-5</td>\n",
       "      <td>-7</td>\n",
       "      <td>-7</td>\n",
       "    </tr>\n",
       "    <tr>\n",
       "      <th>3</th>\n",
       "      <td>1</td>\n",
       "      <td>-2</td>\n",
       "      <td>-11</td>\n",
       "    </tr>\n",
       "    <tr>\n",
       "      <th>4</th>\n",
       "      <td>14</td>\n",
       "      <td>-6</td>\n",
       "      <td>1</td>\n",
       "    </tr>\n",
       "  </tbody>\n",
       "</table>\n",
       "</div>"
      ],
      "text/plain": [
       "    a  b   c\n",
       "0 -11  2   2\n",
       "1  -5  5   3\n",
       "2  -5 -7  -7\n",
       "3   1 -2 -11\n",
       "4  14 -6   1"
      ]
     },
     "execution_count": 70,
     "metadata": {},
     "output_type": "execute_result"
    }
   ],
   "source": [
    "df1.groupby(\"a\").sum().reset_index() + df2"
   ]
  },
  {
   "cell_type": "markdown",
   "id": "b821f747",
   "metadata": {},
   "source": [
    "#### How many rows do we get (Good tools should be predictable)\n",
    "\n",
    "Maybe it's because Pandas is so unpredictable in terms of what it will give us when we perform an operation, a good tool should be guessable, we should be able to write some code and have a sense for what it's going to do before we run that line of code. \n",
    "\n",
    "Pandas doesn't seem to be the case, because even with something simple, like figuring how many rows I am going to get when doing an operation with two Pandas objects, I can't guess what that is going to be.\n",
    "\n",
    "Like when I have these two Series, which just contain 4 values, and I sum them up, ok, the result has 4 values, that's not too bad:"
   ]
  },
  {
   "cell_type": "code",
   "execution_count": 71,
   "id": "9736aa2b",
   "metadata": {},
   "outputs": [],
   "source": [
    "s1 = Series(rng.integers(-10, +10, size=4), index=[*\"aabb\"])\n",
    "s2 = Series(rng.integers(-10, +10, size=4), index=[*\"aabb\"])"
   ]
  },
  {
   "cell_type": "code",
   "execution_count": 72,
   "id": "31871fcd",
   "metadata": {},
   "outputs": [
    {
     "name": "stdout",
     "output_type": "stream",
     "text": [
      "a    5\n",
      "a    4\n",
      "b   -6\n",
      "b    5\n",
      "dtype: int64\n",
      "\n",
      "a   -9\n",
      "a    1\n",
      "b   -2\n",
      "b    9\n",
      "dtype: int64\n"
     ]
    }
   ],
   "source": [
    "print(s1, s2, sep=\"\\n\\n\")"
   ]
  },
  {
   "cell_type": "code",
   "execution_count": 73,
   "id": "99b359a9",
   "metadata": {},
   "outputs": [
    {
     "data": {
      "text/plain": [
       "a    -4\n",
       "a     5\n",
       "b    -8\n",
       "b    14\n",
       "dtype: int64"
      ]
     },
     "execution_count": 73,
     "metadata": {},
     "output_type": "execute_result"
    }
   ],
   "source": [
    "s1 + s2"
   ]
  },
  {
   "cell_type": "markdown",
   "id": "f5979e7a",
   "metadata": {},
   "source": [
    "But when I try the same with these 2 other series, which also have 4 values, now I get 6 values. What?"
   ]
  },
  {
   "cell_type": "code",
   "execution_count": 74,
   "id": "d199e17b",
   "metadata": {},
   "outputs": [],
   "source": [
    "s1 = Series(rng.integers(-10, +10, size=4), index=[*\"aaab\"])\n",
    "s2 = Series(rng.integers(-10, +10, size=4), index=[*\"abbb\"])"
   ]
  },
  {
   "cell_type": "code",
   "execution_count": 75,
   "id": "f0303edf",
   "metadata": {},
   "outputs": [
    {
     "name": "stdout",
     "output_type": "stream",
     "text": [
      "a   -7\n",
      "a    8\n",
      "a   -9\n",
      "b    2\n",
      "dtype: int64\n",
      "\n",
      "a    1\n",
      "b    7\n",
      "b   -5\n",
      "b    8\n",
      "dtype: int64\n"
     ]
    }
   ],
   "source": [
    "print(s1, s2, sep=\"\\n\\n\")"
   ]
  },
  {
   "cell_type": "code",
   "execution_count": 76,
   "id": "d58aecc8",
   "metadata": {},
   "outputs": [
    {
     "data": {
      "text/plain": [
       "a    -6\n",
       "a     9\n",
       "a    -8\n",
       "b     9\n",
       "b    -3\n",
       "b    10\n",
       "dtype: int64"
      ]
     },
     "execution_count": 76,
     "metadata": {},
     "output_type": "execute_result"
    }
   ],
   "source": [
    "s1 + s2"
   ]
  },
  {
   "cell_type": "markdown",
   "id": "4ee432d3",
   "metadata": {},
   "source": [
    "Again, if we try adding these two other series, which also have 4 values, we get 8 values in the result this time:"
   ]
  },
  {
   "cell_type": "code",
   "execution_count": 77,
   "id": "b124a5cc",
   "metadata": {},
   "outputs": [],
   "source": [
    "s1 = Series(rng.integers(-10, +10, size=4), index=[*\"aabb\"])\n",
    "s2 = Series(rng.integers(-10, +10, size=4), index=[*\"abbb\"])"
   ]
  },
  {
   "cell_type": "code",
   "execution_count": 78,
   "id": "9cb844e6",
   "metadata": {},
   "outputs": [
    {
     "name": "stdout",
     "output_type": "stream",
     "text": [
      "a    3\n",
      "a    7\n",
      "b   -7\n",
      "b    5\n",
      "dtype: int64\n",
      "\n",
      "a     8\n",
      "b   -10\n",
      "b    -3\n",
      "b     2\n",
      "dtype: int64\n",
      "\n",
      "a    11\n",
      "a    15\n",
      "b   -17\n",
      "b   -10\n",
      "b    -5\n",
      "b    -5\n",
      "b     2\n",
      "b     7\n",
      "dtype: int64\n"
     ]
    }
   ],
   "source": [
    "print(s1, s2, s1 + s2, sep=\"\\n\\n\")"
   ]
  },
  {
   "cell_type": "markdown",
   "id": "1dd874e2",
   "metadata": {},
   "source": [
    "I can't even predict how many values I am going to get when adding these two things. That would never happen with the Python dictionary or list, I can explicitly do how I want to combine these two structures, and I can see immediatly from this code, which might be a little bit clumsy, what is going on. This is a pretty terrible reason why we might want to use Pandas, because we have very little predictability over what is going on.\n",
    "\n",
    "Maybe what I want to do is ```reset_index``` my way to success here, and then I end up with something that kind of makes sense, except for that column named \"index\", that is not very useful:"
   ]
  },
  {
   "cell_type": "code",
   "execution_count": 79,
   "id": "27bb8f54",
   "metadata": {},
   "outputs": [
    {
     "name": "stdout",
     "output_type": "stream",
     "text": [
      "a    3\n",
      "a    7\n",
      "b   -7\n",
      "b    5\n",
      "dtype: int64\n",
      "\n",
      "a     8\n",
      "b   -10\n",
      "b    -3\n",
      "b     2\n",
      "dtype: int64\n",
      "\n",
      "  index   0\n",
      "0    aa  11\n",
      "1    ab  -3\n",
      "2    bb -10\n",
      "3    bb   7\n"
     ]
    }
   ],
   "source": [
    "print(s1, s2, s1.reset_index() + s2.reset_index(), sep=\"\\n\\n\")"
   ]
  },
  {
   "cell_type": "markdown",
   "id": "a9582864",
   "metadata": {},
   "source": [
    "Instead of ```reset_index```, just throw the index in the garbage, not helpful at all, not really adding anything to my life:"
   ]
  },
  {
   "cell_type": "code",
   "execution_count": 80,
   "id": "61f2bb46",
   "metadata": {},
   "outputs": [
    {
     "name": "stdout",
     "output_type": "stream",
     "text": [
      "a    3\n",
      "a    7\n",
      "b   -7\n",
      "b    5\n",
      "dtype: int64\n",
      "\n",
      "a     8\n",
      "b   -10\n",
      "b    -3\n",
      "b     2\n",
      "dtype: int64\n",
      "\n",
      "0    11\n",
      "1    -3\n",
      "2   -10\n",
      "3     7\n",
      "dtype: int64\n"
     ]
    }
   ],
   "source": [
    "print(s1, s2, s1.reset_index(drop=True) + s2.reset_index(drop=True), sep=\"\\n\\n\")"
   ]
  },
  {
   "cell_type": "markdown",
   "id": "222ded3b",
   "metadata": {},
   "source": [
    "#### Is it because the API makes weird, incomprehensible distinctions, like the ```.groupby``` operations for user defined\n",
    "\n",
    "Maybe the reason we use Pandas is because it makes weird, incomprehensible distinctinos in its library.\n",
    "\n",
    "For example, if we have a DataFrame, and we want to go onto that ```.groupby```, and I want to group by that columns that is not longer unique values, but two values, True of False, the place where \"a\" is True or False.\n",
    "\n",
    "When I ```.groupby``` and do a sum, that works:"
   ]
  },
  {
   "cell_type": "code",
   "execution_count": 81,
   "id": "a93e13de",
   "metadata": {},
   "outputs": [],
   "source": [
    "from numpy import repeat"
   ]
  },
  {
   "cell_type": "code",
   "execution_count": 82,
   "id": "0854946e",
   "metadata": {},
   "outputs": [],
   "source": [
    "df = DataFrame({\n",
    "    \"a\": repeat([True, False], (size := 8)//2),\n",
    "    \"b\": rng.integers(-10, +10, size)\n",
    "})"
   ]
  },
  {
   "cell_type": "code",
   "execution_count": 83,
   "id": "705401f9",
   "metadata": {},
   "outputs": [
    {
     "name": "stdout",
     "output_type": "stream",
     "text": [
      "       a  b\n",
      "0   True -8\n",
      "1   True  0\n",
      "2   True  2\n",
      "3   True  5\n",
      "4  False  8\n",
      "5  False -2\n",
      "6  False -2\n",
      "7  False -1\n",
      "\n",
      "       b\n",
      "a       \n",
      "False  3\n",
      "True  -1\n"
     ]
    }
   ],
   "source": [
    "print(df, df.groupby(\"a\").sum(), sep=\"\\n\\n\")"
   ]
  },
  {
   "cell_type": "markdown",
   "id": "bde916f7",
   "metadata": {},
   "source": [
    "But if we want to do another operation, like, say, the kurtosis, that is not built-in into the ```.groupby```, \n",
    "we can't do ```.groupby.kurt()```, so we might do a ```.groupby.transform```:"
   ]
  },
  {
   "cell_type": "code",
   "execution_count": 84,
   "id": "68fc9d40",
   "metadata": {},
   "outputs": [
    {
     "name": "stdout",
     "output_type": "stream",
     "text": [
      "       a  b\n",
      "0   True -8\n",
      "1   True  0\n",
      "2   True  2\n",
      "3   True  5\n",
      "4  False  8\n",
      "5  False -2\n",
      "6  False -2\n",
      "7  False -1\n",
      "\n",
      "          b\n",
      "0  1.819254\n",
      "1  1.819254\n",
      "2  1.819254\n",
      "3  1.819254\n",
      "4  3.800222\n",
      "5  3.800222\n",
      "6  3.800222\n",
      "7  3.800222\n"
     ]
    }
   ],
   "source": [
    "print(df, df.groupby(\"a\").transform(lambda x: x.kurt()), sep=\"\\n\\n\")"
   ]
  },
  {
   "cell_type": "markdown",
   "id": "ad3b1373",
   "metadata": {},
   "source": [
    "This gives me, what, 8 rows? What on earth is going on here?\n",
    "\n",
    "Maybe I'll do a ```.apply```:"
   ]
  },
  {
   "cell_type": "code",
   "execution_count": 85,
   "id": "35842579",
   "metadata": {},
   "outputs": [
    {
     "name": "stdout",
     "output_type": "stream",
     "text": [
      "       a  b\n",
      "0   True -8\n",
      "1   True  0\n",
      "2   True  2\n",
      "3   True  5\n",
      "4  False  8\n",
      "5  False -2\n",
      "6  False -2\n",
      "7  False -1\n",
      "\n",
      "         a         b\n",
      "a                   \n",
      "False  0.0  3.800222\n",
      "True   0.0  1.819254\n"
     ]
    }
   ],
   "source": [
    "print(df, df.groupby(\"a\").apply(lambda x: x.kurt()), sep=\"\\n\\n\")"
   ]
  },
  {
   "cell_type": "markdown",
   "id": "138f0dce",
   "metadata": {},
   "source": [
    "That gives me \"a\" and \"b\" like that? That's bizarre?\n",
    "\n",
    "And maybe, eventually, we'll end up doing a ```.agg```:"
   ]
  },
  {
   "cell_type": "code",
   "execution_count": 86,
   "id": "d861e79a",
   "metadata": {},
   "outputs": [
    {
     "name": "stdout",
     "output_type": "stream",
     "text": [
      "       a  b\n",
      "0   True -8\n",
      "1   True  0\n",
      "2   True  2\n",
      "3   True  5\n",
      "4  False  8\n",
      "5  False -2\n",
      "6  False -2\n",
      "7  False -1\n",
      "\n",
      "              b\n",
      "a              \n",
      "False  3.800222\n",
      "True   1.819254\n"
     ]
    }
   ],
   "source": [
    "print(df, df.groupby(\"a\").agg(lambda x: x.kurt()), sep=\"\\n\\n\")"
   ]
  },
  {
   "cell_type": "markdown",
   "id": "e6fddbdb",
   "metadata": {},
   "source": [
    "That seems to sort of give me the right thing. Whay on earth did they create ```.transform```, ```.apply``` and ```.agg```? Why not have just one? Why not make this easy for me? What on earth does this even mean?"
   ]
  },
  {
   "cell_type": "markdown",
   "id": "704b4689",
   "metadata": {},
   "source": [
    "#### Maybe we use Pandas becasue it is full of minor conveniences that allow us to eliminate more or less one line of code.\n",
    "\n",
    "For instance, we can create a Series and the shift it why one value:"
   ]
  },
  {
   "cell_type": "code",
   "execution_count": 87,
   "id": "f62d43d6",
   "metadata": {},
   "outputs": [],
   "source": [
    "s = Series(rng.integers(-10, +10, size=5))"
   ]
  },
  {
   "cell_type": "code",
   "execution_count": 88,
   "id": "64ca89d9",
   "metadata": {},
   "outputs": [
    {
     "name": "stdout",
     "output_type": "stream",
     "text": [
      "0     9\n",
      "1    -7\n",
      "2    -1\n",
      "3   -10\n",
      "4    -2\n",
      "dtype: int64\n",
      "\n",
      "0     NaN\n",
      "1     9.0\n",
      "2    -7.0\n",
      "3    -1.0\n",
      "4   -10.0\n",
      "dtype: float64\n"
     ]
    }
   ],
   "source": [
    "print(s, s.shift(1), sep=\"\\n\\n\")"
   ]
  },
  {
   "cell_type": "markdown",
   "id": "b13e3ae4",
   "metadata": {},
   "source": [
    "Or we can shift it and subtract from itself:"
   ]
  },
  {
   "cell_type": "code",
   "execution_count": 89,
   "id": "853b2313",
   "metadata": {},
   "outputs": [
    {
     "name": "stdout",
     "output_type": "stream",
     "text": [
      "0     9\n",
      "1    -7\n",
      "2    -1\n",
      "3   -10\n",
      "4    -2\n",
      "dtype: int64\n",
      "\n",
      "0     NaN\n",
      "1   -16.0\n",
      "2     6.0\n",
      "3    -9.0\n",
      "4     8.0\n",
      "dtype: float64\n"
     ]
    }
   ],
   "source": [
    "print(s, s.diff(1), sep=\"\\n\\n\")"
   ]
  },
  {
   "cell_type": "markdown",
   "id": "fe1acf66",
   "metadata": {},
   "source": [
    "Or we could do ```Series.sum```:"
   ]
  },
  {
   "cell_type": "code",
   "execution_count": 90,
   "id": "018129b3",
   "metadata": {},
   "outputs": [
    {
     "name": "stdout",
     "output_type": "stream",
     "text": [
      "0     9\n",
      "1    -7\n",
      "2    -1\n",
      "3   -10\n",
      "4    -2\n",
      "dtype: int64\n",
      "\n",
      "s.sum() = -11.00\n"
     ]
    }
   ],
   "source": [
    "print(s, f\"{s.sum() = :.2f}\", sep=\"\\n\\n\")"
   ]
  },
  {
   "cell_type": "markdown",
   "id": "3921b5cc",
   "metadata": {},
   "source": [
    "Or ```Series.mean```:"
   ]
  },
  {
   "cell_type": "code",
   "execution_count": 91,
   "id": "b4d991fb",
   "metadata": {},
   "outputs": [
    {
     "name": "stdout",
     "output_type": "stream",
     "text": [
      "0     9\n",
      "1    -7\n",
      "2    -1\n",
      "3   -10\n",
      "4    -2\n",
      "dtype: int64 s.mean() = -2.20\n"
     ]
    }
   ],
   "source": [
    "print(s, f\"{s.mean() = :.2f}\")"
   ]
  },
  {
   "cell_type": "markdown",
   "id": "ba387390",
   "metadata": {},
   "source": [
    "Or ```Series.skew```:"
   ]
  },
  {
   "cell_type": "code",
   "execution_count": 92,
   "id": "13a1e066",
   "metadata": {},
   "outputs": [
    {
     "name": "stdout",
     "output_type": "stream",
     "text": [
      "0     9\n",
      "1    -7\n",
      "2    -1\n",
      "3   -10\n",
      "4    -2\n",
      "dtype: int64 s.skew() = 0.89\n"
     ]
    }
   ],
   "source": [
    "print(s, f\"{s.skew() = :.2f}\")"
   ]
  },
  {
   "cell_type": "markdown",
   "id": "1b96fcf9",
   "metadata": {},
   "source": [
    "Or ```Series.kurt```:"
   ]
  },
  {
   "cell_type": "code",
   "execution_count": 93,
   "id": "1275210c",
   "metadata": {},
   "outputs": [
    {
     "name": "stdout",
     "output_type": "stream",
     "text": [
      "0     9\n",
      "1    -7\n",
      "2    -1\n",
      "3   -10\n",
      "4    -2\n",
      "dtype: int64 s.kurt() = 0.99\n"
     ]
    }
   ],
   "source": [
    "print(s, f\"{s.kurt() = :.2f}\")"
   ]
  },
  {
   "cell_type": "markdown",
   "id": "e69766ab",
   "metadata": {},
   "source": [
    "And between you and me, I don't even know what skew or kurtosis even means. Sure, kurtosis is likek the scaled 4th moment of the distribution? No clue what that actually means. But I do know just have imported this from ```scipy.stats``` and I could just used the ```numpy.ndarray```, and I couls just have used indexing on it to chop off the first element. If I am going to drop de NaN anyway, what's the difference? I could just have done a substraction, that seems much clearer.\n",
    "The other operations, ```sum``` and ```mean```, are already provided by numpy, and ```skew``` and ```kurtosis```, fine, I've got to eliminate one ```scipy.stats``` import, it doesn't really seem like a very compelling reason for why we should use Pandas:"
   ]
  },
  {
   "cell_type": "code",
   "execution_count": 94,
   "id": "86d11974",
   "metadata": {},
   "outputs": [
    {
     "name": "stdout",
     "output_type": "stream",
     "text": [
      "[ 8  2 -4  9  2]\n",
      "\n",
      "diff = [ 0  6 12 -1]\n",
      "\n",
      "xs.sum() = 17.00\n",
      "\n",
      "xs.mean() = 3.40\n"
     ]
    }
   ],
   "source": [
    "print(\n",
    "    (xs := rng.integers(-10, +10, size=5)), \n",
    "    f\"diff = {xs[:1] - xs[:-1]}\",\n",
    "    f\"{xs.sum() = :.2f}\",\n",
    "    f\"{xs.mean() = :.2f}\",\n",
    "    sep=\"\\n\\n\"\n",
    ")"
   ]
  },
  {
   "cell_type": "markdown",
   "id": "8d2ec494",
   "metadata": {},
   "source": [
    "#### Is it because the DataFrame gives us the ability to store multiple one-dimensional data sets, at the cost of about 250K lines worth of code complexity?\n",
    "\n",
    "All this to have a dictionary of ```numpy.ndarray```s"
   ]
  },
  {
   "cell_type": "markdown",
   "id": "444999c4",
   "metadata": {},
   "source": [
    "I can do operations down DataFrames, such as sum, create a \"sums\" column, and will take me as many as 2 or 3 lines of code, maybe a dictionary and a dictionary comprehension if I wanted to do this is pure numpy. And I guess that I can sum accross the columns, and maybe that might maybe take me one more line of code, and for all of this complexity that I am removing, all I have to pay is 250_000 lines of additional code complexity in one of my dependencies, that is not such a high price to pay:"
   ]
  },
  {
   "cell_type": "code",
   "execution_count": 95,
   "id": "745d237d",
   "metadata": {},
   "outputs": [],
   "source": [
    "df = DataFrame({\n",
    "    \"a\": Series(rng.integers(-10, +10, size=5)),\n",
    "    \"b\": Series(rng.integers(-10, +10, size=5)),\n",
    "    \"c\": Series(rng.integers(-10, +10, size=5)),\n",
    "})"
   ]
  },
  {
   "cell_type": "code",
   "execution_count": 96,
   "id": "ff607dc0",
   "metadata": {},
   "outputs": [
    {
     "name": "stdout",
     "output_type": "stream",
     "text": [
      "    a  b  c\n",
      "0   8 -2  5\n",
      "1 -10 -1 -9\n",
      "2  -1 -2 -2\n",
      "3   6  0 -5\n",
      "4   5 -6  4\n",
      "\n",
      "a     8\n",
      "b   -11\n",
      "c    -7\n",
      "dtype: int64\n",
      "\n",
      "0    11\n",
      "1   -20\n",
      "2    -5\n",
      "3     1\n",
      "4     3\n",
      "dtype: int64\n",
      "\n",
      "     b  c\n",
      "a        \n",
      "-10 -1 -9\n",
      "-1  -2 -2\n",
      " 5  -6  4\n",
      " 6   0 -5\n",
      " 8  -2  5\n"
     ]
    }
   ],
   "source": [
    "print(\n",
    "    df,\n",
    "    df.sum(),\n",
    "    df.sum(axis=\"columns\"),\n",
    "    df.groupby(\"a\").sum(),\n",
    "    sep=\"\\n\\n\"\n",
    ")"
   ]
  },
  {
   "cell_type": "markdown",
   "id": "b9bc30b0",
   "metadata": {},
   "source": [
    "#### 250_000 lines of code?"
   ]
  },
  {
   "cell_type": "markdown",
   "id": "67c7ec26",
   "metadata": {},
   "source": [
    "**My way:**"
   ]
  },
  {
   "cell_type": "code",
   "execution_count": 97,
   "id": "2668def0",
   "metadata": {},
   "outputs": [],
   "source": [
    "import pandas\n",
    "from pathlib import Path"
   ]
  },
  {
   "cell_type": "code",
   "execution_count": 98,
   "id": "ee077c40",
   "metadata": {},
   "outputs": [],
   "source": [
    "df = DataFrame({\n",
    "       \"file\": [file.as_posix() for file in Path(pandas.__file__).parent.glob(\"**/*.py\")],\n",
    "})"
   ]
  },
  {
   "cell_type": "code",
   "execution_count": 99,
   "id": "86ef6791",
   "metadata": {},
   "outputs": [],
   "source": [
    "def lines(file):\n",
    "    with open(file) as f:\n",
    "        return len(f.readlines())"
   ]
  },
  {
   "cell_type": "code",
   "execution_count": 100,
   "id": "8ccd34c1",
   "metadata": {},
   "outputs": [],
   "source": [
    "df[\"lines\"] = df.apply(lambda row: lines(row[\"file\"]), axis=1)"
   ]
  },
  {
   "cell_type": "code",
   "execution_count": 101,
   "id": "17b4c2b3",
   "metadata": {},
   "outputs": [
    {
     "data": {
      "text/plain": [
       "587437"
      ]
     },
     "execution_count": 101,
     "metadata": {},
     "output_type": "execute_result"
    }
   ],
   "source": [
    "df[\"lines\"].sum()"
   ]
  },
  {
   "cell_type": "markdown",
   "id": "fc28593c",
   "metadata": {},
   "source": [
    "**James's way**:"
   ]
  },
  {
   "cell_type": "code",
   "execution_count": 102,
   "id": "933e2f69",
   "metadata": {},
   "outputs": [],
   "source": [
    "from subprocess import run, check_output\n",
    "from pathlib import Path\n",
    "from io import StringIO\n",
    "from pandas import read_csv, MultiIndex, IndexSlice"
   ]
  },
  {
   "cell_type": "code",
   "execution_count": 103,
   "id": "199d09eb",
   "metadata": {},
   "outputs": [
    {
     "name": "stdout",
     "output_type": "stream",
     "text": [
      "CPU times: user 1.24 ms, sys: 1.16 ms, total: 2.39 ms\n",
      "Wall time: 1.42 ms\n"
     ]
    }
   ],
   "source": [
    "%%time\n",
    "# we take the Pandas source code\n",
    "d = Path(\"/tmp/Pandas\")\n",
    "if not d.exists():\n",
    "    run([*\"git clone --depth 1 https://github.com/pandas-dev/pandas\".split(), d])"
   ]
  },
  {
   "cell_type": "code",
   "execution_count": 104,
   "id": "858bcd32",
   "metadata": {},
   "outputs": [],
   "source": [
    "# we take every single source file in the pandas directory\n",
    "# and put the result in a Pandas Series\n",
    "# and we find the length of each of the files\n",
    "s = read_csv(\n",
    "    StringIO(\n",
    "        check_output(\"find pandas -type f -iname *.* -exec wc -l {} ;\".split(), cwd=d).decode()\n",
    "    ),\n",
    "    delimiter=\" \",\n",
    "    skipinitialspace=True, # because lines start with multiple \n",
    "                           # spaces\n",
    "    #engine=\"python\",\n",
    "    index_col=[1],\n",
    "    #squeeze=True,         # parameter not supported\n",
    "    names=\"lines path\".split()\n",
    "    # remove every other line, the \"total\" at the end of `wc`\n",
    ")[::2].pipe(lambda s: s.set_axis(map(Path, s.index))) "
   ]
  },
  {
   "cell_type": "code",
   "execution_count": 105,
   "id": "cb2d623b",
   "metadata": {},
   "outputs": [
    {
     "name": "stdout",
     "output_type": "stream",
     "text": [
      "0.0\n"
     ]
    }
   ],
   "source": [
    "# how many lines of code are in each of those files\n",
    "# I don't care about all of those files, some of them are tests\n",
    "print(\n",
    "    # That gives me a mask, I'll take it and do a .loc operation\n",
    "    # to just pick out the files that don't belong in those\n",
    "    # testing directories\n",
    "    s.loc[    \n",
    "        s\n",
    "        # index this and remove any entry where it's from a\n",
    "        # _testing or tests directory\n",
    "        .index.map(lambda p: not p.is_relative_to(\"pandas/_testing\") and not p.is_relative_to(\"pandas/tests\"))\n",
    "    ]\n",
    "    # I'll group the result by the parent-most directory and\n",
    "    # the file's suffix, \n",
    "    .pipe(\n",
    "        lambda s:\n",
    "            s.groupby([\n",
    "                s.index.map(lambda p: p.parents[1]),\n",
    "                s.index.map(lambda p: p.suffix),\n",
    "            ]).sum()\n",
    "    )\n",
    "    # I'll unstack this and fill with zeroes if it doesn't \n",
    "    # happen to have anything, so that I can get a sense for\n",
    "    # what's there; there are quite some C code lines\n",
    "    # ~80k lines in the core and ~70k lines in the libs\n",
    "    .unstack(fill_value=0)\n",
    "    # if I sum this it will give me the sum on a pre file type basis\n",
    "    # \n",
    "    .sum()\n",
    "    # ~222K lines of .py code\n",
    "    # and if I then sum that up, I get the total #lines of code\n",
    "    .sum()\n",
    "    # ~280K\n",
    ")"
   ]
  },
  {
   "cell_type": "markdown",
   "id": "25f479c9",
   "metadata": {},
   "source": [
    "#### And for what?"
   ]
  },
  {
   "cell_type": "markdown",
   "id": "5211fea5",
   "metadata": {},
   "source": [
    "All that bunch of code for something that doesn't make any sense and that I am struggling with all the time does not seem like a good bet.\n",
    "\n",
    "Because here is a data frame that I want to update. I do this all the time to Python lists and dictionaries."
   ]
  },
  {
   "cell_type": "code",
   "execution_count": 106,
   "id": "542c662c",
   "metadata": {},
   "outputs": [],
   "source": [
    "df = DataFrame({\n",
    "    \"a\": rng.integers(-10, +10, size=(size := 5)),\n",
    "    \"b\": rng.integers(-10, +10, size=size),\n",
    "    \"c\": rng.choice([*ascii_lowercase], size=size)\n",
    "})"
   ]
  },
  {
   "cell_type": "code",
   "execution_count": 107,
   "id": "c644bf9d",
   "metadata": {
    "scrolled": true
   },
   "outputs": [
    {
     "data": {
      "text/html": [
       "<div>\n",
       "<style scoped>\n",
       "    .dataframe tbody tr th:only-of-type {\n",
       "        vertical-align: middle;\n",
       "    }\n",
       "\n",
       "    .dataframe tbody tr th {\n",
       "        vertical-align: top;\n",
       "    }\n",
       "\n",
       "    .dataframe thead th {\n",
       "        text-align: right;\n",
       "    }\n",
       "</style>\n",
       "<table border=\"1\" class=\"dataframe\">\n",
       "  <thead>\n",
       "    <tr style=\"text-align: right;\">\n",
       "      <th></th>\n",
       "      <th>a</th>\n",
       "      <th>b</th>\n",
       "      <th>c</th>\n",
       "    </tr>\n",
       "  </thead>\n",
       "  <tbody>\n",
       "    <tr>\n",
       "      <th>0</th>\n",
       "      <td>4</td>\n",
       "      <td>-8</td>\n",
       "      <td>r</td>\n",
       "    </tr>\n",
       "    <tr>\n",
       "      <th>1</th>\n",
       "      <td>4</td>\n",
       "      <td>-8</td>\n",
       "      <td>z</td>\n",
       "    </tr>\n",
       "    <tr>\n",
       "      <th>2</th>\n",
       "      <td>8</td>\n",
       "      <td>4</td>\n",
       "      <td>w</td>\n",
       "    </tr>\n",
       "    <tr>\n",
       "      <th>3</th>\n",
       "      <td>8</td>\n",
       "      <td>9</td>\n",
       "      <td>a</td>\n",
       "    </tr>\n",
       "    <tr>\n",
       "      <th>4</th>\n",
       "      <td>-7</td>\n",
       "      <td>8</td>\n",
       "      <td>d</td>\n",
       "    </tr>\n",
       "  </tbody>\n",
       "</table>\n",
       "</div>"
      ],
      "text/plain": [
       "   a  b  c\n",
       "0  4 -8  r\n",
       "1  4 -8  z\n",
       "2  8  4  w\n",
       "3  8  9  a\n",
       "4 -7  8  d"
      ]
     },
     "execution_count": 107,
     "metadata": {},
     "output_type": "execute_result"
    }
   ],
   "source": [
    "df"
   ]
  },
  {
   "cell_type": "markdown",
   "id": "7398310f",
   "metadata": {},
   "source": [
    "I'll something very simple, go to that \"a\" columns, go to that 0 value in that column, and multiply that by 10_000."
   ]
  },
  {
   "cell_type": "code",
   "execution_count": 108,
   "id": "3d5a6ba5",
   "metadata": {},
   "outputs": [
    {
     "name": "stderr",
     "output_type": "stream",
     "text": [
      "/var/folders/08/hhn4r3qx4hlf4pqfm4qyjn1w0000gn/T/ipykernel_28165/2477309787.py:1: SettingWithCopyWarning: \n",
      "A value is trying to be set on a copy of a slice from a DataFrame\n",
      "\n",
      "See the caveats in the documentation: https://pandas.pydata.org/pandas-docs/stable/user_guide/indexing.html#returning-a-view-versus-a-copy\n",
      "  df[\"a\"][0] *= 10_000\n"
     ]
    }
   ],
   "source": [
    "df[\"a\"][0] *= 10_000"
   ]
  },
  {
   "cell_type": "code",
   "execution_count": 109,
   "id": "ea8372ec",
   "metadata": {},
   "outputs": [
    {
     "name": "stdout",
     "output_type": "stream",
     "text": [
      "       a  b  c\n",
      "0  40000 -8  r\n",
      "1      4 -8  z\n",
      "2      8  4  w\n",
      "3      8  9  a\n",
      "4     -7  8  d\n"
     ]
    }
   ],
   "source": [
    "print(\n",
    "    df,\n",
    "    sep=\"\\n\\n\"\n",
    ")"
   ]
  },
  {
   "cell_type": "markdown",
   "id": "d60f65af",
   "metadata": {},
   "source": [
    "It seems to work, except that my DataFrame seems to be slightly different with one extra columns, I get a setting with a warning.\n",
    "250_000 lines of code, and I still have no idea of what's going on.\n",
    "This does not seem like a compelling reason to use Pandas."
   ]
  },
  {
   "cell_type": "markdown",
   "id": "ef07f8fc",
   "metadata": {},
   "source": [
    "## Why do we even use Pandas?\n",
    "\n",
    "Our goal here is to try to figure out how do we become a Pandas expert by understanding the core concepts, and I think the core idea is understanding why we use Pandas in the first place."
   ]
  },
  {
   "cell_type": "markdown",
   "id": "3e01f55e",
   "metadata": {},
   "source": [
    "### We are not here to talk about Numpy"
   ]
  },
  {
   "cell_type": "markdown",
   "id": "0f1ce01e",
   "metadata": {},
   "source": [
    "So lets talk about Numpy. Why use Numpy? Why do we even bother with `numpy` in the first place?\n",
    "\n",
    "Numpy is fast. Python is slow.\n",
    "\n",
    "Here we have a simple little timer:"
   ]
  },
  {
   "cell_type": "code",
   "execution_count": 110,
   "id": "ac27360b",
   "metadata": {},
   "outputs": [],
   "source": [
    "from contextlib import contextmanager\n",
    "from time import perf_counter, sleep"
   ]
  },
  {
   "cell_type": "code",
   "execution_count": 111,
   "id": "422feafb",
   "metadata": {},
   "outputs": [],
   "source": [
    "@contextmanager\n",
    "def timed(msg):\n",
    "    start = perf_counter()\n",
    "    try:\n",
    "        yield\n",
    "    finally:\n",
    "        stop = perf_counter()\n",
    "        print(f\"{msg:<24} elapsed \\N{mathematical bold capital delta}t: {stop - start:.6f}\")"
   ]
  },
  {
   "cell_type": "markdown",
   "id": "feb65d47",
   "metadata": {},
   "source": [
    "We'll time some; if I sleep for one second, it takes a little bit more than one second:"
   ]
  },
  {
   "cell_type": "code",
   "execution_count": 112,
   "id": "7a65fa2b",
   "metadata": {},
   "outputs": [
    {
     "name": "stdout",
     "output_type": "stream",
     "text": [
      "sleep one second         elapsed 𝚫t: 1.003957\n"
     ]
    }
   ],
   "source": [
    "with timed(\"sleep one second\"):\n",
    "    sleep(1)"
   ]
  },
  {
   "cell_type": "markdown",
   "id": "0b629591",
   "metadata": {},
   "source": [
    "You can see it is not a great timer but it's approximately a decent timer."
   ]
  },
  {
   "cell_type": "markdown",
   "id": "d4ecbaea",
   "metadata": {},
   "source": [
    "If I use pure Python, the Python list I am familiar with, and I create two lists size 100_000:"
   ]
  },
  {
   "cell_type": "code",
   "execution_count": 113,
   "id": "75d8d2af",
   "metadata": {},
   "outputs": [],
   "source": [
    "from random import randint as py_randint\n",
    "from numpy.random import randint as np_randint\n",
    "from numpy import dot as np_dot"
   ]
  },
  {
   "cell_type": "code",
   "execution_count": 114,
   "id": "9743d10d",
   "metadata": {},
   "outputs": [
    {
     "name": "stdout",
     "output_type": "stream",
     "text": [
      "py: create               elapsed 𝚫t: 0.087105\n"
     ]
    }
   ],
   "source": [
    "SIZE = 100_000\n",
    "\n",
    "with timed(\"py: create\"):\n",
    "    py_xs = [py_randint(-10, +10) for _ in range(SIZE)]\n",
    "    py_ys = [py_randint(-10, +10) for _ in range(SIZE)]"
   ]
  },
  {
   "cell_type": "markdown",
   "id": "255398f2",
   "metadata": {},
   "source": [
    "It takes about half a second (sic).\n",
    "\n",
    "If I do the same thing with numpy, it takes about a 100 times less (sic):"
   ]
  },
  {
   "cell_type": "code",
   "execution_count": 115,
   "id": "e4240a57",
   "metadata": {},
   "outputs": [
    {
     "name": "stdout",
     "output_type": "stream",
     "text": [
      "py: create               elapsed 𝚫t: 0.006808\n"
     ]
    }
   ],
   "source": [
    "with timed(\"py: create\"):\n",
    "    np_xs = np_randint(-10, +10, size=SIZE)\n",
    "    np_ys = np_randint(-10, +10, size=SIZE)"
   ]
  },
  {
   "cell_type": "markdown",
   "id": "45d0202d",
   "metadata": {},
   "source": [
    "That is a benefit, fast code is good code.\n",
    "\n",
    "If I take these operations and I compute their dot product:"
   ]
  },
  {
   "cell_type": "code",
   "execution_count": 116,
   "id": "cb1ff4a9",
   "metadata": {},
   "outputs": [
    {
     "name": "stdout",
     "output_type": "stream",
     "text": [
      "py: dot                  elapsed 𝚫t: 0.019891\n"
     ]
    }
   ],
   "source": [
    "py_dot = lambda xs, ys: sum([x * y for x, y in zip(xs, ys)])\n",
    "\n",
    "with timed(\"py: dot\"):\n",
    "    py_dot(py_xs, py_ys)"
   ]
  },
  {
   "cell_type": "markdown",
   "id": "b9cf2b17",
   "metadata": {},
   "source": [
    "It takes about .2 seconds (sic) to do the dot product in pure Python.\n",
    "I can totally understand what is going on here, take each of the values in x, take each of the values in y, pair them up, multiply them and sum the result, that's it.\n",
    "\n",
    "But if I do the same think wiht numpy I get an incredible improvement in the speed (sic):"
   ]
  },
  {
   "cell_type": "code",
   "execution_count": 117,
   "id": "1bffa5bc",
   "metadata": {},
   "outputs": [
    {
     "name": "stdout",
     "output_type": "stream",
     "text": [
      "np: dot                  elapsed 𝚫t: 0.000379\n"
     ]
    }
   ],
   "source": [
    "with timed(\"np: dot\"):\n",
    "    np_dot(np_xs, np_ys)"
   ]
  },
  {
   "cell_type": "markdown",
   "id": "9145d70e",
   "metadata": {},
   "source": [
    "That is 70 times faster. 70 times speedup in some code? That's definitely worth it."
   ]
  },
  {
   "cell_type": "markdown",
   "id": "4c321331",
   "metadata": {},
   "source": [
    "#### `numpy.ndarray` is an interpreted view of raw memory\n",
    "\n",
    "One of the core ideas I have when I use numpy and I try to motivate why to use numpy is that it provides us with a way to do numerical operations faster because numpy is a restricted computation domain.\n",
    "\n",
    "Namelly, it is the ability for us to put a manager class around some sort of Python data to intermediate between the Python layer of our code and some code that is implemented in perhaps C or Fortran. Because we have that implementation barrier, we can do things like unboxing values, make them contiguous, exact control of memory, eliminate dynamic dispatch, and as a consequence we are getting 100 times speedups, 80, 70 times speedups, we are getting a significant increase in the speed of the code.\n",
    "\n",
    "The reason we should think of numpy as a restricted computation environment is, it's its domain, and we have to stay inside that domain, because we lose all that performance if we take our Python dot product and apply it to my numpy data, and cross the boundary of that domain, and it's slower than if I had done it in all pure Python (sic):"
   ]
  },
  {
   "cell_type": "code",
   "execution_count": 118,
   "id": "86ac58b5",
   "metadata": {},
   "outputs": [
    {
     "name": "stdout",
     "output_type": "stream",
     "text": [
      "np: dot (py data)        elapsed 𝚫t: 0.034956\n"
     ]
    }
   ],
   "source": [
    "with timed(\"np: dot (py data)\"):\n",
    "    np_dot(py_xs, py_ys)"
   ]
  },
  {
   "cell_type": "markdown",
   "id": "7c7480dd",
   "metadata": {},
   "source": [
    "This restricted computation domain idea is very important, because it gives us that fundamental motivation for why do we stay within numpy, why do we stay within pandas, because it's a domain which has intermediated between the pure python level and some implementation level. As long as you stay in that implementation level everything is fine, but if you cross that boundary you are creating a number of additional costs that are going to be worse than if you stayed in one side or the other. It's a domain which gives you certain restrictions to allow you to do computations faster. And, if we think of what numpy really is, it is just an interpreted view of raw memory."
   ]
  },
  {
   "cell_type": "markdown",
   "id": "5f3f9612",
   "metadata": {},
   "source": [
    "Here we have a ```numpy.ndarray```, and we can dig in it to see that this is actually raw memory at that memory location that we are interpreting in some fashion:"
   ]
  },
  {
   "cell_type": "code",
   "execution_count": 119,
   "id": "b3ddf32d",
   "metadata": {},
   "outputs": [],
   "source": [
    "from numpy import array"
   ]
  },
  {
   "cell_type": "code",
   "execution_count": 120,
   "id": "f11740a4",
   "metadata": {},
   "outputs": [
    {
     "name": "stdout",
     "output_type": "stream",
     "text": [
      "xs                                = array([0, 1, 2])\n",
      "xs.__array_interface__['data'][0] = 0x6000_03b5_4200\n",
      "xs.dtype                          = dtype('int64')\n",
      "xs.shape                          = (3,)\n",
      "xs.strides                        = (8,)\n"
     ]
    }
   ],
   "source": [
    "xs = array([0, 1, 2])\n",
    "print(\n",
    "    f\"{xs                                = }\",\n",
    "    f\"{xs.__array_interface__['data'][0] = :#_x}\",\n",
    "    f\"{xs.dtype                          = }\",\n",
    "    f\"{xs.shape                          = }\",\n",
    "    f\"{xs.strides                        = }\",\n",
    "    sep=\"\\n\",\n",
    ")"
   ]
  },
  {
   "cell_type": "markdown",
   "id": "763bfd46",
   "metadata": {},
   "source": [
    "It says, some block at this location contains int64 values, and we interprit it to be 3 values in a one-dimensional structure.\n",
    "And we have some mechanisms why which in constant time we can move through these values, some striding mechanism. All of these pieces fit together when you think about numpy."
   ]
  },
  {
   "cell_type": "markdown",
   "id": "90094602",
   "metadata": {},
   "source": [
    "#### numpy provides us with a \"mathematical\" type-what we would call a \"vector\" or \"matrix\" or \"tensor\"-with corresponding operations\n",
    "\n",
    "It also provides us with something that is missing from Python.\n",
    "\n",
    "In other words, if we have our python list, or some sort of opaque collection of items. If we add two lists together, because they are opaque collections of items, stuff we iterate over, addition of these two is just that stuff we iterate over is concatenated; or if we multiply something that is a list, and it's just a bag of stuff, and we just say, give me that bag of stuff 3 times over, repeat this thing:"
   ]
  },
  {
   "cell_type": "code",
   "execution_count": 121,
   "id": "e710c530",
   "metadata": {},
   "outputs": [
    {
     "name": "stdout",
     "output_type": "stream",
     "text": [
      "xs + ys = [1, 2, 3, 4, 5, 6]\n",
      "xs *  3 = [1, 2, 3, 1, 2, 3, 1, 2, 3]\n"
     ]
    }
   ],
   "source": [
    "xs = [1, 2, 3]\n",
    "ys = [4, 5, 6]\n",
    "\n",
    "print(f\"{xs + ys = }\")\n",
    "print(f\"{xs *  3 = }\")"
   ]
  },
  {
   "cell_type": "markdown",
   "id": "23833dd5",
   "metadata": {},
   "source": [
    "Whereas, if we do the same on a ```numpy.ndarray```, we get what we expect to be mathematical operations, vector multiplication, vector addition, this is not opaque, we know what is inside, numeric values, and when you add these together, match them up and add them together, go to each value and element-wise multiply these:"
   ]
  },
  {
   "cell_type": "code",
   "execution_count": 122,
   "id": "1f44d229",
   "metadata": {},
   "outputs": [
    {
     "name": "stdout",
     "output_type": "stream",
     "text": [
      "xs + ys = array([5, 7, 9])\n",
      "xs *  3 = array([3, 6, 9])\n"
     ]
    }
   ],
   "source": [
    "xs = array([1, 2, 3])\n",
    "ys = array([4, 5, 6])\n",
    "\n",
    "print(f\"{xs + ys = }\")\n",
    "print(f\"{xs *  3 = }\")"
   ]
  },
  {
   "cell_type": "markdown",
   "id": "f9787e10",
   "metadata": {},
   "source": [
    "That kind of makes sense."
   ]
  },
  {
   "cell_type": "markdown",
   "id": "fbe92ad6",
   "metadata": {},
   "source": [
    "#### ```numpy.ndarray``` provides us with a fixed-size, dynamic-shape, higher-dimensional structure\n",
    "\n",
    "It is important that we talk about dimensionality, because this is related to one of the core concepts that we have to understand about Pandas, namely, Pandas is one-dimensional data, even though the documentation says it's two-dimensional data, it is really like aligned one-dimensional data.\n",
    "\n",
    "Let's think about what that means.\n",
    "\n",
    "Here we have a Python list:"
   ]
  },
  {
   "cell_type": "code",
   "execution_count": 123,
   "id": "6201e618",
   "metadata": {},
   "outputs": [],
   "source": [
    "xs = [\n",
    "    [0, 1, 2],\n",
    "    [3, 4, 5],\n",
    "    [6, 7, 8],\n",
    "]"
   ]
  },
  {
   "cell_type": "markdown",
   "id": "3fac2889",
   "metadata": {},
   "source": [
    "Many people would think here we have a two dimensinal list, and the reason they say it's a two dimensinal list is, if I wanted to access any individual element, I need two coordinates, and, so you can say, two coordinated to access something makes it two-dimensional:"
   ]
  },
  {
   "cell_type": "code",
   "execution_count": 124,
   "id": "76cb7659",
   "metadata": {},
   "outputs": [
    {
     "name": "stdout",
     "output_type": "stream",
     "text": [
      "xs[0][1]               = 1\n"
     ]
    }
   ],
   "source": [
    "print(f\"{xs[0][1]               = }\")"
   ]
  },
  {
   "cell_type": "markdown",
   "id": "0828e9f6",
   "metadata": {},
   "source": [
    "But, in fact, this is not really two-dimensional, while I can access just one row:"
   ]
  },
  {
   "cell_type": "code",
   "execution_count": 125,
   "id": "2ce1f9af",
   "metadata": {},
   "outputs": [
    {
     "name": "stdout",
     "output_type": "stream",
     "text": [
      "xs[0]                  = [0, 1, 2]\n"
     ]
    }
   ],
   "source": [
    "print(f\"{xs[0]                  = }\")"
   ]
  },
  {
   "cell_type": "markdown",
   "id": "df4b6328",
   "metadata": {},
   "source": [
    "I can't access one column natively without performing some sort of looping, there is no native first-class way of accessing one column:"
   ]
  },
  {
   "cell_type": "code",
   "execution_count": 126,
   "id": "cb598146",
   "metadata": {},
   "outputs": [
    {
     "name": "stdout",
     "output_type": "stream",
     "text": [
      "[row[1] for row in xs] = [1, 4, 7]\n"
     ]
    }
   ],
   "source": [
    "print(f\"{[row[1] for row in xs] = }\")"
   ]
  },
  {
   "cell_type": "markdown",
   "id": "e88367a3",
   "metadata": {},
   "source": [
    "So yes, there are two coordinates for every value, it is not a two-dimensinal, it is a **nested** list. It is not that I am providing two coordinates at ones, I am providing one coordinate, gives me a nested structure, and then I am providing another coordinate, this is two operations, not one operation, and, so, each layer of that list takes just one coordinate, it is just that this is doing two lookups.\n",
    "\n",
    "And, additionaly it is a nested structure, so something like this makes total sense in python:"
   ]
  },
  {
   "cell_type": "code",
   "execution_count": 127,
   "id": "4e799d85",
   "metadata": {},
   "outputs": [
    {
     "name": "stdout",
     "output_type": "stream",
     "text": [
      "xs[0][1] = 1\n",
      "xs[2] = [6, 7, 8]\n"
     ]
    },
    {
     "ename": "TypeError",
     "evalue": "'int' object is not subscriptable",
     "output_type": "error",
     "traceback": [
      "\u001b[0;31m---------------------------------------------------------------------------\u001b[0m",
      "\u001b[0;31mTypeError\u001b[0m                                 Traceback (most recent call last)",
      "Cell \u001b[0;32mIn[127], line 3\u001b[0m\n\u001b[1;32m      1\u001b[0m \u001b[38;5;28mprint\u001b[39m(\u001b[38;5;124mf\u001b[39m\u001b[38;5;124m\"\u001b[39m\u001b[38;5;132;01m{\u001b[39;00mxs[\u001b[38;5;241m0\u001b[39m][\u001b[38;5;241m1\u001b[39m]\u001b[38;5;250m \u001b[39m\u001b[38;5;132;01m= }\u001b[39;00m\u001b[38;5;124m\"\u001b[39m)\n\u001b[1;32m      2\u001b[0m \u001b[38;5;28mprint\u001b[39m(\u001b[38;5;124mf\u001b[39m\u001b[38;5;124m\"\u001b[39m\u001b[38;5;132;01m{\u001b[39;00mxs[\u001b[38;5;241m2\u001b[39m]\u001b[38;5;250m \u001b[39m\u001b[38;5;132;01m= }\u001b[39;00m\u001b[38;5;124m\"\u001b[39m)\n\u001b[0;32m----> 3\u001b[0m \u001b[38;5;28mprint\u001b[39m(\u001b[38;5;124mf\u001b[39m\u001b[38;5;124m\"\u001b[39m\u001b[38;5;132;01m{\u001b[39;00mxs[\u001b[38;5;241m2\u001b[39m][\u001b[38;5;241m2\u001b[39m][\u001b[38;5;241m2\u001b[39m][\u001b[38;5;241m0\u001b[39m]\u001b[38;5;250m \u001b[39m\u001b[38;5;132;01m= }\u001b[39;00m\u001b[38;5;124m\"\u001b[39m)\n",
      "\u001b[0;31mTypeError\u001b[0m: 'int' object is not subscriptable"
     ]
    }
   ],
   "source": [
    "print(f\"{xs[0][1] = }\")\n",
    "print(f\"{xs[2] = }\")\n",
    "print(f\"{xs[2][2][2][0] = }\")"
   ]
  },
  {
   "cell_type": "markdown",
   "id": "965d88f0",
   "metadata": {},
   "source": [
    "This is a list that contains lists, and one of those lists contains lists that contain lists. If we think about this, this doesn't have uniform dimensionalities. Some of the rows of this, some of the dimensions of this have additional dimensions. That doesn't make sense, because when we think about the dimensionality of a structure, it tends to be a property of the structure as a whole, a scalar property, if it is 3-dimensional, everything can be accessed throught 3 coordinates. This is nested data, data where, depending on where you are on the structure, the lookup may require some number of coordinates that are different to the nombre of coordinates in another layer. So it's not quite a two dimensinal structure; in fact a python list is never two-dimensional data, it is always one dimensional data, in just has the ability to sometimes nest data."
   ]
  },
  {
   "cell_type": "markdown",
   "id": "4c5117e7",
   "metadata": {},
   "source": [
    "NOTE: this structure, a completely valid, reasonable python list, has no mathematical meaning, it is impossible to represent in numpy. What does it even mean mathematically?"
   ]
  },
  {
   "cell_type": "code",
   "execution_count": 128,
   "id": "d35753ba",
   "metadata": {},
   "outputs": [],
   "source": [
    "xs = [\n",
    "    [0, 1, 2],\n",
    "    [3, 4, 5],\n",
    "    [6, 7, [8, 9, [10]]],\n",
    "]"
   ]
  },
  {
   "cell_type": "markdown",
   "id": "354140e9",
   "metadata": {},
   "source": [
    "This is a matrix where it is sticking out one of the sides of one edge, and it's nested in, it's like a hypercube in one part, but not the rest. No actual mathematical meaning."
   ]
  },
  {
   "cell_type": "markdown",
   "id": "30dc8e1c",
   "metadata": {},
   "source": [
    "Whereas, if we think of **what a python list gives us that a numpy array doesn't** give us, a python list gives us the ability to update the size:"
   ]
  },
  {
   "cell_type": "code",
   "execution_count": 129,
   "id": "897b2e3d",
   "metadata": {},
   "outputs": [
    {
     "name": "stdout",
     "output_type": "stream",
     "text": [
      "xs = [1, 2, 3, 4, 5, 6]\n",
      "ys = [1, 2, 3, 4, 5, 6]\n"
     ]
    }
   ],
   "source": [
    "xs = ys = [1, 2, 3, 4]\n",
    "xs.append(5)\n",
    "xs.append(6)\n",
    "\n",
    "print(\n",
    "    f\"{xs = }\",\n",
    "    f\"{ys = }\",\n",
    "    sep=\"\\n\"\n",
    ")"
   ]
  },
  {
   "cell_type": "markdown",
   "id": "9b81d81d",
   "metadata": {},
   "source": [
    "It is an indirection between the actual storage and this data, so I can take a list and append items at the end and it just works, and I can have two references to that list, both of them."
   ]
  },
  {
   "cell_type": "markdown",
   "id": "e41fe730",
   "metadata": {},
   "source": [
    "If I have ```numpy.ndarray``` sure I can do a ```hstack```:"
   ]
  },
  {
   "cell_type": "code",
   "execution_count": 130,
   "id": "7d958221",
   "metadata": {},
   "outputs": [],
   "source": [
    "from numpy import hstack"
   ]
  },
  {
   "cell_type": "code",
   "execution_count": 131,
   "id": "410864e4",
   "metadata": {},
   "outputs": [
    {
     "name": "stdout",
     "output_type": "stream",
     "text": [
      "xs                = array([0, 1, 2, 3])\n",
      "\n",
      "ys                = array([0, 1, 2])\n"
     ]
    }
   ],
   "source": [
    "xs = ys = array([0, 1, 2])\n",
    "xs = hstack([xs, [3]])\n",
    "\n",
    "print(\n",
    "    f\"{xs                = }\",\n",
    "    f\"{ys                = }\",\n",
    "    sep=\"\\n\\n\"\n",
    ")"
   ]
  },
  {
   "cell_type": "markdown",
   "id": "b6c301e3",
   "metadata": {},
   "source": [
    "But if I have ```numpy.ndarray```, that ```hstack``` is not updating that ```numpy.ndarray``` directly, because that ```numpy.ndarray``` is an interpreted view of memory, and because of that it's a raw block of memory somewhere, with an interpreter layered on top of it, I can't just resize a raw block of memory, who knows what might be behind it, all that I can do is allocate new memory, copy things over, and, if I have two references, only one of them reflects this ammendment.\n",
    "\n",
    "What we can see from this is that a ```numpy.ndarray``` cannot be resized, but it can be **reshaped**. \n",
    "\n",
    "Python `list`:\n",
    "    - fixed \"shape\" (linear)\n",
    "    - dynamic size\n",
    "\n",
    "`numpy.ndarray`:\n",
    "    - fixed size\n",
    "    - dynamic shape\n",
    "\n",
    "\n",
    "If we look at the two ndarrays above, we will see two completely different blocks of memory:"
   ]
  },
  {
   "cell_type": "code",
   "execution_count": 132,
   "id": "2b245d1d",
   "metadata": {},
   "outputs": [
    {
     "name": "stdout",
     "output_type": "stream",
     "text": [
      "xs.__array_interface__['data'][0] = 0x6000_03b5_4260\n",
      "ys.__array_interface__['data'][0] = 0x6000_03b5_4340\n"
     ]
    }
   ],
   "source": [
    "print(\n",
    "    f\"{xs.__array_interface__['data'][0] = :#_x}\",\n",
    "    f\"{ys.__array_interface__['data'][0] = :#_x}\",\n",
    "    sep = \"\\n\"\n",
    ")"
   ]
  },
  {
   "cell_type": "markdown",
   "id": "0eaa1b64",
   "metadata": {},
   "source": [
    "This gives us a very clear reasoning as to **why we use numpy**:\n",
    "- `numpy` gives us a fixed size, dynamic shaped structure, which is a nice correspondence to our python `list`, which is fixed shaped, dynamic sized.\n",
    "- `numpy` is a mathematical type, `list` is a sort of container type.\n",
    "- `numpy` gives us fast code"
   ]
  },
  {
   "cell_type": "markdown",
   "id": "628502c9",
   "metadata": {},
   "source": [
    "But we're no here to talk about `numpy`, we are here to talk about `pandas`, so let's talk about `xarray` instead, because we are definetly not here to talk about `xarray`."
   ]
  },
  {
   "cell_type": "markdown",
   "id": "ab372801",
   "metadata": {},
   "source": [
    "### Why `xarray`"
   ]
  },
  {
   "cell_type": "markdown",
   "id": "1ceadc54",
   "metadata": {},
   "source": [
    "Let's say we have some sort of real two-dimensional data:"
   ]
  },
  {
   "cell_type": "code",
   "execution_count": 133,
   "id": "ff0f81ec",
   "metadata": {},
   "outputs": [],
   "source": [
    "from scipy.spatial.transform import Rotation"
   ]
  },
  {
   "cell_type": "code",
   "execution_count": 134,
   "id": "a3b839c7",
   "metadata": {},
   "outputs": [],
   "source": [
    "img = rng.integers(0, 255, size=(3,3), dtype=\"uint8\")"
   ]
  },
  {
   "cell_type": "code",
   "execution_count": 135,
   "id": "fd881880",
   "metadata": {},
   "outputs": [
    {
     "name": "stdout",
     "output_type": "stream",
     "text": [
      "[[ 86 131  22]\n",
      " [220   8 116]\n",
      " [ 20  20  31]]\n"
     ]
    }
   ],
   "source": [
    "print(img)"
   ]
  },
  {
   "cell_type": "markdown",
   "id": "99b816fb",
   "metadata": {},
   "source": [
    "Image data is definitely two-dimensional, because I can access any one pixel in that image data by two coordiantes, and I can rotate it and the data means the same thing. I can look at any columnar or row slice or diagonal slice of this, and that's a meaningful operation, and the whole think is homogeneous, this is definitly two-dimensional data.\n",
    "\n",
    "If I put this into an `ndarray` I can access an individual row:"
   ]
  },
  {
   "cell_type": "code",
   "execution_count": 136,
   "id": "e81e5d17",
   "metadata": {},
   "outputs": [
    {
     "name": "stdout",
     "output_type": "stream",
     "text": [
      "[ 86 131  22]\n"
     ]
    }
   ],
   "source": [
    "print(img[0])"
   ]
  },
  {
   "cell_type": "code",
   "execution_count": 137,
   "id": "3f1ad5b7",
   "metadata": {},
   "outputs": [
    {
     "name": "stdout",
     "output_type": "stream",
     "text": [
      "[ 86 131  22]\n"
     ]
    }
   ],
   "source": [
    "print(img[0,:])"
   ]
  },
  {
   "cell_type": "markdown",
   "id": "238ee174",
   "metadata": {},
   "source": [
    "I can acess one individual column without having to have any additional mechanism:"
   ]
  },
  {
   "cell_type": "code",
   "execution_count": 138,
   "id": "3a2978ec",
   "metadata": {},
   "outputs": [
    {
     "name": "stdout",
     "output_type": "stream",
     "text": [
      "[ 86 220  20]\n"
     ]
    }
   ],
   "source": [
    "print(img[:,0])"
   ]
  },
  {
   "cell_type": "markdown",
   "id": "03e423c0",
   "metadata": {},
   "source": [
    "You can think that there are many different ways for me to perform these operartions, but, ultimately, the `numpy.ndarray` is a way for me to take n-dimensional data, in this case two-dimensional data, and give me the ability to operate with it.\n",
    "\n",
    "The reason why I might want to introduce `xarray` is that even though rotations of this data don't really change what this data is, as a human being I want to be able to access data as a human being. I want to talk about the x coordinate and the y coordinate, because that is something I want to have in my code, something that people can understand, and say x=3 and y=4, map it to a physical reality of where this data was actually captured.\n",
    "\n",
    "I'll take may `numpy.ndarray` and lift it up into a `xarray.DataArray`, and I'll **name the dimensions**."
   ]
  },
  {
   "cell_type": "code",
   "execution_count": 139,
   "id": "a04996ef",
   "metadata": {},
   "outputs": [],
   "source": [
    "from xarray import DataArray"
   ]
  },
  {
   "cell_type": "code",
   "execution_count": 140,
   "id": "864f34bd",
   "metadata": {},
   "outputs": [],
   "source": [
    "img = DataArray(\n",
    "    data=rng.integers(0, 255, size=(3,3), dtype=\"uint8\"),\n",
    "    dims=[*\"xy\"]\n",
    ")"
   ]
  },
  {
   "cell_type": "code",
   "execution_count": 141,
   "id": "1756c3d9",
   "metadata": {
    "scrolled": true
   },
   "outputs": [
    {
     "name": "stdout",
     "output_type": "stream",
     "text": [
      "<xarray.DataArray (x: 3, y: 3)>\n",
      "array([[ 66, 214, 205],\n",
      "       [210, 239, 184],\n",
      "       [ 10, 244,  94]], dtype=uint8)\n",
      "Dimensions without coordinates: x, y\n"
     ]
    }
   ],
   "source": [
    "print(img)"
   ]
  },
  {
   "cell_type": "markdown",
   "id": "449d173b",
   "metadata": {},
   "source": [
    "Now I have the exact same `numpy` data, but I've said, one of these dimensions is the x dimension, one of these dimensions is the y dimension.\n",
    "\n",
    "Then I can do things like:"
   ]
  },
  {
   "cell_type": "code",
   "execution_count": 142,
   "id": "1682bbc7",
   "metadata": {},
   "outputs": [
    {
     "name": "stdout",
     "output_type": "stream",
     "text": [
      "<xarray.DataArray (x: 3, y: 3)>\n",
      "array([[ 66, 214, 205],\n",
      "       [210, 239, 184],\n",
      "       [ 10, 244,  94]], dtype=uint8)\n",
      "Dimensions without coordinates: x, y\n",
      "\n",
      "<xarray.DataArray (y: 3)>\n",
      "array([ 66, 214, 205], dtype=uint8)\n",
      "Dimensions without coordinates: y\n"
     ]
    }
   ],
   "source": [
    "print(\n",
    "    img,\n",
    "    img.sel(x=0),\n",
    "    sep=\"\\n\\n\"\n",
    ")"
   ]
  },
  {
   "cell_type": "markdown",
   "id": "eaaed6b8",
   "metadata": {},
   "source": [
    "That is incredibly clear what this means."
   ]
  },
  {
   "cell_type": "code",
   "execution_count": 143,
   "id": "1cf8ef45",
   "metadata": {},
   "outputs": [
    {
     "name": "stdout",
     "output_type": "stream",
     "text": [
      "<xarray.DataArray ()>\n",
      "array(214, dtype=uint8)\n"
     ]
    }
   ],
   "source": [
    "print(img.sel(x=0, y=1))"
   ]
  },
  {
   "cell_type": "markdown",
   "id": "1047eb46",
   "metadata": {},
   "source": [
    "An array of a single value, if that makes sense.\n",
    "\n",
    "I can select arbitrary subsets, arbitrary squares or diagonals of this.\n",
    "`xarray` is quite useful, gives me the ability to access my data, look up that data, by means of some sort of human metadata, namelly, what the name of the coordinate is."
   ]
  },
  {
   "cell_type": "code",
   "execution_count": 144,
   "id": "861f23ec",
   "metadata": {},
   "outputs": [
    {
     "name": "stdout",
     "output_type": "stream",
     "text": [
      "<xarray.DataArray (x: 2, y: 2)>\n",
      "array([[214,  66],\n",
      "       [239, 210]], dtype=uint8)\n",
      "Dimensions without coordinates: x, y\n"
     ]
    }
   ],
   "source": [
    "print(img.sel(x=[0, 1], y=[1, 0]))"
   ]
  },
  {
   "cell_type": "markdown",
   "id": "f79488ea",
   "metadata": {},
   "source": [
    "When using `numpy` sometimes you have to transpose things because the way in which the data was read-in wasn't quite the way that your code is going to operate on that data, and you have code that hardcodes, look at this axis, and this axis, and this axis, and you need to transpose it to make that work, but with `xarray` you can name these axis, you can name these dimensions, and so any code you write, absent any sort of performance considerations of this, any code you write can just refer to those axis by name and work regardless of whether your data has to be transposed or not."
   ]
  },
  {
   "cell_type": "markdown",
   "id": "a2ef8e9c",
   "metadata": {},
   "source": [
    "If I happened to have this data and it was captured from something with a coordinate system; physical data that I am capturing on some sort of detector, and that detector has tickmarks, 10, 20, 30 inches, I can add a coordinate system as well."
   ]
  },
  {
   "cell_type": "code",
   "execution_count": 145,
   "id": "221604e8",
   "metadata": {},
   "outputs": [],
   "source": [
    "from numpy import linspace"
   ]
  },
  {
   "cell_type": "code",
   "execution_count": 146,
   "id": "fd41f89d",
   "metadata": {},
   "outputs": [],
   "source": [
    "img = DataArray(\n",
    "    data=(data := rng.integers(0, 255, size=(3,3), dtype=\"uint8\")),\n",
    "    dims=[*\"xy\"],\n",
    "    coords={\n",
    "        \"x\": linspace(10, 20, data.shape[0]),\n",
    "        \"y\": linspace(10, 20, data.shape[1])\n",
    "    }\n",
    ")"
   ]
  },
  {
   "cell_type": "code",
   "execution_count": 147,
   "id": "ce8de193",
   "metadata": {},
   "outputs": [
    {
     "name": "stdout",
     "output_type": "stream",
     "text": [
      "<xarray.DataArray (x: 3, y: 3)>\n",
      "array([[246, 100,  20],\n",
      "       [ 37,  95,  61],\n",
      "       [ 80, 131, 177]], dtype=uint8)\n",
      "Coordinates:\n",
      "  * x        (x) float64 10.0 15.0 20.0\n",
      "  * y        (y) float64 10.0 15.0 20.0\n"
     ]
    }
   ],
   "source": [
    "print(img)"
   ]
  },
  {
   "cell_type": "markdown",
   "id": "fd8aaab0",
   "metadata": {},
   "source": [
    "That allows me to say, select my data using this coordinate system. Don't select the first data value that was captured, select the data value at 15:"
   ]
  },
  {
   "cell_type": "code",
   "execution_count": 148,
   "id": "91ba16f4",
   "metadata": {},
   "outputs": [
    {
     "data": {
      "text/html": [
       "<div><svg style=\"position: absolute; width: 0; height: 0; overflow: hidden\">\n",
       "<defs>\n",
       "<symbol id=\"icon-database\" viewBox=\"0 0 32 32\">\n",
       "<path d=\"M16 0c-8.837 0-16 2.239-16 5v4c0 2.761 7.163 5 16 5s16-2.239 16-5v-4c0-2.761-7.163-5-16-5z\"></path>\n",
       "<path d=\"M16 17c-8.837 0-16-2.239-16-5v6c0 2.761 7.163 5 16 5s16-2.239 16-5v-6c0 2.761-7.163 5-16 5z\"></path>\n",
       "<path d=\"M16 26c-8.837 0-16-2.239-16-5v6c0 2.761 7.163 5 16 5s16-2.239 16-5v-6c0 2.761-7.163 5-16 5z\"></path>\n",
       "</symbol>\n",
       "<symbol id=\"icon-file-text2\" viewBox=\"0 0 32 32\">\n",
       "<path d=\"M28.681 7.159c-0.694-0.947-1.662-2.053-2.724-3.116s-2.169-2.030-3.116-2.724c-1.612-1.182-2.393-1.319-2.841-1.319h-15.5c-1.378 0-2.5 1.121-2.5 2.5v27c0 1.378 1.122 2.5 2.5 2.5h23c1.378 0 2.5-1.122 2.5-2.5v-19.5c0-0.448-0.137-1.23-1.319-2.841zM24.543 5.457c0.959 0.959 1.712 1.825 2.268 2.543h-4.811v-4.811c0.718 0.556 1.584 1.309 2.543 2.268zM28 29.5c0 0.271-0.229 0.5-0.5 0.5h-23c-0.271 0-0.5-0.229-0.5-0.5v-27c0-0.271 0.229-0.5 0.5-0.5 0 0 15.499-0 15.5 0v7c0 0.552 0.448 1 1 1h7v19.5z\"></path>\n",
       "<path d=\"M23 26h-14c-0.552 0-1-0.448-1-1s0.448-1 1-1h14c0.552 0 1 0.448 1 1s-0.448 1-1 1z\"></path>\n",
       "<path d=\"M23 22h-14c-0.552 0-1-0.448-1-1s0.448-1 1-1h14c0.552 0 1 0.448 1 1s-0.448 1-1 1z\"></path>\n",
       "<path d=\"M23 18h-14c-0.552 0-1-0.448-1-1s0.448-1 1-1h14c0.552 0 1 0.448 1 1s-0.448 1-1 1z\"></path>\n",
       "</symbol>\n",
       "</defs>\n",
       "</svg>\n",
       "<style>/* CSS stylesheet for displaying xarray objects in jupyterlab.\n",
       " *\n",
       " */\n",
       "\n",
       ":root {\n",
       "  --xr-font-color0: var(--jp-content-font-color0, rgba(0, 0, 0, 1));\n",
       "  --xr-font-color2: var(--jp-content-font-color2, rgba(0, 0, 0, 0.54));\n",
       "  --xr-font-color3: var(--jp-content-font-color3, rgba(0, 0, 0, 0.38));\n",
       "  --xr-border-color: var(--jp-border-color2, #e0e0e0);\n",
       "  --xr-disabled-color: var(--jp-layout-color3, #bdbdbd);\n",
       "  --xr-background-color: var(--jp-layout-color0, white);\n",
       "  --xr-background-color-row-even: var(--jp-layout-color1, white);\n",
       "  --xr-background-color-row-odd: var(--jp-layout-color2, #eeeeee);\n",
       "}\n",
       "\n",
       "html[theme=dark],\n",
       "body[data-theme=dark],\n",
       "body.vscode-dark {\n",
       "  --xr-font-color0: rgba(255, 255, 255, 1);\n",
       "  --xr-font-color2: rgba(255, 255, 255, 0.54);\n",
       "  --xr-font-color3: rgba(255, 255, 255, 0.38);\n",
       "  --xr-border-color: #1F1F1F;\n",
       "  --xr-disabled-color: #515151;\n",
       "  --xr-background-color: #111111;\n",
       "  --xr-background-color-row-even: #111111;\n",
       "  --xr-background-color-row-odd: #313131;\n",
       "}\n",
       "\n",
       ".xr-wrap {\n",
       "  display: block !important;\n",
       "  min-width: 300px;\n",
       "  max-width: 700px;\n",
       "}\n",
       "\n",
       ".xr-text-repr-fallback {\n",
       "  /* fallback to plain text repr when CSS is not injected (untrusted notebook) */\n",
       "  display: none;\n",
       "}\n",
       "\n",
       ".xr-header {\n",
       "  padding-top: 6px;\n",
       "  padding-bottom: 6px;\n",
       "  margin-bottom: 4px;\n",
       "  border-bottom: solid 1px var(--xr-border-color);\n",
       "}\n",
       "\n",
       ".xr-header > div,\n",
       ".xr-header > ul {\n",
       "  display: inline;\n",
       "  margin-top: 0;\n",
       "  margin-bottom: 0;\n",
       "}\n",
       "\n",
       ".xr-obj-type,\n",
       ".xr-array-name {\n",
       "  margin-left: 2px;\n",
       "  margin-right: 10px;\n",
       "}\n",
       "\n",
       ".xr-obj-type {\n",
       "  color: var(--xr-font-color2);\n",
       "}\n",
       "\n",
       ".xr-sections {\n",
       "  padding-left: 0 !important;\n",
       "  display: grid;\n",
       "  grid-template-columns: 150px auto auto 1fr 20px 20px;\n",
       "}\n",
       "\n",
       ".xr-section-item {\n",
       "  display: contents;\n",
       "}\n",
       "\n",
       ".xr-section-item input {\n",
       "  display: none;\n",
       "}\n",
       "\n",
       ".xr-section-item input + label {\n",
       "  color: var(--xr-disabled-color);\n",
       "}\n",
       "\n",
       ".xr-section-item input:enabled + label {\n",
       "  cursor: pointer;\n",
       "  color: var(--xr-font-color2);\n",
       "}\n",
       "\n",
       ".xr-section-item input:enabled + label:hover {\n",
       "  color: var(--xr-font-color0);\n",
       "}\n",
       "\n",
       ".xr-section-summary {\n",
       "  grid-column: 1;\n",
       "  color: var(--xr-font-color2);\n",
       "  font-weight: 500;\n",
       "}\n",
       "\n",
       ".xr-section-summary > span {\n",
       "  display: inline-block;\n",
       "  padding-left: 0.5em;\n",
       "}\n",
       "\n",
       ".xr-section-summary-in:disabled + label {\n",
       "  color: var(--xr-font-color2);\n",
       "}\n",
       "\n",
       ".xr-section-summary-in + label:before {\n",
       "  display: inline-block;\n",
       "  content: '►';\n",
       "  font-size: 11px;\n",
       "  width: 15px;\n",
       "  text-align: center;\n",
       "}\n",
       "\n",
       ".xr-section-summary-in:disabled + label:before {\n",
       "  color: var(--xr-disabled-color);\n",
       "}\n",
       "\n",
       ".xr-section-summary-in:checked + label:before {\n",
       "  content: '▼';\n",
       "}\n",
       "\n",
       ".xr-section-summary-in:checked + label > span {\n",
       "  display: none;\n",
       "}\n",
       "\n",
       ".xr-section-summary,\n",
       ".xr-section-inline-details {\n",
       "  padding-top: 4px;\n",
       "  padding-bottom: 4px;\n",
       "}\n",
       "\n",
       ".xr-section-inline-details {\n",
       "  grid-column: 2 / -1;\n",
       "}\n",
       "\n",
       ".xr-section-details {\n",
       "  display: none;\n",
       "  grid-column: 1 / -1;\n",
       "  margin-bottom: 5px;\n",
       "}\n",
       "\n",
       ".xr-section-summary-in:checked ~ .xr-section-details {\n",
       "  display: contents;\n",
       "}\n",
       "\n",
       ".xr-array-wrap {\n",
       "  grid-column: 1 / -1;\n",
       "  display: grid;\n",
       "  grid-template-columns: 20px auto;\n",
       "}\n",
       "\n",
       ".xr-array-wrap > label {\n",
       "  grid-column: 1;\n",
       "  vertical-align: top;\n",
       "}\n",
       "\n",
       ".xr-preview {\n",
       "  color: var(--xr-font-color3);\n",
       "}\n",
       "\n",
       ".xr-array-preview,\n",
       ".xr-array-data {\n",
       "  padding: 0 5px !important;\n",
       "  grid-column: 2;\n",
       "}\n",
       "\n",
       ".xr-array-data,\n",
       ".xr-array-in:checked ~ .xr-array-preview {\n",
       "  display: none;\n",
       "}\n",
       "\n",
       ".xr-array-in:checked ~ .xr-array-data,\n",
       ".xr-array-preview {\n",
       "  display: inline-block;\n",
       "}\n",
       "\n",
       ".xr-dim-list {\n",
       "  display: inline-block !important;\n",
       "  list-style: none;\n",
       "  padding: 0 !important;\n",
       "  margin: 0;\n",
       "}\n",
       "\n",
       ".xr-dim-list li {\n",
       "  display: inline-block;\n",
       "  padding: 0;\n",
       "  margin: 0;\n",
       "}\n",
       "\n",
       ".xr-dim-list:before {\n",
       "  content: '(';\n",
       "}\n",
       "\n",
       ".xr-dim-list:after {\n",
       "  content: ')';\n",
       "}\n",
       "\n",
       ".xr-dim-list li:not(:last-child):after {\n",
       "  content: ',';\n",
       "  padding-right: 5px;\n",
       "}\n",
       "\n",
       ".xr-has-index {\n",
       "  font-weight: bold;\n",
       "}\n",
       "\n",
       ".xr-var-list,\n",
       ".xr-var-item {\n",
       "  display: contents;\n",
       "}\n",
       "\n",
       ".xr-var-item > div,\n",
       ".xr-var-item label,\n",
       ".xr-var-item > .xr-var-name span {\n",
       "  background-color: var(--xr-background-color-row-even);\n",
       "  margin-bottom: 0;\n",
       "}\n",
       "\n",
       ".xr-var-item > .xr-var-name:hover span {\n",
       "  padding-right: 5px;\n",
       "}\n",
       "\n",
       ".xr-var-list > li:nth-child(odd) > div,\n",
       ".xr-var-list > li:nth-child(odd) > label,\n",
       ".xr-var-list > li:nth-child(odd) > .xr-var-name span {\n",
       "  background-color: var(--xr-background-color-row-odd);\n",
       "}\n",
       "\n",
       ".xr-var-name {\n",
       "  grid-column: 1;\n",
       "}\n",
       "\n",
       ".xr-var-dims {\n",
       "  grid-column: 2;\n",
       "}\n",
       "\n",
       ".xr-var-dtype {\n",
       "  grid-column: 3;\n",
       "  text-align: right;\n",
       "  color: var(--xr-font-color2);\n",
       "}\n",
       "\n",
       ".xr-var-preview {\n",
       "  grid-column: 4;\n",
       "}\n",
       "\n",
       ".xr-index-preview {\n",
       "  grid-column: 2 / 5;\n",
       "  color: var(--xr-font-color2);\n",
       "}\n",
       "\n",
       ".xr-var-name,\n",
       ".xr-var-dims,\n",
       ".xr-var-dtype,\n",
       ".xr-preview,\n",
       ".xr-attrs dt {\n",
       "  white-space: nowrap;\n",
       "  overflow: hidden;\n",
       "  text-overflow: ellipsis;\n",
       "  padding-right: 10px;\n",
       "}\n",
       "\n",
       ".xr-var-name:hover,\n",
       ".xr-var-dims:hover,\n",
       ".xr-var-dtype:hover,\n",
       ".xr-attrs dt:hover {\n",
       "  overflow: visible;\n",
       "  width: auto;\n",
       "  z-index: 1;\n",
       "}\n",
       "\n",
       ".xr-var-attrs,\n",
       ".xr-var-data,\n",
       ".xr-index-data {\n",
       "  display: none;\n",
       "  background-color: var(--xr-background-color) !important;\n",
       "  padding-bottom: 5px !important;\n",
       "}\n",
       "\n",
       ".xr-var-attrs-in:checked ~ .xr-var-attrs,\n",
       ".xr-var-data-in:checked ~ .xr-var-data,\n",
       ".xr-index-data-in:checked ~ .xr-index-data {\n",
       "  display: block;\n",
       "}\n",
       "\n",
       ".xr-var-data > table {\n",
       "  float: right;\n",
       "}\n",
       "\n",
       ".xr-var-name span,\n",
       ".xr-var-data,\n",
       ".xr-index-name div,\n",
       ".xr-index-data,\n",
       ".xr-attrs {\n",
       "  padding-left: 25px !important;\n",
       "}\n",
       "\n",
       ".xr-attrs,\n",
       ".xr-var-attrs,\n",
       ".xr-var-data,\n",
       ".xr-index-data {\n",
       "  grid-column: 1 / -1;\n",
       "}\n",
       "\n",
       "dl.xr-attrs {\n",
       "  padding: 0;\n",
       "  margin: 0;\n",
       "  display: grid;\n",
       "  grid-template-columns: 125px auto;\n",
       "}\n",
       "\n",
       ".xr-attrs dt,\n",
       ".xr-attrs dd {\n",
       "  padding: 0;\n",
       "  margin: 0;\n",
       "  float: left;\n",
       "  padding-right: 10px;\n",
       "  width: auto;\n",
       "}\n",
       "\n",
       ".xr-attrs dt {\n",
       "  font-weight: normal;\n",
       "  grid-column: 1;\n",
       "}\n",
       "\n",
       ".xr-attrs dt:hover span {\n",
       "  display: inline-block;\n",
       "  background: var(--xr-background-color);\n",
       "  padding-right: 10px;\n",
       "}\n",
       "\n",
       ".xr-attrs dd {\n",
       "  grid-column: 2;\n",
       "  white-space: pre-wrap;\n",
       "  word-break: break-all;\n",
       "}\n",
       "\n",
       ".xr-icon-database,\n",
       ".xr-icon-file-text2,\n",
       ".xr-no-icon {\n",
       "  display: inline-block;\n",
       "  vertical-align: middle;\n",
       "  width: 1em;\n",
       "  height: 1.5em !important;\n",
       "  stroke-width: 0;\n",
       "  stroke: currentColor;\n",
       "  fill: currentColor;\n",
       "}\n",
       "</style><pre class='xr-text-repr-fallback'>&lt;xarray.DataArray ()&gt;\n",
       "array(95, dtype=uint8)\n",
       "Coordinates:\n",
       "    x        float64 15.0\n",
       "    y        float64 15.0</pre><div class='xr-wrap' style='display:none'><div class='xr-header'><div class='xr-obj-type'>xarray.DataArray</div><div class='xr-array-name'></div></div><ul class='xr-sections'><li class='xr-section-item'><div class='xr-array-wrap'><input id='section-3b55fbbf-0168-49d0-b544-c4e515ef493d' class='xr-array-in' type='checkbox' checked><label for='section-3b55fbbf-0168-49d0-b544-c4e515ef493d' title='Show/hide data repr'><svg class='icon xr-icon-database'><use xlink:href='#icon-database'></use></svg></label><div class='xr-array-preview xr-preview'><span>95</span></div><div class='xr-array-data'><pre>array(95, dtype=uint8)</pre></div></div></li><li class='xr-section-item'><input id='section-492dd9c0-0454-4a45-b879-00e6669c9383' class='xr-section-summary-in' type='checkbox'  checked><label for='section-492dd9c0-0454-4a45-b879-00e6669c9383' class='xr-section-summary' >Coordinates: <span>(2)</span></label><div class='xr-section-inline-details'></div><div class='xr-section-details'><ul class='xr-var-list'><li class='xr-var-item'><div class='xr-var-name'><span>x</span></div><div class='xr-var-dims'>()</div><div class='xr-var-dtype'>float64</div><div class='xr-var-preview xr-preview'>15.0</div><input id='attrs-3ec67bc3-9292-4cc5-bcde-5af0fca45c48' class='xr-var-attrs-in' type='checkbox' disabled><label for='attrs-3ec67bc3-9292-4cc5-bcde-5af0fca45c48' title='Show/Hide attributes'><svg class='icon xr-icon-file-text2'><use xlink:href='#icon-file-text2'></use></svg></label><input id='data-a40e04d2-da90-424d-a72a-bed3de732d6d' class='xr-var-data-in' type='checkbox'><label for='data-a40e04d2-da90-424d-a72a-bed3de732d6d' title='Show/Hide data repr'><svg class='icon xr-icon-database'><use xlink:href='#icon-database'></use></svg></label><div class='xr-var-attrs'><dl class='xr-attrs'></dl></div><div class='xr-var-data'><pre>array(15.)</pre></div></li><li class='xr-var-item'><div class='xr-var-name'><span>y</span></div><div class='xr-var-dims'>()</div><div class='xr-var-dtype'>float64</div><div class='xr-var-preview xr-preview'>15.0</div><input id='attrs-da54d961-7c75-4d8f-8fb0-c2c65af068bd' class='xr-var-attrs-in' type='checkbox' disabled><label for='attrs-da54d961-7c75-4d8f-8fb0-c2c65af068bd' title='Show/Hide attributes'><svg class='icon xr-icon-file-text2'><use xlink:href='#icon-file-text2'></use></svg></label><input id='data-06381f37-7dfe-4fe1-8300-799bf877f596' class='xr-var-data-in' type='checkbox'><label for='data-06381f37-7dfe-4fe1-8300-799bf877f596' title='Show/Hide data repr'><svg class='icon xr-icon-database'><use xlink:href='#icon-database'></use></svg></label><div class='xr-var-attrs'><dl class='xr-attrs'></dl></div><div class='xr-var-data'><pre>array(15.)</pre></div></li></ul></div></li><li class='xr-section-item'><input id='section-80c543b0-f07e-44bc-a73b-f37011ec2467' class='xr-section-summary-in' type='checkbox' disabled ><label for='section-80c543b0-f07e-44bc-a73b-f37011ec2467' class='xr-section-summary'  title='Expand/collapse section'>Indexes: <span>(0)</span></label><div class='xr-section-inline-details'></div><div class='xr-section-details'><ul class='xr-var-list'></ul></div></li><li class='xr-section-item'><input id='section-752f6277-421c-4e28-a3b7-b6b60657f876' class='xr-section-summary-in' type='checkbox' disabled ><label for='section-752f6277-421c-4e28-a3b7-b6b60657f876' class='xr-section-summary'  title='Expand/collapse section'>Attributes: <span>(0)</span></label><div class='xr-section-inline-details'></div><div class='xr-section-details'><dl class='xr-attrs'></dl></div></li></ul></div></div>"
      ],
      "text/plain": [
       "<xarray.DataArray ()>\n",
       "array(95, dtype=uint8)\n",
       "Coordinates:\n",
       "    x        float64 15.0\n",
       "    y        float64 15.0"
      ]
     },
     "execution_count": 148,
     "metadata": {},
     "output_type": "execute_result"
    }
   ],
   "source": [
    "img.sel(x=15, y=15)"
   ]
  },
  {
   "cell_type": "markdown",
   "id": "603f7815",
   "metadata": {},
   "source": [
    "That is very useful.\n",
    "\n",
    "With `xarray` you can also say, find the data at a given coordinate, and if you can't find that exactly, look for the nearest value:"
   ]
  },
  {
   "cell_type": "code",
   "execution_count": 149,
   "id": "f028e61b",
   "metadata": {},
   "outputs": [
    {
     "data": {
      "text/html": [
       "<div><svg style=\"position: absolute; width: 0; height: 0; overflow: hidden\">\n",
       "<defs>\n",
       "<symbol id=\"icon-database\" viewBox=\"0 0 32 32\">\n",
       "<path d=\"M16 0c-8.837 0-16 2.239-16 5v4c0 2.761 7.163 5 16 5s16-2.239 16-5v-4c0-2.761-7.163-5-16-5z\"></path>\n",
       "<path d=\"M16 17c-8.837 0-16-2.239-16-5v6c0 2.761 7.163 5 16 5s16-2.239 16-5v-6c0 2.761-7.163 5-16 5z\"></path>\n",
       "<path d=\"M16 26c-8.837 0-16-2.239-16-5v6c0 2.761 7.163 5 16 5s16-2.239 16-5v-6c0 2.761-7.163 5-16 5z\"></path>\n",
       "</symbol>\n",
       "<symbol id=\"icon-file-text2\" viewBox=\"0 0 32 32\">\n",
       "<path d=\"M28.681 7.159c-0.694-0.947-1.662-2.053-2.724-3.116s-2.169-2.030-3.116-2.724c-1.612-1.182-2.393-1.319-2.841-1.319h-15.5c-1.378 0-2.5 1.121-2.5 2.5v27c0 1.378 1.122 2.5 2.5 2.5h23c1.378 0 2.5-1.122 2.5-2.5v-19.5c0-0.448-0.137-1.23-1.319-2.841zM24.543 5.457c0.959 0.959 1.712 1.825 2.268 2.543h-4.811v-4.811c0.718 0.556 1.584 1.309 2.543 2.268zM28 29.5c0 0.271-0.229 0.5-0.5 0.5h-23c-0.271 0-0.5-0.229-0.5-0.5v-27c0-0.271 0.229-0.5 0.5-0.5 0 0 15.499-0 15.5 0v7c0 0.552 0.448 1 1 1h7v19.5z\"></path>\n",
       "<path d=\"M23 26h-14c-0.552 0-1-0.448-1-1s0.448-1 1-1h14c0.552 0 1 0.448 1 1s-0.448 1-1 1z\"></path>\n",
       "<path d=\"M23 22h-14c-0.552 0-1-0.448-1-1s0.448-1 1-1h14c0.552 0 1 0.448 1 1s-0.448 1-1 1z\"></path>\n",
       "<path d=\"M23 18h-14c-0.552 0-1-0.448-1-1s0.448-1 1-1h14c0.552 0 1 0.448 1 1s-0.448 1-1 1z\"></path>\n",
       "</symbol>\n",
       "</defs>\n",
       "</svg>\n",
       "<style>/* CSS stylesheet for displaying xarray objects in jupyterlab.\n",
       " *\n",
       " */\n",
       "\n",
       ":root {\n",
       "  --xr-font-color0: var(--jp-content-font-color0, rgba(0, 0, 0, 1));\n",
       "  --xr-font-color2: var(--jp-content-font-color2, rgba(0, 0, 0, 0.54));\n",
       "  --xr-font-color3: var(--jp-content-font-color3, rgba(0, 0, 0, 0.38));\n",
       "  --xr-border-color: var(--jp-border-color2, #e0e0e0);\n",
       "  --xr-disabled-color: var(--jp-layout-color3, #bdbdbd);\n",
       "  --xr-background-color: var(--jp-layout-color0, white);\n",
       "  --xr-background-color-row-even: var(--jp-layout-color1, white);\n",
       "  --xr-background-color-row-odd: var(--jp-layout-color2, #eeeeee);\n",
       "}\n",
       "\n",
       "html[theme=dark],\n",
       "body[data-theme=dark],\n",
       "body.vscode-dark {\n",
       "  --xr-font-color0: rgba(255, 255, 255, 1);\n",
       "  --xr-font-color2: rgba(255, 255, 255, 0.54);\n",
       "  --xr-font-color3: rgba(255, 255, 255, 0.38);\n",
       "  --xr-border-color: #1F1F1F;\n",
       "  --xr-disabled-color: #515151;\n",
       "  --xr-background-color: #111111;\n",
       "  --xr-background-color-row-even: #111111;\n",
       "  --xr-background-color-row-odd: #313131;\n",
       "}\n",
       "\n",
       ".xr-wrap {\n",
       "  display: block !important;\n",
       "  min-width: 300px;\n",
       "  max-width: 700px;\n",
       "}\n",
       "\n",
       ".xr-text-repr-fallback {\n",
       "  /* fallback to plain text repr when CSS is not injected (untrusted notebook) */\n",
       "  display: none;\n",
       "}\n",
       "\n",
       ".xr-header {\n",
       "  padding-top: 6px;\n",
       "  padding-bottom: 6px;\n",
       "  margin-bottom: 4px;\n",
       "  border-bottom: solid 1px var(--xr-border-color);\n",
       "}\n",
       "\n",
       ".xr-header > div,\n",
       ".xr-header > ul {\n",
       "  display: inline;\n",
       "  margin-top: 0;\n",
       "  margin-bottom: 0;\n",
       "}\n",
       "\n",
       ".xr-obj-type,\n",
       ".xr-array-name {\n",
       "  margin-left: 2px;\n",
       "  margin-right: 10px;\n",
       "}\n",
       "\n",
       ".xr-obj-type {\n",
       "  color: var(--xr-font-color2);\n",
       "}\n",
       "\n",
       ".xr-sections {\n",
       "  padding-left: 0 !important;\n",
       "  display: grid;\n",
       "  grid-template-columns: 150px auto auto 1fr 20px 20px;\n",
       "}\n",
       "\n",
       ".xr-section-item {\n",
       "  display: contents;\n",
       "}\n",
       "\n",
       ".xr-section-item input {\n",
       "  display: none;\n",
       "}\n",
       "\n",
       ".xr-section-item input + label {\n",
       "  color: var(--xr-disabled-color);\n",
       "}\n",
       "\n",
       ".xr-section-item input:enabled + label {\n",
       "  cursor: pointer;\n",
       "  color: var(--xr-font-color2);\n",
       "}\n",
       "\n",
       ".xr-section-item input:enabled + label:hover {\n",
       "  color: var(--xr-font-color0);\n",
       "}\n",
       "\n",
       ".xr-section-summary {\n",
       "  grid-column: 1;\n",
       "  color: var(--xr-font-color2);\n",
       "  font-weight: 500;\n",
       "}\n",
       "\n",
       ".xr-section-summary > span {\n",
       "  display: inline-block;\n",
       "  padding-left: 0.5em;\n",
       "}\n",
       "\n",
       ".xr-section-summary-in:disabled + label {\n",
       "  color: var(--xr-font-color2);\n",
       "}\n",
       "\n",
       ".xr-section-summary-in + label:before {\n",
       "  display: inline-block;\n",
       "  content: '►';\n",
       "  font-size: 11px;\n",
       "  width: 15px;\n",
       "  text-align: center;\n",
       "}\n",
       "\n",
       ".xr-section-summary-in:disabled + label:before {\n",
       "  color: var(--xr-disabled-color);\n",
       "}\n",
       "\n",
       ".xr-section-summary-in:checked + label:before {\n",
       "  content: '▼';\n",
       "}\n",
       "\n",
       ".xr-section-summary-in:checked + label > span {\n",
       "  display: none;\n",
       "}\n",
       "\n",
       ".xr-section-summary,\n",
       ".xr-section-inline-details {\n",
       "  padding-top: 4px;\n",
       "  padding-bottom: 4px;\n",
       "}\n",
       "\n",
       ".xr-section-inline-details {\n",
       "  grid-column: 2 / -1;\n",
       "}\n",
       "\n",
       ".xr-section-details {\n",
       "  display: none;\n",
       "  grid-column: 1 / -1;\n",
       "  margin-bottom: 5px;\n",
       "}\n",
       "\n",
       ".xr-section-summary-in:checked ~ .xr-section-details {\n",
       "  display: contents;\n",
       "}\n",
       "\n",
       ".xr-array-wrap {\n",
       "  grid-column: 1 / -1;\n",
       "  display: grid;\n",
       "  grid-template-columns: 20px auto;\n",
       "}\n",
       "\n",
       ".xr-array-wrap > label {\n",
       "  grid-column: 1;\n",
       "  vertical-align: top;\n",
       "}\n",
       "\n",
       ".xr-preview {\n",
       "  color: var(--xr-font-color3);\n",
       "}\n",
       "\n",
       ".xr-array-preview,\n",
       ".xr-array-data {\n",
       "  padding: 0 5px !important;\n",
       "  grid-column: 2;\n",
       "}\n",
       "\n",
       ".xr-array-data,\n",
       ".xr-array-in:checked ~ .xr-array-preview {\n",
       "  display: none;\n",
       "}\n",
       "\n",
       ".xr-array-in:checked ~ .xr-array-data,\n",
       ".xr-array-preview {\n",
       "  display: inline-block;\n",
       "}\n",
       "\n",
       ".xr-dim-list {\n",
       "  display: inline-block !important;\n",
       "  list-style: none;\n",
       "  padding: 0 !important;\n",
       "  margin: 0;\n",
       "}\n",
       "\n",
       ".xr-dim-list li {\n",
       "  display: inline-block;\n",
       "  padding: 0;\n",
       "  margin: 0;\n",
       "}\n",
       "\n",
       ".xr-dim-list:before {\n",
       "  content: '(';\n",
       "}\n",
       "\n",
       ".xr-dim-list:after {\n",
       "  content: ')';\n",
       "}\n",
       "\n",
       ".xr-dim-list li:not(:last-child):after {\n",
       "  content: ',';\n",
       "  padding-right: 5px;\n",
       "}\n",
       "\n",
       ".xr-has-index {\n",
       "  font-weight: bold;\n",
       "}\n",
       "\n",
       ".xr-var-list,\n",
       ".xr-var-item {\n",
       "  display: contents;\n",
       "}\n",
       "\n",
       ".xr-var-item > div,\n",
       ".xr-var-item label,\n",
       ".xr-var-item > .xr-var-name span {\n",
       "  background-color: var(--xr-background-color-row-even);\n",
       "  margin-bottom: 0;\n",
       "}\n",
       "\n",
       ".xr-var-item > .xr-var-name:hover span {\n",
       "  padding-right: 5px;\n",
       "}\n",
       "\n",
       ".xr-var-list > li:nth-child(odd) > div,\n",
       ".xr-var-list > li:nth-child(odd) > label,\n",
       ".xr-var-list > li:nth-child(odd) > .xr-var-name span {\n",
       "  background-color: var(--xr-background-color-row-odd);\n",
       "}\n",
       "\n",
       ".xr-var-name {\n",
       "  grid-column: 1;\n",
       "}\n",
       "\n",
       ".xr-var-dims {\n",
       "  grid-column: 2;\n",
       "}\n",
       "\n",
       ".xr-var-dtype {\n",
       "  grid-column: 3;\n",
       "  text-align: right;\n",
       "  color: var(--xr-font-color2);\n",
       "}\n",
       "\n",
       ".xr-var-preview {\n",
       "  grid-column: 4;\n",
       "}\n",
       "\n",
       ".xr-index-preview {\n",
       "  grid-column: 2 / 5;\n",
       "  color: var(--xr-font-color2);\n",
       "}\n",
       "\n",
       ".xr-var-name,\n",
       ".xr-var-dims,\n",
       ".xr-var-dtype,\n",
       ".xr-preview,\n",
       ".xr-attrs dt {\n",
       "  white-space: nowrap;\n",
       "  overflow: hidden;\n",
       "  text-overflow: ellipsis;\n",
       "  padding-right: 10px;\n",
       "}\n",
       "\n",
       ".xr-var-name:hover,\n",
       ".xr-var-dims:hover,\n",
       ".xr-var-dtype:hover,\n",
       ".xr-attrs dt:hover {\n",
       "  overflow: visible;\n",
       "  width: auto;\n",
       "  z-index: 1;\n",
       "}\n",
       "\n",
       ".xr-var-attrs,\n",
       ".xr-var-data,\n",
       ".xr-index-data {\n",
       "  display: none;\n",
       "  background-color: var(--xr-background-color) !important;\n",
       "  padding-bottom: 5px !important;\n",
       "}\n",
       "\n",
       ".xr-var-attrs-in:checked ~ .xr-var-attrs,\n",
       ".xr-var-data-in:checked ~ .xr-var-data,\n",
       ".xr-index-data-in:checked ~ .xr-index-data {\n",
       "  display: block;\n",
       "}\n",
       "\n",
       ".xr-var-data > table {\n",
       "  float: right;\n",
       "}\n",
       "\n",
       ".xr-var-name span,\n",
       ".xr-var-data,\n",
       ".xr-index-name div,\n",
       ".xr-index-data,\n",
       ".xr-attrs {\n",
       "  padding-left: 25px !important;\n",
       "}\n",
       "\n",
       ".xr-attrs,\n",
       ".xr-var-attrs,\n",
       ".xr-var-data,\n",
       ".xr-index-data {\n",
       "  grid-column: 1 / -1;\n",
       "}\n",
       "\n",
       "dl.xr-attrs {\n",
       "  padding: 0;\n",
       "  margin: 0;\n",
       "  display: grid;\n",
       "  grid-template-columns: 125px auto;\n",
       "}\n",
       "\n",
       ".xr-attrs dt,\n",
       ".xr-attrs dd {\n",
       "  padding: 0;\n",
       "  margin: 0;\n",
       "  float: left;\n",
       "  padding-right: 10px;\n",
       "  width: auto;\n",
       "}\n",
       "\n",
       ".xr-attrs dt {\n",
       "  font-weight: normal;\n",
       "  grid-column: 1;\n",
       "}\n",
       "\n",
       ".xr-attrs dt:hover span {\n",
       "  display: inline-block;\n",
       "  background: var(--xr-background-color);\n",
       "  padding-right: 10px;\n",
       "}\n",
       "\n",
       ".xr-attrs dd {\n",
       "  grid-column: 2;\n",
       "  white-space: pre-wrap;\n",
       "  word-break: break-all;\n",
       "}\n",
       "\n",
       ".xr-icon-database,\n",
       ".xr-icon-file-text2,\n",
       ".xr-no-icon {\n",
       "  display: inline-block;\n",
       "  vertical-align: middle;\n",
       "  width: 1em;\n",
       "  height: 1.5em !important;\n",
       "  stroke-width: 0;\n",
       "  stroke: currentColor;\n",
       "  fill: currentColor;\n",
       "}\n",
       "</style><pre class='xr-text-repr-fallback'>&lt;xarray.DataArray ()&gt;\n",
       "array(95, dtype=uint8)\n",
       "Coordinates:\n",
       "    x        float64 15.0\n",
       "    y        float64 15.0</pre><div class='xr-wrap' style='display:none'><div class='xr-header'><div class='xr-obj-type'>xarray.DataArray</div><div class='xr-array-name'></div></div><ul class='xr-sections'><li class='xr-section-item'><div class='xr-array-wrap'><input id='section-83b16aa8-849e-4771-a390-590191815f4f' class='xr-array-in' type='checkbox' checked><label for='section-83b16aa8-849e-4771-a390-590191815f4f' title='Show/hide data repr'><svg class='icon xr-icon-database'><use xlink:href='#icon-database'></use></svg></label><div class='xr-array-preview xr-preview'><span>95</span></div><div class='xr-array-data'><pre>array(95, dtype=uint8)</pre></div></div></li><li class='xr-section-item'><input id='section-a1b0ca65-b4ca-48e0-8d47-4bc434afd9e3' class='xr-section-summary-in' type='checkbox'  checked><label for='section-a1b0ca65-b4ca-48e0-8d47-4bc434afd9e3' class='xr-section-summary' >Coordinates: <span>(2)</span></label><div class='xr-section-inline-details'></div><div class='xr-section-details'><ul class='xr-var-list'><li class='xr-var-item'><div class='xr-var-name'><span>x</span></div><div class='xr-var-dims'>()</div><div class='xr-var-dtype'>float64</div><div class='xr-var-preview xr-preview'>15.0</div><input id='attrs-c21862e2-5e06-40af-98f5-b7fdfd5d6a2e' class='xr-var-attrs-in' type='checkbox' disabled><label for='attrs-c21862e2-5e06-40af-98f5-b7fdfd5d6a2e' title='Show/Hide attributes'><svg class='icon xr-icon-file-text2'><use xlink:href='#icon-file-text2'></use></svg></label><input id='data-1a7d2342-99cd-4a44-ba30-79322dbe5aa1' class='xr-var-data-in' type='checkbox'><label for='data-1a7d2342-99cd-4a44-ba30-79322dbe5aa1' title='Show/Hide data repr'><svg class='icon xr-icon-database'><use xlink:href='#icon-database'></use></svg></label><div class='xr-var-attrs'><dl class='xr-attrs'></dl></div><div class='xr-var-data'><pre>array(15.)</pre></div></li><li class='xr-var-item'><div class='xr-var-name'><span>y</span></div><div class='xr-var-dims'>()</div><div class='xr-var-dtype'>float64</div><div class='xr-var-preview xr-preview'>15.0</div><input id='attrs-47a7eda0-af2e-475e-ba20-d4d9c0159451' class='xr-var-attrs-in' type='checkbox' disabled><label for='attrs-47a7eda0-af2e-475e-ba20-d4d9c0159451' title='Show/Hide attributes'><svg class='icon xr-icon-file-text2'><use xlink:href='#icon-file-text2'></use></svg></label><input id='data-65665a52-5d78-49a3-82ca-d5414881e5c9' class='xr-var-data-in' type='checkbox'><label for='data-65665a52-5d78-49a3-82ca-d5414881e5c9' title='Show/Hide data repr'><svg class='icon xr-icon-database'><use xlink:href='#icon-database'></use></svg></label><div class='xr-var-attrs'><dl class='xr-attrs'></dl></div><div class='xr-var-data'><pre>array(15.)</pre></div></li></ul></div></li><li class='xr-section-item'><input id='section-f117d5cc-61b2-491f-8dee-96b9257d8536' class='xr-section-summary-in' type='checkbox' disabled ><label for='section-f117d5cc-61b2-491f-8dee-96b9257d8536' class='xr-section-summary'  title='Expand/collapse section'>Indexes: <span>(0)</span></label><div class='xr-section-inline-details'></div><div class='xr-section-details'><ul class='xr-var-list'></ul></div></li><li class='xr-section-item'><input id='section-a30efd1a-8574-4f1d-b769-3f008d88fd14' class='xr-section-summary-in' type='checkbox' disabled ><label for='section-a30efd1a-8574-4f1d-b769-3f008d88fd14' class='xr-section-summary'  title='Expand/collapse section'>Attributes: <span>(0)</span></label><div class='xr-section-inline-details'></div><div class='xr-section-details'><dl class='xr-attrs'></dl></div></li></ul></div></div>"
      ],
      "text/plain": [
       "<xarray.DataArray ()>\n",
       "array(95, dtype=uint8)\n",
       "Coordinates:\n",
       "    x        float64 15.0\n",
       "    y        float64 15.0"
      ]
     },
     "execution_count": 149,
     "metadata": {},
     "output_type": "execute_result"
    }
   ],
   "source": [
    "img.sel(x=15, y=13, method=\"nearest\")"
   ]
  },
  {
   "cell_type": "markdown",
   "id": "06f88c2c",
   "metadata": {},
   "source": [
    "I can even say, select the data at x=15 and y from 12 to 18, and if you are missing data in between do a linear interpolation, incredibly useful, because someone looking at that says, 15, I know exactly where I put that marker on my detector when I was capturing this particular image."
   ]
  },
  {
   "cell_type": "markdown",
   "id": "320cdd05",
   "metadata": {},
   "source": [
    "It is the case that when we want to work in `numpy`, because we want to stay in that restricted computation, we will sometimes invent axis that do not represent aspects of the data.\n",
    "\n",
    "Here we have not one file, but multiple files, and we put this into a larger structure with one additional dimension representing the filename we are operating on. One requirement here is that every file has to be exactly the same size, 3x3, and they have to have a shared coordinate system, every file was captured on the same coordinate system from 10 to 20 with some stepping, and I have the filename associated with each of these files:"
   ]
  },
  {
   "cell_type": "code",
   "execution_count": 150,
   "id": "a3b9e995",
   "metadata": {},
   "outputs": [],
   "source": [
    "img = DataArray(\n",
    "    data=(data := rng.integers(0, 255, size=(10, 3, 3), dtype=\"uint8\")),\n",
    "    dims=[\"filename\", *\"xy\"],\n",
    "    coords={\n",
    "        \"filename\": [Path(f\"{x}.bmp\") for x in ascii_lowercase[:data.shape[0]]],\n",
    "        \"x\": linspace(10, 20, data.shape[1]),\n",
    "        \"y\": linspace(10, 20, data.shape[2])\n",
    "    }\n",
    ")"
   ]
  },
  {
   "cell_type": "code",
   "execution_count": 151,
   "id": "78f5f96a",
   "metadata": {},
   "outputs": [
    {
     "name": "stdout",
     "output_type": "stream",
     "text": [
      "[[[ 99  69   1]\n",
      "  [ 93  10 208]\n",
      "  [209 226  52]]\n",
      "\n",
      " [[206  65  97]\n",
      "  [ 85  22 134]\n",
      "  [209 136 182]]\n",
      "\n",
      " [[196  57  18]\n",
      "  [124 223 121]\n",
      "  [141  50 171]]\n",
      "\n",
      " [[ 82 169 201]\n",
      "  [123  58  79]\n",
      "  [ 21 134 227]]\n",
      "\n",
      " [[171  10  71]\n",
      "  [204 232 127]\n",
      "  [191  34 248]]\n",
      "\n",
      " [[119 107 235]\n",
      "  [ 88 156 144]\n",
      "  [247  14  28]]\n",
      "\n",
      " [[ 32  67 253]\n",
      "  [ 68  41 108]\n",
      "  [246 153 246]]\n",
      "\n",
      " [[136 138  83]\n",
      "  [ 54 167 215]\n",
      "  [ 62  87 112]]\n",
      "\n",
      " [[244  16  20]\n",
      "  [ 37 155  37]\n",
      "  [ 86 237 208]]\n",
      "\n",
      " [[196  39 176]\n",
      "  [242 231  93]\n",
      "  [  9  22  89]]]\n"
     ]
    }
   ],
   "source": [
    "print(data)"
   ]
  },
  {
   "cell_type": "markdown",
   "id": "4cbdca03",
   "metadata": {},
   "source": [
    "This allows me to do things like select x=15, y=15, from the file names \"a.bmp\":"
   ]
  },
  {
   "cell_type": "code",
   "execution_count": 152,
   "id": "095b5bc2",
   "metadata": {},
   "outputs": [
    {
     "name": "stdout",
     "output_type": "stream",
     "text": [
      "<xarray.DataArray ()>\n",
      "array(10, dtype=uint8)\n",
      "Coordinates:\n",
      "    filename  object a.bmp\n",
      "    x         float64 15.0\n",
      "    y         float64 15.0\n"
     ]
    }
   ],
   "source": [
    "print(img.sel(x=15, y=15, filename=Path(\"a.bmp\")))"
   ]
  },
  {
   "cell_type": "markdown",
   "id": "70320803",
   "metadata": {},
   "source": [
    "Incredibly useful, I can actually understand what the heck this is doing.\n",
    "\n",
    "`xarray` is a very useful tool if I have raw mathematical data, and I want to interact with that mathematical data with some additional metadata that makes it human understandable, namely, the dimensions and the coordinate system on those dimensions.\n",
    "\n",
    "But we are not here to talk about `xarray`, we are here to talk about Pandas."
   ]
  },
  {
   "cell_type": "markdown",
   "id": "40501fb3",
   "metadata": {},
   "source": [
    "### So why Pandas?"
   ]
  },
  {
   "cell_type": "markdown",
   "id": "e5c4c919",
   "metadata": {},
   "source": [
    "Here I have a `pandas.Series`:"
   ]
  },
  {
   "cell_type": "code",
   "execution_count": 153,
   "id": "37f11f00",
   "metadata": {},
   "outputs": [],
   "source": [
    "s = Series(rng.integers(-10, +10, size=5))"
   ]
  },
  {
   "cell_type": "markdown",
   "id": "0ab2451c",
   "metadata": {},
   "source": [
    "If I look deeper into a `pandas.Series`, I will see that under the covers it has a `PandasArray` (sic):"
   ]
  },
  {
   "cell_type": "code",
   "execution_count": 154,
   "id": "9a6599c1",
   "metadata": {},
   "outputs": [
    {
     "name": "stdout",
     "output_type": "stream",
     "text": [
      "0     4\n",
      "1    -7\n",
      "2     2\n",
      "3     0\n",
      "4   -10\n",
      "dtype: int64\n",
      "\n",
      "<NumpyExtensionArray>\n",
      "[4, -7, 2, 0, -10]\n",
      "Length: 5, dtype: int64\n"
     ]
    }
   ],
   "source": [
    "print(\n",
    "    s,\n",
    "    s.array,\n",
    "    sep=\"\\n\\n\"\n",
    ")"
   ]
  },
  {
   "cell_type": "markdown",
   "id": "bc065673",
   "metadata": {},
   "source": [
    "This array is a small indirection from the values that are stored.\n",
    "\n",
    "If I go a little deeper in this I can probably even pull out the `numpy` values stored within:"
   ]
  },
  {
   "cell_type": "code",
   "execution_count": 155,
   "id": "96ad91ff",
   "metadata": {},
   "outputs": [
    {
     "name": "stdout",
     "output_type": "stream",
     "text": [
      "[  4  -7   2   0 -10]\n"
     ]
    }
   ],
   "source": [
    "print(s.array._ndarray)"
   ]
  },
  {
   "cell_type": "markdown",
   "id": "68b2d9e6",
   "metadata": {},
   "source": [
    "This level of indirection, this **extension array**, gives the ability to mask integer values, because obviously, if I have a floating point value, I can store NaN, represent data that is missing, but I can't quite do that with integers because there is not really an unambiguous in-of-band encoding for that, so for out-of-band encoding I need some sort of masking mechanism."
   ]
  },
  {
   "cell_type": "markdown",
   "id": "d1579779",
   "metadata": {},
   "source": [
    "The thing that we call **the index**, which is probably the most interesting thing about Pandas, is just like that coordinate system in `xarray`, it is a way for us to refer to the value.\n",
    "\n",
    "A very common way of indexing that we might use is **datetime indexes**:"
   ]
  },
  {
   "cell_type": "code",
   "execution_count": 156,
   "id": "138598a7",
   "metadata": {},
   "outputs": [],
   "source": [
    "from pandas import date_range"
   ]
  },
  {
   "cell_type": "code",
   "execution_count": 157,
   "id": "d09a0e44",
   "metadata": {},
   "outputs": [],
   "source": [
    "idx = date_range(\"2000-01-01\", periods=5, name=\"date\")\n",
    "s = Series(rng.integers(-10, +10, size=len(idx)), index=idx)"
   ]
  },
  {
   "cell_type": "code",
   "execution_count": 158,
   "id": "6f7d1afe",
   "metadata": {},
   "outputs": [
    {
     "name": "stdout",
     "output_type": "stream",
     "text": [
      "date\n",
      "2000-01-01     8\n",
      "2000-01-02     4\n",
      "2000-01-03    -4\n",
      "2000-01-04   -10\n",
      "2000-01-05    -9\n",
      "Freq: D, dtype: int64\n"
     ]
    }
   ],
   "source": [
    "print(s)"
   ]
  },
  {
   "cell_type": "markdown",
   "id": "0d6191d3",
   "metadata": {},
   "source": [
    "This isn't just values 5, 8, 8, -5, -8, it is 7 that I captured on the first of January 2000, etc.\n",
    "\n",
    "If I look at this `pandas.Series`, I can see that it consists of the raw mathematical data that is being stored, and some index that helps me figure out how I translate my human understanding of where this data is captured to where the data is actually stored in memory:"
   ]
  },
  {
   "cell_type": "code",
   "execution_count": 159,
   "id": "70b5e866",
   "metadata": {},
   "outputs": [
    {
     "name": "stdout",
     "output_type": "stream",
     "text": [
      "<NumpyExtensionArray>\n",
      "[8, 4, -4, -10, -9]\n",
      "Length: 5, dtype: int64\n",
      "\n",
      "DatetimeIndex(['2000-01-01', '2000-01-02', '2000-01-03', '2000-01-04',\n",
      "               '2000-01-05'],\n",
      "              dtype='datetime64[ns]', name='date', freq='D')\n"
     ]
    }
   ],
   "source": [
    "print(\n",
    "    s.array,\n",
    "    s.index,\n",
    "    sep=\"\\n\\n\"\n",
    ")"
   ]
  },
  {
   "cell_type": "markdown",
   "id": "f4d470aa",
   "metadata": {},
   "source": [
    "I can do things like give the data on the 1st of January, or give me the data until the end of the year, or to up to whenever it's been captured:"
   ]
  },
  {
   "cell_type": "code",
   "execution_count": 160,
   "id": "3f0fc4c2",
   "metadata": {},
   "outputs": [
    {
     "name": "stdout",
     "output_type": "stream",
     "text": [
      "8\n",
      "\n",
      "date\n",
      "2000-01-01     8\n",
      "2000-01-02     4\n",
      "2000-01-03    -4\n",
      "2000-01-04   -10\n",
      "2000-01-05    -9\n",
      "Freq: D, dtype: int64\n"
     ]
    }
   ],
   "source": [
    "print(\n",
    "    s[\"2000-01-01\"],\n",
    "    s[\"2000-01-01\":],\n",
    "    sep=\"\\n\\n\"\n",
    ")"
   ]
  },
  {
   "cell_type": "markdown",
   "id": "cfe6bf5f",
   "metadata": {},
   "source": [
    "This works, and is a lot more convenient than doing it as raw matrix operations, specially if I am working with multiple datasets, and they weren't captured over the same timespan, but there is an overlapping timespan that I want to consider.\n",
    "\n",
    "It turns out the the Pandas index is a way that we label data in order to access it and in order to give additional meaning to manipulations that we perform on this data.\n",
    "\n",
    "Here we have a `pandas.Series`, indexed with values that appear to be some sort of measurement -20 to 20 with some stepping:"
   ]
  },
  {
   "cell_type": "code",
   "execution_count": 161,
   "id": "7452c7b3",
   "metadata": {},
   "outputs": [],
   "source": [
    "idx = linspace(-20, 20, 5)\n",
    "s = Series(rng.integers(-10, +10, size=len(idx)), index=idx)"
   ]
  },
  {
   "cell_type": "code",
   "execution_count": 162,
   "id": "d124e9e3",
   "metadata": {},
   "outputs": [
    {
     "name": "stdout",
     "output_type": "stream",
     "text": [
      "-20.0    5\n",
      "-10.0   -8\n",
      " 0.0     0\n",
      " 10.0    7\n",
      " 20.0    8\n",
      "dtype: int64\n",
      "\n",
      "Index([-20.0, -10.0, 0.0, 10.0, 20.0], dtype='float64')\n",
      "\n",
      "0\n",
      "\n",
      "0.0    0\n",
      "dtype: int64\n"
     ]
    },
    {
     "name": "stderr",
     "output_type": "stream",
     "text": [
      "/var/folders/08/hhn4r3qx4hlf4pqfm4qyjn1w0000gn/T/ipykernel_28165/3435903398.py:5: FutureWarning: The behavior of obj[i:j] with a float-dtype index is deprecated. In a future version, this will be treated as positional instead of label-based. For label-based slicing, use obj.loc[i:j] instead\n",
      "  s[0:3], # the value with labels from 0 up to 3, just the same value 0\n"
     ]
    }
   ],
   "source": [
    "print(\n",
    "    s,\n",
    "    s.index,\n",
    "    s[0],   # the value with label 0 (not the first value, different)\n",
    "    s[0:3], # the value with labels from 0 up to 3, just the same value 0\n",
    "    sep=\"\\n\\n\"\n",
    ")"
   ]
  },
  {
   "cell_type": "markdown",
   "id": "070f0161",
   "metadata": {},
   "source": [
    "If I ask for the value from 0 to 3 in the `PandasArray`, these don't even have an index, these are the physical values, from physical location 0 to physical location 3, versus the values from label location 0 to lable location 3:"
   ]
  },
  {
   "cell_type": "code",
   "execution_count": 163,
   "id": "e8d9168c",
   "metadata": {},
   "outputs": [
    {
     "name": "stdout",
     "output_type": "stream",
     "text": [
      "s.array[0:3] = <NumpyExtensionArray>\n",
      "[5, -8, 0]\n",
      "Length: 3, dtype: int64\n",
      "\n",
      "len(s[0:3]) = 1\n"
     ]
    },
    {
     "name": "stderr",
     "output_type": "stream",
     "text": [
      "/var/folders/08/hhn4r3qx4hlf4pqfm4qyjn1w0000gn/T/ipykernel_28165/120007332.py:1: FutureWarning: The behavior of obj[i:j] with a float-dtype index is deprecated. In a future version, this will be treated as positional instead of label-based. For label-based slicing, use obj.loc[i:j] instead\n",
      "  print(f\"{s.array[0:3] = }\\n\\n{len(s[0:3]) = }\")\n"
     ]
    }
   ],
   "source": [
    "print(f\"{s.array[0:3] = }\\n\\n{len(s[0:3]) = }\")"
   ]
  },
  {
   "cell_type": "markdown",
   "id": "27a88668",
   "metadata": {},
   "source": [
    "One of them gives me 3, the other gives me 1.\n",
    "\n",
    "#### Why `.loc`\n",
    "\n",
    "It turns out that one unfortunate thing about `pandas.Series` is that the square bracket notation can be a little bit ambigous because if I change this indexing slightly you can see if this indexing is an integer indexing then suddently the square brackets seem to have given me the positions from the physical locations:"
   ]
  },
  {
   "cell_type": "code",
   "execution_count": 164,
   "id": "121d1799",
   "metadata": {},
   "outputs": [],
   "source": [
    "idx = linspace(-20, 20, 5, dtype=int)\n",
    "s = Series(rng.integers(-10, +10, size=len(idx)), index=idx)"
   ]
  },
  {
   "cell_type": "code",
   "execution_count": 165,
   "id": "1427c101",
   "metadata": {},
   "outputs": [
    {
     "name": "stdout",
     "output_type": "stream",
     "text": [
      "-20   -5\n",
      "-10   -9\n",
      " 0    -1\n",
      " 10    6\n",
      " 20    2\n",
      "dtype: int64\n",
      "\n",
      "Index([-20, -10, 0, 10, 20], dtype='int64')\n",
      "\n",
      "-1\n",
      "\n",
      "-20   -5\n",
      "-10   -9\n",
      " 0    -1\n",
      "dtype: int64\n",
      "\n",
      "s.array[0:3] = <NumpyExtensionArray>\n",
      "[-5, -9, -1]\n",
      "Length: 3, dtype: int64\n",
      "\n",
      "len(s[0:3]) = 3\n"
     ]
    }
   ],
   "source": [
    "print(\n",
    "    s,\n",
    "    s.index,\n",
    "    s[0],   # the value with label 0 (not the first value, different)\n",
    "    s[0:3], # SEEMS TO HAVE GIVING ME NOW THE VALUES IN PHYSICAL MEMORY\n",
    "    f\"{s.array[0:3] = }\\n\\n{len(s[0:3]) = }\",   \n",
    "    sep=\"\\n\\n\"\n",
    ")"
   ]
  },
  {
   "cell_type": "markdown",
   "id": "5d1bdc8a",
   "metadata": {},
   "source": [
    "If I make this floating point values I get something similar to what I had before:"
   ]
  },
  {
   "cell_type": "code",
   "execution_count": 166,
   "id": "7de86eef",
   "metadata": {},
   "outputs": [],
   "source": [
    "idx = array([-1, 0, 1, 2, 3, 4], dtype=float)\n",
    "s = Series(rng.integers(-10, +10, size=len(idx)), index=idx)"
   ]
  },
  {
   "cell_type": "code",
   "execution_count": 167,
   "id": "8d338207",
   "metadata": {},
   "outputs": [
    {
     "name": "stdout",
     "output_type": "stream",
     "text": [
      "-1.0   -9\n",
      " 0.0    3\n",
      " 1.0   -4\n",
      " 2.0   -6\n",
      " 3.0   -2\n",
      " 4.0    7\n",
      "dtype: int64\n",
      "\n",
      "Index([-1.0, 0.0, 1.0, 2.0, 3.0, 4.0], dtype='float64')\n",
      "\n",
      "3\n",
      "\n",
      "0.0    3\n",
      "1.0   -4\n",
      "2.0   -6\n",
      "3.0   -2\n",
      "dtype: int64\n",
      "\n",
      "s.array[0:3] = <NumpyExtensionArray>\n",
      "[-9, 3, -4]\n",
      "Length: 3, dtype: int64\n",
      "\n",
      "len(s[0:3]) = 4\n"
     ]
    },
    {
     "name": "stderr",
     "output_type": "stream",
     "text": [
      "/var/folders/08/hhn4r3qx4hlf4pqfm4qyjn1w0000gn/T/ipykernel_28165/2523015515.py:5: FutureWarning: The behavior of obj[i:j] with a float-dtype index is deprecated. In a future version, this will be treated as positional instead of label-based. For label-based slicing, use obj.loc[i:j] instead\n",
      "  s[0:3], # SEEMS GIVE ME SOMETHING SIMILAR TO WHAT I HAD BEFORE\n",
      "/var/folders/08/hhn4r3qx4hlf4pqfm4qyjn1w0000gn/T/ipykernel_28165/2523015515.py:6: FutureWarning: The behavior of obj[i:j] with a float-dtype index is deprecated. In a future version, this will be treated as positional instead of label-based. For label-based slicing, use obj.loc[i:j] instead\n",
      "  f\"{s.array[0:3] = }\\n\\n{len(s[0:3]) = }\",\n"
     ]
    }
   ],
   "source": [
    "print(\n",
    "    s,\n",
    "    s.index,\n",
    "    s[0],   # the value with label 0 (not the first value, different)\n",
    "    s[0:3], # SEEMS GIVE ME SOMETHING SIMILAR TO WHAT I HAD BEFORE\n",
    "    f\"{s.array[0:3] = }\\n\\n{len(s[0:3]) = }\",   \n",
    "    sep=\"\\n\\n\"\n",
    ")"
   ]
  },
  {
   "cell_type": "markdown",
   "id": "681f44f7",
   "metadata": {},
   "source": [
    "It's looking up the labels again, but you can see this mismatch occurs.\n",
    "\n",
    "#### `.loc`\n",
    "\n",
    "Pandas addressed this and it's the case that we have an unambiguos, specific way for us to access the contents of a `pandas.Series`"
   ]
  },
  {
   "cell_type": "code",
   "execution_count": 168,
   "id": "a0a2ebda",
   "metadata": {},
   "outputs": [],
   "source": [
    "idx = linspace(-20, 20, 5, dtype=int)\n",
    "s = Series(rng.integers(-10, +10, size=len(idx)), index=idx)"
   ]
  },
  {
   "cell_type": "code",
   "execution_count": 169,
   "id": "4c8a7b5d",
   "metadata": {},
   "outputs": [
    {
     "name": "stdout",
     "output_type": "stream",
     "text": [
      "-20    9\n",
      "-10   -8\n",
      " 0     1\n",
      " 10    5\n",
      " 20   -5\n",
      "dtype: int64\n",
      "\n",
      "Index([-20, -10, 0, 10, 20], dtype='int64')\n",
      "\n",
      "1\n",
      "\n",
      "0    1\n",
      "dtype: int64\n",
      "\n",
      "s.array[0:3] = <NumpyExtensionArray>\n",
      "[9, -8, 1]\n",
      "Length: 3, dtype: int64\n",
      "\n",
      "len(s[0:3]) = 3\n"
     ]
    }
   ],
   "source": [
    "print(\n",
    "    s,\n",
    "    s.index,\n",
    "    s.loc[0],   # the value with label 0 (not the first value, different)\n",
    "    s.loc[0:3], # USING THE INDEX LABELS AS INTENDED, SAME VAL as s.loc[0]\n",
    "    f\"{s.array[0:3] = }\\n\\n{len(s[0:3]) = }\",   \n",
    "    sep=\"\\n\\n\"\n",
    ")"
   ]
  },
  {
   "cell_type": "markdown",
   "id": "b18c3774",
   "metadata": {},
   "source": [
    "#### .iloc"
   ]
  },
  {
   "cell_type": "markdown",
   "id": "1a49a442",
   "metadata": {},
   "source": [
    "Use it if you don't want to use the index.\n",
    "\n",
    "The `.loc` is going to be affected by the index, the `.iloc` won't, because it is not going to use the index:"
   ]
  },
  {
   "cell_type": "code",
   "execution_count": 170,
   "id": "588efefc",
   "metadata": {},
   "outputs": [
    {
     "name": "stdout",
     "output_type": "stream",
     "text": [
      "-20    9\n",
      "-10   -8\n",
      " 0     1\n",
      " 10    5\n",
      " 20   -5\n",
      "dtype: int64\n",
      "\n",
      "Index([-20, -10, 0, 10, 20], dtype='int64')\n",
      "\n",
      "9\n",
      "\n",
      "-20    9\n",
      "-10   -8\n",
      " 0     1\n",
      "dtype: int64\n",
      "\n",
      "s.array[0:3] = <NumpyExtensionArray>\n",
      "[9, -8, 1]\n",
      "Length: 3, dtype: int64\n",
      "\n",
      "len(s[0:3]) = 3\n"
     ]
    }
   ],
   "source": [
    "print(\n",
    "    s,\n",
    "    s.index,\n",
    "    s.iloc[0],   # the first value\n",
    "    s.iloc[0:3], # the first 3 values\n",
    "    f\"{s.array[0:3] = }\\n\\n{len(s[0:3]) = }\",   \n",
    "    sep=\"\\n\\n\"\n",
    ")"
   ]
  },
  {
   "cell_type": "markdown",
   "id": "3136fa53",
   "metadata": {},
   "source": [
    "If we were to compare `.iloc` to the array lookup index we would get something very similar:"
   ]
  },
  {
   "cell_type": "code",
   "execution_count": 171,
   "id": "64fd005e",
   "metadata": {},
   "outputs": [
    {
     "name": "stdout",
     "output_type": "stream",
     "text": [
      "-20    9\n",
      "-10   -8\n",
      " 0     1\n",
      " 10    5\n",
      " 20   -5\n",
      "dtype: int64\n",
      "\n",
      "-20    9\n",
      "-10   -8\n",
      " 0     1\n",
      "dtype: int64\n",
      "\n",
      "<NumpyExtensionArray>\n",
      "[9, -8, 1]\n",
      "Length: 3, dtype: int64\n"
     ]
    }
   ],
   "source": [
    "print(\n",
    "    s,\n",
    "    s.iloc[0:3],\n",
    "    s.array[0:3],\n",
    "    sep=\"\\n\\n\"\n",
    ")"
   ]
  },
  {
   "cell_type": "markdown",
   "id": "66373f5d",
   "metadata": {},
   "source": [
    "One if the gives me this index too, but it terms of the values, they both give me the same.\n",
    "\n",
    "There are a couple of questions that might show up here:\n",
    "1. Whay does that array brackeing behave the way it does\n",
    "    - in a moment you will see why that actually makes sense\n",
    "2. This is using interval notation when you are doing the slicing\n",
    "    - almost anywhere else where I see an interval notation in Python it doesn't include the endpoint, but this seems to include the endpoint.\n",
    "    - why on earth does this include the enpoint\n",
    "    - using `.loc[0:10]` gives me 2 rows if the indexing happens to match up for that, it gives me everything up to and including 10. That is a little bit bizarre:"
   ]
  },
  {
   "cell_type": "code",
   "execution_count": 172,
   "id": "32c32f70",
   "metadata": {},
   "outputs": [
    {
     "name": "stdout",
     "output_type": "stream",
     "text": [
      "-20    9\n",
      "-10   -8\n",
      " 0     1\n",
      " 10    5\n",
      " 20   -5\n",
      "dtype: int64\n",
      "\n",
      "0    1\n",
      "dtype: int64\n",
      "\n",
      "0     1\n",
      "10    5\n",
      "dtype: int64\n",
      "\n",
      "0     1\n",
      "10    5\n",
      "dtype: int64\n"
     ]
    }
   ],
   "source": [
    "print(\n",
    "    s,\n",
    "    s.loc[0:9],    # got one value, as expected\n",
    "    s.loc[0:10],   # got two values, BUT EXPECTED ONLY ONE\n",
    "    s.loc[0:10+1], # got two values, as expected\n",
    "    sep=\"\\n\\n\"\n",
    ")"
   ]
  },
  {
   "cell_type": "markdown",
   "id": "ac0519a9",
   "metadata": {},
   "source": [
    "Before we take a look at that, before we think about that, let's change our index very slightly, an index of letter \"a\" to \"b\":"
   ]
  },
  {
   "cell_type": "code",
   "execution_count": 173,
   "id": "34400826",
   "metadata": {},
   "outputs": [],
   "source": [
    "idx = [*\"abcde\"]\n",
    "s = Series(rng.integers(-10, +10, size=len(idx)), index=idx)"
   ]
  },
  {
   "cell_type": "markdown",
   "id": "f2bf6cf7",
   "metadata": {},
   "source": [
    "Be might now be able to reason about this:"
   ]
  },
  {
   "cell_type": "code",
   "execution_count": 174,
   "id": "9b9aec0d",
   "metadata": {},
   "outputs": [
    {
     "name": "stdout",
     "output_type": "stream",
     "text": [
      "a   -5\n",
      "b   -6\n",
      "c   -6\n",
      "d    7\n",
      "e   -6\n",
      "dtype: int64\n",
      "\n",
      "-6\n",
      "\n",
      "b   -6\n",
      "c   -6\n",
      "d    7\n",
      "dtype: int64\n"
     ]
    }
   ],
   "source": [
    "print(\n",
    "    s,\n",
    "    s.loc[\"b\"],\n",
    "    s.loc[\"b\":\"d\"],\n",
    "    sep=\"\\n\\n\"\n",
    ")"
   ]
  },
  {
   "cell_type": "code",
   "execution_count": 175,
   "id": "352a1861-9402-4c5c-a4b9-ff589ade6188",
   "metadata": {},
   "outputs": [],
   "source": [
    "# 37:25"
   ]
  },
  {
   "cell_type": "markdown",
   "id": "ce42a401",
   "metadata": {},
   "source": [
    "The `.loc` operation uses the index to figure out what value you want, but the index doesn't have to be numeric values, it could just be labels \"a\", \"b\", \"c\", etc, and if we want to include up to the endpoint, we can't just so `.loc[\"d\"+1]` on an arbitrary index, this is just not well defined.\n",
    "\n",
    "We can see that the `.loc` including the endpoint makes total sense, because it is using the indexing, which is not necesarily going to have some sort of order associated with it, it can have some sort of successor operation, and as a consequence the `.loc` would have to include that endpoint, otherwise you would not necessarily have a way to include that endpoint. What does `+1` mean on a DatetimeIndex, one day, one hour, one minute?\n",
    "\n",
    "We can see some interesting ways in which these indexes operate.\n",
    "\n",
    "Here if we ask for \"a\" or from \"a\" to \"c\", depending on that index, it may give us many different things. If our index is like this, where there is a bunch of nonsense in between, it will give me \"a\" to the end or from \"a\" to \"c\" with all the nonsense:"
   ]
  },
  {
   "cell_type": "code",
   "execution_count": 176,
   "id": "e4ffa96d",
   "metadata": {},
   "outputs": [],
   "source": [
    "idx = [*\".a...c.\"]\n",
    "s = Series(rng.integers(-10, +10, size=len(idx)), index=idx)"
   ]
  },
  {
   "cell_type": "code",
   "execution_count": 177,
   "id": "084660d6",
   "metadata": {},
   "outputs": [
    {
     "name": "stdout",
     "output_type": "stream",
     "text": [
      ".   -6\n",
      "a   -8\n",
      ".   -8\n",
      ".    5\n",
      ".   -5\n",
      "c    6\n",
      ".    1\n",
      "dtype: int64\n",
      "\n",
      "a   -8\n",
      ".   -8\n",
      ".    5\n",
      ".   -5\n",
      "c    6\n",
      ".    1\n",
      "dtype: int64\n",
      "\n",
      "a   -8\n",
      ".   -8\n",
      ".    5\n",
      ".   -5\n",
      "c    6\n",
      "dtype: int64\n"
     ]
    }
   ],
   "source": [
    "print(\n",
    "    s,\n",
    "    s.loc[\"a\":],\n",
    "    s.loc[\"a\":\"c\"],\n",
    "    sep=\"\\n\\n\"\n",
    ")"
   ]
  },
  {
   "cell_type": "markdown",
   "id": "c64fda4e",
   "metadata": {},
   "source": [
    "If the \"a\" and the \"c\" are repeated you can see it's pretty smart, it gives me from the first \"a\" to the end, or from \"a\" to \"c\", from the very first \"a\" to the very last \"c\":"
   ]
  },
  {
   "cell_type": "code",
   "execution_count": 178,
   "id": "1a47d7db",
   "metadata": {},
   "outputs": [],
   "source": [
    "idx = [*\".aa.cc.\"]\n",
    "s = Series(rng.integers(-10, +10, size=len(idx)), index=idx)"
   ]
  },
  {
   "cell_type": "code",
   "execution_count": 179,
   "id": "0d2805e7",
   "metadata": {},
   "outputs": [
    {
     "name": "stdout",
     "output_type": "stream",
     "text": [
      ".    7\n",
      "a    1\n",
      "a    5\n",
      ".    6\n",
      "c   -9\n",
      "c    1\n",
      ".   -1\n",
      "dtype: int64\n",
      "\n",
      "a    1\n",
      "a    5\n",
      ".    6\n",
      "c   -9\n",
      "c    1\n",
      ".   -1\n",
      "dtype: int64\n",
      "\n",
      "a    1\n",
      "a    5\n",
      ".    6\n",
      "c   -9\n",
      "c    1\n",
      "dtype: int64\n"
     ]
    }
   ],
   "source": [
    "print(\n",
    "    s,\n",
    "    s.loc[\"a\":],\n",
    "    s.loc[\"a\":\"c\"],\n",
    "    sep=\"\\n\\n\"\n",
    ")"
   ]
  },
  {
   "cell_type": "markdown",
   "id": "98875566",
   "metadata": {},
   "source": [
    "But if they are interleaved, I get a weird error:"
   ]
  },
  {
   "cell_type": "code",
   "execution_count": 180,
   "id": "4e886dac",
   "metadata": {},
   "outputs": [],
   "source": [
    "idx = [*\".ac.ac.\"]\n",
    "s = Series(rng.integers(-10, +10, size=len(idx)), index=idx)"
   ]
  },
  {
   "cell_type": "code",
   "execution_count": 181,
   "id": "27652b61",
   "metadata": {},
   "outputs": [
    {
     "name": "stdout",
     "output_type": "stream",
     "text": [
      "\"Cannot get left slice bound for non-unique label: 'a'\"\n"
     ]
    }
   ],
   "source": [
    "try:\n",
    "    print(\n",
    "        s,\n",
    "        s.loc[\"a\":],\n",
    "        s.loc[\"a\":\"c\"],\n",
    "        sep=\"\\n\\n\"\n",
    "    )\n",
    "except Exception as ex:\n",
    "    # expected an exception\n",
    "    print(ex)"
   ]
  },
  {
   "cell_type": "markdown",
   "id": "26f49071",
   "metadata": {},
   "source": [
    "But the actually kind of makes sense, this is not a bizzarre crazy error, this is saying you are asking for the values from \"a\" to \"c\", but there is an \"ac\" and an \"ac\", which \"a\" did you want, which \"c\" do you want, you want the very firt \"a\" and the last \"c\", that's not quite clear; if the index is in sorted order then there is an unambigous choice, but if not then there may be ambiguoity."
   ]
  },
  {
   "cell_type": "markdown",
   "id": "df67d094",
   "metadata": {},
   "source": [
    "Many of the errors you see in Pandas are actually about warning you against ambibouties which do not have well defined semantics; it turns out that these ambigouties can turn up in different circumstances depending on the indexes.\n",
    "\n",
    "There are, in fact, many types of indexes that you may encounter.\n",
    "\n",
    "There are your simple **range indices**:"
   ]
  },
  {
   "cell_type": "code",
   "execution_count": 182,
   "id": "47a21f48",
   "metadata": {},
   "outputs": [],
   "source": [
    "from pandas import date_range, interval_range, period_range\n",
    "from numpy import arange"
   ]
  },
  {
   "cell_type": "code",
   "execution_count": 183,
   "id": "a1a1fa32",
   "metadata": {},
   "outputs": [],
   "source": [
    "idx = range(0,5)\n",
    "s = Series(rng.integers(-10, +10, size=len(idx)), index=idx)"
   ]
  },
  {
   "cell_type": "code",
   "execution_count": 184,
   "id": "5399bff6",
   "metadata": {},
   "outputs": [
    {
     "name": "stdout",
     "output_type": "stream",
     "text": [
      "0    4\n",
      "1    9\n",
      "2    2\n",
      "3   -3\n",
      "4   -9\n",
      "dtype: int64\n",
      "\n",
      "RangeIndex(start=0, stop=5, step=1)\n",
      "\n",
      "<NumpyExtensionArray>\n",
      "[0, 1, 2, 3, 4]\n",
      "Length: 5, dtype: int64\n"
     ]
    }
   ],
   "source": [
    "print(\n",
    "    s,\n",
    "    s.index,\n",
    "    s.index.array,\n",
    "    sep=\"\\n\\n\"\n",
    ")"
   ]
  },
  {
   "cell_type": "markdown",
   "id": "28b34ec3",
   "metadata": {},
   "source": [
    "If you look at that range index and you look under the covers, it is just an `ndarray` with values from 0 upto including 4."
   ]
  },
  {
   "cell_type": "code",
   "execution_count": 185,
   "id": "dc2c3042",
   "metadata": {},
   "outputs": [],
   "source": [
    "idx = range(0,10,2)\n",
    "s = Series(rng.integers(-10, +10, size=len(idx)), index=idx)"
   ]
  },
  {
   "cell_type": "code",
   "execution_count": 186,
   "id": "f52f4070",
   "metadata": {},
   "outputs": [
    {
     "name": "stdout",
     "output_type": "stream",
     "text": [
      "0     1\n",
      "2    -6\n",
      "4     1\n",
      "6   -10\n",
      "8     6\n",
      "dtype: int64\n",
      "\n",
      "RangeIndex(start=0, stop=10, step=2)\n",
      "\n",
      "<NumpyExtensionArray>\n",
      "[0, 2, 4, 6, 8]\n",
      "Length: 5, dtype: int64\n"
     ]
    }
   ],
   "source": [
    "print(\n",
    "    s,\n",
    "    s.index,\n",
    "    s.index.array,\n",
    "    sep=\"\\n\\n\"\n",
    ")"
   ]
  },
  {
   "cell_type": "markdown",
   "id": "fcf7d2ee",
   "metadata": {},
   "source": [
    "In this index there is stepping."
   ]
  },
  {
   "cell_type": "markdown",
   "id": "fe72bd4f",
   "metadata": {},
   "source": [
    "There is an `int64` index, and you can see that it's a bunch of integers that represent that a given integer maps to a given physical location:"
   ]
  },
  {
   "cell_type": "code",
   "execution_count": 187,
   "id": "000fb88e",
   "metadata": {},
   "outputs": [],
   "source": [
    "idx = arange(0, 5)\n",
    "rng.shuffle(idx)\n",
    "s = Series(rng.integers(-10, +10, size=len(idx)), index=idx)"
   ]
  },
  {
   "cell_type": "code",
   "execution_count": 188,
   "id": "0b8612bb",
   "metadata": {},
   "outputs": [
    {
     "name": "stdout",
     "output_type": "stream",
     "text": [
      "4     8\n",
      "2     8\n",
      "3   -10\n",
      "1     1\n",
      "0     6\n",
      "dtype: int64\n",
      "\n",
      "Index([4, 2, 3, 1, 0], dtype='int64')\n",
      "\n",
      "<NumpyExtensionArray>\n",
      "[4, 2, 3, 1, 0]\n",
      "Length: 5, dtype: int64\n"
     ]
    }
   ],
   "source": [
    "print(\n",
    "    s,\n",
    "    s.index,\n",
    "    s.index.array,\n",
    "    sep=\"\\n\\n\"\n",
    ")"
   ]
  },
  {
   "cell_type": "markdown",
   "id": "d9eca6e3",
   "metadata": {},
   "source": [
    "There's a **datetime index**.\n",
    "\n",
    "You can have a datetime index with a set periodicity:"
   ]
  },
  {
   "cell_type": "code",
   "execution_count": 189,
   "id": "8129384d",
   "metadata": {},
   "outputs": [],
   "source": [
    "idx = date_range(\"2000-01-01\", periods=5, name=\"date\")\n",
    "s = Series(rng.integers(-10, +10, size=len(idx)), index=idx)"
   ]
  },
  {
   "cell_type": "code",
   "execution_count": 190,
   "id": "c3b94e15",
   "metadata": {},
   "outputs": [
    {
     "name": "stdout",
     "output_type": "stream",
     "text": [
      "date\n",
      "2000-01-01    5\n",
      "2000-01-02   -2\n",
      "2000-01-03    7\n",
      "2000-01-04    6\n",
      "2000-01-05   -8\n",
      "Freq: D, dtype: int64\n",
      "\n",
      "DatetimeIndex(['2000-01-01', '2000-01-02', '2000-01-03', '2000-01-04',\n",
      "               '2000-01-05'],\n",
      "              dtype='datetime64[ns]', name='date', freq='D')\n",
      "\n",
      "<DatetimeArray>\n",
      "['2000-01-01 00:00:00', '2000-01-02 00:00:00', '2000-01-03 00:00:00',\n",
      " '2000-01-04 00:00:00', '2000-01-05 00:00:00']\n",
      "Length: 5, dtype: datetime64[ns]\n"
     ]
    }
   ],
   "source": [
    "print(\n",
    "    s,\n",
    "    s.index,\n",
    "    s.index.array,\n",
    "    sep=\"\\n\\n\"\n",
    ")"
   ]
  },
  {
   "cell_type": "markdown",
   "id": "fa91c224",
   "metadata": {},
   "source": [
    "You can change what that frequency is:"
   ]
  },
  {
   "cell_type": "code",
   "execution_count": 191,
   "id": "46ae7e19",
   "metadata": {},
   "outputs": [],
   "source": [
    "idx = date_range(\"2000-01-01\", periods=5, freq=\"2T\", name=\"date\")\n",
    "s = Series(rng.integers(-10, +10, size=len(idx)), index=idx)"
   ]
  },
  {
   "cell_type": "code",
   "execution_count": 192,
   "id": "7a4641b3",
   "metadata": {},
   "outputs": [
    {
     "name": "stdout",
     "output_type": "stream",
     "text": [
      "date\n",
      "2000-01-01 00:00:00   -10\n",
      "2000-01-01 00:02:00    -8\n",
      "2000-01-01 00:04:00    -3\n",
      "2000-01-01 00:06:00    -8\n",
      "2000-01-01 00:08:00    -9\n",
      "Freq: 2T, dtype: int64\n",
      "\n",
      "DatetimeIndex(['2000-01-01 00:00:00', '2000-01-01 00:02:00',\n",
      "               '2000-01-01 00:04:00', '2000-01-01 00:06:00',\n",
      "               '2000-01-01 00:08:00'],\n",
      "              dtype='datetime64[ns]', name='date', freq='2T')\n",
      "\n",
      "<DatetimeArray>\n",
      "['2000-01-01 00:00:00', '2000-01-01 00:02:00', '2000-01-01 00:04:00',\n",
      " '2000-01-01 00:06:00', '2000-01-01 00:08:00']\n",
      "Length: 5, dtype: datetime64[ns]\n"
     ]
    }
   ],
   "source": [
    "print(\n",
    "    s,\n",
    "    s.index,\n",
    "    s.index.array,\n",
    "    sep=\"\\n\\n\"\n",
    ")"
   ]
  },
  {
   "cell_type": "markdown",
   "id": "0de6e84b",
   "metadata": {},
   "source": [
    "You can have an **interval index** that says, if you're looking for a value between or between 0 and 1, 1 and 2, 2 and 3:"
   ]
  },
  {
   "cell_type": "code",
   "execution_count": 193,
   "id": "022e8375",
   "metadata": {},
   "outputs": [],
   "source": [
    "idx = interval_range(0, 5, name=\"value\")\n",
    "s = Series(rng.integers(-10, +10, size=len(idx)), index=idx)"
   ]
  },
  {
   "cell_type": "code",
   "execution_count": 194,
   "id": "3303de47",
   "metadata": {},
   "outputs": [
    {
     "name": "stdout",
     "output_type": "stream",
     "text": [
      "value\n",
      "(0, 1]   -5\n",
      "(1, 2]    3\n",
      "(2, 3]    0\n",
      "(3, 4]   -5\n",
      "(4, 5]    9\n",
      "dtype: int64\n",
      "\n",
      "IntervalIndex([(0, 1], (1, 2], (2, 3], (3, 4], (4, 5]], dtype='interval[int64, right]', name='value')\n",
      "\n",
      "<IntervalArray>\n",
      "[(0, 1], (1, 2], (2, 3], (3, 4], (4, 5]]\n",
      "Length: 5, dtype: interval[int64, right]\n"
     ]
    }
   ],
   "source": [
    "print(\n",
    "    s,\n",
    "    s.index,\n",
    "    s.index.array,\n",
    "    sep=\"\\n\\n\"\n",
    ")"
   ]
  },
  {
   "cell_type": "markdown",
   "id": "9b52e421",
   "metadata": {},
   "source": [
    "Or between 0 and 2, 2 and 4, ..., with a notation for which side is closed:"
   ]
  },
  {
   "cell_type": "code",
   "execution_count": 195,
   "id": "b88f269d",
   "metadata": {},
   "outputs": [],
   "source": [
    "idx = interval_range(0, 10, freq=2, closed=\"left\", name=\"value\")\n",
    "s = Series(rng.integers(-10, +10, size=len(idx)), index=idx)"
   ]
  },
  {
   "cell_type": "code",
   "execution_count": 196,
   "id": "1a980a32",
   "metadata": {},
   "outputs": [
    {
     "name": "stdout",
     "output_type": "stream",
     "text": [
      "value\n",
      "[0, 2)     4\n",
      "[2, 4)     2\n",
      "[4, 6)     8\n",
      "[6, 8)     5\n",
      "[8, 10)   -8\n",
      "dtype: int64\n",
      "\n",
      "IntervalIndex([[0, 2), [2, 4), [4, 6), [6, 8), [8, 10)], dtype='interval[int64, left]', name='value')\n",
      "\n",
      "<IntervalArray>\n",
      "[[0, 2), [2, 4), [4, 6), [6, 8), [8, 10)]\n",
      "Length: 5, dtype: interval[int64, left]\n"
     ]
    }
   ],
   "source": [
    "print(\n",
    "    s,\n",
    "    s.index,\n",
    "    s.index.array,\n",
    "    sep=\"\\n\\n\"\n",
    ")"
   ]
  },
  {
   "cell_type": "markdown",
   "id": "d2cb13c0",
   "metadata": {},
   "source": [
    "There is a **period index**, for when you are looking for a value a given quarted in this year:"
   ]
  },
  {
   "cell_type": "code",
   "execution_count": 197,
   "id": "5b19e096",
   "metadata": {},
   "outputs": [],
   "source": [
    "idx = period_range(\"2000Q1\", periods=3, freq=\"Q\", name=\"quarter\")\n",
    "s = Series(rng.integers(-10, +10, size=len(idx)), index=idx)"
   ]
  },
  {
   "cell_type": "code",
   "execution_count": 198,
   "id": "a5b0a5d6",
   "metadata": {},
   "outputs": [
    {
     "name": "stdout",
     "output_type": "stream",
     "text": [
      "quarter\n",
      "2000Q1   -10\n",
      "2000Q2     7\n",
      "2000Q3    -2\n",
      "Freq: Q-DEC, dtype: int64\n",
      "\n",
      "PeriodIndex(['2000Q1', '2000Q2', '2000Q3'], dtype='period[Q-DEC]', name='quarter')\n",
      "\n",
      "<PeriodArray>\n",
      "['2000Q1', '2000Q2', '2000Q3']\n",
      "Length: 3, dtype: period[Q-DEC]\n"
     ]
    }
   ],
   "source": [
    "print(\n",
    "    s,\n",
    "    s.index,\n",
    "    s.index.array,\n",
    "    sep=\"\\n\\n\"\n",
    ")"
   ]
  },
  {
   "cell_type": "markdown",
   "id": "d744d34a",
   "metadata": {},
   "source": [
    "There are all these possibilities, and this may lead you to believe, specially if you do a `.array`, that the index is data, but **the Pandas index isn't actually data**, it is something that is convertible to data, it is something that is often backed by data, but **the Pandas index is actually a mechanism**.\n",
    "\n",
    "Here is my proof for it.\n",
    "\n",
    "If I have a `RangeIndex` with all the values from 0 up to 100, that's what it looks like:"
   ]
  },
  {
   "cell_type": "code",
   "execution_count": 199,
   "id": "2194a58c",
   "metadata": {},
   "outputs": [],
   "source": [
    "from pandas import RangeIndex"
   ]
  },
  {
   "cell_type": "code",
   "execution_count": 200,
   "id": "bd71c215",
   "metadata": {},
   "outputs": [],
   "source": [
    "idx = RangeIndex(0, 100)"
   ]
  },
  {
   "cell_type": "code",
   "execution_count": 201,
   "id": "014b07a6",
   "metadata": {},
   "outputs": [
    {
     "name": "stdout",
     "output_type": "stream",
     "text": [
      "RangeIndex(start=0, stop=100, step=1)\n"
     ]
    }
   ],
   "source": [
    "print(\n",
    "    idx,\n",
    ")"
   ]
  },
  {
   "cell_type": "markdown",
   "id": "3466c416",
   "metadata": {},
   "source": [
    "If I have `RangeIndex` with all the values from 0 up to 100_000_000_000_000:"
   ]
  },
  {
   "cell_type": "code",
   "execution_count": 202,
   "id": "1d5161ba",
   "metadata": {},
   "outputs": [],
   "source": [
    "idx = RangeIndex(100_000_000_000_000)"
   ]
  },
  {
   "cell_type": "code",
   "execution_count": 203,
   "id": "62e64789",
   "metadata": {},
   "outputs": [
    {
     "name": "stdout",
     "output_type": "stream",
     "text": [
      "RangeIndex(start=0, stop=100000000000000, step=1)\n"
     ]
    }
   ],
   "source": [
    "print(idx)"
   ]
  },
  {
   "cell_type": "markdown",
   "id": "00b9c0a2",
   "metadata": {},
   "source": [
    "If it was data, I would have run out of memory, I can't store 100 trillion values, there is no way, but I can create this `RangeIndex`.\n",
    "\n",
    "An index is a mechanism by which we take a human description of what the data is, the label, the key, and we map it to the physical location; you can think a `RangeIndex` is a very simple way, because whatever you asked for in terms of, give the element at 24, it just gives that back at you, or if it's starting from a different starting point or has a different stepping, it just does a little bit of arithmetic in order to figure out what the corresponding physical location would be if there happens to be some logic here.\n",
    "\n",
    "When you look at the index, the index has some information about itself.\n",
    "\n",
    "It knows things, like:"
   ]
  },
  {
   "cell_type": "code",
   "execution_count": 204,
   "id": "cad64024",
   "metadata": {},
   "outputs": [],
   "source": [
    "idx = RangeIndex(10, 20, 5)"
   ]
  },
  {
   "cell_type": "code",
   "execution_count": 205,
   "id": "6b249be4",
   "metadata": {},
   "outputs": [
    {
     "name": "stdout",
     "output_type": "stream",
     "text": [
      "RangeIndex(start=10, stop=20, step=5)\n",
      "idx.has_duplicates          = False\n",
      "idx.is_monotonic_decreasing = False\n",
      "idx.is_monotonic_increasing = True\n",
      "idx.is_unique               = True\n",
      "idx.get_loc                 = <bound method RangeIndex.get_loc of RangeIndex(start=10, stop=20, step=5)>\n",
      "idx.get_loc(10)             = 0\n",
      "idx.slice_locs(10, 13)      = (0, 1)\n",
      "idx.get_indexer(range(10,30,5)) = array([ 0,  1, -1, -1])\n"
     ]
    }
   ],
   "source": [
    "print(\n",
    "    idx,\n",
    "    f\"{idx.has_duplicates          = }\",  # whether it contains duplicates\n",
    "    #f\"{idx.is_monotonic = }\",  # whether it's monotonic (not working)\n",
    "    f\"{idx.is_monotonic_decreasing = }\", # in sorted order (decreasing)\n",
    "    f\"{idx.is_monotonic_increasing = }\", # in sorted order (increasing)\n",
    "    f\"{idx.is_unique               = }\", # whether the values are unique\n",
    "        # because that is going to determine whether operations that use\n",
    "        # the index as `.loc` are well defined or not\n",
    "    f\"{idx.get_loc                 = }\", # the index is centered around \n",
    "        # this method; it says, I am going to translate for you what one key\n",
    "        # turns into when you want to find a physical position\n",
    "    f\"{idx.get_loc(10)             = }\", # get_loc called on this index says, \n",
    "        # the value 10 in a range index of 10 to 20 stepped by 5 is going \n",
    "        # to be at physical position 0.\n",
    "        # This is the translation between the human description of what\n",
    "        # the data is and the physical location of where the data is in \n",
    "        # some underlying storage\n",
    "    f\"{idx.slice_locs(10, 13)      = }\", # Give me all the values\n",
    "        # of 10 up to 13 with a human description of it, that is \n",
    "        # equivalent of a slice of 0 to 1 on the physical location of the data\n",
    "    f\"{idx.get_indexer(range(10,30,5)) = }\", # you can get another\n",
    "        # indexer, and it will tell how to find these, give me all the\n",
    "        # values from 10 to 30 stepping by 5, it will say, give me the\n",
    "        # value at the 0th position, the value at the first position,\n",
    "        # and those negative ones indicate that that data is not located\n",
    "        # in the original dataset, and that maybe indicates why we might\n",
    "        # have to do some mangling(?) for those -1 positions\n",
    "    \n",
    "    sep=\"\\n\"\n",
    ")"
   ]
  },
  {
   "cell_type": "markdown",
   "id": "4810b392",
   "metadata": {},
   "source": [
    "The indices, in fact, support a bunch of common operations and a common API.\n",
    "\n",
    "Here are a bunch of different indices:"
   ]
  },
  {
   "cell_type": "code",
   "execution_count": 206,
   "id": "70ee6849",
   "metadata": {},
   "outputs": [],
   "source": [
    "#from pandas import Int64Index  # does not exist\n",
    "#from pandas import Float64Index   # does not exist\n",
    "from pandas import Index, IntervalIndex, DatetimeIndex, PeriodIndex\n",
    "from pandas import to_datetime, to_timedelta"
   ]
  },
  {
   "cell_type": "code",
   "execution_count": 207,
   "id": "d8d31f4b",
   "metadata": {},
   "outputs": [],
   "source": [
    "indices = [\n",
    "    (range(5), RangeIndex),\n",
    "    (range(5, 10), RangeIndex),\n",
    "    (range(5, 15, 2), RangeIndex),\n",
    "    #([0, 1, 2, 3, 5], Int64Index),       # does not exist\n",
    "    #([0, 1, 2, 3, 5.0], Float64Index),   # does not exist\n",
    "    ([*\"abcde\"], Index),\n",
    "    (interval_range(0, 10, 5, closed=\"left\"), IntervalIndex),\n",
    "    (date_range(\"2000-01-01\", periods=5), DatetimeIndex),\n",
    "    (to_datetime(\"2000-01-01\") \n",
    "         + to_timedelta([0, 0, 1, 1, 2], unit=\"D\"), DatetimeIndex),\n",
    "    (period_range(\"2000-01-01\", periods=5, freq=\"Q\"), PeriodIndex),    \n",
    "]"
   ]
  },
  {
   "cell_type": "markdown",
   "id": "e637e0e2",
   "metadata": {},
   "source": [
    "If we iterate through each of these indices and take a look at `.get_loc`, whether it's monotonic, unique, has duplicates; they all do:"
   ]
  },
  {
   "cell_type": "code",
   "execution_count": 208,
   "id": "94218265",
   "metadata": {},
   "outputs": [],
   "source": [
    "for idx, typ in indices:\n",
    "    s = Series(rng.integers(-10, +10, size=len(idx)), index=idx)\n",
    "    assert isinstance(s.index, typ), f\"{idx =} is not {typ =} but is {type(idx) =}\""
   ]
  },
  {
   "cell_type": "code",
   "execution_count": 209,
   "id": "30e4df3b",
   "metadata": {},
   "outputs": [
    {
     "name": "stdout",
     "output_type": "stream",
     "text": [
      "RangeIndex(start=0, stop=5, step=1)\n",
      "s.index.get_loc(s.index[0]) = 0\n",
      "s.index.is_monotonic_increasing = True\n",
      "s.index.is_unique = True\n",
      "s.index.has_duplicates = False\n",
      "\n",
      "RangeIndex(start=5, stop=10, step=1)\n",
      "s.index.get_loc(s.index[0]) = 0\n",
      "s.index.is_monotonic_increasing = True\n",
      "s.index.is_unique = True\n",
      "s.index.has_duplicates = False\n",
      "\n",
      "RangeIndex(start=5, stop=15, step=2)\n",
      "s.index.get_loc(s.index[0]) = 0\n",
      "s.index.is_monotonic_increasing = True\n",
      "s.index.is_unique = True\n",
      "s.index.has_duplicates = False\n",
      "\n",
      "Index(['a', 'b', 'c', 'd', 'e'], dtype='object')\n",
      "s.index.get_loc(s.index[0]) = 0\n",
      "s.index.is_monotonic_increasing = True\n",
      "s.index.is_unique = True\n",
      "s.index.has_duplicates = False\n",
      "\n",
      "IntervalIndex([[0, 2), [2, 4), [4, 6), [6, 8), [8, 10)], dtype='interval[int64, left]')\n",
      "s.index.get_loc(s.index[0]) = 0\n",
      "s.index.is_monotonic_increasing = True\n",
      "s.index.is_unique = True\n",
      "s.index.has_duplicates = False\n",
      "\n",
      "DatetimeIndex(['2000-01-01', '2000-01-02', '2000-01-03', '2000-01-04',\n",
      "               '2000-01-05'],\n",
      "              dtype='datetime64[ns]', freq='D')\n",
      "s.index.get_loc(s.index[0]) = 0\n",
      "s.index.is_monotonic_increasing = True\n",
      "s.index.is_unique = True\n",
      "s.index.has_duplicates = False\n",
      "\n",
      "DatetimeIndex(['2000-01-01', '2000-01-01', '2000-01-02', '2000-01-02',\n",
      "               '2000-01-03'],\n",
      "              dtype='datetime64[ns]', freq=None)\n",
      "s.index.get_loc(s.index[0]) = slice(0, 2, None)\n",
      "s.index.is_monotonic_increasing = True\n",
      "s.index.is_unique = False\n",
      "s.index.has_duplicates = True\n",
      "\n",
      "PeriodIndex(['2000Q1', '2000Q2', '2000Q3', '2000Q4', '2001Q1'], dtype='period[Q-DEC]')\n",
      "s.index.get_loc(s.index[0]) = 0\n",
      "s.index.is_monotonic_increasing = True\n",
      "s.index.is_unique = True\n",
      "s.index.has_duplicates = False\n",
      "\n"
     ]
    }
   ],
   "source": [
    "for idx, _ in indices:\n",
    "    s = Series(rng.integers(-10, +10, size=len(idx)), index=idx)\n",
    "    print(\n",
    "        s.index,\n",
    "        f\"{s.index.get_loc(s.index[0]) = }\",\n",
    "        f\"{s.index.is_monotonic_increasing = }\",\n",
    "        f\"{s.index.is_unique = }\",\n",
    "        f\"{s.index.has_duplicates = }\",\n",
    "        sep=\"\\n\"\n",
    "    )\n",
    "    print()"
   ]
  },
  {
   "cell_type": "code",
   "execution_count": 210,
   "id": "a889c837-fcce-42a4-9378-7e3ba9e205d8",
   "metadata": {},
   "outputs": [],
   "source": [
    "# 45:20"
   ]
  },
  {
   "cell_type": "markdown",
   "id": "ae686738",
   "metadata": {},
   "source": [
    "If we take all these index types and we look at all the methods they support (except for the ones that begin with underscores), and we find the intersection of all of these, we see there is a fairly large surface area for the methods of the common indices that you interact with implement, it's more than just `.is_monotonic_increasing`, `.is_monotonic_decreasing`, there's quite a lot of these:"
   ]
  },
  {
   "cell_type": "code",
   "execution_count": null,
   "id": "e7b3c2fe",
   "metadata": {},
   "outputs": [],
   "source": []
  },
  {
   "cell_type": "markdown",
   "id": "23f774c4",
   "metadata": {},
   "source": [
    "However, this makes it somewhat difficult for you to create you own mechanisms for looking up the data, to extend the index, specially if you want to do something a little bit unusual.\n",
    "\n",
    "Here is an attempt to do a very simple symmetric index"
   ]
  },
  {
   "cell_type": "code",
   "execution_count": null,
   "id": "285405d9-3cd6-45b4-89bc-a27953a5f07e",
   "metadata": {},
   "outputs": [],
   "source": []
  },
  {
   "cell_type": "code",
   "execution_count": null,
   "id": "19e1eb1e-f86a-4b80-b433-9ae9938092b2",
   "metadata": {},
   "outputs": [],
   "source": []
  },
  {
   "cell_type": "code",
   "execution_count": null,
   "id": "bc53a560-f09f-47ce-b6ec-39bf886c6bdb",
   "metadata": {},
   "outputs": [],
   "source": []
  },
  {
   "cell_type": "code",
   "execution_count": null,
   "id": "588d67ee-ccc5-4ff4-9172-091bc4a97c63",
   "metadata": {},
   "outputs": [],
   "source": []
  }
 ],
 "metadata": {
  "kernelspec": {
   "display_name": "Python 3 (ipykernel)",
   "language": "python",
   "name": "python3"
  },
  "language_info": {
   "codemirror_mode": {
    "name": "ipython",
    "version": 3
   },
   "file_extension": ".py",
   "mimetype": "text/x-python",
   "name": "python",
   "nbconvert_exporter": "python",
   "pygments_lexer": "ipython3",
   "version": "3.11.5"
  }
 },
 "nbformat": 4,
 "nbformat_minor": 5
}
